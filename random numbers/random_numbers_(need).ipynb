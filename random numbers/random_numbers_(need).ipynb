{
 "cells": [
  {
   "cell_type": "markdown",
   "id": "123456",
   "metadata": {},
   "source": [
    "<div style=\"text-align:left;font-size:2em\"><span style=\"font-weight:bolder;font-size:1.25em\">SP2273 | Learning Portfolio</span><br><br><span style=\"font-weight:bold;color:darkred\">Random Numbers (Need)</span></div>"
   ]
  },
  {
   "cell_type": "markdown",
   "id": "a7f57cb5",
   "metadata": {},
   "source": [
    "## 1 Random Numbers"
   ]
  },
  {
   "cell_type": "markdown",
   "id": "86804902",
   "metadata": {},
   "source": [
    "### 1.1 Real and Pseudo Random Numbers"
   ]
  },
  {
   "cell_type": "markdown",
   "id": "b3b26d93",
   "metadata": {},
   "source": [
    "### 1.2 NumPy’s PRNG"
   ]
  },
  {
   "cell_type": "code",
   "execution_count": 7,
   "id": "7162325c",
   "metadata": {},
   "outputs": [],
   "source": [
    "import numpy as np\n"
   ]
  },
  {
   "cell_type": "code",
   "execution_count": 2,
   "id": "f7d87baf",
   "metadata": {},
   "outputs": [
    {
     "data": {
      "text/plain": [
       "0.49882412255484876"
      ]
     },
     "execution_count": 2,
     "metadata": {},
     "output_type": "execute_result"
    }
   ],
   "source": [
    "np.random.rand() # give just one"
   ]
  },
  {
   "cell_type": "code",
   "execution_count": 3,
   "id": "0c9798ed",
   "metadata": {},
   "outputs": [
    {
     "data": {
      "text/plain": [
       "array([0.6090514 , 0.6709942 , 0.09737853, 0.20952038, 0.66779638,\n",
       "       0.68401801, 0.91411664, 0.93408432, 0.62163208, 0.597649  ])"
      ]
     },
     "execution_count": 3,
     "metadata": {},
     "output_type": "execute_result"
    }
   ],
   "source": [
    "np.random.rand(10) # 10 random numbers in 1 array"
   ]
  },
  {
   "cell_type": "code",
   "execution_count": 4,
   "id": "bca34276",
   "metadata": {},
   "outputs": [
    {
     "data": {
      "text/plain": [
       "3"
      ]
     },
     "execution_count": 4,
     "metadata": {},
     "output_type": "execute_result"
    }
   ],
   "source": [
    "np.random.choice(5) # something from 0 to 5, gives a list"
   ]
  },
  {
   "cell_type": "code",
   "execution_count": 5,
   "id": "805ee3e6",
   "metadata": {},
   "outputs": [
    {
     "data": {
      "text/plain": [
       "6"
      ]
     },
     "execution_count": 5,
     "metadata": {},
     "output_type": "execute_result"
    }
   ],
   "source": [
    "np.random.randint(10) # integer from 0 to 10"
   ]
  },
  {
   "cell_type": "code",
   "execution_count": 6,
   "id": "2c137d00",
   "metadata": {},
   "outputs": [
    {
     "data": {
      "text/plain": [
       "array([[0.1359542 , 0.87923868],\n",
       "       [0.02530824, 0.20834673],\n",
       "       [0.54357962, 0.53536974],\n",
       "       [0.86759377, 0.69543767],\n",
       "       [0.19599108, 0.76195541]])"
      ]
     },
     "execution_count": 6,
     "metadata": {},
     "output_type": "execute_result"
    }
   ],
   "source": [
    "np.random.rand(5,2) # give 5 sets of 2 random numbers"
   ]
  },
  {
   "cell_type": "code",
   "execution_count": 7,
   "id": "b6135f0f",
   "metadata": {},
   "outputs": [
    {
     "data": {
      "text/plain": [
       "array([[[0.72883   , 0.97781442, 0.49087613, 0.98744016],\n",
       "        [0.83620853, 0.27071807, 0.68937666, 0.62878668]],\n",
       "\n",
       "       [[0.85351322, 0.13984861, 0.19762389, 0.23426086],\n",
       "        [0.54434433, 0.07920905, 0.61924235, 0.33533517]],\n",
       "\n",
       "       [[0.4960372 , 0.68332402, 0.29690691, 0.71948493],\n",
       "        [0.52926519, 0.18640715, 0.60263156, 0.80588996]],\n",
       "\n",
       "       [[0.80363419, 0.01309329, 0.32762829, 0.42919787],\n",
       "        [0.94800247, 0.98670945, 0.39132988, 0.68678381]],\n",
       "\n",
       "       [[0.08501122, 0.79469709, 0.00390533, 0.84285396],\n",
       "        [0.14419283, 0.44808032, 0.05324614, 0.32496133]],\n",
       "\n",
       "       [[0.24820998, 0.94782893, 0.50023125, 0.12121891],\n",
       "        [0.06162459, 0.83848918, 0.5528756 , 0.36314339]],\n",
       "\n",
       "       [[0.86239725, 0.06970855, 0.59999065, 0.9179631 ],\n",
       "        [0.11897219, 0.90619486, 0.82541502, 0.74886479]],\n",
       "\n",
       "       [[0.35996004, 0.14089295, 0.9990223 , 0.50947056],\n",
       "        [0.19087551, 0.66858552, 0.7423631 , 0.30560578]],\n",
       "\n",
       "       [[0.76711808, 0.46248648, 0.44486989, 0.69402408],\n",
       "        [0.89864808, 0.74833981, 0.37294461, 0.18482488]],\n",
       "\n",
       "       [[0.71820569, 0.66953997, 0.28781497, 0.36090969],\n",
       "        [0.27578306, 0.7921824 , 0.25145766, 0.10311444]]])"
      ]
     },
     "execution_count": 7,
     "metadata": {},
     "output_type": "execute_result"
    }
   ],
   "source": [
    "np.random.rand(10,2,4) # 10 lists of 2 lists of 4 random numbers\n",
    "\n",
    "# all numbers between 0 and 1\n",
    "\n",
    "# unifrom distribution within the list"
   ]
  },
  {
   "cell_type": "code",
   "execution_count": 8,
   "id": "772a5914",
   "metadata": {},
   "outputs": [
    {
     "ename": "AttributeError",
     "evalue": "'list' object has no attribute 'any'",
     "output_type": "error",
     "traceback": [
      "\u001b[1;31m---------------------------------------------------------------------------\u001b[0m",
      "\u001b[1;31mAttributeError\u001b[0m                            Traceback (most recent call last)",
      "Cell \u001b[1;32mIn [8], line 7\u001b[0m\n\u001b[0;32m      2\u001b[0m random_number \u001b[38;5;241m+\u001b[39m\u001b[38;5;241m=\u001b[39m [np\u001b[38;5;241m.\u001b[39mrandom\u001b[38;5;241m.\u001b[39mchoice(\u001b[38;5;241m10\u001b[39m)]\n\u001b[0;32m      4\u001b[0m number_list \u001b[38;5;241m=\u001b[39m [\u001b[38;5;241m1\u001b[39m,\u001b[38;5;241m2\u001b[39m,\u001b[38;5;241m3\u001b[39m,\u001b[38;5;241m4\u001b[39m,\u001b[38;5;241m5\u001b[39m,\u001b[38;5;241m6\u001b[39m,\u001b[38;5;241m7\u001b[39m,\u001b[38;5;241m8\u001b[39m,\u001b[38;5;241m9\u001b[39m,\u001b[38;5;241m10\u001b[39m]\n\u001b[1;32m----> 7\u001b[0m \u001b[38;5;28;01mif\u001b[39;00m random_number \u001b[38;5;241m==\u001b[39m \u001b[43mnumber_list\u001b[49m\u001b[38;5;241;43m.\u001b[39;49m\u001b[43many\u001b[49m():\n\u001b[0;32m      8\u001b[0m     \u001b[38;5;28mprint\u001b[39m(\u001b[38;5;124m'\u001b[39m\u001b[38;5;124mrandom number is in number_list\u001b[39m\u001b[38;5;124m'\u001b[39m)\n",
      "\u001b[1;31mAttributeError\u001b[0m: 'list' object has no attribute 'any'"
     ]
    }
   ],
   "source": [
    "random_number = []\n",
    "random_number += [np.random.choice(10)]\n",
    "\n",
    "number_list = [1,2,3,4,5,6,7,8,9,10]\n",
    "\n",
    "\n",
    "if random_number == number_list.any():\n",
    "    print('random number is in number_list')"
   ]
  },
  {
   "cell_type": "code",
   "execution_count": null,
   "id": "2f1cb132",
   "metadata": {},
   "outputs": [],
   "source": [
    "n = 10000\n",
    "random_numbers = np.random.rand(n)\n",
    "\n",
    "# The numbers less than .5 must be about 50%\n",
    "print(np.sum(random_numbers < .5)/n*100)\n",
    "\n",
    "# The numbers less than .25 must be about 25%\n",
    "print(np.sum(random_numbers < .25)/n*100)\n",
    "\n",
    "# The numbers more than .75 must be about 25%\n",
    "np.sum(random_numbers > .75)/n*100"
   ]
  },
  {
   "cell_type": "code",
   "execution_count": null,
   "id": "f03c5596",
   "metadata": {},
   "outputs": [],
   "source": []
  },
  {
   "cell_type": "code",
   "execution_count": null,
   "id": "0a206d02",
   "metadata": {},
   "outputs": [],
   "source": []
  },
  {
   "cell_type": "code",
   "execution_count": null,
   "id": "c99e95ed",
   "metadata": {},
   "outputs": [],
   "source": []
  },
  {
   "cell_type": "code",
   "execution_count": null,
   "id": "ab1db19b",
   "metadata": {},
   "outputs": [],
   "source": [
    "import numpy as np\n",
    "import os\n",
    "import glob\n",
    "import shutil\n",
    "import math\n",
    "from matplotlib import pyplot as plt"
   ]
  },
  {
   "cell_type": "markdown",
   "id": "68f0b2bc",
   "metadata": {},
   "source": [
    "### 1.3 A simple graphical test"
   ]
  },
  {
   "cell_type": "code",
   "execution_count": null,
   "id": "a7813124",
   "metadata": {},
   "outputs": [],
   "source": [
    "# Plot numbers as scatter plot\n",
    "\n",
    "n = 10000\n",
    "random_numbers = np.random.rand(n)\n",
    "\n",
    "fig, ax = plt.subplots(nrows = 2, ncols = 1)\n",
    "\n",
    "axis = ax[0]\n",
    "axis.hist(random_numbers, bins = 100, alpha = .25)\n",
    "axis.set_xlabel('Value of random number')\n",
    "axis.set_ylabel('Frequency')\n",
    "\n",
    "axis = ax[1]\n",
    "axis.scatter(range(n), random_numbers, alpha = .25)\n",
    "axis.set_xlabel('Position in the random number list')\n",
    "axis.set_ylabel('Value of random number')\n",
    "\n",
    "plt.show()"
   ]
  },
  {
   "cell_type": "markdown",
   "id": "81c09996",
   "metadata": {},
   "source": [
    "### 1.4 Uniformly beyond \\([0,1)\\)"
   ]
  },
  {
   "cell_type": "code",
   "execution_count": null,
   "id": "7dd995de",
   "metadata": {},
   "outputs": [],
   "source": [
    "n = 10000\n",
    "random_numbers = np.random.uniform(low = 50, high = 100, size = n)\n",
    "# interval [50, 100]\n",
    "\n",
    "fig, ax = plt.subplots(nrows = 2, ncols = 1)\n",
    "\n",
    "axis = ax[0]\n",
    "axis.hist(random_numbers, bins = 100, alpha = .25)\n",
    "axis.set_xlabel('Value of random number')\n",
    "axis.set_ylabel('Frequency')\n",
    "\n",
    "axis = ax[1]\n",
    "axis.scatter(range(n), random_numbers, alpha = .25)\n",
    "axis.set_xlabel('Position in the random number list')\n",
    "axis.set_ylabel('Value of random number')\n",
    "\n",
    "plt.show()"
   ]
  },
  {
   "cell_type": "markdown",
   "id": "6f93b557",
   "metadata": {},
   "source": [
    "### 1.5 ‘seeding’ a PRNG"
   ]
  },
  {
   "cell_type": "code",
   "execution_count": null,
   "id": "214c7480",
   "metadata": {},
   "outputs": [],
   "source": [
    "np.random.randint(0, 100, 10)"
   ]
  },
  {
   "cell_type": "code",
   "execution_count": null,
   "id": "70f3fd93",
   "metadata": {},
   "outputs": [],
   "source": [
    "n = 10\n",
    "np.random.rand(0, 100, n)"
   ]
  },
  {
   "cell_type": "code",
   "execution_count": null,
   "id": "35f16b4b",
   "metadata": {},
   "outputs": [],
   "source": [
    "np.random.seed(1234) # Specifying a seed\n",
    "np.random.randint(0, 100, 10) # Ten integers between 0 and 100"
   ]
  },
  {
   "cell_type": "code",
   "execution_count": null,
   "id": "281dc999",
   "metadata": {},
   "outputs": [],
   "source": [
    "np.random.seed(1234)\n",
    "np.random.randint(0, 100, 10)"
   ]
  },
  {
   "cell_type": "code",
   "execution_count": null,
   "id": "8d661ee6",
   "metadata": {},
   "outputs": [],
   "source": [
    "np.random.seed(12)\n",
    "np.random.randint(0, 100, 10)"
   ]
  },
  {
   "cell_type": "code",
   "execution_count": null,
   "id": "95d4920b",
   "metadata": {},
   "outputs": [],
   "source": [
    "np.random.seed(12)\n",
    "np.random.randint(0, 100, 10) # test if it come out the same"
   ]
  },
  {
   "cell_type": "code",
   "execution_count": null,
   "id": "d0a716c2",
   "metadata": {},
   "outputs": [],
   "source": [
    "np.random.seed(1)\n",
    "np.random.randint(0, 200, 10)"
   ]
  },
  {
   "cell_type": "code",
   "execution_count": null,
   "id": "7915cb5f",
   "metadata": {},
   "outputs": [],
   "source": [
    "np.random.seed(1)\n",
    "np.random.randint(0, 200, 10) # test if it come out the same"
   ]
  },
  {
   "cell_type": "markdown",
   "id": "ad6e48f5",
   "metadata": {},
   "source": [
    "## 2 Simulating a Magic-8 Ball"
   ]
  },
  {
   "cell_type": "markdown",
   "id": "af43775e",
   "metadata": {},
   "source": [
    "## 3 Flipping Coins"
   ]
  },
  {
   "cell_type": "markdown",
   "id": "85050f70",
   "metadata": {},
   "source": [
    "### 3.1 A fair coin"
   ]
  },
  {
   "cell_type": "code",
   "execution_count": null,
   "id": "f8181bb6",
   "metadata": {},
   "outputs": [],
   "source": [
    "def shake_magic_8():\n",
    "    \n",
    "    # Function to simulate a Magic-8 ball\n",
    "    \n",
    "    options = ['It is certain.', 'It is decidedly so.', 'Without a doubt.', 'Yes definitely.'\n",
    "              , 'You may rely on it.', 'As I see it, yes.', 'Most likely.', 'Outlook good.',\n",
    "              'Yes.', 'Signs point to yes.', 'Reply hazy, try again.', 'Ask again later.',\n",
    "              'Btter not tell you now.', 'Cannot predict now.', 'Concentrate and ask again.',\n",
    "              'Don\\'t count on it', 'My reply is no.', 'My sources say no.', 'Outlook not so good',\n",
    "              'Very doubtful.']\n",
    "    \n",
    "    return np.random.choice(options)\n",
    "\n",
    "questions = ['Will I be pretty?', 'Will I be rich?', 'Will I be in trouble?']\n",
    "\n",
    "for question in questions:\n",
    "    print(f'Q: {question}')\n",
    "    print(f'A: {shake_magic_8()}\\n') # \\n means enter a new line on the output"
   ]
  },
  {
   "cell_type": "markdown",
   "id": "fd7c023b",
   "metadata": {},
   "source": [
    "### 3.2 A biased coin"
   ]
  },
  {
   "cell_type": "code",
   "execution_count": null,
   "id": "7fb869e3",
   "metadata": {},
   "outputs": [],
   "source": [
    "np.random.choice(['Heads', 'Tails'])"
   ]
  },
  {
   "cell_type": "code",
   "execution_count": null,
   "id": "98cfa9e2",
   "metadata": {},
   "outputs": [],
   "source": [
    "np.random.choice(10)"
   ]
  },
  {
   "cell_type": "code",
   "execution_count": null,
   "id": "6731fdb4",
   "metadata": {},
   "outputs": [],
   "source": [
    "no_of_coins = 10\n",
    "np.random.choice(['Head', 'Tails'], no_of_coins)"
   ]
  },
  {
   "cell_type": "code",
   "execution_count": null,
   "id": "6a7b879c",
   "metadata": {},
   "outputs": [],
   "source": [
    "np.random.choice(['Head', 'Tails'], 20)"
   ]
  },
  {
   "cell_type": "code",
   "execution_count": null,
   "id": "e2bd859d",
   "metadata": {},
   "outputs": [],
   "source": [
    "np.random.choice([90,110], 20)"
   ]
  },
  {
   "cell_type": "code",
   "execution_count": null,
   "id": "0b308762",
   "metadata": {},
   "outputs": [],
   "source": [
    "np.random.randint(90, 110, 9)"
   ]
  },
  {
   "cell_type": "code",
   "execution_count": null,
   "id": "33ad5e88",
   "metadata": {},
   "outputs": [],
   "source": [
    "def flip_coins(no_of_coins = 1, probability = .5):\n",
    "    # Returns the number of values greater than 'probability' (considered as 'Heads')\n",
    "    results = np.random.rand(no_of_coins)\n",
    "    no_of_heads = np.sum(results > probability)\n",
    "    return no_of_heads\n",
    "\n",
    "no_of_coins = 1_000\n",
    "no_of_heads = flip_coins(no_of_coins)\n",
    "print(f'Number of heads: {no_of_heads/no_of_coins*100:.2f}%')"
   ]
  },
  {
   "cell_type": "code",
   "execution_count": null,
   "id": "94731422",
   "metadata": {},
   "outputs": [],
   "source": [
    "no_of_coins = 1000\n",
    "no_of_heads = flip_coins(no_of_coins, probability = .3)\n",
    "print(f'Number of heads: {no_of_heads/no_of_coins*100:.2f}%')"
   ]
  },
  {
   "cell_type": "code",
   "execution_count": null,
   "id": "6396facd",
   "metadata": {},
   "outputs": [],
   "source": []
  },
  {
   "cell_type": "code",
   "execution_count": null,
   "id": "29ec6055",
   "metadata": {},
   "outputs": [],
   "source": []
  },
  {
   "cell_type": "markdown",
   "id": "58d296b4",
   "metadata": {},
   "source": [
    "### 3.3 A flipping experiment"
   ]
  },
  {
   "cell_type": "code",
   "execution_count": null,
   "id": "539d73e5",
   "metadata": {},
   "outputs": [],
   "source": [
    "from matplotlib import rcParams"
   ]
  },
  {
   "cell_type": "code",
   "execution_count": null,
   "id": "583ab013",
   "metadata": {},
   "outputs": [],
   "source": [
    "no_of_repeats = 10_000\n",
    "result = [flip_coins(no_of_coins = 10) for _ in range(no_of_repeats)]\n",
    "no_of_heads, head_counts = np.unique(result, return_counts = True) # returns unique values (of Heads) in the list and how\n",
    "                                                                    # many times they occur\n",
    "    \n",
    "heads_probability = head_counts / no_of_repeats # get probabilities by dividing the array with the counts by the number\n",
    "                                                # of repeats\n",
    "\n",
    "plt.rcParams['figure.figsize'] = (10,5)\n",
    "plt.bar(no_of_heads, head_counts)\n",
    "plt.xlabel('No of heads')\n",
    "plt.ylabel(f'Frequency out of {no_of_repeats}')\n",
    "plt.table([no_of_heads, head_counts, heads_probability], rowlabels = ['No of Heads', 'Frequency', 'PRNG Probability'],\n",
    "          loc = 'bottom', bbox = [0, -0.5, 1, 0.3]) # HELP\n",
    "\n",
    "plt.show()"
   ]
  },
  {
   "cell_type": "code",
   "execution_count": null,
   "id": "ab8deab6",
   "metadata": {},
   "outputs": [],
   "source": [
    "pip install scipy"
   ]
  },
  {
   "cell_type": "code",
   "execution_count": null,
   "id": "04787256",
   "metadata": {},
   "outputs": [],
   "source": [
    "from scipy.stats import binom # machinery for binomial distribution"
   ]
  },
  {
   "cell_type": "code",
   "execution_count": null,
   "id": "e7db09af",
   "metadata": {},
   "outputs": [],
   "source": [
    "binom.pmf(k = 7, n = 10, p = .5)"
   ]
  },
  {
   "cell_type": "code",
   "execution_count": null,
   "id": "55909b8e",
   "metadata": {},
   "outputs": [],
   "source": [
    "binomial_probabilities = binom.pmf(k = no_of_heads, n = 10, p = .5)\n",
    "\n",
    "no_of_repeats = 10_000\n",
    "result = [flip_coins(no_of_coins = 10) for _ in range(no_of_repeats)]\n",
    "no_of_heads, head_counts = np.unique(result, return_counts = True) # returns unique values (of Heads) in the list and how\n",
    "                                                                    # many times they occur\n",
    "    \n",
    "heads_probability = head_counts / no_of_repeats # get probabilities by dividing the array with the counts by the number\n",
    "                                                # of repeats\n",
    "\n",
    "plt.rcParams['figure.figsize'] = (10,5)\n",
    "plt.bar(no_of_heads, head_counts)\n",
    "plt.xlabel('No of heads')\n",
    "plt.ylabel(f'Frequency out of {no_of_repeats}')\n",
    "plt.table([no_of_heads, head_counts, heads_probability], rowlabels = ['No of Heads', 'Frequency', 'PRNG Probability'],\n",
    "          loc = 'bottom', bbox = [0, -0.5, 1, 0.3]) # HELP\n",
    "\n",
    "plt.show()"
   ]
  },
  {
   "cell_type": "code",
   "execution_count": null,
   "id": "5aff214b",
   "metadata": {},
   "outputs": [],
   "source": []
  },
  {
   "cell_type": "code",
   "execution_count": null,
   "id": "0405c109",
   "metadata": {},
   "outputs": [],
   "source": []
  },
  {
   "cell_type": "code",
   "execution_count": null,
   "id": "53569187",
   "metadata": {},
   "outputs": [],
   "source": []
  },
  {
   "cell_type": "code",
   "execution_count": null,
   "id": "3e486ed8",
   "metadata": {},
   "outputs": [],
   "source": []
  },
  {
   "cell_type": "markdown",
   "id": "44de39e5",
   "metadata": {},
   "source": [
    "## Exercise 1 :  12C, 13C"
   ]
  },
  {
   "cell_type": "code",
   "execution_count": null,
   "id": "32cfcae2",
   "metadata": {},
   "outputs": [],
   "source": [
    "np.random.choice(['12C', '13C'], 27)"
   ]
  },
  {
   "cell_type": "markdown",
   "id": "c16c3aac",
   "metadata": {},
   "source": [
    "# Finding 13C with 13C"
   ]
  },
  {
   "cell_type": "code",
   "execution_count": 10,
   "id": "1c601aa1",
   "metadata": {},
   "outputs": [],
   "source": [
    "import numpy as np"
   ]
  },
  {
   "cell_type": "code",
   "execution_count": 37,
   "id": "fa401d70",
   "metadata": {},
   "outputs": [
    {
     "name": "stdout",
     "output_type": "stream",
     "text": [
      "[0 1 2 3 4]\n",
      "[7429 2225  320   24    2]\n",
      "0.2945\n"
     ]
    },
    {
     "data": {
      "text/plain": [
       "0.5371868855435694"
      ]
     },
     "execution_count": 37,
     "metadata": {},
     "output_type": "execute_result"
    }
   ],
   "source": [
    "# EXACTLY WHAT THEY WANT 1. mean and standard deviation for the number of 13C atoms in a C27H44O atom\n",
    "\n",
    "# np.random.choice(['12C', '13C'])\n",
    "def C_chances(no_of_C_atoms = 27, probability = .9889):\n",
    "    \n",
    "    results = np.random.rand(no_of_C_atoms)\n",
    "    no_of_13C_atoms = np.sum(results > probability)\n",
    "    return no_of_13C_atoms\n",
    "    print(no_of_13C_atoms)\n",
    "\n",
    "# no_of_C_atoms = 27\n",
    "# no_of_13C_atoms = C_chances(no_of_C_atoms)\n",
    "\n",
    "# mean = (no_of_13C_atoms/no_of_C_atoms) # is as a %\n",
    "# mean\n",
    "\n",
    "no_of_repeats = 10_000\n",
    "result = [C_chances(no_of_C_atoms = 27) for _ in range(no_of_repeats)] # 10_000 cholesterol molecules - 13C atoms\n",
    "no_of_13C_atoms, total_number_of_C_atoms = np.unique(result, return_counts = True)\n",
    "print(no_of_13C_atoms) # the UNIQUE values (just what each element can be)\n",
    "print(total_number_of_C_atoms) # number of times each unique element shows up\n",
    "print(np.mean(result)) # Mean of 13C atoms\n",
    "np.std(result) # Standard deviation of \n",
    "# print(no_of_13C_atoms/total_number_of_C_atoms)"
   ]
  },
  {
   "cell_type": "code",
   "execution_count": 33,
   "id": "bb7b6179",
   "metadata": {},
   "outputs": [
    {
     "data": {
      "text/plain": [
       "0.7401"
      ]
     },
     "execution_count": 33,
     "metadata": {},
     "output_type": "execute_result"
    }
   ],
   "source": [
    "# EXACTLY WHAT THEY WANT\n",
    "\n",
    "probability_no_13C = 7401/10_000\n",
    "probability_no_13C"
   ]
  },
  {
   "cell_type": "code",
   "execution_count": 3,
   "id": "33fac62a",
   "metadata": {},
   "outputs": [
    {
     "ename": "NameError",
     "evalue": "name 'np' is not defined",
     "output_type": "error",
     "traceback": [
      "\u001b[1;31m---------------------------------------------------------------------------\u001b[0m",
      "\u001b[1;31mNameError\u001b[0m                                 Traceback (most recent call last)",
      "Cell \u001b[1;32mIn [3], line 11\u001b[0m\n\u001b[0;32m      8\u001b[0m     \u001b[38;5;28;01mreturn\u001b[39;00m no_of_13C_atoms\n\u001b[0;32m     10\u001b[0m no_of_C_atoms \u001b[38;5;241m=\u001b[39m \u001b[38;5;241m27\u001b[39m\n\u001b[1;32m---> 11\u001b[0m no_of_13C_atoms \u001b[38;5;241m=\u001b[39m \u001b[43mC_chances\u001b[49m\u001b[43m(\u001b[49m\u001b[43mno_of_C_atoms\u001b[49m\u001b[43m)\u001b[49m\n\u001b[0;32m     13\u001b[0m mean \u001b[38;5;241m=\u001b[39m (no_of_13C_atoms\u001b[38;5;241m/\u001b[39mno_of_C_atoms)\u001b[38;5;241m*\u001b[39m\u001b[38;5;241m100\u001b[39m \u001b[38;5;66;03m# is as a %\u001b[39;00m\n\u001b[0;32m     14\u001b[0m mean\n",
      "Cell \u001b[1;32mIn [3], line 6\u001b[0m, in \u001b[0;36mC_chances\u001b[1;34m(no_of_C_atoms, probability)\u001b[0m\n\u001b[0;32m      4\u001b[0m \u001b[38;5;28;01mdef\u001b[39;00m \u001b[38;5;21mC_chances\u001b[39m(no_of_C_atoms \u001b[38;5;241m=\u001b[39m \u001b[38;5;241m27\u001b[39m, probability \u001b[38;5;241m=\u001b[39m \u001b[38;5;241m.9889\u001b[39m):\n\u001b[1;32m----> 6\u001b[0m     results \u001b[38;5;241m=\u001b[39m \u001b[43mnp\u001b[49m\u001b[38;5;241m.\u001b[39mrandom\u001b[38;5;241m.\u001b[39mrand(no_of_C_atoms)\n\u001b[0;32m      7\u001b[0m     no_of_13C_atoms \u001b[38;5;241m=\u001b[39m np\u001b[38;5;241m.\u001b[39msum(results \u001b[38;5;241m>\u001b[39m probability)\n\u001b[0;32m      8\u001b[0m     \u001b[38;5;28;01mreturn\u001b[39;00m no_of_13C_atoms\n",
      "\u001b[1;31mNameError\u001b[0m: name 'np' is not defined"
     ]
    }
   ],
   "source": [
    "# 1. mean and standard deviation for the number of 13C atoms in a C27H44O atom\n",
    "\n",
    "# np.random.choice(['12C', '13C'])\n",
    "def C_chances(no_of_C_atoms = 27, probability = .9889):\n",
    "    \n",
    "    results = np.random.rand(no_of_C_atoms)\n",
    "    no_of_13C_atoms = np.sum(results > probability)\n",
    "    return no_of_13C_atoms\n",
    "\n",
    "no_of_C_atoms = 27\n",
    "no_of_13C_atoms = C_chances(no_of_C_atoms)\n",
    "\n",
    "mean = (no_of_13C_atoms/no_of_C_atoms)*100 # is as a %\n",
    "mean"
   ]
  },
  {
   "cell_type": "code",
   "execution_count": 14,
   "id": "83bc6b93",
   "metadata": {},
   "outputs": [
    {
     "data": {
      "text/plain": [
       "3.7037037037037033"
      ]
     },
     "execution_count": 14,
     "metadata": {},
     "output_type": "execute_result"
    }
   ],
   "source": [
    "# 1. mean and standard deviation for the number of 13C atoms in a C27H44O atom\n",
    "\n",
    "# np.random.choice(['12C', '13C'])\n",
    "def C_chances(no_of_C_atoms = 27, probability = .9889):\n",
    "    \n",
    "    results = np.random.rand(no_of_C_atoms)\n",
    "    no_of_13C_atoms = np.sum(results > probability)\n",
    "    return no_of_13C_atoms\n",
    "\n",
    "no_of_C_atoms = 27\n",
    "no_of_13C_atoms = C_chances(no_of_C_atoms)\n",
    "\n",
    "mean = (no_of_13C_atoms/no_of_C_atoms)*100 # is as a %\n",
    "mean"
   ]
  },
  {
   "cell_type": "code",
   "execution_count": 20,
   "id": "e8e3678e",
   "metadata": {},
   "outputs": [
    {
     "name": "stdout",
     "output_type": "stream",
     "text": [
      "mean of 13C atoms: 3.70370370370370327606%\n"
     ]
    }
   ],
   "source": [
    "# 1. mean and standard deviation for the number of 13C atoms in a C27H44O atom\n",
    "\n",
    "# np.random.choice(['12C', '13C'])\n",
    "def C_chances(no_of_C_atoms = 27, probability = .9889):\n",
    "    \n",
    "    results = np.random.rand(no_of_C_atoms)\n",
    "    no_of_13C_atoms = np.sum(results > probability)\n",
    "    return no_of_13C_atoms\n",
    "\n",
    "no_of_C_atoms = 27\n",
    "no_of_13C_atoms = C_chances(no_of_C_atoms)\n",
    "\n",
    "print(f'mean of 13C atoms: {no_of_13C_atoms/no_of_C_atoms*100:.20f}%') \n"
   ]
  },
  {
   "cell_type": "markdown",
   "id": "b432c5a3",
   "metadata": {},
   "source": [
    "# Finding 13C mean with 12C "
   ]
  },
  {
   "cell_type": "code",
   "execution_count": 49,
   "id": "117dd832",
   "metadata": {},
   "outputs": [
    {
     "data": {
      "text/plain": [
       "3.7037037037037095"
      ]
     },
     "execution_count": 49,
     "metadata": {},
     "output_type": "execute_result"
    }
   ],
   "source": [
    "# np.random.choice(['12C', '13C'])\n",
    "def C_chances(no_of_C_atoms = 27, probability = .9889):\n",
    "    \n",
    "    results = np.random.rand(no_of_C_atoms)\n",
    "    no_of_12C_atoms = np.sum(results < probability)\n",
    "    return no_of_12C_atoms\n",
    "\n",
    "no_of_C_atoms = 27\n",
    "no_of_12C_atoms = C_chances(no_of_C_atoms)\n",
    "\n",
    "mean_of_12C_atoms = (no_of_12C_atoms/no_of_C_atoms)*100\n",
    "\n",
    "mean_of_13C_atoms = 100 - mean_of_12C_atoms\n",
    "mean_of_13C_atoms"
   ]
  },
  {
   "cell_type": "code",
   "execution_count": 54,
   "id": "42f6f9ec",
   "metadata": {},
   "outputs": [
    {
     "data": {
      "text/plain": [
       "11.111111111111114"
      ]
     },
     "execution_count": 54,
     "metadata": {},
     "output_type": "execute_result"
    }
   ],
   "source": [
    "# np.random.choice(['12C', '13C'])\n",
    "def C_chances(no_of_C_atoms = 27, probability = .9889):\n",
    "    \n",
    "    results = np.random.rand(no_of_C_atoms)\n",
    "    no_of_12C_atoms = np.sum(results < probability)\n",
    "    return no_of_12C_atoms\n",
    "\n",
    "no_of_C_atoms = 27\n",
    "no_of_12C_atoms = C_chances(no_of_C_atoms)\n",
    "\n",
    "mean_of_12C_atoms = (no_of_12C_atoms/no_of_C_atoms)\n",
    "\n",
    "mean_of_13C_atoms = 100 - mean_of_12C_atoms\n",
    "mean_of_13C_atoms"
   ]
  },
  {
   "cell_type": "code",
   "execution_count": 62,
   "id": "c7a37084",
   "metadata": {},
   "outputs": [
    {
     "data": {
      "text/plain": [
       "11.111111111111114"
      ]
     },
     "execution_count": 62,
     "metadata": {},
     "output_type": "execute_result"
    }
   ],
   "source": [
    "# np.random.choice(['12C', '13C'])\n",
    "def C_chances(no_of_C_atoms = 27, probability = .9889):\n",
    "    \n",
    "    results = np.random.rand(no_of_C_atoms)\n",
    "    no_of_12C_atoms = np.sum(results < probability)\n",
    "    return no_of_12C_atoms\n",
    "\n",
    "no_of_C_atoms = 27\n",
    "no_of_12C_atoms = C_chances(no_of_C_atoms)\n",
    "\n",
    "mean_of_12C_atoms = (no_of_12C_atoms/no_of_C_atoms)*100\n",
    "\n",
    "mean_of_13C_atoms = 100 - mean_of_12C_atoms\n",
    "mean_of_13C_atoms"
   ]
  },
  {
   "cell_type": "code",
   "execution_count": 62,
   "id": "c9bf2880",
   "metadata": {},
   "outputs": [
    {
     "data": {
      "text/plain": [
       "11.111111111111114"
      ]
     },
     "execution_count": 62,
     "metadata": {},
     "output_type": "execute_result"
    }
   ],
   "source": [
    "# np.random.choice(['12C', '13C'])\n",
    "def C_chances(no_of_C_atoms = 27, probability = .9889):\n",
    "    \n",
    "    results = np.random.rand(no_of_C_atoms)\n",
    "    no_of_12C_atoms = np.sum(results < probability)\n",
    "    return no_of_12C_atoms\n",
    "\n",
    "no_of_C_atoms = 27\n",
    "no_of_12C_atoms = C_chances(no_of_C_atoms)\n",
    "\n",
    "mean_of_12C_atoms = (no_of_12C_atoms/no_of_C_atoms)*100\n",
    "\n",
    "mean_of_13C_atoms = 100 - mean_of_12C_atoms\n",
    "mean_of_13C_atoms"
   ]
  },
  {
   "cell_type": "markdown",
   "id": "d33744f0",
   "metadata": {},
   "source": [
    "# Finding 13C Standard Deviation with 13C"
   ]
  },
  {
   "cell_type": "code",
   "execution_count": 65,
   "id": "39d5e281",
   "metadata": {},
   "outputs": [
    {
     "ename": "TypeError",
     "evalue": "unsupported format string passed to numpy.ndarray.__format__",
     "output_type": "error",
     "traceback": [
      "\u001b[1;31m---------------------------------------------------------------------------\u001b[0m",
      "\u001b[1;31mTypeError\u001b[0m                                 Traceback (most recent call last)",
      "Cell \u001b[1;32mIn [65], line 15\u001b[0m\n\u001b[0;32m     11\u001b[0m no_of_C_atoms \u001b[38;5;241m=\u001b[39m \u001b[38;5;241m27\u001b[39m\n\u001b[0;32m     12\u001b[0m no_of_13C_atoms \u001b[38;5;241m=\u001b[39m C_chances(no_of_C_atoms)\n\u001b[1;32m---> 15\u001b[0m \u001b[38;5;28mprint\u001b[39m(\u001b[38;5;124mf\u001b[39m\u001b[38;5;124m'\u001b[39m\u001b[38;5;124mmean of 13C atoms: \u001b[39m\u001b[38;5;132;01m{\u001b[39;00mno_of_13C_atoms\u001b[38;5;241m/\u001b[39mno_of_C_atoms\u001b[38;5;241m*\u001b[39m\u001b[38;5;241m100\u001b[39m\u001b[38;5;132;01m:\u001b[39;00m\u001b[38;5;124m.20f\u001b[39m\u001b[38;5;132;01m}\u001b[39;00m\u001b[38;5;124m%\u001b[39m\u001b[38;5;124m'\u001b[39m)\n",
      "\u001b[1;31mTypeError\u001b[0m: unsupported format string passed to numpy.ndarray.__format__"
     ]
    }
   ],
   "source": [
    "# 1. mean and standard deviation for the number of 13C atoms in a C27H44O atom\n",
    "\n",
    "# np.random.choice(['12C', '13C'])\n",
    "def C_chances(no_of_C_atoms = 27, probability = .9889):\n",
    "    # Returns the number of values greater than 'probability' (considered as 'Heads')\n",
    "    results = np.random.rand(no_of_C_atoms)\n",
    "    return results\n",
    "    no_of_13C_atoms = np.sum(results > probability)\n",
    "    return no_of_13C_atoms\n",
    "\n",
    "no_of_C_atoms = 27\n",
    "no_of_13C_atoms = C_chances(no_of_C_atoms)\n",
    "\n",
    "\n",
    "print(f'mean of 13C atoms: {no_of_13C_atoms/no_of_C_atoms*100:.20f}%') #HELP\n",
    "\n"
   ]
  },
  {
   "cell_type": "code",
   "execution_count": 73,
   "id": "f5661c1e",
   "metadata": {},
   "outputs": [
    {
     "name": "stdout",
     "output_type": "stream",
     "text": [
      "2\n"
     ]
    },
    {
     "data": {
      "text/plain": [
       "7.4074074074074066"
      ]
     },
     "execution_count": 73,
     "metadata": {},
     "output_type": "execute_result"
    }
   ],
   "source": [
    "def C_chances(no_of_C_atoms = 27, probability = .9889):\n",
    "    \n",
    "    results = np.random.rand(no_of_C_atoms)\n",
    "    no_of_13C_atoms = np.sum(results > probability)\n",
    "    return no_of_13C_atoms\n",
    "\n",
    "no_of_C_atoms = 27\n",
    "no_of_13C_atoms = C_chances(no_of_C_atoms)\n",
    "\n",
    "print(no_of_13C_atoms)\n",
    "mean = (no_of_13C_atoms/no_of_C_atoms)*100 \n",
    "mean"
   ]
  },
  {
   "cell_type": "code",
   "execution_count": 74,
   "id": "da8fbf1e",
   "metadata": {},
   "outputs": [],
   "source": [
    "numerator = (no_of_13C_atoms - mean)**2\n",
    "\n",
    "denominator = no_of_C_atoms\n",
    "\n",
    "std = np.sqrt(numerator/denominator)\n",
    "\n"
   ]
  },
  {
   "cell_type": "code",
   "execution_count": 75,
   "id": "255635ac",
   "metadata": {},
   "outputs": [
    {
     "data": {
      "text/plain": [
       "1.0406560407615475"
      ]
     },
     "execution_count": 75,
     "metadata": {},
     "output_type": "execute_result"
    }
   ],
   "source": [
    "std"
   ]
  },
  {
   "cell_type": "code",
   "execution_count": 103,
   "id": "fadcf75d",
   "metadata": {},
   "outputs": [
    {
     "name": "stdout",
     "output_type": "stream",
     "text": [
      "1\n",
      "0.037037037037037035\n",
      "0.18532230862876875\n"
     ]
    }
   ],
   "source": [
    "# The final code\n",
    "\n",
    "def C_chances(no_of_C_atoms = 27, probability = .9889):\n",
    "    \n",
    "    results = np.random.rand(no_of_C_atoms)\n",
    "    no_of_13C_atoms = np.sum(results > probability)\n",
    "    return no_of_13C_atoms\n",
    "\n",
    "no_of_C_atoms = 27\n",
    "no_of_13C_atoms = C_chances(no_of_C_atoms)\n",
    "\n",
    "print(no_of_13C_atoms)\n",
    "mean = (no_of_13C_atoms/no_of_C_atoms)\n",
    "print(mean)\n",
    "\n",
    "# STD\n",
    "numerator = (no_of_13C_atoms - mean)**2\n",
    "denominator = no_of_C_atoms\n",
    "std = np.sqrt(numerator/denominator)\n",
    "print(std)"
   ]
  },
  {
   "cell_type": "code",
   "execution_count": 104,
   "id": "91df98fc",
   "metadata": {},
   "outputs": [
    {
     "name": "stdout",
     "output_type": "stream",
     "text": [
      "0\n",
      "0.0\n",
      "0.0\n"
     ]
    }
   ],
   "source": [
    "def C_chances(no_of_C_atoms = 27, probability = .9889):\n",
    "    \n",
    "    results = np.random.rand(no_of_C_atoms)\n",
    "    no_of_13C_atoms = np.sum(results > probability)\n",
    "    return no_of_13C_atoms\n",
    "\n",
    "no_of_C_atoms = 27\n",
    "no_of_13C_atoms = C_chances(no_of_C_atoms)\n",
    "\n",
    "print(no_of_13C_atoms)\n",
    "mean = (no_of_13C_atoms/no_of_C_atoms)\n",
    "print(mean)\n",
    "\n",
    "# STD\n",
    "numerator = (no_of_13C_atoms - mean)**2\n",
    "denominator = no_of_C_atoms\n",
    "std = np.sqrt(numerator/denominator)\n",
    "print(std)"
   ]
  },
  {
   "cell_type": "code",
   "execution_count": 167,
   "id": "ca444c6f",
   "metadata": {},
   "outputs": [
    {
     "name": "stdout",
     "output_type": "stream",
     "text": [
      "1\n",
      "0.037037037037037035\n",
      "0.18532230862876875\n"
     ]
    }
   ],
   "source": [
    "def C_chances(no_of_C_atoms = 27, probability = .9889):\n",
    "    \n",
    "    results = np.random.rand(no_of_C_atoms)\n",
    "    no_of_13C_atoms = np.sum(results > probability)\n",
    "    return no_of_13C_atoms\n",
    "\n",
    "no_of_C_atoms = 27\n",
    "no_of_13C_atoms = C_chances(no_of_C_atoms)\n",
    "\n",
    "print(no_of_13C_atoms)\n",
    "mean = (no_of_13C_atoms/no_of_C_atoms)\n",
    "print(mean)\n",
    "\n",
    "# STD\n",
    "numerator = (no_of_13C_atoms - mean)**2\n",
    "denominator = no_of_C_atoms\n",
    "std = np.sqrt(numerator/denominator)\n",
    "print(std)"
   ]
  },
  {
   "cell_type": "code",
   "execution_count": 167,
   "id": "20cfd957",
   "metadata": {},
   "outputs": [
    {
     "name": "stdout",
     "output_type": "stream",
     "text": [
      "1\n",
      "0.037037037037037035\n",
      "0.18532230862876875\n"
     ]
    }
   ],
   "source": [
    "def C_chances(no_of_C_atoms = 27, probability = .9889):\n",
    "    \n",
    "    results = np.random.rand(no_of_C_atoms)\n",
    "    no_of_13C_atoms = np.sum(results > probability)\n",
    "    return no_of_13C_atoms\n",
    "\n",
    "no_of_C_atoms = 27\n",
    "no_of_13C_atoms = C_chances(no_of_C_atoms)\n",
    "\n",
    "print(no_of_13C_atoms)\n",
    "mean = (no_of_13C_atoms/no_of_C_atoms)\n",
    "print(mean)\n",
    "\n",
    "# STD\n",
    "numerator = (no_of_13C_atoms - mean)**2\n",
    "denominator = no_of_C_atoms\n",
    "std = np.sqrt(numerator/denominator)\n",
    "print(std)"
   ]
  },
  {
   "cell_type": "markdown",
   "id": "dc3dd1b3",
   "metadata": {},
   "source": [
    "# The probability that there are no 13C atoms in a molecule of C27H44O"
   ]
  },
  {
   "cell_type": "code",
   "execution_count": 182,
   "id": "66d72b9d",
   "metadata": {},
   "outputs": [
    {
     "name": "stdout",
     "output_type": "stream",
     "text": [
      "26\n"
     ]
    },
    {
     "data": {
      "text/plain": [
       "0.9629629629629629"
      ]
     },
     "execution_count": 182,
     "metadata": {},
     "output_type": "execute_result"
    }
   ],
   "source": [
    "# np.random.choice(['12C', '13C'])\n",
    "def C_chances(no_of_C_atoms = 27, probability = .9889):\n",
    "    \n",
    "    results = np.random.rand(no_of_C_atoms)\n",
    "    no_of_12C_atoms = np.sum(results < probability)\n",
    "    return no_of_12C_atoms\n",
    "\n",
    "no_of_C_atoms = 27\n",
    "no_of_12C_atoms = C_chances(no_of_C_atoms)\n",
    "print(no_of_12C_atoms)\n",
    "\n",
    "mean_of_12C_atoms = (no_of_12C_atoms/no_of_C_atoms)\n",
    "mean_of_12C_atoms"
   ]
  },
  {
   "cell_type": "code",
   "execution_count": null,
   "id": "2254fb68",
   "metadata": {},
   "outputs": [],
   "source": []
  },
  {
   "cell_type": "markdown",
   "id": "887e48bc",
   "metadata": {},
   "source": [
    "# Try to get their answer"
   ]
  },
  {
   "cell_type": "code",
   "execution_count": 200,
   "id": "cea22813",
   "metadata": {},
   "outputs": [
    {
     "name": "stdout",
     "output_type": "stream",
     "text": [
      "[0 1 2 3 4]\n",
      "[7339 2304  322   34    1]\n"
     ]
    }
   ],
   "source": [
    "def C_chances(no_of_C_atoms = 27, probability = .9889):\n",
    "    \n",
    "    results = np.random.rand(no_of_C_atoms)\n",
    "    no_of_13C_atoms = np.sum(results > probability)\n",
    "    return no_of_13C_atoms\n",
    "\n",
    "no_of_C_atoms = 27\n",
    "no_of_repeats = 10_000\n",
    "result = [C_chances(no_of_C_atoms = 27) for _ in range(no_of_repeats)]\n",
    "no_of_13C, C_atom_counts = np.unique(result, return_counts = True)\n",
    "\n",
    "print(no_of_13C)\n",
    "\n",
    "print(C_atom_counts)"
   ]
  },
  {
   "cell_type": "code",
   "execution_count": 203,
   "id": "50363211",
   "metadata": {},
   "outputs": [
    {
     "data": {
      "text/plain": [
       "array([0.4, 0.6])"
      ]
     },
     "execution_count": 203,
     "metadata": {},
     "output_type": "execute_result"
    }
   ],
   "source": [
    "def C_chances(no_of_C_atoms = 27, probability = .9889):\n",
    "    \n",
    "    results = np.random.rand(no_of_C_atoms)\n",
    "    no_of_13C_atoms = np.sum(results > probability)\n",
    "    return no_of_13C_atoms\n",
    "\n",
    "no_of_repeats = 10\n",
    "result = [C_chances(no_of_C_atoms = 27) for _ in range(no_of_repeats)]\n",
    "no_of_13C, C_count = np.unique(result, return_counts = True) # returns unique values (of 13C) in the list and how\n",
    "                                                                    # many times they occur\n",
    "    \n",
    "C13_probability = C_count / no_of_repeats\n",
    "C13_probability # HELP"
   ]
  },
  {
   "cell_type": "code",
   "execution_count": null,
   "id": "115ecab4",
   "metadata": {},
   "outputs": [],
   "source": []
  },
  {
   "cell_type": "code",
   "execution_count": null,
   "id": "5d56b523",
   "metadata": {},
   "outputs": [],
   "source": []
  },
  {
   "cell_type": "code",
   "execution_count": null,
   "id": "0c1a2210",
   "metadata": {},
   "outputs": [],
   "source": []
  }
 ],
 "metadata": {
  "kernelspec": {
   "display_name": "Python 3 (ipykernel)",
   "language": "python",
   "name": "python3"
  },
  "language_info": {
   "codemirror_mode": {
    "name": "ipython",
    "version": 3
   },
   "file_extension": ".py",
   "mimetype": "text/x-python",
   "name": "python",
   "nbconvert_exporter": "python",
   "pygments_lexer": "ipython3",
   "version": "3.9.12"
  },
  "toc": {
   "base_numbering": 1,
   "nav_menu": {},
   "number_sections": true,
   "sideBar": true,
   "skip_h1_title": false,
   "title_cell": "Table of Contents",
   "title_sidebar": "Contents",
   "toc_cell": false,
   "toc_position": {},
   "toc_section_display": true,
   "toc_window_display": false
  },
  "vscode": {
   "interpreter": {
    "hash": "31f2aee4e71d21fbe5cf8b01ff0e069b9275f58929596ceb00d14d90e3e16cd6"
   }
  }
 },
 "nbformat": 4,
 "nbformat_minor": 5
}
