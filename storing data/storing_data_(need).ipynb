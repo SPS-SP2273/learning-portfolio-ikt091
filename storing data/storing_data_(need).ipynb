{
 "cells": [
  {
   "cell_type": "markdown",
   "id": "123456",
   "metadata": {},
   "source": [
    "<div style=\"text-align:left;font-size:2em\"><span style=\"font-weight:bolder;font-size:1.25em\">SP2273 | Learning Portfolio</span><br><br><span style=\"font-weight:bold;color:darkred\">Storing Data (Need)</span></div>"
   ]
  },
  {
   "cell_type": "markdown",
   "id": "ca6d0975",
   "metadata": {},
   "source": [
    "## 1 Lists, Arrays & Dictionaries"
   ]
  },
  {
   "cell_type": "markdown",
   "id": "3547157a",
   "metadata": {},
   "source": [
    "### 1.1 Let’s compare"
   ]
  },
  {
   "cell_type": "markdown",
   "id": "38e24ef1",
   "metadata": {},
   "source": [
    "##### ***3 BASIC WAYS OF STORING DATA"
   ]
  },
  {
   "cell_type": "code",
   "execution_count": null,
   "id": "1884bb25",
   "metadata": {},
   "outputs": [],
   "source": [
    "\n",
    "# python lists\n",
    "\n",
    "py_superhero_names = ['Batman', 'Iron Man', 'Doctor Strange']\n",
    "py_real_names = ['Bruce Wayne', 'Tony Stark', 'Stephen Strange']\n"
   ]
  },
  {
   "cell_type": "code",
   "execution_count": null,
   "id": "581b4dfc",
   "metadata": {},
   "outputs": [],
   "source": [
    "\n",
    "# python array (Numpy Arrays)\n",
    "\n",
    "py_superhero_names = np.array(['Batman', 'Iron Man', 'Doctor Strange'])\n",
    "py_real_names = np.array(['Bruce Wayne', 'Tony Stark', 'Stephen Strange'])\n"
   ]
  },
  {
   "cell_type": "code",
   "execution_count": null,
   "id": "566d23e4",
   "metadata": {},
   "outputs": [],
   "source": [
    "\n",
    "# python array (Dictionaries)\n",
    "\n",
    "superhero_info = {'Bruce Wayne': 'Batman', 'Tony Stark': 'Iron Man', 'Stephen Strange': 'Doctor Strange'}\n"
   ]
  },
  {
   "cell_type": "markdown",
   "id": "1a6a97fd",
   "metadata": {},
   "source": [
    "### 1.2 Accessing data from a list (or array)"
   ]
  },
  {
   "cell_type": "code",
   "execution_count": 3,
   "id": "9732d8c1",
   "metadata": {},
   "outputs": [
    {
     "name": "stdout",
     "output_type": "stream",
     "text": [
      "Doctor Strange\n",
      "Doctor Strange\n",
      "Iron Man\n"
     ]
    }
   ],
   "source": [
    "\n",
    "py_superhero_names = ['Batman', 'Iron Man', 'Doctor Strange']\n",
    "print(py_superhero_names[2]) # means THIRD in the list, REMEMBER FIRST VARIABLE IS NUMBERED AS 0\n",
    "\n",
    "print(py_superhero_names[-1]) # means first from the end\n",
    "\n",
    "print(py_superhero_names[-2])"
   ]
  },
  {
   "cell_type": "markdown",
   "id": "d58221be",
   "metadata": {},
   "source": [
    "### 1.3 Accessing data from a dictionary"
   ]
  },
  {
   "cell_type": "code",
   "execution_count": 6,
   "id": "b47b9bf8",
   "metadata": {},
   "outputs": [
    {
     "ename": "KeyError",
     "evalue": "'Red Robin'",
     "output_type": "error",
     "traceback": [
      "\u001b[1;31m---------------------------------------------------------------------------\u001b[0m",
      "\u001b[1;31mKeyError\u001b[0m                                  Traceback (most recent call last)",
      "Cell \u001b[1;32mIn [6], line 3\u001b[0m\n\u001b[0;32m      1\u001b[0m superhero_info \u001b[38;5;241m=\u001b[39m {\u001b[38;5;124m'\u001b[39m\u001b[38;5;124mTim Drake\u001b[39m\u001b[38;5;124m'\u001b[39m: \u001b[38;5;124m'\u001b[39m\u001b[38;5;124mRed Robin\u001b[39m\u001b[38;5;124m'\u001b[39m, \u001b[38;5;124m'\u001b[39m\u001b[38;5;124mDick Grayson\u001b[39m\u001b[38;5;124m'\u001b[39m: \u001b[38;5;124m'\u001b[39m\u001b[38;5;124mNightwing\u001b[39m\u001b[38;5;124m'\u001b[39m, \u001b[38;5;124m'\u001b[39m\u001b[38;5;124mBarbara Gordon\u001b[39m\u001b[38;5;124m'\u001b[39m: \u001b[38;5;124m'\u001b[39m\u001b[38;5;124mBatgirl\u001b[39m\u001b[38;5;124m'\u001b[39m}\n\u001b[1;32m----> 3\u001b[0m \u001b[38;5;28mprint\u001b[39m(\u001b[43msuperhero_info\u001b[49m\u001b[43m[\u001b[49m\u001b[38;5;124;43m'\u001b[39;49m\u001b[38;5;124;43mRed Robin\u001b[39;49m\u001b[38;5;124;43m'\u001b[39;49m\u001b[43m]\u001b[49m)\n",
      "\u001b[1;31mKeyError\u001b[0m: 'Red Robin'"
     ]
    }
   ],
   "source": [
    "\n",
    "superhero_info = {'Tim Drake': 'Red Robin', 'Dick Grayson': 'Nightwing', 'Barbara Gordon': 'Batgirl'}\n",
    "\n",
    "print(superhero_info['Red Robin'])\n",
    "\n",
    "#Placement of key and value matters!!!"
   ]
  },
  {
   "cell_type": "code",
   "execution_count": 1,
   "id": "f402ab6c",
   "metadata": {},
   "outputs": [
    {
     "name": "stdout",
     "output_type": "stream",
     "text": [
      "Tim Drake\n"
     ]
    }
   ],
   "source": [
    "\n",
    "superhero_real_identity = {'Red Robin': 'Tim Drake', 'Nightwing': 'Dick Grayson', 'Batgirl': 'Barabara Gordon'}\n",
    "\n",
    "print(superhero_real_identity['Red Robin'])\n",
    "\n",
    "# HOW TO MAKE THIS WORK\n",
    "# ONE AT A TIME "
   ]
  },
  {
   "cell_type": "code",
   "execution_count": 2,
   "id": "0e21bcac",
   "metadata": {},
   "outputs": [
    {
     "name": "stdout",
     "output_type": "stream",
     "text": [
      "Dick Grayson\n"
     ]
    }
   ],
   "source": [
    "\n",
    "superhero_real_identity = {'Red Robin': 'Tim Drake', 'Nightwing': 'Dick Grayson', 'Batgirl': 'Barabara Gordon'}\n",
    "\n",
    "print(superhero_real_identity['Nightwing'])\n",
    "\n",
    "# HOW TO MAKE THIS WORK\n",
    "# ONE AT A TIME "
   ]
  },
  {
   "cell_type": "code",
   "execution_count": 1,
   "id": "9a3744c4",
   "metadata": {},
   "outputs": [
    {
     "name": "stdout",
     "output_type": "stream",
     "text": [
      "Tim Drake\n",
      "dict_keys(['Red Robin', 'Nightwing', 'Batgirl'])\n"
     ]
    },
    {
     "data": {
      "text/plain": [
       "dict_values(['Tim Drake', 'Dick Grayson', 'Barabara Gordon'])"
      ]
     },
     "execution_count": 1,
     "metadata": {},
     "output_type": "execute_result"
    }
   ],
   "source": [
    "\n",
    "superhero_real_identity = {'Red Robin': 'Tim Drake', 'Nightwing': 'Dick Grayson', 'Batgirl': 'Barabara Gordon'}\n",
    "\n",
    "print(superhero_real_identity['Red Robin'])\n",
    "\n",
    "print(superhero_real_identity.keys())\n",
    "\n",
    "superhero_real_identity.values() # OUTPUT IS ONLY LAST LINE OF CODE SO THIS IS NOT EXECUTED\n",
    "\n",
    "# WILL ONLY GIVE ME ONE AT A TIME? YES MUST CALL PRINT FUNCTION FOR\n",
    "# ANYTHING BEFORE LAST LINE OF CODE BLOCK"
   ]
  },
  {
   "cell_type": "code",
   "execution_count": 13,
   "id": "00f89c8b",
   "metadata": {},
   "outputs": [
    {
     "name": "stdout",
     "output_type": "stream",
     "text": [
      "Tim Drake\n"
     ]
    },
    {
     "data": {
      "text/plain": [
       "dict_keys(['Red Robin', 'Nightwing', 'Batgirl'])"
      ]
     },
     "execution_count": 13,
     "metadata": {},
     "output_type": "execute_result"
    }
   ],
   "source": [
    "\n",
    "superhero_real_identity = {'Red Robin': 'Tim Drake', 'Nightwing': 'Dick Grayson', 'Batgirl': 'Barabara Gordon'}\n",
    "\n",
    "print(superhero_real_identity['Red Robin'])\n",
    "\n",
    "superhero_real_identity.keys()\n",
    "\n"
   ]
  },
  {
   "cell_type": "markdown",
   "id": "db501b27",
   "metadata": {},
   "source": [
    "### 1.4 Higher dimensional lists"
   ]
  },
  {
   "cell_type": "code",
   "execution_count": 16,
   "id": "26d3470f",
   "metadata": {},
   "outputs": [
    {
     "ename": "AttributeError",
     "evalue": "'list' object has no attribute 'values'",
     "output_type": "error",
     "traceback": [
      "\u001b[1;31m---------------------------------------------------------------------------\u001b[0m",
      "\u001b[1;31mAttributeError\u001b[0m                            Traceback (most recent call last)",
      "Cell \u001b[1;32mIn [16], line 2\u001b[0m\n\u001b[0;32m      1\u001b[0m superhero_real_identity \u001b[38;5;241m=\u001b[39m [[\u001b[38;5;124m'\u001b[39m\u001b[38;5;124mRed Robin\u001b[39m\u001b[38;5;124m'\u001b[39m, \u001b[38;5;124m'\u001b[39m\u001b[38;5;124mTim Drake\u001b[39m\u001b[38;5;124m'\u001b[39m], [\u001b[38;5;124m'\u001b[39m\u001b[38;5;124mNightwing\u001b[39m\u001b[38;5;124m'\u001b[39m, \u001b[38;5;124m'\u001b[39m\u001b[38;5;124mDick Grayson\u001b[39m\u001b[38;5;124m'\u001b[39m], [\u001b[38;5;124m'\u001b[39m\u001b[38;5;124mBatgirl\u001b[39m\u001b[38;5;124m'\u001b[39m, \u001b[38;5;124m'\u001b[39m\u001b[38;5;124mBarabara Gordon\u001b[39m\u001b[38;5;124m'\u001b[39m]]\n\u001b[1;32m----> 2\u001b[0m \u001b[43msuperhero_real_identity\u001b[49m\u001b[38;5;241;43m.\u001b[39;49m\u001b[43mvalues\u001b[49m()\n",
      "\u001b[1;31mAttributeError\u001b[0m: 'list' object has no attribute 'values'"
     ]
    }
   ],
   "source": [
    "#WHATS THE POINT OF THIS \n",
    "\n",
    "superhero_real_identity = [['Red Robin', 'Tim Drake'], ['Nightwing', 'Dick Grayson'], ['Batgirl', 'Barabara Gordon']]\n",
    "superhero_real_identity.values()\n",
    "\n",
    "#STORE CORRESPONDING REAL AND SUPERHERO NAMES AS A 2D LIST"
   ]
  },
  {
   "cell_type": "markdown",
   "id": "bdf81f61",
   "metadata": {},
   "source": [
    "## 2 Lists vs. Arrays"
   ]
  },
  {
   "cell_type": "markdown",
   "id": "0ed66146",
   "metadata": {},
   "source": [
    "### 2.1 Size"
   ]
  },
  {
   "cell_type": "code",
   "execution_count": 19,
   "id": "ca9126df",
   "metadata": {},
   "outputs": [],
   "source": [
    "import numpy as np"
   ]
  },
  {
   "cell_type": "code",
   "execution_count": 4,
   "id": "7d073dd2",
   "metadata": {},
   "outputs": [
    {
     "data": {
      "text/plain": [
       "6"
      ]
     },
     "execution_count": 4,
     "metadata": {},
     "output_type": "execute_result"
    }
   ],
   "source": [
    "\n",
    "py_list_nama_saya_aakash = [[1,'A'],[2,'A'],[3,'K'],[4,'A'],[5,'S'],[6,'H']]\n",
    "\n",
    "\n",
    "#To recreate the Python list to create a NEW NumPy array\n",
    "\n",
    "\n",
    "\n",
    "len(py_list_nama_saya_aakash)\n",
    "\n"
   ]
  },
  {
   "cell_type": "code",
   "execution_count": 2,
   "id": "9440f163",
   "metadata": {},
   "outputs": [
    {
     "data": {
      "text/plain": [
       "6"
      ]
     },
     "execution_count": 2,
     "metadata": {},
     "output_type": "execute_result"
    }
   ],
   "source": [
    "import numpy as np\n",
    "py_list_nama_saya_aakash = [[1,'A'],[2,'A'],[3,'K'],[4,'A'],[5,'S'],[6,'H']]\n",
    "\n",
    "\n",
    "#To recreate the Python list to create a NEW NumPy array\n",
    "\n",
    "np_array_nama_saya_aakash = np.array(py_list_nama_saya_aakash)\n",
    "\n",
    "\n",
    "\n",
    "len(np_array_nama_saya_aakash)\n",
    "\n",
    "\n"
   ]
  },
  {
   "cell_type": "code",
   "execution_count": 24,
   "id": "c025b1f0",
   "metadata": {},
   "outputs": [
    {
     "data": {
      "text/plain": [
       "(6, 2)"
      ]
     },
     "execution_count": 24,
     "metadata": {},
     "output_type": "execute_result"
    }
   ],
   "source": [
    "\n",
    "py_list_nama_saya_aakash = [[1,'A'],[2,'A'],[3,'K'],[4,'A'],[5,'S'],[6,'H']]\n",
    "\n",
    "\n",
    "#To recreate the Python list to create a NEW NumPy array\n",
    "\n",
    "np_array_nama_saya_aakash = np.array(py_list_nama_saya_aakash)\n",
    "\n",
    "\n",
    "\n",
    "len(np_array_nama_saya_aakash)\n",
    "\n",
    "np_array_nama_saya_aakash.shape"
   ]
  },
  {
   "cell_type": "markdown",
   "id": "1fd880f7",
   "metadata": {},
   "source": [
    "### 2.2 Arrays are fussy about type"
   ]
  },
  {
   "cell_type": "code",
   "execution_count": 25,
   "id": "71f65094",
   "metadata": {},
   "outputs": [
    {
     "data": {
      "text/plain": [
       "array(['2', '2.0', 'A'], dtype='<U32')"
      ]
     },
     "execution_count": 25,
     "metadata": {},
     "output_type": "execute_result"
    }
   ],
   "source": [
    "py_list = [2,2.0,'A']\n",
    "np.array(py_list)\n",
    "\n",
    "# NumPy arrays tolerate ONE TYPE a single time\n",
    "# Lists don't  care how many data types you have"
   ]
  },
  {
   "cell_type": "markdown",
   "id": "4119a96d",
   "metadata": {},
   "source": [
    "### 2.3 Adding a number"
   ]
  },
  {
   "cell_type": "code",
   "execution_count": 26,
   "id": "468918f7",
   "metadata": {},
   "outputs": [
    {
     "ename": "TypeError",
     "evalue": "can only concatenate list (not \"int\") to list",
     "output_type": "error",
     "traceback": [
      "\u001b[1;31m---------------------------------------------------------------------------\u001b[0m",
      "\u001b[1;31mTypeError\u001b[0m                                 Traceback (most recent call last)",
      "Cell \u001b[1;32mIn [26], line 5\u001b[0m\n\u001b[0;32m      2\u001b[0m np_array \u001b[38;5;241m=\u001b[39m np\u001b[38;5;241m.\u001b[39marray(py_list)\n\u001b[0;32m      3\u001b[0m \u001b[38;5;66;03m#Reusing the python list to create a NEW NumPy array\u001b[39;00m\n\u001b[1;32m----> 5\u001b[0m \u001b[43mpy_list\u001b[49m\u001b[43m \u001b[49m\u001b[38;5;241;43m+\u001b[39;49m\u001b[43m \u001b[49m\u001b[38;5;241;43m10\u001b[39;49m\n",
      "\u001b[1;31mTypeError\u001b[0m: can only concatenate list (not \"int\") to list"
     ]
    }
   ],
   "source": [
    "py_list = [1, 2, 3, 4, 5]\n",
    "np_array = np.array(py_list)\n",
    "\n",
    "#Reusing the python list to create a NEW NumPy array\n",
    "\n",
    "py_list + 10"
   ]
  },
  {
   "cell_type": "code",
   "execution_count": 6,
   "id": "7e2cc8e0",
   "metadata": {},
   "outputs": [
    {
     "data": {
      "text/plain": [
       "numpy.float64"
      ]
     },
     "execution_count": 6,
     "metadata": {},
     "output_type": "execute_result"
    }
   ],
   "source": [
    "import numpy as np\n",
    "\n",
    "py_list = [1, 2, 3, 4, 5.0]\n",
    "np_array = np.array(py_list)\n",
    "#Reusing the python list to create a NEW NumPy array\n",
    "\n",
    "#So all made to int type? Everything is float type \n",
    "np_array2 = np_array + 10\n",
    "\n",
    "type(np_array2[0]) #This is how to check"
   ]
  },
  {
   "cell_type": "code",
   "execution_count": 2,
   "id": "fe547f90",
   "metadata": {},
   "outputs": [
    {
     "ename": "NameError",
     "evalue": "name 'np_array' is not defined",
     "output_type": "error",
     "traceback": [
      "\u001b[1;31m---------------------------------------------------------------------------\u001b[0m",
      "\u001b[1;31mNameError\u001b[0m                                 Traceback (most recent call last)",
      "Cell \u001b[1;32mIn [2], line 1\u001b[0m\n\u001b[1;32m----> 1\u001b[0m \u001b[38;5;28mtype\u001b[39m(\u001b[43mnp_array\u001b[49m)\n",
      "\u001b[1;31mNameError\u001b[0m: name 'np_array' is not defined"
     ]
    }
   ],
   "source": []
  },
  {
   "cell_type": "code",
   "execution_count": null,
   "id": "965d465d",
   "metadata": {},
   "outputs": [],
   "source": [
    "py_list \n"
   ]
  },
  {
   "cell_type": "markdown",
   "id": "0d75a079",
   "metadata": {},
   "source": [
    "### 2.4 Adding another list"
   ]
  },
  {
   "cell_type": "code",
   "execution_count": 29,
   "id": "aac2239a",
   "metadata": {},
   "outputs": [
    {
     "data": {
      "text/plain": [
       "[1, 2, 3, 4, 10, 20, 30, 40]"
      ]
     },
     "execution_count": 29,
     "metadata": {},
     "output_type": "execute_result"
    }
   ],
   "source": [
    "py_list_1 = [1,2,3,4]\n",
    "\n",
    "py_list_2 = [10,20,30,40]\n",
    "\n",
    "py_list_1 + py_list_2\n",
    "\n",
    "# adding lists, placing them side-by-side"
   ]
  },
  {
   "cell_type": "code",
   "execution_count": 33,
   "id": "94a94005",
   "metadata": {},
   "outputs": [
    {
     "data": {
      "text/plain": [
       "array([11, 22, 33, 44])"
      ]
     },
     "execution_count": 33,
     "metadata": {},
     "output_type": "execute_result"
    }
   ],
   "source": [
    "py_list_1 = [1,2,3,4]\n",
    "\n",
    "py_list_2 = [10,20,30,40]\n",
    "\n",
    "\n",
    "\n",
    "np_array_1 = np.array(py_list_1)\n",
    "np_array_2 = np.array(py_list_2)\n",
    "\n",
    "np_array_1 + np_array_2\n",
    "\n",
    "# adding arrays together"
   ]
  },
  {
   "cell_type": "markdown",
   "id": "c133e7da",
   "metadata": {},
   "source": [
    "### 2.5 Multiplying by a Number"
   ]
  },
  {
   "cell_type": "code",
   "execution_count": 41,
   "id": "7edf5aa9",
   "metadata": {},
   "outputs": [
    {
     "data": {
      "text/plain": [
       "[1, 2, 3, 4, 1, 2, 3, 4]"
      ]
     },
     "execution_count": 41,
     "metadata": {},
     "output_type": "execute_result"
    }
   ],
   "source": [
    "py_list_1 = [1,2,3,4]\n",
    "\n",
    "py_list_2 = [10,20,30,40]\n",
    "\n",
    "py_list_1*2\n",
    "\n",
    "\n",
    "# multiplying lists to make more of the same list"
   ]
  },
  {
   "cell_type": "code",
   "execution_count": 40,
   "id": "4e8c1151",
   "metadata": {},
   "outputs": [
    {
     "data": {
      "text/plain": [
       "[10, 20, 30, 40, 10, 20, 30, 40]"
      ]
     },
     "execution_count": 40,
     "metadata": {},
     "output_type": "execute_result"
    }
   ],
   "source": [
    "py_list_1 = [1,2,3,4]\n",
    "\n",
    "py_list_2 = [10,20,30,40]\n",
    "\n",
    "\n",
    "py_list_2*2\n",
    "\n",
    "# multiplying lists to make more of the same list \n",
    "#CANNOT MULTIPLY DATA IN LISTS BY 2? NO, EXPLANATION BELOW"
   ]
  },
  {
   "cell_type": "code",
   "execution_count": 8,
   "id": "007ad80f",
   "metadata": {},
   "outputs": [
    {
     "data": {
      "text/plain": [
       "array([2, 4, 6, 8])"
      ]
     },
     "execution_count": 8,
     "metadata": {},
     "output_type": "execute_result"
    }
   ],
   "source": [
    "py_list_1 = [1,2,3,4]\n",
    "\n",
    "py_list_2 = [10,20,30,40]\n",
    "\n",
    "np_array1 = np.array(py_list_1)\n",
    "np_array1*2\n",
    "\n",
    "# multiplying lists to make more of the same list \n",
    "#CANNOT MULTIPLY DATA IN LISTS BY 2?\n",
    "#MUST MAKE INTO ARRAY FOR THIS \n",
    "#ARRAY SUPERIORITY - FOR multiplication of all values in here\n",
    "# ONLY LIST CAN BE MULTIPLIED TWICE"
   ]
  },
  {
   "cell_type": "code",
   "execution_count": 42,
   "id": "8d4cdfd8",
   "metadata": {},
   "outputs": [
    {
     "data": {
      "text/plain": [
       "array([2, 4, 6, 8])"
      ]
     },
     "execution_count": 42,
     "metadata": {},
     "output_type": "execute_result"
    }
   ],
   "source": [
    "py_list_1 = [1,2,3,4]\n",
    "\n",
    "py_list_2 = [10,20,30,40]\n",
    "\n",
    "np_array_1 = np.array(py_list_1)\n",
    "np_array_2 = np.array(py_list_2)\n",
    "\n",
    "np_array_1 * 2\n",
    "\n",
    "# multiplying arrays BY A NUMBER"
   ]
  },
  {
   "cell_type": "code",
   "execution_count": 43,
   "id": "6ccd3352",
   "metadata": {},
   "outputs": [
    {
     "data": {
      "text/plain": [
       "array([20, 40, 60, 80])"
      ]
     },
     "execution_count": 43,
     "metadata": {},
     "output_type": "execute_result"
    }
   ],
   "source": [
    "py_list_1 = [1,2,3,4]\n",
    "\n",
    "py_list_2 = [10,20,30,40]\n",
    "\n",
    "np_array_1 = np.array(py_list_1)\n",
    "np_array_2 = np.array(py_list_2)\n",
    "\n",
    "np_array_2 * 2\n",
    "\n",
    "# multiplying arrays BY A NUMBER"
   ]
  },
  {
   "cell_type": "code",
   "execution_count": 35,
   "id": "691f2c3f",
   "metadata": {},
   "outputs": [
    {
     "data": {
      "text/plain": [
       "array([ 10,  40,  90, 160])"
      ]
     },
     "execution_count": 35,
     "metadata": {},
     "output_type": "execute_result"
    }
   ],
   "source": [
    "py_list_1 = [1,2,3,4]\n",
    "\n",
    "py_list_2 = [10,20,30,40]\n",
    "\n",
    "np_array_1 = np.array(py_list_1)\n",
    "np_array_2 = np.array(py_list_2)\n",
    "\n",
    "np_array_1 * np_array_2\n",
    "\n",
    "# multiplying arrays together"
   ]
  },
  {
   "cell_type": "code",
   "execution_count": null,
   "id": "e202ef41",
   "metadata": {},
   "outputs": [],
   "source": [
    "\n",
    "# Your code here\n"
   ]
  },
  {
   "cell_type": "markdown",
   "id": "623d647a",
   "metadata": {},
   "source": [
    "### 2.6 Squaring"
   ]
  },
  {
   "cell_type": "code",
   "execution_count": 45,
   "id": "15faf199",
   "metadata": {},
   "outputs": [
    {
     "data": {
      "text/plain": [
       "array([ 1,  4,  9, 16])"
      ]
     },
     "execution_count": 45,
     "metadata": {},
     "output_type": "execute_result"
    }
   ],
   "source": [
    "py_list_1 = [1,2,3,4]\n",
    "np_array = np.array(py_list_1)\n",
    "\n",
    "np_array**2"
   ]
  },
  {
   "cell_type": "markdown",
   "id": "76b33567",
   "metadata": {},
   "source": [
    "### 2.7 Asking questions"
   ]
  },
  {
   "cell_type": "code",
   "execution_count": 2,
   "id": "c5cd5c6a",
   "metadata": {},
   "outputs": [],
   "source": [
    "import numpy as np"
   ]
  },
  {
   "cell_type": "code",
   "execution_count": 3,
   "id": "576172ce",
   "metadata": {},
   "outputs": [
    {
     "data": {
      "text/plain": [
       "False"
      ]
     },
     "execution_count": 3,
     "metadata": {},
     "output_type": "execute_result"
    }
   ],
   "source": [
    "py_list_1 = [1,2,3,4]\n",
    "np_array = np.array(py_list_1)\n",
    "\n",
    "py_list_1 == 3\n",
    "\n",
    "# py_list_2 = [3]\n",
    "# py_list_2 == 3"
   ]
  },
  {
   "cell_type": "code",
   "execution_count": 4,
   "id": "85479252",
   "metadata": {},
   "outputs": [
    {
     "data": {
      "text/plain": [
       "False"
      ]
     },
     "execution_count": 4,
     "metadata": {},
     "output_type": "execute_result"
    }
   ],
   "source": [
    "py_list_2 = [3]\n",
    "py_list_2 == 3"
   ]
  },
  {
   "cell_type": "code",
   "execution_count": 9,
   "id": "8893b6ee",
   "metadata": {},
   "outputs": [
    {
     "data": {
      "text/plain": [
       "array([False, False, False,  True])"
      ]
     },
     "execution_count": 9,
     "metadata": {},
     "output_type": "execute_result"
    }
   ],
   "source": [
    "py_list_1 = [1,2,3,4]\n",
    "np_array = np.array(py_list_1)\n",
    "\n",
    "py_list_1 == 3\n",
    "\n",
    "py_list_2 = [3]\n",
    "np_array > 3 #MORE THAN\n"
   ]
  },
  {
   "cell_type": "code",
   "execution_count": 12,
   "id": "b41d40ef",
   "metadata": {},
   "outputs": [
    {
     "data": {
      "text/plain": [
       "array([False, False,  True,  True])"
      ]
     },
     "execution_count": 12,
     "metadata": {},
     "output_type": "execute_result"
    }
   ],
   "source": [
    "py_list_1 = [1,2,3,4]\n",
    "np_array = np.array(py_list_1)\n",
    "\n",
    "py_list_1 == 3\n",
    "\n",
    "py_list_2 = [3]\n",
    "np_array >= 3 #MORE THAN OR EQUALS TO\n"
   ]
  },
  {
   "cell_type": "code",
   "execution_count": 10,
   "id": "c5b9a1a8",
   "metadata": {},
   "outputs": [
    {
     "data": {
      "text/plain": [
       "array([ True,  True,  True, False])"
      ]
     },
     "execution_count": 10,
     "metadata": {},
     "output_type": "execute_result"
    }
   ],
   "source": [
    "py_list_1 = [1,2,3,4]\n",
    "np_array = np.array(py_list_1)\n",
    "\n",
    "py_list_1 == 3\n",
    "\n",
    "py_list_2 = [3]\n",
    "np_array <= 3 #LESS THAN OR EQUALS TO\n"
   ]
  },
  {
   "cell_type": "code",
   "execution_count": 11,
   "id": "68a384bc",
   "metadata": {},
   "outputs": [
    {
     "data": {
      "text/plain": [
       "array([ True,  True, False,  True])"
      ]
     },
     "execution_count": 11,
     "metadata": {},
     "output_type": "execute_result"
    }
   ],
   "source": [
    "py_list_1 = [1,2,3,4]\n",
    "np_array = np.array(py_list_1)\n",
    "\n",
    "py_list_1 == 3\n",
    "\n",
    "py_list_2 = [3]\n",
    "np_array != 3 #NOT EQUALS TO\n"
   ]
  },
  {
   "cell_type": "code",
   "execution_count": 50,
   "id": "d3ef5124",
   "metadata": {},
   "outputs": [],
   "source": [
    "import numpy as np"
   ]
  },
  {
   "cell_type": "code",
   "execution_count": 55,
   "id": "d300a8ef",
   "metadata": {},
   "outputs": [
    {
     "data": {
      "text/plain": [
       "array([False, False,  True, False])"
      ]
     },
     "execution_count": 55,
     "metadata": {},
     "output_type": "execute_result"
    }
   ],
   "source": [
    "py_list_1 = [1,2,3,4]\n",
    "np_array = np.array(py_list_1)\n",
    "\n",
    "np_array == 3"
   ]
  },
  {
   "cell_type": "code",
   "execution_count": 54,
   "id": "d0473935",
   "metadata": {},
   "outputs": [
    {
     "data": {
      "text/plain": [
       "array([False, False, False,  True])"
      ]
     },
     "execution_count": 54,
     "metadata": {},
     "output_type": "execute_result"
    }
   ],
   "source": [
    "py_list_1 = [1,2,3,4]\n",
    "np_array = np.array(py_list_1)\n",
    "\n",
    "np_array > 3"
   ]
  },
  {
   "cell_type": "code",
   "execution_count": null,
   "id": "68d46af4",
   "metadata": {},
   "outputs": [],
   "source": [
    "\n",
    "# Your code here\n"
   ]
  },
  {
   "cell_type": "markdown",
   "id": "773429c9",
   "metadata": {},
   "source": [
    "### 2.8 Mathematics"
   ]
  },
  {
   "cell_type": "code",
   "execution_count": 57,
   "id": "3e682576",
   "metadata": {},
   "outputs": [
    {
     "data": {
      "text/plain": [
       "10"
      ]
     },
     "execution_count": 57,
     "metadata": {},
     "output_type": "execute_result"
    }
   ],
   "source": [
    "\n",
    "py_list = [1,2,3,4]\n",
    "np_array = np.array(py_list)\n",
    "\n",
    "sum(py_list) #ADD THE DATA IN THE LIST TOGETHER"
   ]
  },
  {
   "cell_type": "code",
   "execution_count": 58,
   "id": "e253e314",
   "metadata": {},
   "outputs": [
    {
     "data": {
      "text/plain": [
       "4"
      ]
     },
     "execution_count": 58,
     "metadata": {},
     "output_type": "execute_result"
    }
   ],
   "source": [
    "\n",
    "py_list = [1,2,3,4]\n",
    "np_array = np.array(py_list)\n",
    "\n",
    "max(py_list) # FIND LARGEST VALUE DATA IN LIST"
   ]
  },
  {
   "cell_type": "code",
   "execution_count": 58,
   "id": "dad5651e",
   "metadata": {},
   "outputs": [
    {
     "data": {
      "text/plain": [
       "4"
      ]
     },
     "execution_count": 58,
     "metadata": {},
     "output_type": "execute_result"
    }
   ],
   "source": [
    "\n",
    "py_list = [1,2,3,4]\n",
    "np_array = np.array(py_list)\n",
    "\n",
    "min(py_list) # FIND SMALLEST VALUE DATA IN LIST"
   ]
  },
  {
   "cell_type": "code",
   "execution_count": 59,
   "id": "55856644",
   "metadata": {},
   "outputs": [
    {
     "data": {
      "text/plain": [
       "1"
      ]
     },
     "execution_count": 59,
     "metadata": {},
     "output_type": "execute_result"
    }
   ],
   "source": [
    "\n",
    "py_list = [1,2,3,4]\n",
    "np_array = np.array(py_list)\n",
    "\n",
    "np_array.min() # FIND SMALLEST VALUE DATA IN ARRAY"
   ]
  },
  {
   "cell_type": "code",
   "execution_count": 60,
   "id": "43623171",
   "metadata": {},
   "outputs": [
    {
     "data": {
      "text/plain": [
       "4"
      ]
     },
     "execution_count": 60,
     "metadata": {},
     "output_type": "execute_result"
    }
   ],
   "source": [
    "\n",
    "py_list = [1,2,3,4]\n",
    "np_array = np.array(py_list)\n",
    "\n",
    "np_array.max() # FIND LARGEST VALUE DATA IN ARRAY"
   ]
  },
  {
   "cell_type": "code",
   "execution_count": 15,
   "id": "20453c8a",
   "metadata": {},
   "outputs": [
    {
     "data": {
      "text/plain": [
       "10"
      ]
     },
     "execution_count": 15,
     "metadata": {},
     "output_type": "execute_result"
    }
   ],
   "source": [
    "\n",
    "py_list = [1,2,3,4]\n",
    "np_array = np.array(py_list)\n",
    "\n",
    "np_array.sum() #FIND SUM OF ALL VALUE DATA IN ARRAY"
   ]
  },
  {
   "cell_type": "code",
   "execution_count": 16,
   "id": "51268de3",
   "metadata": {},
   "outputs": [
    {
     "data": {
      "text/plain": [
       "[1, 2, 3, 4]"
      ]
     },
     "execution_count": 16,
     "metadata": {},
     "output_type": "execute_result"
    }
   ],
   "source": [
    "\n",
    "py_list = [1,2,3,4]\n",
    "np_array = np.array(py_list)\n",
    "\n",
    "np_array.sum() #FIND SUM OF ALL VALUE DATA IN ARRAY\n",
    "\n",
    "list(np_array) # convert array back into list"
   ]
  },
  {
   "cell_type": "markdown",
   "id": "67032fa2",
   "metadata": {},
   "source": [
    "## Exercise 1 :  Total recall?"
   ]
  },
  {
   "cell_type": "markdown",
   "id": "1e468846",
   "metadata": {},
   "source": [
    "\n",
    "\n",
    "\n",
    "***2 SIMILARITIES BETWEEN LISTS AND ARRAYS***\n",
    "\n",
    "1. Lists and arrays can be interconverted to one-another - \n",
    "- function to convert list to array -> **new array name** = np.array(**insert list name**)\n",
    "- function to convert array to list -> **new list name** = list(**insert array name**)\n",
    "    \n",
    "1. len function can be used on them to tell how many values are in them. - len(**insert list/array name**). \n",
    "    \n",
    "***2 DIFFERENCES BETWEEN LISTS AND ARRAYS***\n",
    "    \n",
    "1. NumPy Array can only store a single type of data at once - e.g. np_array = [1,'dua',3.0] will all be stored as strings (shown in output). Python lists can store integer, float, string type data.\n",
    "\n",
    "1. shape - a property/attribute *(NOT A FUNCTION)* of NumPy arrays can be used on arrays but not lists - output is as follows, (no. that tells how many data sets there are, no. that tells how many lists are stored in the array) - applicable for when there are $$ \\geq 2 $$ lists stored in that 1 array. *Might be applicable for the array superiority over the dictionary (higher dimensional dictionaries). When the corresponding data of the keys and values of the dictionary are in 2 separate lists.*\n",
    "\n",
    "***MORE DIFFERENCES BETWEEN LISTS AND ARRAYS BY CLEMENT***\n",
    "1. Lists use mpre memory than arrays because each element in a list is an object, while arrrays store elements in a more efficient manner. \n",
    "\n",
    "1. Hence, lists are slower when it comes to numerical computation.\n",
    "\n",
    "1. Lists are native to Python, while arrays are part of the NumPy library.\n",
    "\n",
    "***What is a dictionary***\n",
    "A dictionary is a data storing function *NOT FUNCTION - it is a strategy* that has keys which are tagged to *their associated* values. Looks like *dictionary name* = { '**key**' : '**value**' , '**key**' : '**value**'} - colon : "
   ]
  },
  {
   "cell_type": "markdown",
   "id": "69bf8a67",
   "metadata": {},
   "source": [
    "## Exercise 2 :  Index me"
   ]
  },
  {
   "cell_type": "code",
   "execution_count": 5,
   "id": "6f8c2855",
   "metadata": {},
   "outputs": [
    {
     "name": "stdout",
     "output_type": "stream",
     "text": [
      "a1\n",
      "c3\n",
      "e5\n",
      "g7\n",
      "i9\n"
     ]
    }
   ],
   "source": [
    "py_list = [\"a1\", \"b2\", \"c3\", \"d4\", \"e5\", \"f6\", \"g7\", \"h8\", \"i9\", \"j10\"]\n",
    "\n",
    "# Prints 'a1'\n",
    "print(py_list[0]) \n",
    "\n",
    "# Prints 'c3'\n",
    "print(py_list[2])\n",
    "\n",
    "# Prints 'e5'\n",
    "print(py_list[4]) \n",
    "                   \n",
    "# Prints 'g7'\n",
    "print(py_list[-4])      \n",
    "\n",
    "# Prints 'i9'\n",
    "print(py_list[-2]) "
   ]
  },
  {
   "cell_type": "code",
   "execution_count": 1,
   "id": "de59245f",
   "metadata": {},
   "outputs": [],
   "source": [
    "import numpy as np"
   ]
  },
  {
   "cell_type": "code",
   "execution_count": 11,
   "id": "f93cf595",
   "metadata": {},
   "outputs": [
    {
     "data": {
      "text/plain": [
       "['a1', 'c3', 'e5', 'g7', 'i9']"
      ]
     },
     "execution_count": 11,
     "metadata": {},
     "output_type": "execute_result"
    }
   ],
   "source": [
    "# Code to present all the elements withh an odd number in\n",
    "# a single list\n",
    "\n",
    "py_list = [\"a1\", \"b2\", \"c3\", \"d4\", \"e5\", \"f6\", \"g7\", \"h8\", \"i9\", \"j10\"]\n",
    "\n",
    "py_array = np.array(py_list)\n",
    "\n",
    "list(py_array[0:100:2])"
   ]
  },
  {
   "cell_type": "code",
   "execution_count": 41,
   "id": "0b934cb6",
   "metadata": {},
   "outputs": [
    {
     "data": {
      "text/plain": [
       "['a1', 'c3', 'e5', 'g7', 'i9']"
      ]
     },
     "execution_count": 41,
     "metadata": {},
     "output_type": "execute_result"
    }
   ],
   "source": [
    "# Code to present all the elements withh an odd number in\n",
    "# a single list\n",
    "\n",
    "# Familiarise yourself with what lists and arrays can do!!!!\n",
    "\n",
    "py_list = [\"a1\", \"b2\", \"c3\", \"d4\", \"e5\", \"f6\", \"g7\", \"h8\", \"i9\", \"j10\"]\n",
    "\n",
    "py_list[0:100:2]\n",
    "\n",
    "    # familiarise yourself with what arrays and lists each are \n",
    "    # capable of, so you don't have to keep converting\n",
    "    # from one to another"
   ]
  },
  {
   "cell_type": "markdown",
   "id": "9948fc33",
   "metadata": {},
   "source": [
    "## Exercise 3 :  Capitalise Heros"
   ]
  },
  {
   "cell_type": "code",
   "execution_count": 14,
   "id": "09fb35e4",
   "metadata": {},
   "outputs": [
    {
     "name": "stdout",
     "output_type": "stream",
     "text": [
      "IRON MAN\n"
     ]
    }
   ],
   "source": [
    "superhero_info = {'Natasha Romanoff': 'Black Widow',\n",
    "                  'Tony Stark': 'Iron Man',\n",
    "                  'Stephen Strange': 'Doctor Strange'\n",
    "                  }\n",
    "\n",
    "superhero_info['Tony Stark'] = superhero_info['Tony Stark'].upper()                  \n",
    "print(superhero_info['Tony Stark'])\n"
   ]
  },
  {
   "cell_type": "code",
   "execution_count": 17,
   "id": "c904c582",
   "metadata": {},
   "outputs": [
    {
     "name": "stdout",
     "output_type": "stream",
     "text": [
      "IRON MAN\n",
      "BLACK WIDOW\n",
      "DOCTOR STRANGE\n"
     ]
    }
   ],
   "source": [
    "superhero_info = {'Natasha Romanoff': 'Black Widow',\n",
    "                  'Tony Stark': 'Iron Man',\n",
    "                  'Stephen Strange': 'Doctor Strange'\n",
    "                  }\n",
    "\n",
    "superhero_info['Tony Stark'] = superhero_info['Tony Stark'].upper()                  \n",
    "print(superhero_info['Tony Stark'])\n",
    "\n",
    "superhero_info['Natasha Romanoff'] = superhero_info['Natasha Romanoff'].upper()\n",
    "print(superhero_info['Natasha Romanoff'])\n",
    "\n",
    "superhero_info['Stephen Strange'] = superhero_info['Stephen Strange'].upper()\n",
    "print(superhero_info['Stephen Strange'])\n",
    "\n"
   ]
  },
  {
   "cell_type": "code",
   "execution_count": 40,
   "id": "45da7a76",
   "metadata": {},
   "outputs": [
    {
     "ename": "AttributeError",
     "evalue": "'set' object has no attribute 'upper'",
     "output_type": "error",
     "traceback": [
      "\u001b[1;31m---------------------------------------------------------------------------\u001b[0m",
      "\u001b[1;31mAttributeError\u001b[0m                            Traceback (most recent call last)",
      "Cell \u001b[1;32mIn [40], line 7\u001b[0m\n\u001b[0;32m      1\u001b[0m superhero_info \u001b[38;5;241m=\u001b[39m {\u001b[38;5;124m'\u001b[39m\u001b[38;5;124mNatasha Romanoff\u001b[39m\u001b[38;5;124m'\u001b[39m: \u001b[38;5;124m'\u001b[39m\u001b[38;5;124mBlack Widow\u001b[39m\u001b[38;5;124m'\u001b[39m,\n\u001b[0;32m      2\u001b[0m                   \u001b[38;5;124m'\u001b[39m\u001b[38;5;124mTony Stark\u001b[39m\u001b[38;5;124m'\u001b[39m: \u001b[38;5;124m'\u001b[39m\u001b[38;5;124mIron Man\u001b[39m\u001b[38;5;124m'\u001b[39m,\n\u001b[0;32m      3\u001b[0m                   \u001b[38;5;124m'\u001b[39m\u001b[38;5;124mStephen Strange\u001b[39m\u001b[38;5;124m'\u001b[39m: \u001b[38;5;124m'\u001b[39m\u001b[38;5;124mDoctor Strange\u001b[39m\u001b[38;5;124m'\u001b[39m\n\u001b[0;32m      4\u001b[0m                   }\n\u001b[0;32m      6\u001b[0m \u001b[38;5;28;01mfor\u001b[39;00m key, value \u001b[38;5;129;01min\u001b[39;00m superhero_info\u001b[38;5;241m.\u001b[39mitems():\n\u001b[1;32m----> 7\u001b[0m     \u001b[38;5;28mprint\u001b[39m(\u001b[43m{\u001b[49m\u001b[43mvalue\u001b[49m\u001b[43m}\u001b[49m\u001b[38;5;241;43m.\u001b[39;49m\u001b[43mupper\u001b[49m())\n",
      "\u001b[1;31mAttributeError\u001b[0m: 'set' object has no attribute 'upper'"
     ]
    }
   ],
   "source": [
    "superhero_info = {'Natasha Romanoff': 'Black Widow',\n",
    "                  'Tony Stark': 'Iron Man',\n",
    "                  'Stephen Strange': 'Doctor Strange'\n",
    "                  }\n",
    "\n",
    "for key, value in superhero_info.items():\n",
    "    print({value}.upper())\n",
    "\n"
   ]
  },
  {
   "cell_type": "code",
   "execution_count": 39,
   "id": "851ed868",
   "metadata": {},
   "outputs": [
    {
     "name": "stdout",
     "output_type": "stream",
     "text": [
      "NATASHA ROMANOFF is BLACK WIDOW!\n",
      "TONY STARK is IRON MAN!\n",
      "STEPHEN STRANGE is DOCTOR STRANGE!\n"
     ]
    }
   ],
   "source": [
    "superhero_info = {'Natasha Romanoff': 'Black Widow',\n",
    "                  'Tony Stark': 'Iron Man',\n",
    "                  'Stephen Strange': 'Doctor Strange'\n",
    "                  }\n",
    "\n",
    "for key, value in superhero_info.items():\n",
    "    print(f'{key.upper()} is {value.upper()}!')\n",
    "\n",
    "    # items() will get both key and value \n",
    "    # only need value here"
   ]
  },
  {
   "cell_type": "code",
   "execution_count": 33,
   "id": "4829891e",
   "metadata": {},
   "outputs": [
    {
     "name": "stdout",
     "output_type": "stream",
     "text": [
      "BLACK WIDOW\n",
      "IRON MAN\n",
      "DOCTOR STRANGE\n"
     ]
    }
   ],
   "source": [
    "superhero_info = {'Natasha Romanoff': 'Black Widow',\n",
    "                  'Tony Stark': 'Iron Man',\n",
    "                  'Stephen Strange': 'Doctor Strange'\n",
    "                  }\n",
    "\n",
    "for key in superhero_info.keys():\n",
    "    value = superhero_info[key]\n",
    "    print(value.upper())\n",
    "\n",
    "# only need value here\n",
    "# note to future Aakash from past Aakash: \n",
    "# be familiar with .keys() and .items() for dictionaries \n",
    "# - latter gives both key and value former only gives value\n",
    "\n",
    "when want to use hidden function within an f-string, {<variable name>.upper()}"
   ]
  },
  {
   "cell_type": "code",
   "execution_count": 3,
   "id": "66d4b0b7",
   "metadata": {},
   "outputs": [
    {
     "name": "stdout",
     "output_type": "stream",
     "text": [
      "IRON MAN\n",
      "BLACK WIDOW\n",
      "DOCTOR STRANGE\n"
     ]
    },
    {
     "ename": "AttributeError",
     "evalue": "'dict' object has no attribute 'capitalise'",
     "output_type": "error",
     "traceback": [
      "\u001b[1;31m---------------------------------------------------------------------------\u001b[0m",
      "\u001b[1;31mAttributeError\u001b[0m                            Traceback (most recent call last)",
      "Cell \u001b[1;32mIn [3], line 15\u001b[0m\n\u001b[0;32m     12\u001b[0m superhero_info[\u001b[38;5;124m'\u001b[39m\u001b[38;5;124mStephen Strange\u001b[39m\u001b[38;5;124m'\u001b[39m] \u001b[38;5;241m=\u001b[39m superhero_info[\u001b[38;5;124m'\u001b[39m\u001b[38;5;124mStephen Strange\u001b[39m\u001b[38;5;124m'\u001b[39m]\u001b[38;5;241m.\u001b[39mupper()\n\u001b[0;32m     13\u001b[0m \u001b[38;5;28mprint\u001b[39m(superhero_info[\u001b[38;5;124m'\u001b[39m\u001b[38;5;124mStephen Strange\u001b[39m\u001b[38;5;124m'\u001b[39m])\n\u001b[1;32m---> 15\u001b[0m \u001b[38;5;28mprint\u001b[39m(\u001b[43msuperhero_info\u001b[49m\u001b[38;5;241;43m.\u001b[39;49m\u001b[43mcapitalise\u001b[49m())\n",
      "\u001b[1;31mAttributeError\u001b[0m: 'dict' object has no attribute 'capitalise'"
     ]
    }
   ],
   "source": [
    "superhero_info = {'Natasha Romanoff': 'Black Widow',\n",
    "                  'Tony Stark': 'Iron Man',\n",
    "                  'Stephen Strange': 'Doctor Strange'\n",
    "                  }\n",
    "\n",
    "superhero_info['Tony Stark'] = superhero_info['Tony Stark'].upper()                  \n",
    "print(superhero_info['Tony Stark'])\n",
    "\n",
    "superhero_info['Natasha Romanoff'] = superhero_info['Natasha Romanoff'].upper()\n",
    "print(superhero_info['Natasha Romanoff'])\n",
    "\n",
    "superhero_info['Stephen Strange'] = superhero_info['Stephen Strange'].upper()\n",
    "print(superhero_info['Stephen Strange'])\n",
    "\n",
    "print(superhero_info.capitalise())\n",
    "\n",
    "# uppercase the value by indexing the key, cannot capitalised entire dictionary"
   ]
  },
  {
   "cell_type": "code",
   "execution_count": 42,
   "id": "1d448c28",
   "metadata": {},
   "outputs": [
    {
     "name": "stdout",
     "output_type": "stream",
     "text": [
      "Iron Man\n"
     ]
    },
    {
     "ename": "KeyError",
     "evalue": "0",
     "output_type": "error",
     "traceback": [
      "\u001b[1;31m---------------------------------------------------------------------------\u001b[0m",
      "\u001b[1;31mKeyError\u001b[0m                                  Traceback (most recent call last)",
      "Cell \u001b[1;32mIn [42], line 9\u001b[0m\n\u001b[0;32m      6\u001b[0m superhero_info[\u001b[38;5;124m'\u001b[39m\u001b[38;5;124mNatasha Romanoff\u001b[39m\u001b[38;5;124m'\u001b[39m,\u001b[38;5;124m'\u001b[39m\u001b[38;5;124mTony Stark\u001b[39m\u001b[38;5;124m'\u001b[39m] \u001b[38;5;241m=\u001b[39m superhero_info[\u001b[38;5;124m'\u001b[39m\u001b[38;5;124mTony Stark\u001b[39m\u001b[38;5;124m'\u001b[39m]\u001b[38;5;241m.\u001b[39mupper()                  \n\u001b[0;32m      7\u001b[0m \u001b[38;5;28mprint\u001b[39m(superhero_info[\u001b[38;5;124m'\u001b[39m\u001b[38;5;124mTony Stark\u001b[39m\u001b[38;5;124m'\u001b[39m])\n\u001b[1;32m----> 9\u001b[0m \u001b[38;5;28mprint\u001b[39m(\u001b[43msuperhero_info\u001b[49m\u001b[43m[\u001b[49m\u001b[38;5;241;43m0\u001b[39;49m\u001b[43m]\u001b[49m)\n",
      "\u001b[1;31mKeyError\u001b[0m: 0"
     ]
    }
   ],
   "source": [
    "superhero_info = {'Natasha Romanoff': 'Black Widow',\n",
    "                  'Tony Stark': 'Iron Man',\n",
    "                  'Stephen Strange': 'Doctor Strange'\n",
    "                  }\n",
    "\n",
    "superhero_info['Natasha Romanoff','Tony Stark'] = superhero_info['Tony Stark'].upper()                  \n",
    "print(superhero_info['Tony Stark'])\n",
    "\n",
    "print(superhero_info[0])"
   ]
  },
  {
   "cell_type": "markdown",
   "id": "0033c397",
   "metadata": {},
   "source": [
    "## Exercise 4 :  How many ones"
   ]
  },
  {
   "cell_type": "code",
   "execution_count": 2,
   "id": "a7abd49a",
   "metadata": {},
   "outputs": [],
   "source": [
    "import numpy as np # Can be placed outside "
   ]
  },
  {
   "cell_type": "code",
   "execution_count": 3,
   "id": "a29e100c",
   "metadata": {},
   "outputs": [
    {
     "data": {
      "text/plain": [
       "array([False, False,  True, False, False,  True, False, False, False,\n",
       "        True, False, False, False, False, False, False, False,  True,\n",
       "        True, False, False, False, False, False, False, False, False,\n",
       "       False,  True, False,  True, False, False, False, False, False,\n",
       "        True, False, False, False, False, False, False,  True, False,\n",
       "       False, False, False, False, False])"
      ]
     },
     "execution_count": 3,
     "metadata": {},
     "output_type": "execute_result"
    }
   ],
   "source": [
    "numbers_list = [45, 60, 1, 30, 96, 1, 96, 57, 16, 1,\n",
    "                99, 62, 86, 43, 42, 60, 59, 1, 1, 35,\n",
    "                83, 47, 34, 28, 68, 23, 22, 92, 1, 79,\n",
    "                1, 29, 94, 72, 46, 47, 1, 74, 32, 20,\n",
    "                8, 37, 35, 1, 89, 29, 86, 19, 43, 61]                  \n",
    "\n",
    "\n",
    "new_array = np.array(numbers_list)\n",
    "\n",
    "new_array == 1 # Asking this question gives an array itself as an output"
   ]
  },
  {
   "cell_type": "code",
   "execution_count": 6,
   "id": "05ecc55c",
   "metadata": {},
   "outputs": [
    {
     "data": {
      "text/plain": [
       "9"
      ]
     },
     "execution_count": 6,
     "metadata": {},
     "output_type": "execute_result"
    }
   ],
   "source": [
    "# import numpy as np\n",
    "\n",
    "numbers_list = [45, 60, 1, 30, 96, 1, 96, 57, 16, 1,\n",
    "                99, 62, 86, 43, 42, 60, 59, 1, 1, 35,\n",
    "                83, 47, 34, 28, 68, 23, 22, 92, 1, 79,\n",
    "                1, 29, 94, 72, 46, 47, 1, 74, 32, 20,\n",
    "                8, 37, 35, 1, 89, 29, 86, 19, 43, 61]                  \n",
    "\n",
    "\n",
    "new_array = np.array(numbers_list)\n",
    "\n",
    "newest_array = new_array == 1\n",
    "\n",
    "newest_array.sum() # Newest array summing up all the True values that are 1"
   ]
  },
  {
   "cell_type": "code",
   "execution_count": 7,
   "id": "515f1df1",
   "metadata": {},
   "outputs": [
    {
     "data": {
      "text/plain": [
       "9"
      ]
     },
     "execution_count": 7,
     "metadata": {},
     "output_type": "execute_result"
    }
   ],
   "source": [
    "numbers_list = [45, 60, 1, 30, 96, 1, 96, 57, 16, 1,\n",
    "                99, 62, 86, 43, 42, 60, 59, 1, 1, 35,\n",
    "                83, 47, 34, 28, 68, 23, 22, 92, 1, 79,\n",
    "                1, 29, 94, 72, 46, 47, 1, 74, 32, 20,\n",
    "                8, 37, 35, 1, 89, 29, 86, 19, 43, 61]                  \n",
    "\n",
    "\n",
    "new_array = np.array(numbers_list)\n",
    "(new_array == 1).sum() # faster way to code after asking question, without making an entirely new array"
   ]
  },
  {
   "cell_type": "code",
   "execution_count": null,
   "id": "148145bd",
   "metadata": {},
   "outputs": [],
   "source": []
  }
 ],
 "metadata": {
  "kernelspec": {
   "display_name": "Python 3 (ipykernel)",
   "language": "python",
   "name": "python3"
  },
  "language_info": {
   "codemirror_mode": {
    "name": "ipython",
    "version": 3
   },
   "file_extension": ".py",
   "mimetype": "text/x-python",
   "name": "python",
   "nbconvert_exporter": "python",
   "pygments_lexer": "ipython3",
   "version": "3.9.12"
  },
  "toc": {
   "base_numbering": 1,
   "nav_menu": {},
   "number_sections": true,
   "sideBar": true,
   "skip_h1_title": false,
   "title_cell": "Table of Contents",
   "title_sidebar": "Contents",
   "toc_cell": false,
   "toc_position": {},
   "toc_section_display": true,
   "toc_window_display": false
  },
  "vscode": {
   "interpreter": {
    "hash": "31f2aee4e71d21fbe5cf8b01ff0e069b9275f58929596ceb00d14d90e3e16cd6"
   }
  }
 },
 "nbformat": 4,
 "nbformat_minor": 5
}
