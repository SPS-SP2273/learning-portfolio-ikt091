{
 "cells": [
  {
   "cell_type": "markdown",
   "id": "123456",
   "metadata": {},
   "source": [
    "<div style=\"text-align:left;font-size:2em\"><span style=\"font-weight:bolder;font-size:1.25em\">SP2273 | Learning Portfolio</span><br><br><span style=\"font-weight:bold;color:darkred\">Storing Data (Good)</span></div>"
   ]
  },
  {
   "cell_type": "markdown",
   "id": "0d229670",
   "metadata": {},
   "source": [
    "## 1 Subsetting: Indexing and Slicing"
   ]
  },
  {
   "cell_type": "markdown",
   "id": "12496635",
   "metadata": {},
   "source": [
    "### 1.1 Indexing & Slicing 1D (Lists & Arrays)"
   ]
  },
  {
   "cell_type": "code",
   "execution_count": 1,
   "id": "7b1e5112",
   "metadata": {},
   "outputs": [],
   "source": [
    "import numpy as np"
   ]
  },
  {
   "cell_type": "code",
   "execution_count": 2,
   "id": "66d5f861",
   "metadata": {},
   "outputs": [
    {
     "data": {
      "text/plain": [
       "'a1'"
      ]
     },
     "execution_count": 2,
     "metadata": {},
     "output_type": "execute_result"
    }
   ],
   "source": [
    "py_list=[\"a1\", \"b2\", \"c3\", \"d4\", \"e5\",\n",
    "         \"f6\", \"g7\", \"h8\", \"i9\", \"j10\"]\n",
    "np_array=np.array(py_list)\n",
    "\n",
    "# Pick one\n",
    "\n",
    "x = np_array\n",
    "\n",
    "x[0] # Element with first index (0th place)\n"
   ]
  },
  {
   "cell_type": "code",
   "execution_count": 3,
   "id": "dfcc8101",
   "metadata": {},
   "outputs": [
    {
     "data": {
      "text/plain": [
       "'j10'"
      ]
     },
     "execution_count": 3,
     "metadata": {},
     "output_type": "execute_result"
    }
   ],
   "source": [
    "py_list=[\"a1\", \"b2\", \"c3\", \"d4\", \"e5\",\n",
    "         \"f6\", \"g7\", \"h8\", \"i9\", \"j10\"]\n",
    "np_array=np.array(py_list)\n",
    "\n",
    "# Pick one\n",
    "\n",
    "x = np_array\n",
    "\n",
    "x[-1] # Element with the last index\n"
   ]
  },
  {
   "cell_type": "code",
   "execution_count": 4,
   "id": "e0498c44",
   "metadata": {},
   "outputs": [
    {
     "data": {
      "text/plain": [
       "['a1', 'b2', 'c3', 'd4', 'e5', 'f6', 'g7', 'h8', 'i9']"
      ]
     },
     "execution_count": 4,
     "metadata": {},
     "output_type": "execute_result"
    }
   ],
   "source": [
    "py_list=[\"a1\", \"b2\", \"c3\", \"d4\", \"e5\",\n",
    "         \"f6\", \"g7\", \"h8\", \"i9\", \"j10\"]\n",
    "np_array=np.array(py_list)\n",
    "\n",
    "# Pick one\n",
    "x = py_list  # OR\n",
    "\n",
    "\n",
    "x[0:-1] # element with first index to element with last index\n"
   ]
  },
  {
   "cell_type": "code",
   "execution_count": 5,
   "id": "0055301b",
   "metadata": {},
   "outputs": [
    {
     "data": {
      "text/plain": [
       "array(['a1', 'b2'], dtype='<U3')"
      ]
     },
     "execution_count": 5,
     "metadata": {},
     "output_type": "execute_result"
    }
   ],
   "source": [
    "py_list=[\"a1\", \"b2\", \"c3\", \"d4\", \"e5\",\n",
    "         \"f6\", \"g7\", \"h8\", \"i9\", \"j10\"]\n",
    "np_array=np.array(py_list)\n",
    "\n",
    "# Pick one\n",
    "\n",
    "x = np_array\n",
    "\n",
    "x[0:2] # Element with first index to element with second index only!\n",
    "# Element with third index (at second place) is not given as output\n"
   ]
  },
  {
   "cell_type": "code",
   "execution_count": 6,
   "id": "55c6863c",
   "metadata": {},
   "outputs": [
    {
     "data": {
      "text/plain": [
       "['a1', 'd4', 'g7']"
      ]
     },
     "execution_count": 6,
     "metadata": {},
     "output_type": "execute_result"
    }
   ],
   "source": [
    "py_list=[\"a1\", \"b2\", \"c3\", \"d4\", \"e5\",\n",
    "         \"f6\", \"g7\", \"h8\", \"i9\", \"j10\"]\n",
    "np_array=np.array(py_list)\n",
    "\n",
    "# Pick one\n",
    "x = py_list  # OR\n",
    "\n",
    "\n",
    "x[0:-1:3] # First element to second element only!\n",
    "# Third element at place 2 is not given as output\n"
   ]
  },
  {
   "cell_type": "code",
   "execution_count": 7,
   "id": "fbd124b5",
   "metadata": {},
   "outputs": [
    {
     "data": {
      "text/plain": [
       "array([], dtype='<U3')"
      ]
     },
     "execution_count": 7,
     "metadata": {},
     "output_type": "execute_result"
    }
   ],
   "source": [
    "py_list=[\"a1\", \"b2\", \"c3\", \"d4\", \"e5\",\n",
    "         \"f6\", \"g7\", \"h8\", \"i9\", \"j10\"]\n",
    "np_array=np.array(py_list)\n",
    "\n",
    "# Pick one\n",
    "\n",
    "x = np_array\n",
    "\n",
    "x[0:0:3] # First element to first element \n"
   ]
  },
  {
   "cell_type": "code",
   "execution_count": 8,
   "id": "cd4ca5db",
   "metadata": {},
   "outputs": [
    {
     "data": {
      "text/plain": [
       "['b2', 'd4', 'f6', 'h8', 'j10']"
      ]
     },
     "execution_count": 8,
     "metadata": {},
     "output_type": "execute_result"
    }
   ],
   "source": [
    "py_list=[\"a1\", \"b2\", \"c3\", \"d4\", \"e5\",\n",
    "         \"f6\", \"g7\", \"h8\", \"i9\", \"j10\"]\n",
    "np_array=np.array(py_list)\n",
    "\n",
    "# Pick one\n",
    "x = py_list  # OR\n",
    "\n",
    "\n",
    "x[1:10:2] # First element to last in steps of 2\n",
    "# Elements with even number indexes show up\n"
   ]
  },
  {
   "cell_type": "code",
   "execution_count": 9,
   "id": "2393308c",
   "metadata": {},
   "outputs": [
    {
     "data": {
      "text/plain": [
       "array(['a1', 'c3', 'e5', 'g7', 'i9'], dtype='<U3')"
      ]
     },
     "execution_count": 9,
     "metadata": {},
     "output_type": "execute_result"
    }
   ],
   "source": [
    "py_list=[\"a1\", \"b2\", \"c3\", \"d4\", \"e5\",\n",
    "         \"f6\", \"g7\", \"h8\", \"i9\", \"j10\"]\n",
    "np_array=np.array(py_list)\n",
    "\n",
    "# Pick one\n",
    "\n",
    "x = np_array\n",
    "\n",
    "x[0:10:2] # First element to last in steps of 2,\n",
    "# Elements with odd number indexes show up\n"
   ]
  },
  {
   "cell_type": "code",
   "execution_count": 10,
   "id": "fae7a8bc",
   "metadata": {},
   "outputs": [
    {
     "data": {
      "text/plain": [
       "['f6', 'e5', 'd4']"
      ]
     },
     "execution_count": 10,
     "metadata": {},
     "output_type": "execute_result"
    }
   ],
   "source": [
    "py_list=[\"a1\", \"b2\", \"c3\", \"d4\", \"e5\",\n",
    "         \"f6\", \"g7\", \"h8\", \"i9\", \"j10\"]\n",
    "np_array=np.array(py_list)\n",
    "\n",
    "# Pick one\n",
    "x = py_list  \n",
    "\n",
    "x[5:2:-1] # Element with 5th index to element to element with \n",
    "# 2nd index (in reverse - as stated by the -1)  \n"
   ]
  },
  {
   "cell_type": "code",
   "execution_count": 11,
   "id": "29acf621",
   "metadata": {},
   "outputs": [
    {
     "data": {
      "text/plain": [
       "array([], dtype='<U3')"
      ]
     },
     "execution_count": 11,
     "metadata": {},
     "output_type": "execute_result"
    }
   ],
   "source": [
    "py_list=[\"a1\", \"b2\", \"c3\", \"d4\", \"e5\",\n",
    "         \"f6\", \"g7\", \"h8\", \"i9\", \"j10\"]\n",
    "np_array=np.array(py_list)\n",
    "\n",
    "# Pick one\n",
    "\n",
    "x = np_array\n",
    "\n",
    "x[5:2:1] # Element with 5th index to element to element with \n",
    "# 2nd index (CANNOT GO FORWARED WHEN IT IS IN PLACES OF 1)  \n"
   ]
  },
  {
   "cell_type": "code",
   "execution_count": 12,
   "id": "dfb8e0f9",
   "metadata": {},
   "outputs": [
    {
     "data": {
      "text/plain": [
       "['a1', 'b2', 'c3', 'd4', 'e5', 'f6', 'g7', 'h8', 'i9', 'j10']"
      ]
     },
     "execution_count": 12,
     "metadata": {},
     "output_type": "execute_result"
    }
   ],
   "source": [
    "py_list=[\"a1\", \"b2\", \"c3\", \"d4\", \"e5\",\n",
    "         \"f6\", \"g7\", \"h8\", \"i9\", \"j10\"]\n",
    "np_array=np.array(py_list)\n",
    "\n",
    "# Pick one\n",
    "x = py_list  # OR\n",
    "\n",
    "\n",
    "x[::1] # Element with first index to element with last index \n",
    "# in steps of 1\n"
   ]
  },
  {
   "cell_type": "code",
   "execution_count": 13,
   "id": "af16ddfc",
   "metadata": {},
   "outputs": [
    {
     "data": {
      "text/plain": [
       "array(['a1', 'd4', 'g7', 'j10'], dtype='<U3')"
      ]
     },
     "execution_count": 13,
     "metadata": {},
     "output_type": "execute_result"
    }
   ],
   "source": [
    "py_list=[\"a1\", \"b2\", \"c3\", \"d4\", \"e5\",\n",
    "         \"f6\", \"g7\", \"h8\", \"i9\", \"j10\"]\n",
    "np_array=np.array(py_list)\n",
    "\n",
    "# Pick one\n",
    "\n",
    "x = np_array\n",
    "\n",
    "x[::3] # Element with first index to element with last index \n",
    "# in steps of 3\n",
    "# , means within the list that is an element of the major list\n",
    "# value that follows is the index of the list within\n"
   ]
  },
  {
   "cell_type": "markdown",
   "id": "e59ad978",
   "metadata": {},
   "source": [
    "### 1.2 Subsetting by masking (Arrays only)"
   ]
  },
  {
   "cell_type": "code",
   "execution_count": 14,
   "id": "371a6f5b",
   "metadata": {},
   "outputs": [
    {
     "name": "stdout",
     "output_type": "stream",
     "text": [
      "[False False False  True  True  True  True  True  True  True]\n"
     ]
    }
   ],
   "source": [
    "np_array = np.array([1, 2, 3, 4, 5, 6, 7, 8, 9, 10])\n",
    "my_mask = np_array > 3\n",
    "print(my_mask) \n",
    "# CAN ONLY BE DONE WITH NumPy arrays!!"
   ]
  },
  {
   "cell_type": "code",
   "execution_count": 15,
   "id": "c51b00fd",
   "metadata": {},
   "outputs": [
    {
     "name": "stdout",
     "output_type": "stream",
     "text": [
      "[False False False False False False False False False  True]\n"
     ]
    }
   ],
   "source": [
    "np_array = np.array([1, 2, 3, 4, 5, 6, 7, 8, 9, 10])\n",
    "my_mask = np_array > 9\n",
    "print(my_mask)\n",
    "# Only last element has value more than 9"
   ]
  },
  {
   "cell_type": "code",
   "execution_count": 16,
   "id": "fbbb6c49",
   "metadata": {},
   "outputs": [
    {
     "data": {
      "text/plain": [
       "array([10])"
      ]
     },
     "execution_count": 16,
     "metadata": {},
     "output_type": "execute_result"
    }
   ],
   "source": [
    "np_array = np.array([1, 2, 3, 4, 5, 6, 7, 8, 9, 10])\n",
    "my_mask = np_array > 9\n",
    "np_array[my_mask]\n",
    "# show me only the elements that are True (fulfilling the mask) "
   ]
  },
  {
   "cell_type": "code",
   "execution_count": 17,
   "id": "523053cc",
   "metadata": {},
   "outputs": [
    {
     "data": {
      "text/plain": [
       "array([ 9, 10])"
      ]
     },
     "execution_count": 17,
     "metadata": {},
     "output_type": "execute_result"
    }
   ],
   "source": [
    "np_array = np.array([1, 2, 3, 4, 5, 6, 7, 8, 9, 10])\n",
    "my_mask = np_array >= 9\n",
    "np_array[my_mask]\n",
    "# show me only the elements that are True (fulfilling the mask)\n",
    "\n",
    "# only True subset can be seen (the fulfilling and worthy)"
   ]
  },
  {
   "cell_type": "code",
   "execution_count": 55,
   "id": "f88bf0dc",
   "metadata": {},
   "outputs": [
    {
     "data": {
      "text/plain": [
       "array([9])"
      ]
     },
     "execution_count": 55,
     "metadata": {},
     "output_type": "execute_result"
    }
   ],
   "source": [
    "np_array = np.array([1, 2, 3, 4, 5, 6, 7, 8, 9, 10])\n",
    "my_mask = np_array == 9\n",
    "np_array[my_mask]\n",
    "# show me only the elements that are True (fulfilling the mask)\n",
    "\n",
    "# only True subset can be seen (the fulfilling and worthy)"
   ]
  },
  {
   "cell_type": "code",
   "execution_count": 56,
   "id": "183eb439",
   "metadata": {},
   "outputs": [
    {
     "ename": "TypeError",
     "evalue": "'int' object is not subscriptable",
     "output_type": "error",
     "traceback": [
      "\u001b[1;31m---------------------------------------------------------------------------\u001b[0m",
      "\u001b[1;31mTypeError\u001b[0m                                 Traceback (most recent call last)",
      "Cell \u001b[1;32mIn [56], line 3\u001b[0m\n\u001b[0;32m      1\u001b[0m np_array \u001b[38;5;241m=\u001b[39m np\u001b[38;5;241m.\u001b[39marray([\u001b[38;5;241m1\u001b[39m, \u001b[38;5;241m2\u001b[39m, \u001b[38;5;241m3\u001b[39m, \u001b[38;5;241m4\u001b[39m, \u001b[38;5;241m5\u001b[39m, \u001b[38;5;241m6\u001b[39m, \u001b[38;5;241m7\u001b[39m, \u001b[38;5;241m8\u001b[39m, \u001b[38;5;241m9\u001b[39m, \u001b[38;5;241m10\u001b[39m])\n\u001b[0;32m      2\u001b[0m my_mask \u001b[38;5;241m=\u001b[39m np_array \u001b[38;5;241m=\u001b[39m \u001b[38;5;241m9\u001b[39m\n\u001b[1;32m----> 3\u001b[0m \u001b[43mnp_array\u001b[49m\u001b[43m[\u001b[49m\u001b[43mmy_mask\u001b[49m\u001b[43m]\u001b[49m\n",
      "\u001b[1;31mTypeError\u001b[0m: 'int' object is not subscriptable"
     ]
    }
   ],
   "source": [
    "np_array = np.array([1, 2, 3, 4, 5, 6, 7, 8, 9, 10])\n",
    "my_mask = np_array = 9\n",
    "np_array[my_mask]\n",
    "# show me only the elements that are True (fulfilling the mask)\n",
    "\n",
    "# only True subset can be seen (the fulfilling and worthy)\n",
    "\n",
    "# Fulfilling the requirement of the mask involves a question\n",
    "# being asked - e.g. == and not ="
   ]
  },
  {
   "cell_type": "code",
   "execution_count": 18,
   "id": "c2572232",
   "metadata": {},
   "outputs": [
    {
     "data": {
      "text/plain": [
       "array([1, 2, 3])"
      ]
     },
     "execution_count": 18,
     "metadata": {},
     "output_type": "execute_result"
    }
   ],
   "source": [
    "np_array = np.array([1, 2, 3, 4, 5, 6, 7, 8, 9, 10])\n",
    "\n",
    "np_array[~(np_array > 3)] # means NOT more than 3!\n"
   ]
  },
  {
   "cell_type": "code",
   "execution_count": 19,
   "id": "660a99f0",
   "metadata": {},
   "outputs": [
    {
     "data": {
      "text/plain": [
       "array([4, 5, 6, 7])"
      ]
     },
     "execution_count": 19,
     "metadata": {},
     "output_type": "execute_result"
    }
   ],
   "source": [
    "np_array = np.array([1, 2, 3, 4, 5, 6, 7, 8, 9, 10])\n",
    "np_array[(np_array > 3) & (np_array < 8)] # interval!\n",
    "# more than 3 and less than 8\n"
   ]
  },
  {
   "cell_type": "code",
   "execution_count": 20,
   "id": "96a44cfa",
   "metadata": {},
   "outputs": [
    {
     "data": {
      "text/plain": [
       "array([ 1,  2,  9, 10])"
      ]
     },
     "execution_count": 20,
     "metadata": {},
     "output_type": "execute_result"
    }
   ],
   "source": [
    "np_array = np.array([1, 2, 3, 4, 5, 6, 7, 8, 9, 10])\n",
    "np_array[(np_array < 3) | (np_array > 8)] # the vertical line means\n",
    "# OR\n"
   ]
  },
  {
   "cell_type": "markdown",
   "id": "3baaf6ed",
   "metadata": {},
   "source": [
    "### 1.3 Indexing & Slicing 2D Lists"
   ]
  },
  {
   "cell_type": "code",
   "execution_count": 21,
   "id": "193f92db",
   "metadata": {},
   "outputs": [
    {
     "data": {
      "text/plain": [
       "[4, 'D']"
      ]
     },
     "execution_count": 21,
     "metadata": {},
     "output_type": "execute_result"
    }
   ],
   "source": [
    "py_list_2d = [[1, \"A\"], [2, \"B\"], [3, \"C\"], [4, \"D\"],\n",
    "              [5, \"E\"], [6, \"F\"], [7, \"G\"], [8, \"H\"],\n",
    "              [9, \"I\"], [10, \"J\"]]\n",
    "\n",
    "py_list_2d[3] # What are the elements with the third index\n",
    " # 4th place"
   ]
  },
  {
   "cell_type": "code",
   "execution_count": 22,
   "id": "d3517223",
   "metadata": {},
   "outputs": [
    {
     "data": {
      "text/plain": [
       "4"
      ]
     },
     "execution_count": 22,
     "metadata": {},
     "output_type": "execute_result"
    }
   ],
   "source": [
    "py_list_2d = [[1, \"A\"], [2, \"B\"], [3, \"C\"], [4, \"D\"],\n",
    "              [5, \"E\"], [6, \"F\"], [7, \"G\"], [8, \"H\"],\n",
    "              [9, \"I\"], [10, \"J\"]]\n",
    "\n",
    "py_list_2d[3][0] # What are the elements with the third index\n",
    " # 4th place"
   ]
  },
  {
   "cell_type": "code",
   "execution_count": 23,
   "id": "c16d0b73",
   "metadata": {},
   "outputs": [
    {
     "data": {
      "text/plain": [
       "'D'"
      ]
     },
     "execution_count": 23,
     "metadata": {},
     "output_type": "execute_result"
    }
   ],
   "source": [
    "py_list_2d = [[1, \"A\"], [2, \"B\"], [3, \"C\"], [4, \"D\"],\n",
    "              [5, \"E\"], [6, \"F\"], [7, \"G\"], [8, \"H\"],\n",
    "              [9, \"I\"], [10, \"J\"]]\n",
    "\n",
    "py_list_2d[3][1] # What are the elements with the third index\n",
    " # 4th place only the SECOND one within the list"
   ]
  },
  {
   "cell_type": "code",
   "execution_count": 24,
   "id": "ba6cbc41",
   "metadata": {},
   "outputs": [
    {
     "data": {
      "text/plain": [
       "1"
      ]
     },
     "execution_count": 24,
     "metadata": {},
     "output_type": "execute_result"
    }
   ],
   "source": [
    "py_list_2d = [[1, \"A\"], [2, \"B\"], [3, \"C\"], [4, \"D\"],\n",
    "              [5, \"E\"], [6, \"F\"], [7, \"G\"], [8, \"H\"],\n",
    "              [9, \"I\"], [10, \"J\"]]\n",
    "\n",
    "py_list_2d[0][0] # What are the elements with the first index\n",
    " # 1st place only the FIRST one within the list"
   ]
  },
  {
   "cell_type": "code",
   "execution_count": 25,
   "id": "7645bef4",
   "metadata": {},
   "outputs": [
    {
     "data": {
      "text/plain": [
       "'A'"
      ]
     },
     "execution_count": 25,
     "metadata": {},
     "output_type": "execute_result"
    }
   ],
   "source": [
    "py_list_2d = [[1, \"A\"], [2, \"B\"], [3, \"C\"], [4, \"D\"],\n",
    "              [5, \"E\"], [6, \"F\"], [7, \"G\"], [8, \"H\"],\n",
    "              [9, \"I\"], [10, \"J\"]]\n",
    "\n",
    "py_list_2d[0][1] # What are the elements with the first index\n",
    " # 1st place-  only the SECOND one within that list"
   ]
  },
  {
   "cell_type": "code",
   "execution_count": 26,
   "id": "967cac71",
   "metadata": {},
   "outputs": [
    {
     "data": {
      "text/plain": [
       "[[1, 'A'], [2, 'B'], [3, 'C']]"
      ]
     },
     "execution_count": 26,
     "metadata": {},
     "output_type": "execute_result"
    }
   ],
   "source": [
    "py_list_2d = [[1, \"A\"], [2, \"B\"], [3, \"C\"], [4, \"D\"],\n",
    "              [5, \"E\"], [6, \"F\"], [7, \"G\"], [8, \"H\"],\n",
    "              [9, \"I\"], [10, \"J\"]]\n",
    "\n",
    "py_list_2d[:3] # What are the elements with the first index \n",
    "# (0th place) to the elements with the second index \n",
    "# (2nd place)"
   ]
  },
  {
   "cell_type": "code",
   "execution_count": 27,
   "id": "bc657101",
   "metadata": {},
   "outputs": [
    {
     "data": {
      "text/plain": [
       "[2, 'B']"
      ]
     },
     "execution_count": 27,
     "metadata": {},
     "output_type": "execute_result"
    }
   ],
   "source": [
    "py_list_2d = [[1, \"A\"], [2, \"B\"], [3, \"C\"], [4, \"D\"],\n",
    "              [5, \"E\"], [6, \"F\"], [7, \"G\"], [8, \"H\"],\n",
    "              [9, \"I\"], [10, \"J\"]]\n",
    "\n",
    "py_list_2d[1:4][0] # What is the first element within the range\n",
    "# of the elements from the second index\n",
    "# to the third index \n",
    "\n",
    "# Array happens to do better than this"
   ]
  },
  {
   "cell_type": "code",
   "execution_count": 28,
   "id": "c2380e8e",
   "metadata": {},
   "outputs": [
    {
     "data": {
      "text/plain": [
       "[3, 'C']"
      ]
     },
     "execution_count": 28,
     "metadata": {},
     "output_type": "execute_result"
    }
   ],
   "source": [
    "py_list_2d = [[1, \"A\"], [2, \"B\"], [3, \"C\"], [4, \"D\"],\n",
    "              [5, \"E\"], [6, \"F\"], [7, \"G\"], [8, \"H\"],\n",
    "              [9, \"I\"], [10, \"J\"]]\n",
    "\n",
    "py_list_2d[1:4][1] # What is the second element within the range\n",
    "# of the elements from the second index\n",
    "# to the third index \n",
    "\n",
    "# Array happens to do better than this"
   ]
  },
  {
   "cell_type": "code",
   "execution_count": 29,
   "id": "47d53dfb",
   "metadata": {},
   "outputs": [
    {
     "data": {
      "text/plain": [
       "[4, 'D']"
      ]
     },
     "execution_count": 29,
     "metadata": {},
     "output_type": "execute_result"
    }
   ],
   "source": [
    "py_list_2d = [[1, \"A\"], [2, \"B\"], [3, \"C\"], [4, \"D\"],\n",
    "              [5, \"E\"], [6, \"F\"], [7, \"G\"], [8, \"H\"],\n",
    "              [9, \"I\"], [10, \"J\"]]\n",
    "\n",
    "py_list_2d[1:4][2] # What is the third element within the range\n",
    "# of the elements from the second index\n",
    "# to the third index \n",
    "\n",
    "# 1:4 means 1 -> 3 so only indexes 0, 1 and 2 can be applied"
   ]
  },
  {
   "cell_type": "markdown",
   "id": "fb03670a",
   "metadata": {},
   "source": [
    "### 1.4 Indexing & Slicing 2D Arrays"
   ]
  },
  {
   "cell_type": "code",
   "execution_count": 30,
   "id": "591e8f9f",
   "metadata": {},
   "outputs": [
    {
     "data": {
      "text/plain": [
       "array(['4', 'D'], dtype='<U11')"
      ]
     },
     "execution_count": 30,
     "metadata": {},
     "output_type": "execute_result"
    }
   ],
   "source": [
    "py_list_2d = [[1, \"A\"], [2, \"B\"], [3, \"C\"], [4, \"D\"],\n",
    "              [5, \"E\"], [6, \"F\"], [7, \"G\"], [8, \"H\"],\n",
    "              [9, \"I\"], [10, \"J\"]]\n",
    "\n",
    "np_array_2d = np.array(py_list_2d)\n",
    "\n",
    "np_array_2d[3] # What is the 4th element (third index)\n"
   ]
  },
  {
   "cell_type": "code",
   "execution_count": 31,
   "id": "ded32dbd",
   "metadata": {},
   "outputs": [
    {
     "data": {
      "text/plain": [
       "'4'"
      ]
     },
     "execution_count": 31,
     "metadata": {},
     "output_type": "execute_result"
    }
   ],
   "source": [
    "py_list_2d = [[1, \"A\"], [2, \"B\"], [3, \"C\"], [4, \"D\"],\n",
    "              [5, \"E\"], [6, \"F\"], [7, \"G\"], [8, \"H\"],\n",
    "              [9, \"I\"], [10, \"J\"]]\n",
    "\n",
    "np_array_2d = np.array(py_list_2d)\n",
    "\n",
    "np_array_2d[3, 0] # What is the first element (at 0th place) \n",
    "# within the 4th element (third index)\n"
   ]
  },
  {
   "cell_type": "code",
   "execution_count": 32,
   "id": "be0b519a",
   "metadata": {},
   "outputs": [
    {
     "data": {
      "text/plain": [
       "array([['1', 'A'],\n",
       "       ['2', 'B'],\n",
       "       ['3', 'C'],\n",
       "       ['4', 'D']], dtype='<U11')"
      ]
     },
     "execution_count": 32,
     "metadata": {},
     "output_type": "execute_result"
    }
   ],
   "source": [
    "py_list_2d = [[1, \"A\"], [2, \"B\"], [3, \"C\"], [4, \"D\"],\n",
    "              [5, \"E\"], [6, \"F\"], [7, \"G\"], [8, \"H\"],\n",
    "              [9, \"I\"], [10, \"J\"]]\n",
    "\n",
    "np_array_2d = np.array(py_list_2d)\n",
    "\n",
    "np_array_2d[:4] # indexes 0, 1 , 2  and 3 shown\n"
   ]
  },
  {
   "cell_type": "code",
   "execution_count": 33,
   "id": "b192bdc3",
   "metadata": {},
   "outputs": [
    {
     "data": {
      "text/plain": [
       "array(['Z', 'X', 'Y', 'W', 'V'], dtype='<U11')"
      ]
     },
     "execution_count": 33,
     "metadata": {},
     "output_type": "execute_result"
    }
   ],
   "source": [
    "py_list_2d = [[1, \"A\", 'Z'], [2, \"B\", 'X'], [3, \"C\", 'Y'], \n",
    "              [4, \"D\", 'W'], [5, \"E\", 'V'], [6, \"F\", 'U'], \n",
    "              [7, \"G\", 'T'], [8, \"H\", 'S'],\n",
    "              [9, \"I\", 'R'], [10, \"J\", 'Q']]\n",
    "\n",
    "np_array_2d = np.array(py_list_2d)\n",
    "\n",
    "np_array_2d[:5, 2] # indexes 0, 1 , 2, 3 and 4 of the major list\n",
    "# shown index number 2 shown as output\n",
    "# a list with a list is still a 2D list\n"
   ]
  },
  {
   "cell_type": "code",
   "execution_count": 34,
   "id": "0f31d53d",
   "metadata": {},
   "outputs": [
    {
     "data": {
      "text/plain": [
       "array(['W', 'V', 'U'], dtype='<U11')"
      ]
     },
     "execution_count": 34,
     "metadata": {},
     "output_type": "execute_result"
    }
   ],
   "source": [
    "py_list_2d = [[1, \"A\", 'Z'], [2, \"B\", 'X'], [3, \"C\", 'Y'], \n",
    "              [4, \"D\", 'W'], [5, \"E\", 'V'], [6, \"F\", 'U'], \n",
    "              [7, \"G\", 'T'], [8, \"H\", 'S'],\n",
    "              [9, \"I\", 'R'], [10, \"J\", 'Q']]\n",
    "\n",
    "np_array_2d = np.array(py_list_2d)\n",
    "\n",
    "np_array_2d[3:6, 2] # indexes 3, 4 and 5 of the major list\n",
    "# shown index number 2 shown as output\n",
    "# a list with a list is still a 2D list\n"
   ]
  },
  {
   "cell_type": "code",
   "execution_count": 35,
   "id": "33a6f226",
   "metadata": {},
   "outputs": [
    {
     "data": {
      "text/plain": [
       "array(['1', '2', '3', '4', '5', '6', '7', '8', '9', '10'], dtype='<U11')"
      ]
     },
     "execution_count": 35,
     "metadata": {},
     "output_type": "execute_result"
    }
   ],
   "source": [
    "py_list_2d = [[1, \"A\", 'Z'], [2, \"B\", 'X'], [3, \"C\", 'Y'], \n",
    "              [4, \"D\", 'W'], [5, \"E\", 'V'], [6, \"F\", 'U'], \n",
    "              [7, \"G\", 'T'], [8, \"H\", 'S'],\n",
    "              [9, \"I\", 'R'], [10, \"J\", 'Q']]\n",
    "\n",
    "np_array_2d = np.array(py_list_2d)\n",
    "\n",
    "np_array_2d[:, 0] # indexes 3, 4 and 5 of the major list\n",
    "# shown index number 2 shown as output\n",
    "# a list with a list is still a 2D list\n"
   ]
  },
  {
   "cell_type": "markdown",
   "id": "6c08dc94",
   "metadata": {},
   "source": [
    "### 1.5 Growing lists"
   ]
  },
  {
   "cell_type": "code",
   "execution_count": 36,
   "id": "9ceb815a",
   "metadata": {},
   "outputs": [
    {
     "data": {
      "text/plain": [
       "[1, 1, 1, 1, 1, 1, 1, 1, 1, 1]"
      ]
     },
     "execution_count": 36,
     "metadata": {},
     "output_type": "execute_result"
    }
   ],
   "source": [
    "x = [1]*10\n",
    "x # print() function no need to be typed here\n"
   ]
  },
  {
   "cell_type": "code",
   "execution_count": 37,
   "id": "d548cc62",
   "metadata": {},
   "outputs": [
    {
     "data": {
      "text/plain": [
       "[1, 'za', 'za']"
      ]
     },
     "execution_count": 37,
     "metadata": {},
     "output_type": "execute_result"
    }
   ],
   "source": [
    "#Appending one element at a time\n",
    "\n",
    "x = [1]\n",
    "x += ['za']\n",
    "x += ['za']\n",
    "x"
   ]
  },
  {
   "cell_type": "code",
   "execution_count": 38,
   "id": "907d29a3",
   "metadata": {},
   "outputs": [
    {
     "data": {
      "text/plain": [
       "[1, 'za', 'za']"
      ]
     },
     "execution_count": 38,
     "metadata": {},
     "output_type": "execute_result"
    }
   ],
   "source": [
    "#Appending new elements at one-go \n",
    "\n",
    "x = [1]\n",
    "x += ['za', 'za']\n",
    "x"
   ]
  },
  {
   "cell_type": "code",
   "execution_count": 39,
   "id": "05f499c0",
   "metadata": {},
   "outputs": [
    {
     "data": {
      "text/plain": [
       "[1, [2, 3, 4]]"
      ]
     },
     "execution_count": 39,
     "metadata": {},
     "output_type": "execute_result"
    }
   ],
   "source": [
    "# append() function allows appending a list within a list\n",
    "\n",
    "x = [1]\n",
    "x.append([2,3,4])\n",
    "x "
   ]
  },
  {
   "cell_type": "code",
   "execution_count": 40,
   "id": "995e7019",
   "metadata": {},
   "outputs": [
    {
     "data": {
      "text/plain": [
       "[1, 2]"
      ]
     },
     "execution_count": 40,
     "metadata": {},
     "output_type": "execute_result"
    }
   ],
   "source": [
    "# append() function only allows appending elements only one\n",
    "# at a time\n",
    "\n",
    "x = [1]\n",
    "x.append(2)\n",
    "x "
   ]
  },
  {
   "cell_type": "code",
   "execution_count": 41,
   "id": "d86f4a8e",
   "metadata": {},
   "outputs": [
    {
     "ename": "TypeError",
     "evalue": "list.append() takes exactly one argument (3 given)",
     "output_type": "error",
     "traceback": [
      "\u001b[1;31m---------------------------------------------------------------------------\u001b[0m",
      "\u001b[1;31mTypeError\u001b[0m                                 Traceback (most recent call last)",
      "Cell \u001b[1;32mIn [41], line 5\u001b[0m\n\u001b[0;32m      1\u001b[0m \u001b[38;5;66;03m# append() function only allows appending elements only one\u001b[39;00m\n\u001b[0;32m      2\u001b[0m \u001b[38;5;66;03m# at a time\u001b[39;00m\n\u001b[0;32m      4\u001b[0m x \u001b[38;5;241m=\u001b[39m [\u001b[38;5;241m1\u001b[39m]\n\u001b[1;32m----> 5\u001b[0m \u001b[43mx\u001b[49m\u001b[38;5;241;43m.\u001b[39;49m\u001b[43mappend\u001b[49m\u001b[43m(\u001b[49m\u001b[38;5;241;43m2\u001b[39;49m\u001b[43m,\u001b[49m\u001b[43m \u001b[49m\u001b[38;5;241;43m3\u001b[39;49m\u001b[43m,\u001b[49m\u001b[43m \u001b[49m\u001b[38;5;241;43m4\u001b[39;49m\u001b[43m)\u001b[49m\n\u001b[0;32m      6\u001b[0m x\n",
      "\u001b[1;31mTypeError\u001b[0m: list.append() takes exactly one argument (3 given)"
     ]
    }
   ],
   "source": [
    "# append() function only allows appending elements only one\n",
    "# at a time\n",
    "\n",
    "x = [1]\n",
    "x.append(2, 3, 4)\n",
    "x "
   ]
  },
  {
   "cell_type": "markdown",
   "id": "0fe7d0e4",
   "metadata": {},
   "source": [
    "## 2 Some loose ends"
   ]
  },
  {
   "cell_type": "markdown",
   "id": "45b267a3",
   "metadata": {},
   "source": [
    "### 2.1 Tuples"
   ]
  },
  {
   "cell_type": "code",
   "execution_count": null,
   "id": "f2a32002",
   "metadata": {},
   "outputs": [],
   "source": [
    "a = (1, 2, 3) # define tuple!!\n",
    "\n",
    "print(a[0]) # first element within the tuple (index = 0)\n",
    "\n",
    "a[1] # second element within the tuple (index = 1)"
   ]
  },
  {
   "cell_type": "code",
   "execution_count": null,
   "id": "eaa104be",
   "metadata": {},
   "outputs": [],
   "source": [
    "a = (1, 2, 3) # define tuple!!\n",
    "\n",
    "print(a[0]) # first element within the tuple (index = 0)\n",
    "\n",
    "a[1] += 10 # cannot add 10 to the second element of the tuple"
   ]
  },
  {
   "cell_type": "code",
   "execution_count": null,
   "id": "24b27fe6",
   "metadata": {},
   "outputs": [],
   "source": [
    "a = (1, 2, 3) # define tuple!!\n",
    "\n",
    "print(a[0]) # first element within the tuple (index = 0)\n",
    "\n",
    "a[1] = 10 # cannot change the second element of the tuple\n",
    "# to a new data\n",
    "# can only happen in list!!!"
   ]
  },
  {
   "cell_type": "code",
   "execution_count": null,
   "id": "913bd960",
   "metadata": {},
   "outputs": [],
   "source": [
    "a = [1, 2, 3] # define tuple!!\n",
    "\n",
    "print(a[0]) # first element within the tuple (index = 0)\n",
    "\n",
    "a[1] = 10 # can change the second element of the list\n",
    "# to a new data\n"
   ]
  },
  {
   "cell_type": "markdown",
   "id": "95a04d8c",
   "metadata": {},
   "source": [
    "### 2.2 Be VERY careful when copying"
   ]
  },
  {
   "cell_type": "markdown",
   "id": "f02ddbe6",
   "metadata": {},
   "source": [
    "copying lists \n",
    "__new list name__ = __old list name__.copy()\n",
    "\n",
    "***DO NOT*** just use '=' to equate one list to the next list name"
   ]
  },
  {
   "cell_type": "markdown",
   "id": "e50dfcc0",
   "metadata": {},
   "source": [
    "## Exercise 1 :  Total recall?"
   ]
  },
  {
   "cell_type": "markdown",
   "id": "014b6ec4",
   "metadata": {},
   "source": [
    "\n",
    "\n",
    "| Term | Brief description |\n",
    "| :--- |  ---: |\n",
    "| Subsetting| Wanting certain elements of a list as the output by using their associated index numbers - *for when selecting within list/array*|\n",
    "| Indexing | Wanting a certain element of a list/array (or even elements of a list within a list) as the output by indicating their associated index number - *selecting just that 1 element* |\n",
    "| Slicing | Wanting certain elements of a lists/array as the output by using a range made from their assoicated index numbers. Use the index number of the element you want started from and the +1 of the index number of the elememnt you want the output to finish at - *allows selection of this range* |\n",
    "| Masking | Wanting elements that fulfil a certain requirement **ONLY within arrays** as the output - *only those that are fulfil the 'True' requirement as the output* |\n",
    "\n",
    "\n"
   ]
  },
  {
   "cell_type": "markdown",
   "id": "ee68dfa4",
   "metadata": {},
   "source": [
    "## Exercise 2 :  Show me the ‘odd’ letters"
   ]
  },
  {
   "cell_type": "code",
   "execution_count": 2,
   "id": "c8864ef2",
   "metadata": {},
   "outputs": [],
   "source": [
    "import numpy as np"
   ]
  },
  {
   "cell_type": "code",
   "execution_count": 5,
   "id": "d544608f",
   "metadata": {},
   "outputs": [
    {
     "data": {
      "text/plain": [
       "array(['A', 'C', 'E', 'G', 'I'], dtype='<U11')"
      ]
     },
     "execution_count": 5,
     "metadata": {},
     "output_type": "execute_result"
    }
   ],
   "source": [
    "# EXACTLY WHAT EXERCISE 2 WANTS\n",
    "\n",
    "np_array_2d = np.array([[1, \"A\"], [3, \"C\"], [2, \"B\"], [4, \"D\"],\n",
    "                        [5, \"E\"], [7, \"G\"], [6, \"F\"], [8, \"H\"],\n",
    "                        [10, \"J\"], [9, \"I\"]])\n",
    "\n",
    "\n",
    "# Step 1) Subset all the first elements\n",
    "ONLY_FIRST_ELEMENTS = np_array_2d[:, 0]\n",
    "\n",
    "# Step 2) convert the elements\n",
    "# of the ONLY_FIRST_ELEMENTS into integers, since \n",
    "# in first np_arrray_\n",
    "\n",
    "\n",
    "ONLY_FIRST_ELEMENTS_INTEGERS = ONLY_FIRST_ELEMENTS.astype(int)\n",
    "\n",
    "# Step 3) Use % to get remainder for its division\n",
    "# of the integer elements by 2\n",
    "\n",
    "\n",
    "ONLY_FIRST_ELEMENTS_INTEGERS_REMAINDERS = ONLY_FIRST_ELEMENTS_INTEGERS%2\n",
    "\n",
    "# Step 4) Filtering to get the mask that checks whether \n",
    "# the remainder is 1 (AKA IDENTIFY ODD NUMBER)\n",
    "\n",
    "\n",
    "FINAL_ARRAY = ONLY_FIRST_ELEMENTS_INTEGERS_REMAINDERS == 1\n",
    "\n",
    "np_array_2d[FINAL_ARRAY, 1]\n",
    "\n",
    "# Elements which correspond with the True list"
   ]
  },
  {
   "cell_type": "code",
   "execution_count": 50,
   "id": "c214297c",
   "metadata": {},
   "outputs": [
    {
     "data": {
      "text/plain": [
       "array(['1', '3', '2', '4', '5', '7', '6', '8', '10', '9'], dtype='<U11')"
      ]
     },
     "execution_count": 50,
     "metadata": {},
     "output_type": "execute_result"
    }
   ],
   "source": [
    "# STEP 1 SUBSETTING ALL THE FIRST ELEMENTS\n",
    "np_array_2d = np.array([[1, \"A\"], [3, \"C\"], [2, \"B\"], [4, \"D\"],\n",
    "                        [5, \"E\"], [7, \"G\"], [6, \"F\"], [8, \"H\"],\n",
    "                        [10, \"J\"], [9, \"I\"]])\n",
    "\n",
    "# Array sees the ointeger but automatically converts them \n",
    "# into integers\n",
    "\n",
    "# Step 1) Subset all the first elements\n",
    "\n",
    "# new array name np_array_2d_ONLY_FIRST_ELEMENTS = \n",
    "np_array_2d[:, 0]\n",
    "\n",
    "# ONLY_FIRST_ELEMENTS = np_array_2d[:, 0]\n",
    "\n"
   ]
  },
  {
   "cell_type": "code",
   "execution_count": 57,
   "id": "d45e1821",
   "metadata": {},
   "outputs": [
    {
     "data": {
      "text/plain": [
       "array([ 1,  3,  2,  4,  5,  7,  6,  8, 10,  9])"
      ]
     },
     "execution_count": 57,
     "metadata": {},
     "output_type": "execute_result"
    }
   ],
   "source": [
    "# STEP 2 CONVERTING ALL THE ELEMENTS IN THE NEW ARRAY\n",
    "# INTO INTEGERS - THEY WERE PREVIOUSLY STRINGS AS ARRAYS\n",
    "# CAN ONLY HOLD DATA OF A SINGLE TYPE\n",
    "np_array_2d = np.array([[1, \"A\"], [3, \"C\"], [2, \"B\"], [4, \"D\"],\n",
    "                        [5, \"E\"], [7, \"G\"], [6, \"F\"], [8, \"H\"],\n",
    "                        [10, \"J\"], [9, \"I\"]])\n",
    "\n",
    "\n",
    "# Step 1) Subset all the first elements\n",
    "ONLY_FIRST_ELEMENTS = np_array_2d[:, 0]\n",
    "\n",
    "# Step 2) convert the elements\n",
    "# ONLY_FIRST_ELEMENTS into integers\n",
    "\n",
    "ONLY_FIRST_ELEMENTS.astype(int)\n",
    "# ONLY_FIRST_ELEMENTS_INTEGERS = ONLY_FIRST_ELEMENTS.astype(int)\n"
   ]
  },
  {
   "cell_type": "code",
   "execution_count": 58,
   "id": "4d7f6442",
   "metadata": {},
   "outputs": [
    {
     "data": {
      "text/plain": [
       "array([1, 1, 0, 0, 1, 1, 0, 0, 0, 1], dtype=int32)"
      ]
     },
     "execution_count": 58,
     "metadata": {},
     "output_type": "execute_result"
    }
   ],
   "source": [
    "# STEP 3 GETTING THE REMAINER OF ALL THE DIVISION OF ALL THE \n",
    "# ELEMENTS BY 2\n",
    "\n",
    "np_array_2d = np.array([[1, \"A\"], [3, \"C\"], [2, \"B\"], [4, \"D\"],\n",
    "                        [5, \"E\"], [7, \"G\"], [6, \"F\"], [8, \"H\"],\n",
    "                        [10, \"J\"], [9, \"I\"]])\n",
    "\n",
    "\n",
    "# Step 1) Subset all the first elements\n",
    "np_array_2d_ONLY_FIRST_ELEMENTS = np_array_2d[:, 0]\n",
    "\n",
    "# Step 2) convert the elements\n",
    "# of the ONLY_FIRST_ELEMENTS into integers\n",
    "\n",
    "ONLY_FIRST_ELEMENTS.astype(int)\n",
    "ONLY_FIRST_ELEMENTS_INTEGERS = ONLY_FIRST_ELEMENTS.astype(int)\n",
    "\n",
    "# Step 3) Use % to get remainder for its division\n",
    "# of the integer elements by 2\n",
    "\n",
    "ONLY_FIRST_ELEMENTS_INTEGERS%2\n",
    "# ONLY_FIRST_ELEMENTS_INTEGERS_REMAINDERS = ONLY_FIRST_ELEMENTS_INTEGERS%2"
   ]
  },
  {
   "cell_type": "code",
   "execution_count": 60,
   "id": "b301f821",
   "metadata": {},
   "outputs": [
    {
     "data": {
      "text/plain": [
       "array([ True,  True, False, False,  True,  True, False, False, False,\n",
       "        True])"
      ]
     },
     "execution_count": 60,
     "metadata": {},
     "output_type": "execute_result"
    }
   ],
   "source": [
    "#  STEP 4 CREATING A MASK TO CHECK FOR WHETHER REMAINDER\n",
    "# IS 0 OR NAH\n",
    "np_array_2d = np.array([[1, \"A\"], [3, \"C\"], [2, \"B\"], [4, \"D\"],\n",
    "                        [5, \"E\"], [7, \"G\"], [6, \"F\"], [8, \"H\"],\n",
    "                        [10, \"J\"], [9, \"I\"]])\n",
    "\n",
    "\n",
    "# Step 1) Subset all the first elements\n",
    "np_array_2d_ONLY_FIRST_ELEMENTS = np_array_2d[:, 0]\n",
    "\n",
    "# Step 2) convert the elements\n",
    "# of the ONLY_FIRST_ELEMENTS into integers\n",
    "\n",
    "ONLY_FIRST_ELEMENTS.astype(int)\n",
    "ONLY_FIRST_ELEMENTS_INTEGERS = ONLY_FIRST_ELEMENTS.astype(int)\n",
    "\n",
    "# Step 3) Use % to get remainder for its division\n",
    "# of the integer elements by 2\n",
    "\n",
    "ONLY_FIRST_ELEMENTS_INTEGERS%2\n",
    "ONLY_FIRST_ELEMENTS_INTEGERS_REMAINDERS = ONLY_FIRST_ELEMENTS_INTEGERS%2\n",
    "\n",
    "# Step 4) Filtering to get the mask that checks whether \n",
    "# the remainder is 1 (AKA IDENTIFY ODD NUMBER)\n",
    "\n",
    "ONLY_FIRST_ELEMENTS_INTEGERS_REMAINDERS == 1\n",
    "# FINAL_ARRAY = ONLY_FIRST_ELEMENTS_INTEGERS_REMAINDERS == 1"
   ]
  },
  {
   "cell_type": "code",
   "execution_count": 6,
   "id": "f3b0c1ad",
   "metadata": {},
   "outputs": [
    {
     "data": {
      "text/plain": [
       "array(['A', 'C', 'E', 'G', 'I'], dtype='<U11')"
      ]
     },
     "execution_count": 6,
     "metadata": {},
     "output_type": "execute_result"
    }
   ],
   "source": [
    "#  STEP 5 EXTRACTING FROM THE MASK THE CORRESPONDING ELEMENTS\n",
    "np_array_2d = np.array([[1, \"A\"], [3, \"C\"], [2, \"B\"], [4, \"D\"],\n",
    "                        [5, \"E\"], [7, \"G\"], [6, \"F\"], [8, \"H\"],\n",
    "                        [10, \"J\"], [9, \"I\"]])\n",
    "\n",
    "\n",
    "# Step 1) Subset all the first elements\n",
    "ONLY_FIRST_ELEMENTS = np_array_2d[:, 0]\n",
    "\n",
    "# Step 2) convert the elements\n",
    "# of the ONLY_FIRST_ELEMENTS into integers\n",
    "\n",
    "ONLY_FIRST_ELEMENTS.astype(int)\n",
    "ONLY_FIRST_ELEMENTS_INTEGERS = ONLY_FIRST_ELEMENTS.astype(int)\n",
    "\n",
    "# Step 3) Use % to get remainder for its division\n",
    "# of the integer elements by 2\n",
    "\n",
    "ONLY_FIRST_ELEMENTS_INTEGERS%2\n",
    "ONLY_FIRST_ELEMENTS_INTEGERS_REMAINDERS = ONLY_FIRST_ELEMENTS_INTEGERS%2\n",
    "\n",
    "# Step 4) Filtering to get the mask that checks whether \n",
    "# the remainder is 1 (AKA IDENTIFY ODD NUMBER)\n",
    "\n",
    "ONLY_FIRST_ELEMENTS_INTEGERS_REMAINDERS == 1\n",
    "FINAL_ARRAY = ONLY_FIRST_ELEMENTS_INTEGERS_REMAINDERS == 1\n",
    "\n",
    "np_array_2d[FINAL_ARRAY, 1] # First element of each array element correspond\n",
    "\n",
    "# Elements which correspond with the True list"
   ]
  },
  {
   "cell_type": "code",
   "execution_count": 3,
   "id": "9bdf2fbf",
   "metadata": {},
   "outputs": [
    {
     "data": {
      "text/plain": [
       "array([['1', 'A'],\n",
       "       ['3', 'C'],\n",
       "       ['5', 'E'],\n",
       "       ['7', 'G'],\n",
       "       ['9', 'I']], dtype='<U11')"
      ]
     },
     "execution_count": 3,
     "metadata": {},
     "output_type": "execute_result"
    }
   ],
   "source": [
    "#  STEP 5 EXTRACTING FROM THE MASK THE CORRESPONDING ELEMENTS\n",
    "np_array_2d = np.array([[1, \"A\"], [3, \"C\"], [2, \"B\"], [4, \"D\"],\n",
    "                        [5, \"E\"], [7, \"G\"], [6, \"F\"], [8, \"H\"],\n",
    "                        [10, \"J\"], [9, \"I\"]])\n",
    "\n",
    "\n",
    "# Step 1) Subset all the first elements\n",
    "ONLY_FIRST_ELEMENTS = np_array_2d[:, 0]\n",
    "\n",
    "# Step 2) convert the elements\n",
    "# of the ONLY_FIRST_ELEMENTS into integers\n",
    "\n",
    "ONLY_FIRST_ELEMENTS.astype(int)\n",
    "ONLY_FIRST_ELEMENTS_INTEGERS = ONLY_FIRST_ELEMENTS.astype(int)\n",
    "\n",
    "# Step 3) Use % to get remainder for its division\n",
    "# of the integer elements by 2\n",
    "\n",
    "ONLY_FIRST_ELEMENTS_INTEGERS%2\n",
    "ONLY_FIRST_ELEMENTS_INTEGERS_REMAINDERS = ONLY_FIRST_ELEMENTS_INTEGERS%2\n",
    "\n",
    "# Step 4) Filtering to get the mask that checks whether \n",
    "# the remainder is 1 (AKA IDENTIFY ODD NUMBER)\n",
    "\n",
    "ONLY_FIRST_ELEMENTS_INTEGERS_REMAINDERS == 1\n",
    "FINAL_ARRAY = ONLY_FIRST_ELEMENTS_INTEGERS_REMAINDERS == 1\n",
    "\n",
    "np_array_2d[FINAL_ARRAY] # \n",
    "\n",
    "# Elements which correspond with the True list, but both"
   ]
  },
  {
   "cell_type": "code",
   "execution_count": 2,
   "id": "c5bc74f0",
   "metadata": {},
   "outputs": [
    {
     "data": {
      "text/plain": [
       "array([ True,  True, False, False,  True,  True, False, False, False,\n",
       "        True])"
      ]
     },
     "execution_count": 2,
     "metadata": {},
     "output_type": "execute_result"
    }
   ],
   "source": [
    "import numpy as np\n",
    "#  STEP 5 EXTRACTING FROM THE MASK THE CORRESPONDING ELEMENTS\n",
    "np_array_2d = np.array([[1, \"A\"], [3, \"C\"], [2, \"B\"], [4, \"D\"],\n",
    "                        [5, \"E\"], [7, \"G\"], [6, \"F\"], [8, \"H\"],\n",
    "                        [10, \"J\"], [9, \"I\"]])\n",
    "\n",
    "\n",
    "# Step 1) Subset all the first elements\n",
    "ONLY_FIRST_ELEMENTS = np_array_2d[:, 0]\n",
    "\n",
    "# Step 2) convert the elements\n",
    "# of the ONLY_FIRST_ELEMENTS into integers\n",
    "\n",
    "ONLY_FIRST_ELEMENTS.astype(int)\n",
    "ONLY_FIRST_ELEMENTS_INTEGERS = ONLY_FIRST_ELEMENTS.astype(int)\n",
    "\n",
    "# Step 3) Use % to get remainder for its division\n",
    "# of the integer elements by 2\n",
    "\n",
    "ONLY_FIRST_ELEMENTS_INTEGERS%2\n",
    "ONLY_FIRST_ELEMENTS_INTEGERS_REMAINDERS = ONLY_FIRST_ELEMENTS_INTEGERS%2\n",
    "\n",
    "# Step 4) Filtering to get the mask that checks whether \n",
    "# the remainder is 1 (AKA IDENTIFY ODD NUMBER)\n",
    "\n",
    "ONLY_FIRST_ELEMENTS_INTEGERS_REMAINDERS == 1\n",
    "FINAL_ARRAY = ONLY_FIRST_ELEMENTS_INTEGERS_REMAINDERS == 1\n",
    "\n",
    "FINAL_ARRAY\n",
    "\n",
    "# Elements which correspond with the True list"
   ]
  },
  {
   "cell_type": "markdown",
   "id": "bd83ca03",
   "metadata": {},
   "source": [
    "**HOW DID THE ABOVE WORK? :(** - THE FINAL STEP - FINAL_ARRAY is True and False array, translates to 1 and 0 respectively."
   ]
  },
  {
   "cell_type": "code",
   "execution_count": null,
   "id": "992f668c",
   "metadata": {},
   "outputs": [],
   "source": []
  }
 ],
 "metadata": {
  "kernelspec": {
   "display_name": "Python 3 (ipykernel)",
   "language": "python",
   "name": "python3"
  },
  "language_info": {
   "codemirror_mode": {
    "name": "ipython",
    "version": 3
   },
   "file_extension": ".py",
   "mimetype": "text/x-python",
   "name": "python",
   "nbconvert_exporter": "python",
   "pygments_lexer": "ipython3",
   "version": "3.9.12"
  },
  "toc": {
   "base_numbering": 1,
   "nav_menu": {},
   "number_sections": true,
   "sideBar": true,
   "skip_h1_title": false,
   "title_cell": "Table of Contents",
   "title_sidebar": "Contents",
   "toc_cell": false,
   "toc_position": {},
   "toc_section_display": true,
   "toc_window_display": false
  },
  "vscode": {
   "interpreter": {
    "hash": "31f2aee4e71d21fbe5cf8b01ff0e069b9275f58929596ceb00d14d90e3e16cd6"
   }
  }
 },
 "nbformat": 4,
 "nbformat_minor": 5
}
