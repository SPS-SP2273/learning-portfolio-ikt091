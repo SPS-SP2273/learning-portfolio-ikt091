{
 "cells": [
  {
   "cell_type": "markdown",
   "id": "123456",
   "metadata": {},
   "source": [
    "<div style=\"text-align:left;font-size:2em\"><span style=\"font-weight:bolder;font-size:1.25em\">SP2273 | Learning Portfolio</span><br><br><span style=\"font-weight:bold;color:darkred\">Pandas (Need)</span></div>"
   ]
  },
  {
   "cell_type": "markdown",
   "id": "ef9d69f3",
   "metadata": {},
   "source": [
    "## 1 What is a dataframe"
   ]
  },
  {
   "cell_type": "markdown",
   "id": "aaad6ab4",
   "metadata": {},
   "source": [
    "### 1.1 Reading data from csv or excel files."
   ]
  },
  {
   "cell_type": "code",
   "execution_count": 1,
   "id": "2c1a0b92",
   "metadata": {},
   "outputs": [
    {
     "ename": "ModuleNotFoundError",
     "evalue": "No module named 'scipy'",
     "output_type": "error",
     "traceback": [
      "\u001b[1;31m---------------------------------------------------------------------------\u001b[0m",
      "\u001b[1;31mModuleNotFoundError\u001b[0m                       Traceback (most recent call last)",
      "Cell \u001b[1;32mIn[1], line 8\u001b[0m\n\u001b[0;32m      6\u001b[0m \u001b[38;5;28;01mfrom\u001b[39;00m \u001b[38;5;21;01mmatplotlib\u001b[39;00m \u001b[38;5;28;01mimport\u001b[39;00m pyplot \u001b[38;5;28;01mas\u001b[39;00m plt\n\u001b[0;32m      7\u001b[0m \u001b[38;5;28;01mimport\u001b[39;00m \u001b[38;5;21;01mnumpy\u001b[39;00m\u001b[38;5;21;01m.\u001b[39;00m\u001b[38;5;21;01mrandom\u001b[39;00m \u001b[38;5;28;01mas\u001b[39;00m \u001b[38;5;21;01mrnd\u001b[39;00m\n\u001b[1;32m----> 8\u001b[0m \u001b[38;5;28;01mfrom\u001b[39;00m \u001b[38;5;21;01mscipy\u001b[39;00m\u001b[38;5;21;01m.\u001b[39;00m\u001b[38;5;21;01mintegrate\u001b[39;00m \u001b[38;5;28;01mimport\u001b[39;00m odeint\n",
      "\u001b[1;31mModuleNotFoundError\u001b[0m: No module named 'scipy'"
     ]
    }
   ],
   "source": [
    "import numpy as np\n",
    "import os\n",
    "import glob\n",
    "import shutil\n",
    "import math\n",
    "from matplotlib import pyplot as plt\n",
    "import numpy.random as rnd\n",
    "from scipy.integrate import odeint\n"
   ]
  },
  {
   "cell_type": "markdown",
   "id": "5f623bf5",
   "metadata": {},
   "source": [
    "### 1.2 Characteristics to notice"
   ]
  },
  {
   "cell_type": "code",
   "execution_count": null,
   "id": "acb0a26e",
   "metadata": {},
   "outputs": [],
   "source": [
    "\n",
    "# Your code here\n"
   ]
  },
  {
   "cell_type": "markdown",
   "id": "3e960b4b",
   "metadata": {},
   "source": [
    "## 2 Quick Peeks"
   ]
  },
  {
   "cell_type": "markdown",
   "id": "71f835fd",
   "metadata": {},
   "source": [
    "### 2.1 Head and Tail"
   ]
  },
  {
   "cell_type": "code",
   "execution_count": null,
   "id": "5de35452",
   "metadata": {},
   "outputs": [],
   "source": [
    "\n",
    "# Your code here\n"
   ]
  },
  {
   "cell_type": "markdown",
   "id": "72094ffa",
   "metadata": {},
   "source": [
    "### 2.2 Size and Shape"
   ]
  },
  {
   "cell_type": "code",
   "execution_count": null,
   "id": "00416c1b",
   "metadata": {},
   "outputs": [],
   "source": [
    "\n",
    "# Your code here\n"
   ]
  },
  {
   "cell_type": "markdown",
   "id": "164e0db8",
   "metadata": {},
   "source": [
    "### 2.3 Summaries (I)"
   ]
  },
  {
   "cell_type": "code",
   "execution_count": null,
   "id": "c12c6446",
   "metadata": {},
   "outputs": [],
   "source": [
    "\n",
    "# Your code here\n"
   ]
  },
  {
   "cell_type": "markdown",
   "id": "14a633ee",
   "metadata": {},
   "source": [
    "### 2.4 Summaries (II)"
   ]
  },
  {
   "cell_type": "code",
   "execution_count": null,
   "id": "11fbe7c5",
   "metadata": {},
   "outputs": [],
   "source": [
    "\n",
    "# Your code here\n"
   ]
  },
  {
   "cell_type": "markdown",
   "id": "b8e9729e",
   "metadata": {},
   "source": [
    "## 3 Housekeeping"
   ]
  },
  {
   "cell_type": "markdown",
   "id": "8a83ed77",
   "metadata": {},
   "source": [
    "### 3.1 Dropping unnecessary columns"
   ]
  },
  {
   "cell_type": "code",
   "execution_count": null,
   "id": "c04a0fd4",
   "metadata": {},
   "outputs": [],
   "source": [
    "\n",
    "# Your code here\n"
   ]
  },
  {
   "cell_type": "markdown",
   "id": "ca0e8bb9",
   "metadata": {},
   "source": [
    "### 3.2 Reorganising columns"
   ]
  },
  {
   "cell_type": "code",
   "execution_count": null,
   "id": "db800fc8",
   "metadata": {},
   "outputs": [],
   "source": [
    "\n",
    "# Your code here\n"
   ]
  },
  {
   "cell_type": "markdown",
   "id": "c42ce57f",
   "metadata": {},
   "source": [
    "### 3.3 Renaming columns"
   ]
  },
  {
   "cell_type": "code",
   "execution_count": null,
   "id": "69f1ae56",
   "metadata": {},
   "outputs": [],
   "source": [
    "\n",
    "# Your code here\n"
   ]
  },
  {
   "cell_type": "markdown",
   "id": "487d0ade",
   "metadata": {},
   "source": [
    "### 3.4 Setting the index"
   ]
  },
  {
   "cell_type": "code",
   "execution_count": null,
   "id": "37b57510",
   "metadata": {},
   "outputs": [],
   "source": [
    "\n",
    "# Your code here\n"
   ]
  },
  {
   "cell_type": "markdown",
   "id": "2502a39f",
   "metadata": {},
   "source": [
    "### 3.5 Applying changes"
   ]
  },
  {
   "cell_type": "code",
   "execution_count": null,
   "id": "6b2fbacb",
   "metadata": {},
   "outputs": [],
   "source": [
    "\n",
    "# Your code here\n"
   ]
  },
  {
   "cell_type": "markdown",
   "id": "f5905a82",
   "metadata": {},
   "source": [
    "### 3.6 Changing Column Type"
   ]
  },
  {
   "cell_type": "code",
   "execution_count": null,
   "id": "9ed894e6",
   "metadata": {},
   "outputs": [],
   "source": [
    "\n",
    "# Your code here\n"
   ]
  },
  {
   "cell_type": "markdown",
   "id": "217fb97b",
   "metadata": {},
   "source": [
    "### 3.7 Adding a new column"
   ]
  },
  {
   "cell_type": "code",
   "execution_count": null,
   "id": "bcd19ce3",
   "metadata": {},
   "outputs": [],
   "source": [
    "\n",
    "# Your code here\n"
   ]
  },
  {
   "cell_type": "markdown",
   "id": "286188e0",
   "metadata": {},
   "source": [
    "### 3.8 Saving to file"
   ]
  },
  {
   "cell_type": "code",
   "execution_count": null,
   "id": "d29af196",
   "metadata": {},
   "outputs": [],
   "source": [
    "\n",
    "# Your code here\n"
   ]
  },
  {
   "cell_type": "markdown",
   "id": "873a481b",
   "metadata": {},
   "source": [
    "### 3.9 The recipe so far"
   ]
  },
  {
   "cell_type": "code",
   "execution_count": null,
   "id": "8a9da0ab",
   "metadata": {},
   "outputs": [],
   "source": [
    "\n",
    "# Your code here\n"
   ]
  },
  {
   "cell_type": "markdown",
   "id": "c911ce8d",
   "metadata": {},
   "source": [
    "## 4 Asking questions"
   ]
  },
  {
   "cell_type": "markdown",
   "id": "7d799929",
   "metadata": {},
   "source": [
    "### 4.1 Locating data"
   ]
  },
  {
   "cell_type": "code",
   "execution_count": null,
   "id": "04317adf",
   "metadata": {},
   "outputs": [],
   "source": [
    "\n",
    "# Your code here\n"
   ]
  },
  {
   "cell_type": "markdown",
   "id": "cffad3a9",
   "metadata": {},
   "source": [
    "### 4.2 Asking questions with masks"
   ]
  },
  {
   "cell_type": "code",
   "execution_count": null,
   "id": "8dd52310",
   "metadata": {},
   "outputs": [],
   "source": [
    "\n",
    "# Your code here\n"
   ]
  },
  {
   "cell_type": "markdown",
   "id": "6fc036e7",
   "metadata": {},
   "source": [
    "### 4.3 The magic of groupby()"
   ]
  },
  {
   "cell_type": "code",
   "execution_count": null,
   "id": "6ac0e5e0",
   "metadata": {},
   "outputs": [],
   "source": [
    "\n",
    "# Your code here\n"
   ]
  },
  {
   "cell_type": "markdown",
   "id": "71bd8080",
   "metadata": {},
   "source": [
    "## Exercise 1 :  Another dummy class"
   ]
  },
  {
   "cell_type": "code",
   "execution_count": null,
   "id": "b010dfa0",
   "metadata": {},
   "outputs": [],
   "source": [
    "\n",
    "\n",
    "\n",
    "# Your solution here\n",
    "\n",
    "\n"
   ]
  }
 ],
 "metadata": {
  "kernelspec": {
   "display_name": "Python 3 (ipykernel)",
   "language": "python",
   "name": "python3"
  },
  "language_info": {
   "codemirror_mode": {
    "name": "ipython",
    "version": 3
   },
   "file_extension": ".py",
   "mimetype": "text/x-python",
   "name": "python",
   "nbconvert_exporter": "python",
   "pygments_lexer": "ipython3",
   "version": "3.10.9"
  },
  "toc": {
   "base_numbering": 1,
   "nav_menu": {},
   "number_sections": true,
   "sideBar": true,
   "skip_h1_title": false,
   "title_cell": "Table of Contents",
   "title_sidebar": "Contents",
   "toc_cell": false,
   "toc_position": {},
   "toc_section_display": true,
   "toc_window_display": false
  },
  "vscode": {
   "interpreter": {
    "hash": "31f2aee4e71d21fbe5cf8b01ff0e069b9275f58929596ceb00d14d90e3e16cd6"
   }
  }
 },
 "nbformat": 4,
 "nbformat_minor": 5
}
