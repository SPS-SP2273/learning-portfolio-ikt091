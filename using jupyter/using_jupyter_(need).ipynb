{
 "cells": [
  {
   "cell_type": "markdown",
   "id": "123456",
   "metadata": {},
   "source": [
    "<div style=\"text-align:left;font-size:2em\"><span style=\"font-weight:bolder;font-size:1.25em\">SP2273 | Learning Portfolio</span><br><br><span style=\"font-weight:bold;color:darkred\">Using Jupyter (Need)</span></div>"
   ]
  },
  {
   "cell_type": "markdown",
   "id": "a8479b4c",
   "metadata": {},
   "source": [
    "## 1 Getting started with Jupyter"
   ]
  },
  {
   "cell_type": "markdown",
   "id": "2f2fd7fd",
   "metadata": {},
   "source": [
    "### 1.1 Its all about running cells"
   ]
  },
  {
   "cell_type": "code",
   "execution_count": 1,
   "id": "22f2621f",
   "metadata": {},
   "outputs": [
    {
     "name": "stdout",
     "output_type": "stream",
     "text": [
      "6\n"
     ]
    }
   ],
   "source": [
    "\n",
    "a = 4\n",
    "b = 2\n",
    "c = a + b\n",
    "print(c)"
   ]
  },
  {
   "cell_type": "markdown",
   "id": "74d2665e",
   "metadata": {},
   "source": [
    " ### Explanation\n",
    " \n",
    " The code above adds two numbers and prints the resulting sum"
   ]
  },
  {
   "cell_type": "markdown",
   "id": "5327cd64",
   "metadata": {},
   "source": [
    "### 1.2 A traditional start"
   ]
  },
  {
   "cell_type": "code",
   "execution_count": 2,
   "id": "69a9d686",
   "metadata": {},
   "outputs": [
    {
     "name": "stdout",
     "output_type": "stream",
     "text": [
      "Hello World!\n"
     ]
    }
   ],
   "source": [
    "print('Hello World!')"
   ]
  },
  {
   "cell_type": "markdown",
   "id": "a6491de6",
   "metadata": {},
   "source": [
    "## 2 All about Markdown"
   ]
  },
  {
   "cell_type": "markdown",
   "id": "023d2170",
   "metadata": {},
   "source": [
    "### 2.1 Rendering Markdown cells"
   ]
  },
  {
   "cell_type": "markdown",
   "id": "87032aeb",
   "metadata": {},
   "source": [
    "\n",
    "The ships hung in the sky in much the same way that bricks don’t.\n"
   ]
  },
  {
   "cell_type": "markdown",
   "id": "4ae0ef41",
   "metadata": {},
   "source": [
    "### 2.2 Some basic syntax"
   ]
  },
  {
   "cell_type": "markdown",
   "id": "6f70d72b",
   "metadata": {},
   "source": [
    "\n",
    "The ships *hung in the sky* in much the same way that **bricks don't**<sup>1</sup><sub>QUOTE</sub>\n"
   ]
  },
  {
   "cell_type": "markdown",
   "id": "ee67a54b",
   "metadata": {},
   "source": [
    "### 2.3 Headings"
   ]
  },
  {
   "cell_type": "markdown",
   "id": "b7c0d85c",
   "metadata": {},
   "source": [
    "\n",
    "# The largest heading\n",
    "\n",
    "## The second-largest heading\n",
    "\n",
    "### The third-largest heading\n",
    "\n",
    "###### The smallest heading\n"
   ]
  },
  {
   "cell_type": "markdown",
   "id": "2ff1e86b",
   "metadata": {},
   "source": [
    "### 2.4 Displaying Code"
   ]
  },
  {
   "cell_type": "markdown",
   "id": "41e026fb",
   "metadata": {},
   "source": [
    "```python\n",
    "print('Hello World!')\n",
    "```"
   ]
  },
  {
   "cell_type": "markdown",
   "id": "c3c136fc",
   "metadata": {},
   "source": [
    "### 2.5 Links"
   ]
  },
  {
   "cell_type": "markdown",
   "id": "ab2cfd9d",
   "metadata": {},
   "source": [
    "[SP2273 Website](https://sps.nus.edu.sg/sp2273)"
   ]
  },
  {
   "cell_type": "markdown",
   "id": "92d4da1d",
   "metadata": {},
   "source": [
    "### 2.6 Images"
   ]
  },
  {
   "cell_type": "markdown",
   "id": "5877cd4a",
   "metadata": {},
   "source": [
    "![](https://nus.edu.sg/images/default-source/base/logo.png)"
   ]
  },
  {
   "cell_type": "markdown",
   "id": "db77be72",
   "metadata": {},
   "source": [
    "![](COSMIC-GHOST-RIDER.jpg){size:\"50%\"}"
   ]
  },
  {
   "cell_type": "markdown",
   "id": "6208d869",
   "metadata": {},
   "source": [
    "### 2.7 Tables"
   ]
  },
  {
   "cell_type": "markdown",
   "id": "554e17c3",
   "metadata": {},
   "source": [
    "\n",
    "| A    |  B   |    C |\n",
    "| :--- | :--: | ---: |\n",
    "| a1   |  b1  |   c1 |\n",
    "| a2   |  b2  |   c2 |\n",
    "| a3   |  b3  |   c3 |"
   ]
  },
  {
   "cell_type": "markdown",
   "id": "120cc469",
   "metadata": {},
   "source": [
    "### 2.8 Lists"
   ]
  },
  {
   "cell_type": "markdown",
   "id": "1dddf2b2",
   "metadata": {},
   "source": [
    "1. Master Yoda\n",
    "1. Luke Skywalker\n",
    "1. Anakin Skywalker\n",
    "\n",
    "- Master Yoda\n",
    "- Luke Skywalker\n",
    "- Anakin Skywalker\n",
    "\n",
    "\n",
    "4. Master Yoda\n",
    "    - Was a jedi\n",
    "    - Was a bit green\n",
    "2. Luke Skywalker\n",
    "    - Was a jedi\n",
    "    - Is Anakin's son.\n",
    "3. Anakin Skywalker\n",
    "    - Was a Jedi then became a baddie\n",
    "    - Is famous for saying 'Luke, I am your father'\n",
    "\n"
   ]
  },
  {
   "cell_type": "markdown",
   "id": "40ab8662",
   "metadata": {},
   "source": [
    "1. Master Yoda\n",
    "    1. Was a jedi\n",
    "    1. Was a bit green\n",
    "1. Luke Skywalker\n",
    "    1. Was a jedi\n",
    "    1. Is Anakin's son\n",
    "1. Anakin Skywalker\n",
    "    1. Was a Jedi then became a baddie\n",
    "    1. Is famous for saying 'Luke, I am your father'"
   ]
  },
  {
   "cell_type": "markdown",
   "id": "112ce4e8",
   "metadata": {},
   "source": [
    "### 2.9 Equations"
   ]
  },
  {
   "cell_type": "markdown",
   "id": "17211006",
   "metadata": {},
   "source": [
    "$$ \n",
    "x = \\dfrac{-b \\pm \\sqrt{b^2-4ac}}{2a} \n",
    "$$\n",
    "\n",
    "1. Fraction $\\dfrac{y}{x}$\n",
    "\n",
    "1. Subscript $x_{a}$\n",
    "\n",
    "1. Power $x^{(y+z)}$\n",
    "\n",
    "1. Squareroot $\\sqrt{a+b+c}$\n",
    "\n",
    "1. Sum $\\sum_{n-1}^{n=\\infty} x_n$\n",
    "\n",
    "1. Integral $\\int_{x=1}^{x=\\infty} f(x)dx$\n",
    "\n",
    "1. Not equal $a \\ne b$\n",
    "\n",
    "1. Less than $ a \\leq b $\n",
    "\n",
    "1. Less than or equal to $a \\leq b$ ***Remember to have space before leq!***\n",
    "\n",
    "1. Greater than $a \\gt b$\n",
    "\n",
    "1. Greater than or equal to $a \\geq b$\n",
    "\n",
    "1. Greek letters $\\alpha, \\beta, \\gamma, \\pi, \\lambda$"
   ]
  },
  {
   "cell_type": "markdown",
   "id": "d37b43ee",
   "metadata": {},
   "source": [
    "## Exercise 1 :  Put it in Markdown"
   ]
  },
  {
   "cell_type": "markdown",
   "id": "f5b61bf7",
   "metadata": {},
   "source": [
    "\n",
    "**Quadratic Equations** \n",
    "\n",
    "![](https://upload.wikimedia.org/wikipedia/commons/f/f8/Polynomialdeg2.svg)\n",
    "\n",
    "(*Image from the [Wikipedia page on Quadratic equations](https://en.wikipedia.org/wiki/Quadratic_equation)*) \n",
    "\n",
    "**Introduction**\n",
    "\n",
    "The general form of a quadratic equation is: \n",
    "                                            $$\n",
    "                                            ax^{2}+bx+c=0\n",
    "                                            $$\n",
    "                                            \n",
    "**Solutions**  Provided $a \\ne 0$, we can use an elemantary algebraic method called [completing the square](https://en.wikipedia.org/wiki/Completing_the_square) to show that a quadratic equation has the following solution:\n",
    "\n",
    "$$\n",
    "x = \\dfrac{-b \\pm \\sqrt{b^2-4ac}}{2a}\n",
    "$$\n",
    "\n",
    "**Discriminant**\n",
    "\n",
    "The quantity $$ \\Delta = b^{2} -4ac $$ is called the **discriminant** of the equation and decides the nature of its solutions. The table below shows the various possibilities.\n",
    "\n",
    "|    **Discriminant**   |   **Roots**   |\n",
    "|       :---            |     ---:      |\n",
    "| $$ \\Delta = b^{2} - 4ac = 0 $$ | A single solution of $$-b/(2a)$$ |\n",
    "| $$ \\Delta = b^{2} - 4ac \\gt 0 $$ | Two distinct solutions |\n",
    "| $$ \\Delta = b^{2} - 4ac \\lt 0 $$ | No real solutions; both are complex|"
   ]
  },
  {
   "cell_type": "markdown",
   "id": "b059ec43",
   "metadata": {},
   "source": [
    "## Exercise 2 :  In your own words"
   ]
  },
  {
   "cell_type": "markdown",
   "id": "f66f7562",
   "metadata": {},
   "source": [
    "\n",
    "1. A repository is a folder that stores my learning-portfolio-ikt091 file on the GitHub server. I can 'commit to main' then 'Push to origin' for my work to be submitted and marked. --> ***Clement: One important trait of a repository is that it also shows the history of the files, including any changes made.***\n",
    "\n",
    "1. Git keep tracks of **changes** in the files in our repository.\n",
    "\n",
    "1. Making a commit allows us to track specific changes, recording it. It saves our changes to the learning-portfolio onto our device. Only need to do it once we are going to push to origin.\n",
    "\n",
    "1. Push sends what is in our repository to the internet server, called origin, (GitHub) - for our teachers to mark the repository. It syncs what is on our device to what should be on the server.\n",
    "\n",
    "1. GitHub Desktop copies repositories in the cloud to be connected to our computer. GitHub desktop is the user interface to talk to Github. GitHub Desktop compares the changes in my repository to what is on the GitHub server. GitHub website is the server fromn which i can clone or pull repositories from. \n",
    "\n",
    "1. Pull requests allows what has been synced to the GitHub server to be retrieved. Pull requests must be approved by repository admins (the teachers).  "
   ]
  },
  {
   "cell_type": "code",
   "execution_count": null,
   "id": "e94a69f1",
   "metadata": {},
   "outputs": [],
   "source": []
  }
 ],
 "metadata": {
  "kernelspec": {
   "display_name": "Python 3 (ipykernel)",
   "language": "python",
   "name": "python3"
  },
  "language_info": {
   "codemirror_mode": {
    "name": "ipython",
    "version": 3
   },
   "file_extension": ".py",
   "mimetype": "text/x-python",
   "name": "python",
   "nbconvert_exporter": "python",
   "pygments_lexer": "ipython3",
   "version": "3.9.12"
  },
  "toc": {
   "base_numbering": 1,
   "nav_menu": {},
   "number_sections": true,
   "sideBar": true,
   "skip_h1_title": false,
   "title_cell": "Table of Contents",
   "title_sidebar": "Contents",
   "toc_cell": false,
   "toc_position": {},
   "toc_section_display": true,
   "toc_window_display": false
  },
  "vscode": {
   "interpreter": {
    "hash": "31f2aee4e71d21fbe5cf8b01ff0e069b9275f58929596ceb00d14d90e3e16cd6"
   }
  }
 },
 "nbformat": 4,
 "nbformat_minor": 5
}
