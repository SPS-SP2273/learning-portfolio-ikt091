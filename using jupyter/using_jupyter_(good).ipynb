{
 "cells": [
  {
   "cell_type": "markdown",
   "id": "123456",
   "metadata": {},
   "source": [
    "<div style=\"text-align:left;font-size:2em\"><span style=\"font-weight:bolder;font-size:1.25em\">SP2273 | Learning Portfolio</span><br><br><span style=\"font-weight:bold;color:darkred\">Using Jupyter (Good)</span></div>"
   ]
  },
  {
   "cell_type": "markdown",
   "id": "d2971703",
   "metadata": {},
   "source": [
    "## 1 Some tips and tricks"
   ]
  },
  {
   "cell_type": "markdown",
   "id": "3d4d2969",
   "metadata": {},
   "source": [
    "### 1.1 Keyboard Shortcuts"
   ]
  },
  {
   "cell_type": "markdown",
   "id": "9a543937",
   "metadata": {},
   "source": [
    "##### capyhappy1"
   ]
  },
  {
   "cell_type": "markdown",
   "id": "37f54903",
   "metadata": {},
   "source": [
    "\n",
    "# capybara\n"
   ]
  },
  {
   "cell_type": "markdown",
   "id": "1558e16c",
   "metadata": {},
   "source": [
    "##### capyhappy2 \n",
    "\n",
    "merge this cell with the cell above"
   ]
  },
  {
   "cell_type": "markdown",
   "id": "f47dacde",
   "metadata": {},
   "source": [
    "##### capyhappy2\n",
    "\n",
    "### 1.2 Shell commands"
   ]
  },
  {
   "cell_type": "markdown",
   "id": "94d1b9cc",
   "metadata": {},
   "source": [
    "\n",
    "### 1.2 Shell commands \n"
   ]
  },
  {
   "cell_type": "code",
   "execution_count": 1,
   "id": "710683a8",
   "metadata": {},
   "outputs": [
    {
     "name": "stdout",
     "output_type": "stream",
     "text": [
      "Collecting package metadata (current_repodata.json): ...working... done\n",
      "Solving environment: ...working... failed with initial frozen solve. Retrying with flexible solve.\n",
      "Collecting package metadata (repodata.json): ...working... done\n",
      "Solving environment: ...working... failed with initial frozen solve. Retrying with flexible solve.\n"
     ]
    },
    {
     "name": "stderr",
     "output_type": "stream",
     "text": [
      "\n",
      "PackagesNotFoundError: The following packages are not available from current channels:\n",
      "\n",
      "  - numpy.\n",
      "\n",
      "Current channels:\n",
      "\n",
      "  - https://repo.anaconda.com/pkgs/main/win-64\n",
      "  - https://repo.anaconda.com/pkgs/main/noarch\n",
      "  - https://repo.anaconda.com/pkgs/r/win-64\n",
      "  - https://repo.anaconda.com/pkgs/r/noarch\n",
      "  - https://repo.anaconda.com/pkgs/msys2/win-64\n",
      "  - https://repo.anaconda.com/pkgs/msys2/noarch\n",
      "\n",
      "To search for alternate channels that may provide the conda package you're\n",
      "looking for, navigate to\n",
      "\n",
      "    https://anaconda.org\n",
      "\n",
      "and use the search bar at the top of the page.\n",
      "\n",
      "\n"
     ]
    }
   ],
   "source": [
    "!conda install numpy."
   ]
  },
  {
   "cell_type": "code",
   "execution_count": 2,
   "id": "da6098aa",
   "metadata": {},
   "outputs": [
    {
     "name": "stderr",
     "output_type": "stream",
     "text": [
      "The system cannot find the path specified.\n"
     ]
    }
   ],
   "source": [
    "!cd # extract files, if made an image with jupyter, see where the file is at"
   ]
  },
  {
   "cell_type": "code",
   "execution_count": 3,
   "id": "07ebb5f6",
   "metadata": {},
   "outputs": [
    {
     "name": "stdout",
     "output_type": "stream",
     "text": [
      " Volume in drive C is OS\n",
      " Volume Serial Number is 62AA-F5AD\n",
      "\n",
      " Directory of C:\\Users\\ASUS\\Documents\\learning-portfolio-ikt091\\using jupyter\n",
      "\n",
      "\n",
      " Directory of C:\\Users\\ASUS\\Documents\\learning-portfolio-ikt091\\using jupyter\n",
      "\n",
      "\n",
      " Directory of C:\\Users\\ASUS\\Documents\\learning-portfolio-ikt091\\using jupyter\n",
      "\n",
      "\n",
      " Directory of C:\\Users\\ASUS\\Documents\\learning-portfolio-ikt091\\using jupyter\n",
      "\n",
      "\n",
      " Directory of C:\\Users\\ASUS\\Documents\\learning-portfolio-ikt091\\using jupyter\n",
      "\n",
      "\n",
      " Directory of C:\\Users\\ASUS\\Documents\\learning-portfolio-ikt091\\using jupyter\n",
      "\n",
      "\n",
      " Directory of C:\\Users\\ASUS\\Documents\\learning-portfolio-ikt091\\using jupyter\n",
      "\n",
      "\n",
      " Directory of C:\\Users\\ASUS\\Documents\\learning-portfolio-ikt091\\using jupyter\n",
      "\n",
      "\n",
      " Directory of C:\\Users\\ASUS\\Documents\\learning-portfolio-ikt091\\using jupyter\n",
      "\n",
      "\n",
      " Directory of C:\\Users\\ASUS\\Documents\\learning-portfolio-ikt091\\using jupyter\n",
      "\n",
      "\n",
      " Directory of C:\\Users\\ASUS\\Documents\\learning-portfolio-ikt091\\using jupyter\n",
      "\n",
      "\n",
      " Directory of C:\\Users\\ASUS\\Documents\\learning-portfolio-ikt091\\using jupyter\n",
      "\n"
     ]
    },
    {
     "name": "stderr",
     "output_type": "stream",
     "text": [
      "File Not Found\n"
     ]
    }
   ],
   "source": [
    "!dir # shows what files are in the current folder i am in"
   ]
  },
  {
   "cell_type": "markdown",
   "id": "cf124389",
   "metadata": {},
   "source": [
    "## 2 Jupyter Extensions"
   ]
  },
  {
   "cell_type": "markdown",
   "id": "0de81b1c",
   "metadata": {},
   "source": [
    "### 2.1 Installing the extensions"
   ]
  },
  {
   "cell_type": "code",
   "execution_count": 4,
   "id": "0a1f02e0",
   "metadata": {},
   "outputs": [
    {
     "name": "stdout",
     "output_type": "stream",
     "text": [
      "Collecting package metadata (current_repodata.json): ...working... done\n",
      "Solving environment: ...working... done\n",
      "\n",
      "## Package Plan ##\n",
      "\n",
      "  environment location: C:\\Users\\ASUS\\miniconda3\n",
      "\n",
      "  added / updated specs:\n",
      "    - jupyter_contrib_nbextensions\n",
      "\n",
      "\n",
      "The following packages will be downloaded:\n",
      "\n",
      "    package                    |            build\n",
      "    ---------------------------|-----------------\n",
      "    ca-certificates-2022.12.7  |       h5b45459_0         143 KB  conda-forge\n",
      "    certifi-2022.12.7          |     pyhd8ed1ab_0         147 KB  conda-forge\n",
      "    conda-22.11.1              |   py39hcbf5309_1         908 KB  conda-forge\n",
      "    jupyter_contrib_nbextensions-0.7.0|     pyhd8ed1ab_0        20.4 MB  conda-forge\n",
      "    pluggy-1.0.0               |     pyhd8ed1ab_5          16 KB  conda-forge\n",
      "    ruamel.yaml-0.17.21        |   py39hb82d6ee_1         169 KB  conda-forge\n",
      "    ruamel.yaml.clib-0.2.6     |   py39h2bbff1b_1         101 KB\n",
      "    ------------------------------------------------------------\n",
      "                                           Total:        21.8 MB\n",
      "\n",
      "The following NEW packages will be INSTALLED:\n",
      "\n",
      "  pluggy             conda-forge/noarch::pluggy-1.0.0-pyhd8ed1ab_5 None\n",
      "  ruamel.yaml        conda-forge/win-64::ruamel.yaml-0.17.21-py39hb82d6ee_1 None\n",
      "  ruamel.yaml.clib   pkgs/main/win-64::ruamel.yaml.clib-0.2.6-py39h2bbff1b_1 None\n",
      "\n",
      "The following packages will be UPDATED:\n",
      "\n",
      "  ca-certificates    pkgs/main::ca-certificates-2022.10.11~ --> conda-forge::ca-certificates-2022.12.7-h5b45459_0 None\n",
      "  certifi            pkgs/main/win-64::certifi-2022.9.24-p~ --> conda-forge/noarch::certifi-2022.12.7-pyhd8ed1ab_0 None\n",
      "  conda              pkgs/main::conda-22.9.0-py39haa95532_0 --> conda-forge::conda-22.11.1-py39hcbf5309_1 None\n",
      "  jupyter_contrib_n~                     0.5.1-pyhd8ed1ab_2 --> 0.7.0-pyhd8ed1ab_0 None\n",
      "\n",
      "\n",
      "\n",
      "Downloading and Extracting Packages\n",
      "\n",
      "ruamel.yaml.clib-0.2 | 101 KB    |            |   0% \n",
      "ruamel.yaml.clib-0.2 | 101 KB    | ########## | 100% \n",
      "ruamel.yaml.clib-0.2 | 101 KB    | ########## | 100% \n",
      "\n",
      "jupyter_contrib_nbex | 20.4 MB   |            |   0% \n",
      "jupyter_contrib_nbex | 20.4 MB   |            |   1% \n",
      "jupyter_contrib_nbex | 20.4 MB   | 7          |   7% \n",
      "jupyter_contrib_nbex | 20.4 MB   | #2         |  13% \n",
      "jupyter_contrib_nbex | 20.4 MB   | #9         |  19% \n",
      "jupyter_contrib_nbex | 20.4 MB   | ##5        |  25% \n",
      "jupyter_contrib_nbex | 20.4 MB   | ###1       |  32% \n",
      "jupyter_contrib_nbex | 20.4 MB   | ###7       |  38% \n",
      "jupyter_contrib_nbex | 20.4 MB   | ####4      |  44% \n",
      "jupyter_contrib_nbex | 20.4 MB   | #####      |  50% \n",
      "jupyter_contrib_nbex | 20.4 MB   | #####6     |  56% \n",
      "jupyter_contrib_nbex | 20.4 MB   | ######2    |  63% \n",
      "jupyter_contrib_nbex | 20.4 MB   | ######8    |  69% \n",
      "jupyter_contrib_nbex | 20.4 MB   | #######4   |  75% \n",
      "jupyter_contrib_nbex | 20.4 MB   | ########   |  81% \n",
      "jupyter_contrib_nbex | 20.4 MB   | ########7  |  87% \n",
      "jupyter_contrib_nbex | 20.4 MB   | #########3 |  93% \n",
      "jupyter_contrib_nbex | 20.4 MB   | #########9 |  99% \n",
      "jupyter_contrib_nbex | 20.4 MB   | ########## | 100% \n",
      "\n",
      "conda-22.11.1        | 908 KB    |            |   0% \n",
      "conda-22.11.1        | 908 KB    | ########2  |  83% \n",
      "conda-22.11.1        | 908 KB    | ########## | 100% \n",
      "\n",
      "pluggy-1.0.0         | 16 KB     |            |   0% \n",
      "pluggy-1.0.0         | 16 KB     | ########## | 100% \n",
      "\n",
      "ca-certificates-2022 | 143 KB    |            |   0% \n",
      "ca-certificates-2022 | 143 KB    | ########## | 100% \n",
      "\n",
      "ruamel.yaml-0.17.21  | 169 KB    |            |   0% \n",
      "ruamel.yaml-0.17.21  | 169 KB    | ########## | 100% \n",
      "ruamel.yaml-0.17.21  | 169 KB    | ########## | 100% \n",
      "\n",
      "certifi-2022.12.7    | 147 KB    |            |   0% \n",
      "certifi-2022.12.7    | 147 KB    | ########## | 100% \n",
      "certifi-2022.12.7    | 147 KB    | ########## | 100% \n",
      "Preparing transaction: ...working... done\n",
      "Verifying transaction: ...working... done\n",
      "Executing transaction: ...working... done\n",
      "Retrieving notices: ...working... done\n",
      "\n",
      "Note: you may need to restart the kernel to use updated packages.\n"
     ]
    },
    {
     "name": "stderr",
     "output_type": "stream",
     "text": [
      "\n",
      "\n",
      "==> WARNING: A newer version of conda exists. <==\n",
      "  current version: 22.9.0\n",
      "  latest version: 22.11.1\n",
      "\n",
      "Please update conda by running\n",
      "\n",
      "    $ conda update -n base -c defaults conda\n",
      "\n",
      "\n"
     ]
    }
   ],
   "source": [
    "\n",
    "conda install -c conda-forge jupyter_contrib_nbextensions\n"
   ]
  },
  {
   "cell_type": "markdown",
   "id": "507cc54d",
   "metadata": {},
   "source": [
    "### 2.2 Enabling the extensions"
   ]
  },
  {
   "cell_type": "code",
   "execution_count": 5,
   "id": "f149d66d",
   "metadata": {},
   "outputs": [],
   "source": [
    "\n",
    "# skip for now as my jupyter version is too updated for any extensions to show up\n"
   ]
  },
  {
   "cell_type": "markdown",
   "id": "bffbc872",
   "metadata": {},
   "source": [
    "## 3 Shell Magic"
   ]
  },
  {
   "cell_type": "code",
   "execution_count": 6,
   "id": "2882c03f",
   "metadata": {},
   "outputs": [
    {
     "name": "stdout",
     "output_type": "stream",
     "text": [
      "13.4 ns ± 0.798 ns per loop (mean ± std. dev. of 7 runs, 100,000,000 loops each)\n"
     ]
    }
   ],
   "source": [
    "%timeit x=10"
   ]
  },
  {
   "cell_type": "code",
   "execution_count": 7,
   "id": "7b45f85c",
   "metadata": {},
   "outputs": [
    {
     "name": "stdout",
     "output_type": "stream",
     "text": [
      "21.7 ns ± 1.21 ns per loop (mean ± std. dev. of 7 runs, 10,000,000 loops each)\n"
     ]
    }
   ],
   "source": [
    "%%timeit\n",
    "x=10\n",
    "y=10\n",
    "z=10"
   ]
  },
  {
   "cell_type": "markdown",
   "id": "09d24975",
   "metadata": {},
   "source": [
    " **explanation for the above phenomena:** time taken for computer to process the code line ^"
   ]
  },
  {
   "cell_type": "markdown",
   "id": "9272c7f0",
   "metadata": {},
   "source": [
    "**useful for when trying to find how to optimise a string of code - must reduce the number of lines it has, make it less completed so it is processed faster **"
   ]
  },
  {
   "cell_type": "markdown",
   "id": "f79c09dd",
   "metadata": {},
   "source": [
    "## 4 The Kernel"
   ]
  },
  {
   "cell_type": "markdown",
   "id": "efd5ffee",
   "metadata": {},
   "source": [
    "## Exercise 1 :  A new shortcut"
   ]
  },
  {
   "cell_type": "code",
   "execution_count": null,
   "id": "90190645",
   "metadata": {},
   "outputs": [],
   "source": [
    "\n",
    "\n",
    "print('clear cell output')\n",
    "\n"
   ]
  },
  {
   "cell_type": "markdown",
   "id": "44835a02",
   "metadata": {},
   "source": [
    " ESC + 9 + 9 is to restart kernel and run all cells\n",
    " \n",
    " ESC + O (the letter) is to clear cell output - must esc from selected cell first \n",
    " \n",
    " ESC + H for keyboard shortcuts - do not use 0, do not type ESC into the shortcut again \n",
    " \n",
    " Message from past Aakash: Other new shortcuts you have added is the move cell up and move cell down shortcuts - they are ESC+  "
   ]
  },
  {
   "cell_type": "markdown",
   "id": "00f8d55f",
   "metadata": {},
   "source": [
    "### disappear for me \n",
    "markdown cell has no output, just a format for a cell - cannot clear cell output"
   ]
  },
  {
   "cell_type": "code",
   "execution_count": null,
   "id": "83a50d36",
   "metadata": {},
   "outputs": [],
   "source": []
  }
 ],
 "metadata": {
  "kernelspec": {
   "display_name": "Python 3 (ipykernel)",
   "language": "python",
   "name": "python3"
  },
  "language_info": {
   "codemirror_mode": {
    "name": "ipython",
    "version": 3
   },
   "file_extension": ".py",
   "mimetype": "text/x-python",
   "name": "python",
   "nbconvert_exporter": "python",
   "pygments_lexer": "ipython3",
   "version": "3.9.12"
  },
  "toc": {
   "base_numbering": 1,
   "nav_menu": {},
   "number_sections": true,
   "sideBar": true,
   "skip_h1_title": false,
   "title_cell": "Table of Contents",
   "title_sidebar": "Contents",
   "toc_cell": false,
   "toc_position": {},
   "toc_section_display": true,
   "toc_window_display": false
  },
  "vscode": {
   "interpreter": {
    "hash": "31f2aee4e71d21fbe5cf8b01ff0e069b9275f58929596ceb00d14d90e3e16cd6"
   }
  }
 },
 "nbformat": 4,
 "nbformat_minor": 5
}
