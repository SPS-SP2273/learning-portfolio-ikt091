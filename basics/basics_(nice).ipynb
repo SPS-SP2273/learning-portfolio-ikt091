{
 "cells": [
  {
   "cell_type": "markdown",
   "id": "123456",
   "metadata": {},
   "source": [
    "<div style=\"text-align:left;font-size:2em\"><span style=\"font-weight:bolder;font-size:1.25em\">SP2273 | Learning Portfolio</span><br><br><span style=\"font-weight:bold;color:darkred\">Basics (Nice)</span></div>"
   ]
  },
  {
   "cell_type": "markdown",
   "id": "e1852c87",
   "metadata": {},
   "source": [
    "## 1 Beyond Python Basics"
   ]
  },
  {
   "cell_type": "markdown",
   "id": "d323f649",
   "metadata": {},
   "source": [
    "### 1.1 If if is not enough"
   ]
  },
  {
   "cell_type": "code",
   "execution_count": 1,
   "id": "a920266b",
   "metadata": {},
   "outputs": [
    {
     "ename": "SyntaxError",
     "evalue": "invalid syntax (1068225312.py, line 3)",
     "output_type": "error",
     "traceback": [
      "\u001b[1;36m  Cell \u001b[1;32mIn [1], line 3\u001b[1;36m\u001b[0m\n\u001b[1;33m    match name:\u001b[0m\n\u001b[1;37m          ^\u001b[0m\n\u001b[1;31mSyntaxError\u001b[0m\u001b[1;31m:\u001b[0m invalid syntax\n"
     ]
    }
   ],
   "source": [
    "name = 'Batman'\n",
    "\n",
    "match name:\n",
    "    case 'Batman':\n",
    "        print('Hello Hero | Batman!')\n",
    "    case 'Robin':\n",
    "        print('Hello Sidekick | Robin!')\n",
    "    case _:\n",
    "        print('Hello World!')\n"
   ]
  },
  {
   "cell_type": "markdown",
   "id": "788538e0",
   "metadata": {},
   "source": [
    "**explanation for why the above does not work below, you do not have python 3.10 onwards**"
   ]
  },
  {
   "cell_type": "code",
   "execution_count": null,
   "id": "f11af872",
   "metadata": {},
   "outputs": [],
   "source": [
    " from platform import python_version"
   ]
  },
  {
   "cell_type": "code",
   "execution_count": null,
   "id": "8f5552f4",
   "metadata": {},
   "outputs": [],
   "source": [
    "python_version()"
   ]
  },
  {
   "cell_type": "markdown",
   "id": "258082d5",
   "metadata": {},
   "source": [
    "### 1.2 Ternary operators or Conditional Statements"
   ]
  },
  {
   "cell_type": "code",
   "execution_count": null,
   "id": "4468effb",
   "metadata": {},
   "outputs": [],
   "source": [
    "language_spoken = input('langauge_spoken:')\n",
    "greeting = 'Namaste' if language_spoken == 'Hindi' else 'Hello'\n",
    "print(greeting)\n",
    "\n",
    "# Easier to read one line than multiple\n",
    "# Time-saving"
   ]
  },
  {
   "cell_type": "code",
   "execution_count": null,
   "id": "47eaf034",
   "metadata": {},
   "outputs": [],
   "source": [
    "language_spoken = input('langauge_spoken:')\n",
    "greeting = 'Namaste' if language_spoken == 'Hindi' else 'Hello'\n",
    "print(greeting)"
   ]
  },
  {
   "cell_type": "code",
   "execution_count": null,
   "id": "815c9098",
   "metadata": {},
   "outputs": [],
   "source": [
    "language_spoken = input('langauge_spoken:')\n",
    "greeting = 'Namaste' if language_spoken == 'Hindi' else 'Hello'\n",
    "print(greeting)"
   ]
  },
  {
   "cell_type": "code",
   "execution_count": null,
   "id": "cd6f5c3f",
   "metadata": {},
   "outputs": [],
   "source": [
    "language_spoken = input('language_spoken:')\n",
    "\n",
    "('Namaste', 'Hello')[language_spoken == 'Hindi']"
   ]
  },
  {
   "cell_type": "code",
   "execution_count": null,
   "id": "99422243",
   "metadata": {},
   "outputs": [],
   "source": [
    "language_spoken = input('language_spoken:')\n",
    "\n",
    "('Namaste', 'Hello')[language_spoken == 'Hindi'] # Brackets is a topple, square brackets is a list\n",
    "# The first element in the topple has a truth value of 0 so in this code\n",
    "# when language spoken = Hindi the truth value will be 1 so the 1 so the second elem nt in the topple \n",
    "# will be the output and not the first, so see below"
   ]
  },
  {
   "cell_type": "code",
   "execution_count": 2,
   "id": "0f77a3a5",
   "metadata": {},
   "outputs": [
    {
     "name": "stdout",
     "output_type": "stream",
     "text": [
      "language_spoken:Hindi\n"
     ]
    },
    {
     "data": {
      "text/plain": [
       "'Namaste'"
      ]
     },
     "execution_count": 2,
     "metadata": {},
     "output_type": "execute_result"
    }
   ],
   "source": [
    "language_spoken = input('language_spoken:')\n",
    "\n",
    "('Hello', 'Namaste')[language_spoken == 'Hindi'] "
   ]
  },
  {
   "cell_type": "code",
   "execution_count": null,
   "id": "4b475080",
   "metadata": {},
   "outputs": [],
   "source": [
    "Htext = None\n",
    "message = text or 'No message!'"
   ]
  },
  {
   "cell_type": "markdown",
   "id": "676a507f",
   "metadata": {},
   "source": [
    "### 1.3 Swapping values"
   ]
  },
  {
   "cell_type": "code",
   "execution_count": null,
   "id": "fe555067",
   "metadata": {},
   "outputs": [],
   "source": [
    "a,b = 1,2\n",
    "print(a,b)\n",
    "a,b = b,a\n",
    "print(a,b)\n"
   ]
  },
  {
   "cell_type": "markdown",
   "id": "82975599",
   "metadata": {},
   "source": [
    "### 1.4 Never compare floats directly"
   ]
  },
  {
   "cell_type": "code",
   "execution_count": null,
   "id": "aad229ea",
   "metadata": {},
   "outputs": [],
   "source": [
    "a1 = 0.1\n",
    "a3 = 0.3\n",
    "a1 * 3 == a3"
   ]
  },
  {
   "cell_type": "code",
   "execution_count": null,
   "id": "6ef1ea25",
   "metadata": {},
   "outputs": [],
   "source": [
    "a1 = 1\n",
    "a3 = 3\n",
    "a1 * 3 == a3\n",
    "\n",
    "# Only integer type data can do this"
   ]
  },
  {
   "cell_type": "code",
   "execution_count": null,
   "id": "7af75923",
   "metadata": {},
   "outputs": [],
   "source": [
    "a1 = 0.1\n",
    "a3 = 0.3\n",
    "a1 * 3 == a3\n",
    "eps = 1E-10 # a value close to 0.3\n",
    "print(abs(a1*3 - a3) < eps) #abs stands for absolute"
   ]
  },
  {
   "cell_type": "code",
   "execution_count": null,
   "id": "03be9866",
   "metadata": {},
   "outputs": [],
   "source": [
    "pip install numpy"
   ]
  },
  {
   "cell_type": "code",
   "execution_count": null,
   "id": "55a16016",
   "metadata": {},
   "outputs": [],
   "source": [
    "import numpy as np\n",
    "np.__version__"
   ]
  },
  {
   "cell_type": "code",
   "execution_count": null,
   "id": "f8325505",
   "metadata": {},
   "outputs": [],
   "source": [
    "import numpy as np # Restarting kernel forgets the line before \n",
    "# need to come up with another line\n",
    "\n",
    "a1 = 0.1\n",
    "a3 = 0.3\n",
    "a1 * 3 == a3\n",
    "print(np.isclose(a1*3,a3)) #HELP"
   ]
  },
  {
   "cell_type": "markdown",
   "id": "3365ae94",
   "metadata": {},
   "source": [
    "### 1.5 Operator precedance"
   ]
  },
  {
   "cell_type": "code",
   "execution_count": null,
   "id": "f0766db7",
   "metadata": {},
   "outputs": [],
   "source": [
    "a = 1\n",
    "b = 2\n",
    "c = (b + a) * 5\n",
    "print(c)"
   ]
  },
  {
   "cell_type": "markdown",
   "id": "370f242b",
   "metadata": {},
   "source": [
    "## 2 Variables in Python"
   ]
  },
  {
   "cell_type": "code",
   "execution_count": null,
   "id": "933b55dd",
   "metadata": {},
   "outputs": [],
   "source": [
    "a = 123\n",
    "\n",
    "a = str(a)\n",
    "\n",
    "print(a)\n",
    "\n",
    "b = 2\n",
    "\n",
    "c = a + b \n",
    "\n",
    "print(c)"
   ]
  },
  {
   "cell_type": "markdown",
   "id": "07dd6512",
   "metadata": {},
   "source": [
    "### 2.1 Variables in Python are just names"
   ]
  },
  {
   "cell_type": "code",
   "execution_count": null,
   "id": "119d9bae",
   "metadata": {},
   "outputs": [],
   "source": [
    "\n",
    "# I DONT GET IT!!!!\n"
   ]
  },
  {
   "cell_type": "markdown",
   "id": "54b3d980",
   "metadata": {},
   "source": [
    "### 2.2 == is not the same as is"
   ]
  },
  {
   "cell_type": "code",
   "execution_count": null,
   "id": "d2bf760a",
   "metadata": {},
   "outputs": [],
   "source": [
    "\n",
    "# Your code here\n"
   ]
  }
 ],
 "metadata": {
  "kernelspec": {
   "display_name": "Python 3 (ipykernel)",
   "language": "python",
   "name": "python3"
  },
  "language_info": {
   "codemirror_mode": {
    "name": "ipython",
    "version": 3
   },
   "file_extension": ".py",
   "mimetype": "text/x-python",
   "name": "python",
   "nbconvert_exporter": "python",
   "pygments_lexer": "ipython3",
   "version": "3.9.12"
  },
  "toc": {
   "base_numbering": 1,
   "nav_menu": {},
   "number_sections": true,
   "sideBar": true,
   "skip_h1_title": false,
   "title_cell": "Table of Contents",
   "title_sidebar": "Contents",
   "toc_cell": false,
   "toc_position": {},
   "toc_section_display": true,
   "toc_window_display": false
  },
  "vscode": {
   "interpreter": {
    "hash": "31f2aee4e71d21fbe5cf8b01ff0e069b9275f58929596ceb00d14d90e3e16cd6"
   }
  }
 },
 "nbformat": 4,
 "nbformat_minor": 5
}
