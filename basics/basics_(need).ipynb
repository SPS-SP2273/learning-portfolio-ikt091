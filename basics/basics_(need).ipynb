{
 "cells": [
  {
   "cell_type": "markdown",
   "id": "123456",
   "metadata": {},
   "source": [
    "<div style=\"text-align:left;font-size:2em\"><span style=\"font-weight:bolder;font-size:1.25em\">SP2273 | Learning Portfolio</span><br><br><span style=\"font-weight:bold;color:darkred\">Basics (Need)</span></div>"
   ]
  },
  {
   "cell_type": "markdown",
   "id": "0ea48418",
   "metadata": {},
   "source": [
    "## 1 Some Python Basics"
   ]
  },
  {
   "cell_type": "markdown",
   "id": "f67cdfb5",
   "metadata": {},
   "source": [
    "### 1.1 Functions"
   ]
  },
  {
   "cell_type": "code",
   "execution_count": 2,
   "id": "4b1d650b",
   "metadata": {},
   "outputs": [
    {
     "name": "stdout",
     "output_type": "stream",
     "text": [
      "Hello World!\n"
     ]
    }
   ],
   "source": [
    "\n",
    "print('Hello World!') #Function to print Hello World!\n"
   ]
  },
  {
   "cell_type": "markdown",
   "id": "d1cb5274",
   "metadata": {},
   "source": [
    "### 1.2 Python is interpreted"
   ]
  },
  {
   "cell_type": "code",
   "execution_count": 3,
   "id": "41192144",
   "metadata": {},
   "outputs": [
    {
     "name": "stdout",
     "output_type": "stream",
     "text": [
      "Hello World\n",
      "Hello World again\n"
     ]
    }
   ],
   "source": [
    "print('Hello World')\n",
    "print('Hello World again') #interpretor working sequentially one command at a time\n"
   ]
  },
  {
   "cell_type": "markdown",
   "id": "e101c017",
   "metadata": {},
   "source": [
    "### 1.3 Python is sensitive."
   ]
  },
  {
   "cell_type": "code",
   "execution_count": 4,
   "id": "f63234c8",
   "metadata": {},
   "outputs": [
    {
     "name": "stdout",
     "output_type": "stream",
     "text": [
      "Hello World\n"
     ]
    },
    {
     "ename": "NameError",
     "evalue": "name 'Print' is not defined",
     "output_type": "error",
     "traceback": [
      "\u001b[1;31m---------------------------------------------------------------------------\u001b[0m",
      "\u001b[1;31mNameError\u001b[0m                                 Traceback (most recent call last)",
      "Cell \u001b[1;32mIn [4], line 2\u001b[0m\n\u001b[0;32m      1\u001b[0m \u001b[38;5;28mprint\u001b[39m(\u001b[38;5;124m'\u001b[39m\u001b[38;5;124mHello World\u001b[39m\u001b[38;5;124m'\u001b[39m) \u001b[38;5;66;03m#function that works as the 'print' word is a reserved word, no other spelling of which is accepted\u001b[39;00m\n\u001b[1;32m----> 2\u001b[0m \u001b[43mPrint\u001b[49m(\u001b[38;5;124m'\u001b[39m\u001b[38;5;124mHello World\u001b[39m\u001b[38;5;124m'\u001b[39m)\n",
      "\u001b[1;31mNameError\u001b[0m: name 'Print' is not defined"
     ]
    }
   ],
   "source": [
    "\n",
    "print('Hello World') #function that works as the 'print' word is a reserved word, no other spelling of which is accepted\n",
    "Print('Hello World') #function that does not work as the word 'Print' is not the same as the reserved word 'print'\n"
   ]
  },
  {
   "cell_type": "markdown",
   "id": "12564e39",
   "metadata": {},
   "source": [
    "### 1.4 Comments"
   ]
  },
  {
   "cell_type": "code",
   "execution_count": null,
   "id": "1b85514b",
   "metadata": {},
   "outputs": [],
   "source": [
    "\n",
    "# Anything between a hashtag and the end of the line constitutes the comment\n",
    "# Python ignores anything that follows a #\n"
   ]
  },
  {
   "cell_type": "markdown",
   "id": "effd043f",
   "metadata": {},
   "source": [
    "### 1.5 = is not the same as =="
   ]
  },
  {
   "cell_type": "code",
   "execution_count": 5,
   "id": "d585effc",
   "metadata": {},
   "outputs": [],
   "source": [
    "\n",
    "# = is set something equal\n",
    "# == is used to check something is equal (asking a question) -> returns boolean values (True or False)"
   ]
  },
  {
   "cell_type": "code",
   "execution_count": 9,
   "id": "f4f13415",
   "metadata": {},
   "outputs": [
    {
     "data": {
      "text/plain": [
       "True"
      ]
     },
     "execution_count": 9,
     "metadata": {},
     "output_type": "execute_result"
    }
   ],
   "source": [
    "x = 'Batman'\n",
    "x == 'Batman' #String always needs quotation marks, this is not a function, just an equality checker\n",
    "# Function has the arguments in their brackets, do not get confused!\n"
   ]
  },
  {
   "cell_type": "code",
   "execution_count": 10,
   "id": "d9b85dcb",
   "metadata": {},
   "outputs": [
    {
     "data": {
      "text/plain": [
       "False"
      ]
     },
     "execution_count": 10,
     "metadata": {},
     "output_type": "execute_result"
    }
   ],
   "source": [
    "x = 'Batman'\n",
    "x == 'Superman'"
   ]
  },
  {
   "cell_type": "markdown",
   "id": "5e4c7189",
   "metadata": {},
   "source": [
    "### 1.6 Use if to make decisions"
   ]
  },
  {
   "cell_type": "code",
   "execution_count": 11,
   "id": "74b5efb1",
   "metadata": {},
   "outputs": [
    {
     "name": "stdout",
     "output_type": "stream",
     "text": [
      "Batman\n",
      "Hello my favourite superhero | Batman!\n"
     ]
    }
   ],
   "source": [
    "\n",
    "name = input()\n",
    "\n",
    "if name == 'Batman':\n",
    "    print('Hello my favourite superhero | Batman!')\n",
    "elif name == 'Wolverine':\n",
    "    print('Who the hell are you?')\n",
    "else: \n",
    "    print('I dont know anymore')"
   ]
  },
  {
   "cell_type": "code",
   "execution_count": 12,
   "id": "925ea4c1",
   "metadata": {},
   "outputs": [
    {
     "name": "stdout",
     "output_type": "stream",
     "text": [
      "Wolverine\n",
      "Who the hell are you?\n"
     ]
    }
   ],
   "source": [
    "\n",
    "name = input()\n",
    "\n",
    "if name == 'Batman':\n",
    "    print('Hello my favourite superhero | Batman!')\n",
    "elif name == 'Wolverine':\n",
    "    print('Who the hell are you?')\n",
    "else: \n",
    "    print('I dont know anymore')"
   ]
  },
  {
   "cell_type": "code",
   "execution_count": 13,
   "id": "6ce1e1e4",
   "metadata": {},
   "outputs": [
    {
     "name": "stdout",
     "output_type": "stream",
     "text": [
      "capybara\n",
      "I dont know anymore\n"
     ]
    }
   ],
   "source": [
    "\n",
    "name = input()\n",
    "\n",
    "if name == 'Batman':\n",
    "    print('Hello my favourite superhero | Batman!')\n",
    "elif name == 'Wolverine':\n",
    "    print('Who the hell are you?')\n",
    "else: \n",
    "    print('I dont know anymore')"
   ]
  },
  {
   "cell_type": "markdown",
   "id": "cf3af60a",
   "metadata": {},
   "source": [
    "### About the above -> ESC C V to repeat the paragraph of code in another code cell below"
   ]
  },
  {
   "cell_type": "markdown",
   "id": "742df2c0",
   "metadata": {},
   "source": [
    "### 1.7 Indentations (spaces) are sooo IMPORTANT!"
   ]
  },
  {
   "cell_type": "code",
   "execution_count": 14,
   "id": "12db78f4",
   "metadata": {},
   "outputs": [
    {
     "name": "stdout",
     "output_type": "stream",
     "text": [
      "10\n"
     ]
    }
   ],
   "source": [
    "\n",
    "x = 10 \n",
    "print(x)\n"
   ]
  },
  {
   "cell_type": "code",
   "execution_count": 15,
   "id": "c91692b3",
   "metadata": {},
   "outputs": [
    {
     "ename": "IndentationError",
     "evalue": "unexpected indent (2703623731.py, line 2)",
     "output_type": "error",
     "traceback": [
      "\u001b[1;36m  Cell \u001b[1;32mIn [15], line 2\u001b[1;36m\u001b[0m\n\u001b[1;33m    print(x)\u001b[0m\n\u001b[1;37m    ^\u001b[0m\n\u001b[1;31mIndentationError\u001b[0m\u001b[1;31m:\u001b[0m unexpected indent\n"
     ]
    }
   ],
   "source": [
    "x = 10\n",
    "    print(x) #Indentation error as tab used, Python automatically indents for you (most of the time) -> for now just remember indents follow colon sign"
   ]
  },
  {
   "cell_type": "code",
   "execution_count": 16,
   "id": "ad74cc60",
   "metadata": {},
   "outputs": [
    {
     "ename": "IndentationError",
     "evalue": "unexpected indent (2417106098.py, line 2)",
     "output_type": "error",
     "traceback": [
      "\u001b[1;36m  Cell \u001b[1;32mIn [16], line 2\u001b[1;36m\u001b[0m\n\u001b[1;33m    print(x) #<space> used here so it wont work no output\u001b[0m\n\u001b[1;37m    ^\u001b[0m\n\u001b[1;31mIndentationError\u001b[0m\u001b[1;31m:\u001b[0m unexpected indent\n"
     ]
    }
   ],
   "source": [
    "x=10 # indent means sub-function\n",
    " print(x) #<space> used here so it wont work no output\n",
    "    print(x) #<tab> used here so it wont work no output"
   ]
  },
  {
   "cell_type": "code",
   "execution_count": 17,
   "id": "be485372",
   "metadata": {},
   "outputs": [
    {
     "ename": "IndentationError",
     "evalue": "unexpected indent (505851124.py, line 2)",
     "output_type": "error",
     "traceback": [
      "\u001b[1;36m  Cell \u001b[1;32mIn [17], line 2\u001b[1;36m\u001b[0m\n\u001b[1;33m    print(x) #<tab> used here so it wont work no output\u001b[0m\n\u001b[1;37m    ^\u001b[0m\n\u001b[1;31mIndentationError\u001b[0m\u001b[1;31m:\u001b[0m unexpected indent\n"
     ]
    }
   ],
   "source": [
    "x=10 # indent means sub-function\n",
    "    print(x) #<tab> used here so it wont work no output"
   ]
  },
  {
   "cell_type": "markdown",
   "id": "acb5fd73",
   "metadata": {},
   "source": [
    "### 1.8 ‘age’ is English, age is a variable."
   ]
  },
  {
   "cell_type": "code",
   "execution_count": 20,
   "id": "595be62c",
   "metadata": {},
   "outputs": [
    {
     "name": "stdout",
     "output_type": "stream",
     "text": [
      "21\n",
      "whats_9_plus_10\n"
     ]
    }
   ],
   "source": [
    "\n",
    "whats_9_plus_10 = 21\n",
    "print(whats_9_plus_10) #this is the stored information in the variable \n",
    "print('whats_9_plus_10') #this is the string denoted by quotation marks\n"
   ]
  },
  {
   "cell_type": "markdown",
   "id": "5297039c",
   "metadata": {},
   "source": [
    "### Quick recap on backticks\n",
    "`\n",
    "print('capybara')\n",
    "print('ok i pull up')\n",
    "`\n",
    "\n",
    "```\n",
    "print('capybara')\n",
    "print('ok i pull up')\n",
    "```\n",
    "\n",
    "I would normally use `print()` to print a function. ***Code block formed by 3 backticks***\n",
    "\n",
    "If i were to `print()` two lines, i would do the following: \n",
    "```\n",
    "print('capybaby')\n",
    "print('ok u pull up')\n",
    "```\n",
    "***used for styling purposes to help me write instructions for myself***"
   ]
  },
  {
   "cell_type": "markdown",
   "id": "9c15b7fd",
   "metadata": {},
   "source": [
    "### 1.9 Escape sequences"
   ]
  },
  {
   "cell_type": "code",
   "execution_count": 22,
   "id": "8cdc86ac",
   "metadata": {},
   "outputs": [
    {
     "name": "stdout",
     "output_type": "stream",
     "text": [
      "You're twenty years old\n"
     ]
    }
   ],
   "source": [
    "\n",
    "print('You\\'re twenty years old') #Single quote\n"
   ]
  },
  {
   "cell_type": "code",
   "execution_count": 24,
   "id": "08c925fd",
   "metadata": {},
   "outputs": [
    {
     "ename": "SyntaxError",
     "evalue": "invalid syntax (1400394096.py, line 1)",
     "output_type": "error",
     "traceback": [
      "\u001b[1;36m  Cell \u001b[1;32mIn [24], line 1\u001b[1;36m\u001b[0m\n\u001b[1;33m    print('You're twenty years old')\u001b[0m\n\u001b[1;37m               ^\u001b[0m\n\u001b[1;31mSyntaxError\u001b[0m\u001b[1;31m:\u001b[0m invalid syntax\n"
     ]
    }
   ],
   "source": [
    "\n",
    "print('You're twenty years old')\n",
    "# Point of escape sequence is for python to take note to ignore the special character right now!!!"
   ]
  },
  {
   "cell_type": "code",
   "execution_count": 30,
   "id": "cb899d9a",
   "metadata": {},
   "outputs": [
    {
     "name": "stdout",
     "output_type": "stream",
     "text": [
      "you're \\ 20 y/o\n"
     ]
    }
   ],
   "source": [
    "print('you\\'re \\\\ 20 y/o' ) #\\\\ just inserts ONE backslash -- handy e.g. when writing guide but need \\ to show up but not as a code"
   ]
  },
  {
   "cell_type": "code",
   "execution_count": 29,
   "id": "eb56bfe8",
   "metadata": {},
   "outputs": [
    {
     "name": "stdout",
     "output_type": "stream",
     "text": [
      "you're \n",
      " 20 y/o\n"
     ]
    }
   ],
   "source": [
    "print('you\\'re \\n 20 y/o' ) #\\n puts a new line "
   ]
  },
  {
   "cell_type": "code",
   "execution_count": 28,
   "id": "8b8efeb7",
   "metadata": {},
   "outputs": [
    {
     "name": "stdout",
     "output_type": "stream",
     "text": [
      "you're \t 20 y/o\n"
     ]
    }
   ],
   "source": [
    "print('you\\'re \\t 20 y/o' ) #\\t puts a horizontal tab in between the words"
   ]
  },
  {
   "cell_type": "markdown",
   "id": "0a62517b",
   "metadata": {},
   "source": [
    "### 1.10 Brackets"
   ]
  },
  {
   "cell_type": "code",
   "execution_count": 31,
   "id": "33df9563",
   "metadata": {},
   "outputs": [
    {
     "name": "stdout",
     "output_type": "stream",
     "text": [
      "hello!\n"
     ]
    }
   ],
   "source": [
    "\n",
    "print('hello!') #() these brackets are used in function"
   ]
  },
  {
   "cell_type": "code",
   "execution_count": 32,
   "id": "54e0afc7",
   "metadata": {},
   "outputs": [
    {
     "data": {
      "text/plain": [
       "15"
      ]
     },
     "execution_count": 32,
     "metadata": {},
     "output_type": "execute_result"
    }
   ],
   "source": [
    "(1+2)*5 #() used in BODMAS for math"
   ]
  },
  {
   "cell_type": "code",
   "execution_count": 35,
   "id": "084056fe",
   "metadata": {},
   "outputs": [
    {
     "name": "stdout",
     "output_type": "stream",
     "text": [
      "[1, 2, 3, 4, 5]\n",
      "[[1, 'A'], [2, 'B'], [3, 'C']]\n"
     ]
    }
   ],
   "source": [
    "py_list = [1,2,3,4,5] #A 1D list\n",
    "\n",
    "py_list_2 = [[1, 'A'], [2, 'B'], [3, 'C']]\n",
    "\n",
    "print(py_list)\n",
    "print(py_list_2)\n",
    "\n",
    "#[] USED FOR LISTS OF DATA "
   ]
  },
  {
   "cell_type": "code",
   "execution_count": 38,
   "id": "4907b02b",
   "metadata": {},
   "outputs": [
    {
     "name": "stdout",
     "output_type": "stream",
     "text": [
      "Bruce Wayne\n",
      "55\n"
     ]
    }
   ],
   "source": [
    "personal_info = {\n",
    "    'Names': 'Batman',\n",
    "    'real name':'Bruce Wayne',\n",
    "    'Age': 55,\n",
    "    'Affliation':'Justice League',\n",
    "    'Universe':'DC'\n",
    "}\n",
    "#SYNTAX FOR HOW A DISCTIONARY IS MADE LEFT SIDE OF QUOTATION MARK IS KEY AND ON THE OTHER SIDE IS VALUE\n",
    "#DICTIONARY IS LIKE A FOLDER\n",
    "\n",
    "print(personal_info['real name'])\n",
    "print(personal_info['Age']) #KEY AND VALUE FORMAT OF ARGUMENT"
   ]
  },
  {
   "cell_type": "markdown",
   "id": "df2f37c9",
   "metadata": {},
   "source": [
    "## 2 Giving Python superpowers"
   ]
  },
  {
   "cell_type": "markdown",
   "id": "1d4e27e9",
   "metadata": {},
   "source": [
    "### 2.1 Packages"
   ]
  },
  {
   "cell_type": "code",
   "execution_count": 39,
   "id": "e6f1dbf8",
   "metadata": {},
   "outputs": [],
   "source": [
    "\n",
    "import math #Adding (importing) functions\n",
    "            # of the 'math' package\n"
   ]
  },
  {
   "cell_type": "code",
   "execution_count": 40,
   "id": "c86a190a",
   "metadata": {},
   "outputs": [
    {
     "data": {
      "text/plain": [
       "2.0"
      ]
     },
     "execution_count": 40,
     "metadata": {},
     "output_type": "execute_result"
    }
   ],
   "source": [
    "math.sqrt(4)"
   ]
  },
  {
   "cell_type": "code",
   "execution_count": 53,
   "id": "09a59936",
   "metadata": {},
   "outputs": [
    {
     "data": {
      "text/plain": [
       "1j"
      ]
     },
     "execution_count": 53,
     "metadata": {},
     "output_type": "execute_result"
    }
   ],
   "source": [
    "import numpy as np\n",
    "\n",
    "x = -1\n",
    "y=complex(x) # make x into complex number first then sqrt\n",
    " \n",
    "(np.sqrt(y))"
   ]
  },
  {
   "cell_type": "code",
   "execution_count": 52,
   "id": "9dd6a07a",
   "metadata": {},
   "outputs": [
    {
     "data": {
      "text/plain": [
       "array([2., 3., 4.])"
      ]
     },
     "execution_count": 52,
     "metadata": {},
     "output_type": "execute_result"
    }
   ],
   "source": [
    "np.sqrt([4, 9, 16])"
   ]
  },
  {
   "cell_type": "markdown",
   "id": "96615c93",
   "metadata": {},
   "source": [
    "### 2.2 The dot (.)"
   ]
  },
  {
   "cell_type": "code",
   "execution_count": 54,
   "id": "05a6e5ae",
   "metadata": {},
   "outputs": [
    {
     "data": {
      "text/plain": [
       "['i', 'am', 'batman']"
      ]
     },
     "execution_count": 54,
     "metadata": {},
     "output_type": "execute_result"
    }
   ],
   "source": [
    "\n",
    "\"i am batman\".split() #you have split the word"
   ]
  },
  {
   "cell_type": "code",
   "execution_count": 55,
   "id": "826b506d",
   "metadata": {},
   "outputs": [
    {
     "ename": "SyntaxError",
     "evalue": "invalid syntax (259880844.py, line 1)",
     "output_type": "error",
     "traceback": [
      "\u001b[1;36m  Cell \u001b[1;32mIn [55], line 1\u001b[1;36m\u001b[0m\n\u001b[1;33m    1234.split\u001b[0m\n\u001b[1;37m         ^\u001b[0m\n\u001b[1;31mSyntaxError\u001b[0m\u001b[1;31m:\u001b[0m invalid syntax\n"
     ]
    }
   ],
   "source": [
    "1234.split"
   ]
  },
  {
   "cell_type": "markdown",
   "id": "e721ddf5",
   "metadata": {},
   "source": [
    "## Exercise 1 :  Total recall?"
   ]
  },
  {
   "cell_type": "markdown",
   "id": "e769dc0e",
   "metadata": {},
   "source": [
    "\n",
    "\n",
    "\n",
    "packages, functions, variables, arguments, strings, comments, dictionary (key and value)\n",
    "\n",
    "*indentations, 1 equals sign and double equals sign, brackets, escape sequences, if to make decisions, python is sensitive, interpreted, the dot*\n",
    "\n",
    "\n"
   ]
  },
  {
   "cell_type": "markdown",
   "id": "b9278eb0",
   "metadata": {},
   "source": [
    "## Exercise 2 :  Debug me"
   ]
  },
  {
   "cell_type": "code",
   "execution_count": 57,
   "id": "9bcafd77",
   "metadata": {},
   "outputs": [
    {
     "name": "stdout",
     "output_type": "stream",
     "text": [
      "7\n",
      "25\n"
     ]
    }
   ],
   "source": [
    "x = 3\n",
    "\n",
    "y = 4\n",
    "\n",
    "z = x^2 + y^2\n",
    "\n",
    "print(z)\n",
    "\n",
    "#^ DOES NOT MEAN RAISE TO THE POWER OF\n",
    "\n",
    "z = x**2 + y**2\n",
    "\n",
    "print(z)\n"
   ]
  },
  {
   "cell_type": "code",
   "execution_count": 63,
   "id": "1b4957d8",
   "metadata": {},
   "outputs": [
    {
     "name": "stdout",
     "output_type": "stream",
     "text": [
      "7\n",
      "3 4 5.0\n"
     ]
    }
   ],
   "source": [
    "x = 3\n",
    "\n",
    "y = 4\n",
    "\n",
    "z = x^2 + y^2\n",
    "\n",
    "print(z)\n",
    "\n",
    "#^ DOES NOT MEAN RAISE TO THE POWER OF, CALCULATIONS DONE UNDER CODE, MARKDOWN IS FOR DISPLAY\n",
    "\n",
    "z2 = x**2 + y**2\n",
    "\n",
    "z = math.sqrt(z2) #LATEST VALUE OF z TAKEN\n",
    "\n",
    "print(x, y, z)"
   ]
  },
  {
   "cell_type": "markdown",
   "id": "07d84b06",
   "metadata": {},
   "source": [
    "## Exercise 3 :  In your own words"
   ]
  },
  {
   "cell_type": "markdown",
   "id": "4771bdf8",
   "metadata": {},
   "source": [
    "| # | Term | Description |\n",
    "| :--- | :--: | ---:     |\n",
    "| 1  | Function | Named sequence of statements that performs a computation. there are built-in functions that can be used without providing function defintions. \n",
    "| 2 | Arguments | Can be a string (str - marked by quotation marks) floating point data type (float)or integer (int) data type. To be accepted by the function, for the correct output to be produced. In between brackets that follow a function. Can also be used after an input frunction like input('Enter the file name:')\n",
    "| 3 | Comments | Notes to my code to explain what my code is doing and why, can be placed at the end of the line or as a separate line itself. Whatever follows the # does not affect the code. \n",
    "| 4 | Indentations | Used by python to separate True and False blocks. Follows reserved words (e.g. if, elif, from) when making loops. Used in paragraphs of code, ensures certain codes are at the same level, ensures codes follow the correct sequence and the iteration variables involved in a loop finish correctly.\n",
    "| 5 | Packages | Importing them embeds our currently running python with new functions. There are of different variations and capabilities. Used to overcome any limitations you face while coding, the packages will import new functions that can get our desired output\n",
    "| 6 | **.** | the dot shows ownership. Dot accesses the functions and attributes of built-in fucntions of python, to be placed before the function that we want to use on the data that we type out (can be integer, floating point or string type). \n"
   ]
  },
  {
   "cell_type": "markdown",
   "id": "e5a2aa83",
   "metadata": {},
   "source": [
    "## Exercise 4 :  More than one way to divide"
   ]
  },
  {
   "cell_type": "code",
   "execution_count": 1,
   "id": "d9dedd48",
   "metadata": {},
   "outputs": [
    {
     "data": {
      "text/plain": [
       "2.5"
      ]
     },
     "execution_count": 1,
     "metadata": {},
     "output_type": "execute_result"
    }
   ],
   "source": [
    "5/2 # ouput of this value is a floating point data type, see code below, \n",
    "    # the output of this code is the exact answer of the divsion of the value on the left to the value of the right.\n",
    "\n",
    "\n"
   ]
  },
  {
   "cell_type": "code",
   "execution_count": 4,
   "id": "6ca591f3",
   "metadata": {},
   "outputs": [
    {
     "data": {
      "text/plain": [
       "float"
      ]
     },
     "execution_count": 4,
     "metadata": {},
     "output_type": "execute_result"
    }
   ],
   "source": [
    "type(2.5)"
   ]
  },
  {
   "cell_type": "code",
   "execution_count": 2,
   "id": "8615d381",
   "metadata": {},
   "outputs": [
    {
     "data": {
      "text/plain": [
       "2"
      ]
     },
     "execution_count": 2,
     "metadata": {},
     "output_type": "execute_result"
    }
   ],
   "source": [
    "5//2 # // shows the quotient of the division of the value on the left by the value on the right. \n",
    "    ''''''# 5/2 gives a quotient 2 and a remainder 1. Gives integer data type (see code below)."
   ]
  },
  {
   "cell_type": "markdown",
   "id": "74543512",
   "metadata": {},
   "source": [
    "***Be concise with notes, break into multiple lines, don't scroll side to side***"
   ]
  },
  {
   "cell_type": "code",
   "execution_count": 5,
   "id": "ba00d7f7",
   "metadata": {},
   "outputs": [
    {
     "data": {
      "text/plain": [
       "int"
      ]
     },
     "execution_count": 5,
     "metadata": {},
     "output_type": "execute_result"
    }
   ],
   "source": [
    "type(2)"
   ]
  },
  {
   "cell_type": "code",
   "execution_count": 3,
   "id": "777330ce",
   "metadata": {},
   "outputs": [
    {
     "data": {
      "text/plain": [
       "1"
      ]
     },
     "execution_count": 3,
     "metadata": {},
     "output_type": "execute_result"
    }
   ],
   "source": [
    "5%2 #ouput is 1 as the % sign means divide the value on the left with the value on the right and \n",
    "    #show me the remainder as the ouput. 5/2 gives a quotient 2 with a remainder 1. Gives integer data type (see code below)"
   ]
  },
  {
   "cell_type": "code",
   "execution_count": 6,
   "id": "1b795688",
   "metadata": {},
   "outputs": [
    {
     "data": {
      "text/plain": [
       "int"
      ]
     },
     "execution_count": 6,
     "metadata": {},
     "output_type": "execute_result"
    }
   ],
   "source": [
    "type(1)"
   ]
  },
  {
   "cell_type": "code",
   "execution_count": null,
   "id": "6a089604",
   "metadata": {},
   "outputs": [],
   "source": []
  }
 ],
 "metadata": {
  "kernelspec": {
   "display_name": "Python 3 (ipykernel)",
   "language": "python",
   "name": "python3"
  },
  "language_info": {
   "codemirror_mode": {
    "name": "ipython",
    "version": 3
   },
   "file_extension": ".py",
   "mimetype": "text/x-python",
   "name": "python",
   "nbconvert_exporter": "python",
   "pygments_lexer": "ipython3",
   "version": "3.9.12"
  },
  "toc": {
   "base_numbering": 1,
   "nav_menu": {},
   "number_sections": true,
   "sideBar": true,
   "skip_h1_title": false,
   "title_cell": "Table of Contents",
   "title_sidebar": "Contents",
   "toc_cell": false,
   "toc_position": {},
   "toc_section_display": true,
   "toc_window_display": false
  },
  "vscode": {
   "interpreter": {
    "hash": "31f2aee4e71d21fbe5cf8b01ff0e069b9275f58929596ceb00d14d90e3e16cd6"
   }
  }
 },
 "nbformat": 4,
 "nbformat_minor": 5
}
