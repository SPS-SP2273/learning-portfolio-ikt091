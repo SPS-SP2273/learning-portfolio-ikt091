{
 "cells": [
  {
   "cell_type": "markdown",
   "id": "123456",
   "metadata": {},
   "source": [
    "<div style=\"text-align:left;font-size:2em\"><span style=\"font-weight:bolder;font-size:1.25em\">SP2273 | Learning Portfolio</span><br><br><span style=\"font-weight:bold;color:darkred\">Basics (Good)</span></div>"
   ]
  },
  {
   "cell_type": "markdown",
   "id": "e7746aaa",
   "metadata": {},
   "source": [
    "## 1 More Python Basics"
   ]
  },
  {
   "cell_type": "markdown",
   "id": "df69d6f0",
   "metadata": {},
   "source": [
    "### 1.1 Computers read = from Right to Left!"
   ]
  },
  {
   "cell_type": "code",
   "execution_count": 2,
   "id": "32a248c3",
   "metadata": {},
   "outputs": [
    {
     "name": "stdout",
     "output_type": "stream",
     "text": [
      "42\n",
      "44\n"
     ]
    }
   ],
   "source": [
    "\n",
    "x = 40 #This is an assignmenty statement\n",
    "y = x + 2 # There are 2 steps here, add 2 to x, THEN make y equal to 42 \n",
    "# Right to left reading happening, the '=' sign is a <- arrow (arrow pointing to the left)\n",
    "print(y)\n",
    "\n",
    "y = y + 2 # New value of y happening\n",
    "print(y)\n"
   ]
  },
  {
   "cell_type": "markdown",
   "id": "69ab6519",
   "metadata": {},
   "source": [
    "### 1.2 Shorter and cleaner"
   ]
  },
  {
   "cell_type": "code",
   "execution_count": 6,
   "id": "96e517d7",
   "metadata": {},
   "outputs": [
    {
     "data": {
      "text/plain": [
       "42"
      ]
     },
     "execution_count": 6,
     "metadata": {},
     "output_type": "execute_result"
    }
   ],
   "source": [
    "y = 40\n",
    "y += 2 # SAME AS y = y + 2 \n",
    "\n",
    "y # This is not the same as print(y)\n"
   ]
  },
  {
   "cell_type": "code",
   "execution_count": 5,
   "id": "969d265a",
   "metadata": {},
   "outputs": [
    {
     "data": {
      "text/plain": [
       "2"
      ]
     },
     "execution_count": 5,
     "metadata": {},
     "output_type": "execute_result"
    }
   ],
   "source": [
    "y = 40\n",
    "y += 2 # SAME AS y = y + 2 \n",
    "y =+ 2 # NOT THE SAME AS y = y + 2, it is just = 2\n",
    "y # This is not the same as print(y)\n"
   ]
  },
  {
   "cell_type": "code",
   "execution_count": 8,
   "id": "a6d1c05a",
   "metadata": {},
   "outputs": [
    {
     "data": {
      "text/plain": [
       "38"
      ]
     },
     "execution_count": 8,
     "metadata": {},
     "output_type": "execute_result"
    }
   ],
   "source": [
    "y = 40\n",
    "y -= 2 # SAME AS y = y - 2 \n",
    "\n",
    "y # This is not the same as print(y)\n"
   ]
  },
  {
   "cell_type": "code",
   "execution_count": 7,
   "id": "d1377c7a",
   "metadata": {},
   "outputs": [
    {
     "data": {
      "text/plain": [
       "80"
      ]
     },
     "execution_count": 7,
     "metadata": {},
     "output_type": "execute_result"
    }
   ],
   "source": [
    "y = 40\n",
    "y *= 2 # SAME AS y = y * 2 \n",
    "\n",
    "y # This is not the same as print(y)\n"
   ]
  },
  {
   "cell_type": "code",
   "execution_count": 10,
   "id": "c356818a",
   "metadata": {},
   "outputs": [
    {
     "data": {
      "text/plain": [
       "20.0"
      ]
     },
     "execution_count": 10,
     "metadata": {},
     "output_type": "execute_result"
    }
   ],
   "source": [
    "y = 40\n",
    "y /= 2 # SAME AS y = y / 2 \n",
    "\n",
    "y # This is not the same as print(y)\n",
    "\n",
    "# RECAP from basics(need) '/' gives float type value, // gives int type value (quotient) ''%' gives remainder int type value"
   ]
  },
  {
   "cell_type": "markdown",
   "id": "7fee1f28",
   "metadata": {},
   "source": [
    "### 1.3 Asking questions"
   ]
  },
  {
   "cell_type": "code",
   "execution_count": 12,
   "id": "474f592f",
   "metadata": {},
   "outputs": [
    {
     "data": {
      "text/plain": [
       "True"
      ]
     },
     "execution_count": 12,
     "metadata": {},
     "output_type": "execute_result"
    }
   ],
   "source": [
    "# two LISTS that could very well be my grocery shopping list\n",
    "fruits = ['apple','banana','pineapple','jackfruit']\n",
    "vegetables = ['celery','potato','broccoli','kale'] \n",
    "\n",
    "'apple' in fruits # Returns boolean value, on whether the sting (or whatever data type) is in the list or not"
   ]
  },
  {
   "cell_type": "code",
   "execution_count": 18,
   "id": "679b5bde",
   "metadata": {},
   "outputs": [
    {
     "data": {
      "text/plain": [
       "True"
      ]
     },
     "execution_count": 18,
     "metadata": {},
     "output_type": "execute_result"
    }
   ],
   "source": [
    "# two LISTS that could very well be my grocery shopping list\n",
    "fruits = ['apple','banana','pineapple','jackfruit']\n",
    "vegetables = ['celery','potato','broccoli','kale'] \n",
    "\n",
    "['apple', 'banana', 'pineapple', 'jackfruit'] == fruits # Returns boolean value, on whether the entire list specified has the exact same data as the list or not\n"
   ]
  },
  {
   "cell_type": "code",
   "execution_count": 17,
   "id": "eadf7928",
   "metadata": {},
   "outputs": [
    {
     "data": {
      "text/plain": [
       "False"
      ]
     },
     "execution_count": 17,
     "metadata": {},
     "output_type": "execute_result"
    }
   ],
   "source": [
    "# two LISTS that could very well be my grocery shopping list\n",
    "fruits = ['apple','banana','pineapple','jackfruit']\n",
    "vegetables = ['celery','potato','broccoli','kale'] \n",
    "\n",
    "['banana','apple','jackfruit','pineapple'] == fruits \n",
    "\n",
    "#ARRANGEMENT OF THE DATA IN THE LIST MATTERS"
   ]
  },
  {
   "cell_type": "code",
   "execution_count": 19,
   "id": "1deecb84",
   "metadata": {},
   "outputs": [
    {
     "data": {
      "text/plain": [
       "False"
      ]
     },
     "execution_count": 19,
     "metadata": {},
     "output_type": "execute_result"
    }
   ],
   "source": [
    "# two LISTS that could very well be my grocery shopping list\n",
    "fruits = ['apple','banana','pineapple','jackfruit']\n",
    "vegetables = ['celery','potato','broccoli','kale'] \n",
    "\n",
    "'peach' in fruits"
   ]
  },
  {
   "cell_type": "code",
   "execution_count": 21,
   "id": "f8d27ab3",
   "metadata": {},
   "outputs": [
    {
     "data": {
      "text/plain": [
       "True"
      ]
     },
     "execution_count": 21,
     "metadata": {},
     "output_type": "execute_result"
    }
   ],
   "source": [
    "# two LISTS that could very well be my grocery shopping list\n",
    "fruits = ['apple','banana','pineapple','jackfruit']\n",
    "vegetables = ['celery','potato','broccoli','kale'] \n",
    "\n",
    "'peach' not in fruits # Confirming whether a particular data is NOT in the list "
   ]
  },
  {
   "cell_type": "code",
   "execution_count": 23,
   "id": "ad902774",
   "metadata": {},
   "outputs": [
    {
     "data": {
      "text/plain": [
       "True"
      ]
     },
     "execution_count": 23,
     "metadata": {},
     "output_type": "execute_result"
    }
   ],
   "source": [
    "# two LISTS that could very well be my grocery shopping list\n",
    "fruits = ['apple','banana','pineapple','jackfruit']\n",
    "vegetables = ['celery','potato','broccoli','kale'] \n",
    "\n",
    "('apple' in fruits) and ('celery' in vegetables) #boolean value returned for this question"
   ]
  },
  {
   "cell_type": "code",
   "execution_count": 24,
   "id": "f34a8f32",
   "metadata": {},
   "outputs": [
    {
     "data": {
      "text/plain": [
       "False"
      ]
     },
     "execution_count": 24,
     "metadata": {},
     "output_type": "execute_result"
    }
   ],
   "source": [
    "# two LISTS that could very well be my grocery shopping list\n",
    "fruits = ['apple','banana','pineapple','jackfruit']\n",
    "vegetables = ['celery','potato','broccoli','kale'] \n",
    "\n",
    "('apple' in fruits) and ('sweet potato' in vegetables) #boolean value returned for this question, even if one of them do not belong in the list, you gat a false"
   ]
  },
  {
   "cell_type": "code",
   "execution_count": 26,
   "id": "884c24f6",
   "metadata": {},
   "outputs": [
    {
     "data": {
      "text/plain": [
       "False"
      ]
     },
     "execution_count": 26,
     "metadata": {},
     "output_type": "execute_result"
    }
   ],
   "source": [
    "# two LISTS that could very well be my grocery shopping list\n",
    "fruits = ['apple','banana','pineapple','jackfruit']\n",
    "vegetables = ['celery','potato','broccoli','kale'] \n",
    "\n",
    "('apple' in fruits) and ('sweet potato' in vegetables) #boolean value returned for this question, even if one of them do not belong in the list, you gat a True"
   ]
  },
  {
   "cell_type": "code",
   "execution_count": 25,
   "id": "edd723e4",
   "metadata": {},
   "outputs": [
    {
     "data": {
      "text/plain": [
       "True"
      ]
     },
     "execution_count": 25,
     "metadata": {},
     "output_type": "execute_result"
    }
   ],
   "source": [
    "# two LISTS that could very well be my grocery shopping list\n",
    "fruits = ['apple','banana','pineapple','jackfruit']\n",
    "vegetables = ['celery','potato','broccoli','kale'] \n",
    "\n",
    "('apple' in fruits) or ('sweet potato' in vegetables) #boolean value returned for this question, even if one of them do not belong in the list but the other belongs in their respective list, you gat a True"
   ]
  },
  {
   "cell_type": "markdown",
   "id": "bd0a8764",
   "metadata": {},
   "source": [
    "### practice the table generator \n",
    "\n",
    "***Remember to convert the cell to a markdown for a table to appear***\n",
    "\n",
    "| Question/Condition     | Math Symbol | Python Symbols |   |   |\n",
    "|------------------------|-------------|----------------|---|---|\n",
    "| Equals?                | =           | ==             |   |   |\n",
    "| Not equal?             | =/=         | !=             |   |   |\n",
    "| less than?             | <           | <              |   |   |\n",
    "| greater than?          | >           | >              |   |   |\n",
    "| less than or equal?    | =< lol      | <=  JUST REMEMBER THE WAY YOU SAY THIS IN ENGLISH, THE SEQUENCE IN WHICH 'LESS THAN' AND 'EQUAL IS SPOKEN           |   |   |\n",
    "| greater than or equal? | >= lol      | >=  JUST REMEMBER THE WAY YOU SAY THIS IN ENGLISH, THE SEQUENCE IN WHICH 'MORE THAN' AND 'EQUAL IS SPOKEN           |   |   |"
   ]
  },
  {
   "cell_type": "code",
   "execution_count": 28,
   "id": "b365d031",
   "metadata": {},
   "outputs": [
    {
     "data": {
      "text/plain": [
       "False"
      ]
     },
     "execution_count": 28,
     "metadata": {},
     "output_type": "execute_result"
    }
   ],
   "source": [
    "'apples' > 'oranges' \n",
    "\n",
    "#Letters happen to be numbered by Python already"
   ]
  },
  {
   "cell_type": "code",
   "execution_count": 31,
   "id": "70dfef35",
   "metadata": {},
   "outputs": [
    {
     "data": {
      "text/plain": [
       "True"
      ]
     },
     "execution_count": 31,
     "metadata": {},
     "output_type": "execute_result"
    }
   ],
   "source": [
    "( x > 5 ) and ( x < 15 ) == (5 < x < 15)\n",
    "\n",
    "#ENSURE YOUR RANGES ARE CLOSED BY BRACKETS"
   ]
  },
  {
   "cell_type": "markdown",
   "id": "103f152e",
   "metadata": {},
   "source": [
    "### 1.4 There is more to if"
   ]
  },
  {
   "cell_type": "code",
   "execution_count": 1,
   "id": "c439ffa3",
   "metadata": {},
   "outputs": [
    {
     "name": "stdout",
     "output_type": "stream",
     "text": [
      "Antagonist statement:you didnt learn your limitations\n",
      "I have no limitations\n"
     ]
    }
   ],
   "source": [
    "\n",
    "Protagonist_answer = 'I have no limitations'\n",
    "\n",
    "Protagonist_reply = 'Oh yea, what do you think?'\n",
    "\n",
    "Antagonist_statement = input('Antagonist statement:')\n",
    "\n",
    "if Antagonist_statement == 'you didnt learn your limitations':\n",
    "    print(Protagonist_answer)\n",
    "    \n",
    "elif Antagonist_statement == 'didnt know what i would think when i saw you':\n",
    "    print(Protagonist_reply)\n",
    "    \n",
    "else:\n",
    "    print('I will continue until I find the man I cant defeat')\n",
    "    \n"
   ]
  },
  {
   "cell_type": "code",
   "execution_count": 2,
   "id": "9ae8259f",
   "metadata": {},
   "outputs": [
    {
     "name": "stdout",
     "output_type": "stream",
     "text": [
      "Antagonist statement:didnt know what i would think when i saw you\n",
      "Oh yea, what do you think?\n"
     ]
    }
   ],
   "source": [
    "\n",
    "Protagonist_answer = 'I have no limitations'\n",
    "\n",
    "Protagonist_reply = 'Oh yea, what do you think?'\n",
    "\n",
    "Antagonist_statement = input('Antagonist statement:')\n",
    "\n",
    "if Antagonist_statement == 'you didnt learn your limitations':\n",
    "    print(Protagonist_answer)\n",
    "    \n",
    "elif Antagonist_statement == 'didnt know what i would think when i saw you':\n",
    "    print(Protagonist_reply)\n",
    "    \n",
    "else:\n",
    "    print('I will continue until I find the man I cant defeat')\n",
    "    \n"
   ]
  },
  {
   "cell_type": "code",
   "execution_count": 3,
   "id": "c312cf54",
   "metadata": {},
   "outputs": [
    {
     "name": "stdout",
     "output_type": "stream",
     "text": [
      "Antagonist statement:how are you doing tommy?\n",
      "I will continue until I find the man I cant defeat\n"
     ]
    }
   ],
   "source": [
    "\n",
    "Protagonist_answer = 'I have no limitations'\n",
    "\n",
    "Protagonist_reply = 'Oh yea, what do you think?'\n",
    "\n",
    "Antagonist_statement = input('Antagonist statement:')\n",
    "\n",
    "if Antagonist_statement == 'you didnt learn your limitations':\n",
    "    print(Protagonist_answer)\n",
    "    \n",
    "elif Antagonist_statement == 'didnt know what i would think when i saw you':\n",
    "    print(Protagonist_reply)\n",
    "    \n",
    "else:\n",
    "    print('I will continue until I find the man I cant defeat')\n",
    "    \n"
   ]
  },
  {
   "cell_type": "markdown",
   "id": "5ae85dbe",
   "metadata": {},
   "source": [
    "### 1.5 Python stores information in different formats or types."
   ]
  },
  {
   "cell_type": "code",
   "execution_count": 5,
   "id": "09469ec8",
   "metadata": {},
   "outputs": [
    {
     "data": {
      "text/plain": [
       "int"
      ]
     },
     "execution_count": 5,
     "metadata": {},
     "output_type": "execute_result"
    }
   ],
   "source": [
    "x = 3\n",
    "type(x)\n",
    "\n"
   ]
  },
  {
   "cell_type": "code",
   "execution_count": 9,
   "id": "85447dad",
   "metadata": {},
   "outputs": [
    {
     "name": "stdout",
     "output_type": "stream",
     "text": [
      "3.0\n"
     ]
    }
   ],
   "source": [
    "x = 3\n",
    "x=float(x)\n",
    "print(x)\n"
   ]
  },
  {
   "cell_type": "code",
   "execution_count": 6,
   "id": "deb31143",
   "metadata": {},
   "outputs": [
    {
     "data": {
      "text/plain": [
       "float"
      ]
     },
     "execution_count": 6,
     "metadata": {},
     "output_type": "execute_result"
    }
   ],
   "source": [
    "x = 3.0\n",
    "type(x)\n",
    "\n"
   ]
  },
  {
   "cell_type": "code",
   "execution_count": 10,
   "id": "51e35853",
   "metadata": {},
   "outputs": [
    {
     "name": "stdout",
     "output_type": "stream",
     "text": [
      "3\n"
     ]
    }
   ],
   "source": [
    "x = 3.0\n",
    "x = int(x)\n",
    "print(x)\n",
    "\n"
   ]
  },
  {
   "cell_type": "code",
   "execution_count": 12,
   "id": "2fe43ef7",
   "metadata": {},
   "outputs": [
    {
     "name": "stdout",
     "output_type": "stream",
     "text": [
      "3\n"
     ]
    }
   ],
   "source": [
    "x = 3.9\n",
    "x = int(x)\n",
    "print(x)\n",
    "\n",
    "# EVERYTHING ROUNDED DOWN WHEN TYPE CONVERSION TO IINTEGER HAPPENS"
   ]
  },
  {
   "cell_type": "code",
   "execution_count": 7,
   "id": "724a9c75",
   "metadata": {},
   "outputs": [
    {
     "data": {
      "text/plain": [
       "str"
      ]
     },
     "execution_count": 7,
     "metadata": {},
     "output_type": "execute_result"
    }
   ],
   "source": [
    "x = '3.0'\n",
    "type(x)\n",
    "\n",
    "#QUOTATION MARKS DENOTE A STRING TYPE VARIABLE"
   ]
  },
  {
   "cell_type": "code",
   "execution_count": 8,
   "id": "20d730f1",
   "metadata": {},
   "outputs": [
    {
     "name": "stdout",
     "output_type": "stream",
     "text": [
      "3.0 <class 'str'>\n"
     ]
    }
   ],
   "source": [
    "x = '3.0'\n",
    "print(x,type(x))\n",
    "\n",
    "#QUOTATION MARKS DENOTE A STRING TYPE VARIABLE"
   ]
  },
  {
   "cell_type": "markdown",
   "id": "ac4ffd12",
   "metadata": {},
   "source": [
    "### 1.6 Combining English and variables"
   ]
  },
  {
   "cell_type": "code",
   "execution_count": 13,
   "id": "78ddab3c",
   "metadata": {},
   "outputs": [
    {
     "name": "stdout",
     "output_type": "stream",
     "text": [
      "majima-chan!\n"
     ]
    }
   ],
   "source": [
    "NAME = 'majima'\n",
    "print(f'{NAME}-chan!')"
   ]
  },
  {
   "cell_type": "code",
   "execution_count": 14,
   "id": "824c369a",
   "metadata": {},
   "outputs": [
    {
     "name": "stdout",
     "output_type": "stream",
     "text": [
      "MAJIMA-chan!\n"
     ]
    }
   ],
   "source": [
    "NAME = 'majima'\n",
    "print(f'{NAME.upper()}-chan!')"
   ]
  },
  {
   "cell_type": "code",
   "execution_count": 17,
   "id": "4e226ed5",
   "metadata": {},
   "outputs": [
    {
     "name": "stdout",
     "output_type": "stream",
     "text": [
      "did you know that 2 plus 2 is 4??!\n"
     ]
    }
   ],
   "source": [
    "x = 2\n",
    "print(f'did you know that {x} plus 2 is {x+2}??!')"
   ]
  },
  {
   "cell_type": "code",
   "execution_count": 26,
   "id": "2a3e338b",
   "metadata": {},
   "outputs": [
    {
     "name": "stdout",
     "output_type": "stream",
     "text": [
      "Better Call Saul!                                 \n"
     ]
    }
   ],
   "source": [
    "text = 'Better Call Saul!'\n",
    "print(f'{text:<30}')\n",
    "\n",
    "#Block of 30 characters, aligned left"
   ]
  },
  {
   "cell_type": "code",
   "execution_count": 27,
   "id": "a560932c",
   "metadata": {},
   "outputs": [
    {
     "name": "stdout",
     "output_type": "stream",
     "text": [
      "                                 Better Call Saul!\n"
     ]
    }
   ],
   "source": [
    "text = 'Better Call Saul!'\n",
    "print(f'{text:>50}')\n",
    "\n",
    "# Block of 30 characters, aligned right"
   ]
  },
  {
   "cell_type": "code",
   "execution_count": 24,
   "id": "416ef1f7",
   "metadata": {},
   "outputs": [
    {
     "name": "stdout",
     "output_type": "stream",
     "text": [
      "      Better Call Saul!       \n"
     ]
    }
   ],
   "source": [
    "text = 'Better Call Saul!' \n",
    "print(f'{text:^30}')\n",
    "\n",
    "# Block of 30 characters, aligned centre"
   ]
  },
  {
   "cell_type": "code",
   "execution_count": 24,
   "id": "9c1e97c1",
   "metadata": {},
   "outputs": [
    {
     "name": "stdout",
     "output_type": "stream",
     "text": [
      "      Better Call Saul!       \n"
     ]
    }
   ],
   "source": [
    "text = 'Better Call Saul!' \n",
    "print(f'{text:^30}')\n",
    "\n",
    "# Block of 30 characters, aligned centre"
   ]
  },
  {
   "cell_type": "markdown",
   "id": "9ab590c5",
   "metadata": {},
   "source": [
    "### 1.7 Python can be a prima-donna."
   ]
  },
  {
   "cell_type": "code",
   "execution_count": 31,
   "id": "b82aad31",
   "metadata": {},
   "outputs": [
    {
     "ename": "NameError",
     "evalue": "name 'np' is not defined",
     "output_type": "error",
     "traceback": [
      "\u001b[1;31m---------------------------------------------------------------------------\u001b[0m",
      "\u001b[1;31mNameError\u001b[0m                                 Traceback (most recent call last)",
      "Cell \u001b[1;32mIn [31], line 1\u001b[0m\n\u001b[1;32m----> 1\u001b[0m \u001b[38;5;28mprint\u001b[39m(\u001b[38;5;124mf\u001b[39m\u001b[38;5;124m'\u001b[39m\u001b[38;5;124mThe cube of pi to 6 decimal places is \u001b[39m\u001b[38;5;132;01m{\u001b[39;00mnp\u001b[38;5;241m.\u001b[39mpi\u001b[38;5;241m*\u001b[39m\u001b[38;5;241m*\u001b[39m\u001b[38;5;241m3\u001b[39m\u001b[38;5;132;01m:\u001b[39;00m\u001b[38;5;124m.6f\u001b[39m\u001b[38;5;132;01m}\u001b[39;00m\u001b[38;5;124m'\u001b[39m)\n",
      "\u001b[1;31mNameError\u001b[0m: name 'np' is not defined"
     ]
    }
   ],
   "source": [
    "print(f'The cube of pi to 6 decimal places is {np.pi**3:.6f}')\n"
   ]
  },
  {
   "cell_type": "markdown",
   "id": "9273f94e",
   "metadata": {},
   "source": [
    "## 2 Best Practices for Scientific Computing"
   ]
  },
  {
   "cell_type": "markdown",
   "id": "67b38a0a",
   "metadata": {},
   "source": [
    "### 2.1 Some tips"
   ]
  },
  {
   "cell_type": "code",
   "execution_count": null,
   "id": "992ab2da",
   "metadata": {},
   "outputs": [],
   "source": [
    "\n",
    "# Your code here\n"
   ]
  },
  {
   "cell_type": "markdown",
   "id": "388a638d",
   "metadata": {},
   "source": [
    "### 2.2 Getting help."
   ]
  },
  {
   "cell_type": "code",
   "execution_count": null,
   "id": "b93b244a",
   "metadata": {},
   "outputs": [],
   "source": [
    "\n",
    "# Your code here\n"
   ]
  },
  {
   "cell_type": "markdown",
   "id": "d4dc5994",
   "metadata": {},
   "source": [
    "## Exercise 1 :  Bias for some heroes"
   ]
  },
  {
   "cell_type": "markdown",
   "id": "d26b4989",
   "metadata": {},
   "source": [
    "\n",
    "#### print('Hello BATMAN!') / print('Hello BLACK WIDOW!') / print(f'Hello {name})"
   ]
  },
  {
   "cell_type": "code",
   "execution_count": 7,
   "id": "505fe332",
   "metadata": {},
   "outputs": [
    {
     "name": "stdout",
     "output_type": "stream",
     "text": [
      "name:Batman\n",
      "Hello BATMAN!\n"
     ]
    }
   ],
   "source": [
    "# With Darren's help!\n",
    "\n",
    "name = input('name:') #NOT recommended - good for testing multiple at once\n",
    "\n",
    "#Define your function first!!!!\n",
    "\n",
    "def hello(name):\n",
    "    if name == \"Batman\":\n",
    "        print('Hello BATMAN!')\n",
    "\n",
    "    elif name == 'Black Widow':\n",
    "        print('Hello BLACK WIDOW!')\n",
    "\n",
    "    else:\n",
    "        print(f'Hello {name}') \n",
    "    \n",
    "# f comes first before the quotation marks for the string you want as the output\n",
    "\n",
    "hello(name)"
   ]
  },
  {
   "cell_type": "code",
   "execution_count": 8,
   "id": "9259c015",
   "metadata": {},
   "outputs": [
    {
     "name": "stdout",
     "output_type": "stream",
     "text": [
      "name:Black Widow\n",
      "Hello BLACK WIDOW!\n"
     ]
    }
   ],
   "source": [
    "# with Darren's help\n",
    "\n",
    "name = input('name:') #NOT recommended - good for testing multiple at once\n",
    "\n",
    "#Define your function first!!!!\n",
    "\n",
    "def hello(name):\n",
    "    if name == \"Batman\":\n",
    "        print('Hello BATMAN!')\n",
    "\n",
    "    elif name == 'Black Widow':\n",
    "        print('Hello BLACK WIDOW!')\n",
    "\n",
    "    else:\n",
    "        print(f'Hello {name}') \n",
    "    \n",
    "# f comes first before the quotation marks for the string you want as the output\n",
    "\n",
    "hello(name)"
   ]
  },
  {
   "cell_type": "code",
   "execution_count": 10,
   "id": "ad0a9cbc",
   "metadata": {},
   "outputs": [
    {
     "name": "stdout",
     "output_type": "stream",
     "text": [
      "name:Aqua Man\n",
      "Hello Aqua Man!\n"
     ]
    }
   ],
   "source": [
    "# with Darren's help\n",
    "\n",
    "name = input('name:') #NOT recommended - good for testing multiple at once\n",
    "\n",
    "#Define your function first!!!!\n",
    "\n",
    "def hello(name):\n",
    "    if name == \"Batman\":\n",
    "        print('Hello BATMAN!')\n",
    "\n",
    "    elif name == 'Black Widow':\n",
    "        print('Hello BLACK WIDOW!')\n",
    "\n",
    "    else:\n",
    "        print(f'Hello {name}!') \n",
    "    \n",
    "# f comes first before the quotation marks for the string you want as the output\n",
    "\n",
    "hello(name)"
   ]
  },
  {
   "cell_type": "code",
   "execution_count": 13,
   "id": "4d0e9218",
   "metadata": {},
   "outputs": [
    {
     "name": "stdout",
     "output_type": "stream",
     "text": [
      "Hello BATMAN!\n"
     ]
    }
   ],
   "source": [
    "# Exactly what exercise 1 wants\n",
    "\n",
    "#Define your function first!!!! - code cell here\n",
    "\n",
    "def hello(name):\n",
    "    if name == \"Batman\":\n",
    "        print('Hello BATMAN!')\n",
    "\n",
    "    elif name == 'Black Widow':\n",
    "        print('Hello BLACK WIDOW!')\n",
    "\n",
    "    else:\n",
    "        print(f'Hello {name}!') \n",
    "    \n",
    "# f comes first before the quotation marks for \n",
    "# the string you want as the output\n",
    "\n",
    "hello('Batman') # here you are calling the function"
   ]
  },
  {
   "cell_type": "code",
   "execution_count": 14,
   "id": "de37b233",
   "metadata": {},
   "outputs": [
    {
     "name": "stdout",
     "output_type": "stream",
     "text": [
      "Hello BLACK WIDOW!\n"
     ]
    }
   ],
   "source": [
    "# Exactly what exercise 1 wants\n",
    "\n",
    "#Define your function first!!!! - code cell here\n",
    "\n",
    "def hello(name):\n",
    "    if name == \"Batman\":\n",
    "        print('Hello BATMAN!')\n",
    "\n",
    "    elif name == 'Black Widow':\n",
    "        print('Hello BLACK WIDOW!')\n",
    "\n",
    "    else:\n",
    "        print(f'Hello {name}!') \n",
    "    \n",
    "# f comes first before the quotation marks for \n",
    "# the string you want as the output\n",
    "\n",
    "hello('Black Widow') # here you are calling the function"
   ]
  },
  {
   "cell_type": "code",
   "execution_count": 15,
   "id": "8eba1820",
   "metadata": {},
   "outputs": [
    {
     "name": "stdout",
     "output_type": "stream",
     "text": [
      "Hello Aqua Man!\n"
     ]
    }
   ],
   "source": [
    "# Exactly what exercise 1 wants\n",
    "\n",
    "#Define your function first!!!! - code cell here\n",
    "\n",
    "def hello(name):\n",
    "    if name == \"Batman\":\n",
    "        print('Hello BATMAN!')\n",
    "\n",
    "    elif name == 'Black Widow':\n",
    "        print('Hello BLACK WIDOW!')\n",
    "\n",
    "    else:\n",
    "        print(f'Hello {name}!') \n",
    "    \n",
    "# f comes first before the quotation marks for \n",
    "# the string you want as the output\n",
    "\n",
    "hello('Aqua Man') # here you are calling the function"
   ]
  },
  {
   "cell_type": "code",
   "execution_count": 55,
   "id": "1c4b0169",
   "metadata": {},
   "outputs": [
    {
     "name": "stdout",
     "output_type": "stream",
     "text": [
      "name:Black Widow\n",
      "Hello BLACK WIDOW!\n"
     ]
    }
   ],
   "source": [
    "name = input('name:')\n",
    "\n",
    "if name == \"Batman\":\n",
    "    print('Hello BATMAN!')\n",
    "\n",
    "elif name == 'Black Widow':\n",
    "    print('Hello BLACK WIDOW!')\n",
    "    \n",
    "else:\n",
    "    print(f'Hello {name}') \n",
    "    \n",
    "# f comes first before the quotation marks for \n",
    "# the string you want as the output\n",
    "\n"
   ]
  },
  {
   "cell_type": "code",
   "execution_count": 57,
   "id": "59e7cef4",
   "metadata": {},
   "outputs": [
    {
     "name": "stdout",
     "output_type": "stream",
     "text": [
      "name:Aqua Man\n",
      "Hello Aqua Man!\n"
     ]
    }
   ],
   "source": [
    "name = input('name:')\n",
    "\n",
    "if name == \"Batman\":\n",
    "    print('Hello BATMAN!')\n",
    "\n",
    "elif name == 'Black Widow':\n",
    "    print('Hello BLACK WIDOW!')\n",
    "    \n",
    "else:\n",
    "    print(f'Hello {name}!') \n",
    "    \n",
    "# f comes first before the quotation marks for the string you want as the output\n",
    "\n"
   ]
  },
  {
   "cell_type": "markdown",
   "id": "94d7bc83",
   "metadata": {},
   "source": [
    "#### print('Hello {name.upper()')  /  print(f'Hello {name}!')"
   ]
  },
  {
   "cell_type": "code",
   "execution_count": 68,
   "id": "9cd3fb01",
   "metadata": {},
   "outputs": [
    {
     "name": "stdout",
     "output_type": "stream",
     "text": [
      "name:Batman\n",
      "Hello BATMAN!\n"
     ]
    }
   ],
   "source": [
    "name = input('name:')\n",
    "if name == \"Batman\":\n",
    "    print(f'Hello {name.upper()}!')\n",
    "elif name == 'Black Widow':\n",
    "    print(f'Hello {name.upper()}!')\n",
    "else:\n",
    "    print(f'Hello {name}!')"
   ]
  },
  {
   "cell_type": "code",
   "execution_count": 69,
   "id": "b7310846",
   "metadata": {},
   "outputs": [
    {
     "name": "stdout",
     "output_type": "stream",
     "text": [
      "name:Black Widow\n",
      "Hello BLACK WIDOW!\n"
     ]
    }
   ],
   "source": [
    "name = input('name:')\n",
    "\n",
    "if name == \"Batman\":\n",
    "    print(f'Hello {name.upper()}!')\n",
    "elif name == 'Black Widow':\n",
    "    print(f'Hello {name.upper()}!')\n",
    "else:\n",
    "    print(f'Hello {name}!')"
   ]
  },
  {
   "cell_type": "code",
   "execution_count": 70,
   "id": "7999b30e",
   "metadata": {},
   "outputs": [
    {
     "name": "stdout",
     "output_type": "stream",
     "text": [
      "name:Aqua Man\n",
      "Hello Aqua Man!\n"
     ]
    }
   ],
   "source": [
    "name = input('name:')\n",
    "\n",
    "if name == \"Batman\":\n",
    "    print(f'Hello {name.upper()}!')\n",
    "elif name == 'Black Widow':\n",
    "    print(f'Hello {name.upper()}!')\n",
    "else:\n",
    "    print(f'Hello {name}!')"
   ]
  },
  {
   "cell_type": "markdown",
   "id": "3f17dece",
   "metadata": {},
   "source": [
    "##### or"
   ]
  },
  {
   "cell_type": "code",
   "execution_count": 17,
   "id": "b4ab7121",
   "metadata": {},
   "outputs": [
    {
     "name": "stdout",
     "output_type": "stream",
     "text": [
      "Hello BATMAN!\n"
     ]
    }
   ],
   "source": [
    "# Exactly what exercise 1 wants \n",
    "# name = input('name:')\n",
    "\n",
    "def hello(name):\n",
    "    if name == \"Batman\" or name == 'Black Widow':\n",
    "        print(f'Hello {name.upper()}!')\n",
    "    else:\n",
    "        print(f'Hello {name}!')\n",
    "        \n",
    "hello('Batman')\n",
    "\n",
    "# Equality is checked twice, 2 variables at once shouldn't be next\n",
    "# each other after the first name == \n",
    "# need it as name == or name =="
   ]
  },
  {
   "cell_type": "code",
   "execution_count": 18,
   "id": "fe7c9cb9",
   "metadata": {},
   "outputs": [
    {
     "name": "stdout",
     "output_type": "stream",
     "text": [
      "Hello BLACK WIDOW!\n"
     ]
    }
   ],
   "source": [
    "# Exactly what exercise 1 wants \n",
    "# name = input('name:')\n",
    "\n",
    "def hello(name):\n",
    "    if name == \"Batman\" or name == 'Black Widow':\n",
    "        print(f'Hello {name.upper()}!')\n",
    "    else:\n",
    "        print(f'Hello {name}!')\n",
    "        \n",
    "hello('Black Widow')\n",
    "\n",
    "# Equality is checked twice, 2 variables at once shouldn't be next\n",
    "# each other after the first name == \n",
    "# need it as name == or name =="
   ]
  },
  {
   "cell_type": "code",
   "execution_count": 24,
   "id": "c408bc22",
   "metadata": {},
   "outputs": [
    {
     "name": "stdout",
     "output_type": "stream",
     "text": [
      "Hello Aqua Man!\n"
     ]
    }
   ],
   "source": [
    "# Exactly what exercise 1 wants \n",
    "# name = input('name:')\n",
    "\n",
    "def hello(name):\n",
    "    if name == \"Batman\" or name == 'Black Widow':\n",
    "        print(f'Hello {name.upper()}!')\n",
    "    else:\n",
    "        print(f'Hello {name}!')\n",
    "        \n",
    "hello('Aqua Man')\n",
    "\n",
    "# Equality is checked twice, 2 variables at once shouldn't be next\n",
    "# each other after the first name == \n",
    "# need it as name == or name =="
   ]
  },
  {
   "cell_type": "code",
   "execution_count": 25,
   "id": "f02f964e",
   "metadata": {},
   "outputs": [
    {
     "name": "stdout",
     "output_type": "stream",
     "text": [
      "name:Batman\n",
      "Hello BATMAN!\n"
     ]
    }
   ],
   "source": [
    "name = input('name:')\n",
    "\n",
    "def hello(name):\n",
    "    if name == \"Batman\" or name == 'Black Widow':\n",
    "        print(f'Hello {name.upper()}!')\n",
    "    else:\n",
    "        print(f'Hello {name}!')\n",
    "        \n",
    "hello(name)\n",
    "\n",
    "# Equality is checked twice, 2 variables at once shouldn't be next\n",
    "# each other after the first name == "
   ]
  },
  {
   "cell_type": "code",
   "execution_count": 26,
   "id": "a10e944e",
   "metadata": {},
   "outputs": [
    {
     "name": "stdout",
     "output_type": "stream",
     "text": [
      "name:Black Widow\n",
      "Hello BLACK WIDOW!\n"
     ]
    }
   ],
   "source": [
    "name = input('name:')\n",
    "\n",
    "def hello(name):\n",
    "    if name == \"Batman\" or name == 'Black Widow':\n",
    "        print(f'Hello {name.upper()}!')\n",
    "    else:\n",
    "        print(f'Hello {name}!')\n",
    "        \n",
    "hello(name)\n",
    "\n",
    "# Equality is checked twice, 2 variables at once shouldn't be next\n",
    "# each other after the first name == "
   ]
  },
  {
   "cell_type": "code",
   "execution_count": 27,
   "id": "e75cd98a",
   "metadata": {},
   "outputs": [
    {
     "name": "stdout",
     "output_type": "stream",
     "text": [
      "name:Aqua Man\n",
      "Hello Aqua Man!\n"
     ]
    }
   ],
   "source": [
    "name = input('name:')\n",
    "\n",
    "def hello(name):\n",
    "    if name == \"Batman\" or name == 'Black Widow':\n",
    "        print(f'Hello {name.upper()}!')\n",
    "    else:\n",
    "        print(f'Hello {name}!')\n",
    "        \n",
    "hello(name)\n",
    "\n",
    "# Equality is checked twice, 2 variables at once shouldn't be next\n",
    "# each other after the first name == "
   ]
  },
  {
   "cell_type": "markdown",
   "id": "e00f678a",
   "metadata": {},
   "source": [
    "### **********Exercise 1 failed codes***********\n"
   ]
  },
  {
   "cell_type": "code",
   "execution_count": 71,
   "id": "92acca6e",
   "metadata": {},
   "outputs": [
    {
     "name": "stdout",
     "output_type": "stream",
     "text": [
      "name:Batman\n",
      "Hello BATMAN!\n"
     ]
    }
   ],
   "source": [
    "name = input('name:')\n",
    "\n",
    "if name == \"Batman\" or 'Black Widow':\n",
    "    print(f'Hello {name.upper()}!')\n",
    "else:\n",
    "    print(f'Hello {name}!')"
   ]
  },
  {
   "cell_type": "code",
   "execution_count": 72,
   "id": "c5f17e7c",
   "metadata": {},
   "outputs": [
    {
     "name": "stdout",
     "output_type": "stream",
     "text": [
      "name:Black Widow\n",
      "Hello BLACK WIDOW!\n"
     ]
    }
   ],
   "source": [
    "name = input('name:')\n",
    "\n",
    "if name == \"Batman\" or 'Black Widow':\n",
    "    print(f'Hello {name.upper()}!')\n",
    "else:\n",
    "    print(f'Hello {name}!')"
   ]
  },
  {
   "cell_type": "code",
   "execution_count": 74,
   "id": "c7cb89c7",
   "metadata": {},
   "outputs": [
    {
     "name": "stdout",
     "output_type": "stream",
     "text": [
      "name:Aqua Man\n",
      "Hello AQUA MAN!\n"
     ]
    }
   ],
   "source": [
    "name = input('name:')\n",
    "\n",
    "if name == \"Batman\" or 'Black Widow':\n",
    "    print(f'Hello {name.upper()}!')\n",
    "else:\n",
    "    print(f'Hello {name}!')"
   ]
  },
  {
   "cell_type": "code",
   "execution_count": 58,
   "id": "f12e5253",
   "metadata": {},
   "outputs": [
    {
     "name": "stdout",
     "output_type": "stream",
     "text": [
      "name:Batman\n",
      "Hello BATMAN!\n"
     ]
    }
   ],
   "source": [
    "name = input('name:')\n",
    "\n",
    "if name == \"Batman\" or 'Black Widow':\n",
    "    print(f'Hello {name.upper()}!')\n",
    "\n",
    "elif name == 'Aqua Man':\n",
    "    print('Hello {name}')\n",
    "    \n",
    "# f comes first before the quotation marks for the string you want as the output\n",
    "\n"
   ]
  },
  {
   "cell_type": "code",
   "execution_count": 59,
   "id": "57d1207a",
   "metadata": {},
   "outputs": [
    {
     "name": "stdout",
     "output_type": "stream",
     "text": [
      "name:Black Widow\n",
      "Hello BLACK WIDOW!\n"
     ]
    }
   ],
   "source": [
    "name = input('name:')\n",
    "\n",
    "if name == \"Batman\" or 'Black Widow':\n",
    "    print(f'Hello {name.upper()}!')\n",
    "\n",
    "elif name == 'Aqua Man':\n",
    "    print('Hello {name}')\n",
    "    \n",
    "# f comes first before the quotation marks for the string you want as the output\n",
    "\n"
   ]
  },
  {
   "cell_type": "code",
   "execution_count": 64,
   "id": "ac9e2e6a",
   "metadata": {},
   "outputs": [
    {
     "name": "stdout",
     "output_type": "stream",
     "text": [
      "name:Aqua Man\n",
      "Hello AQUA MAN!\n"
     ]
    }
   ],
   "source": [
    "name = input('name:')\n",
    "\n",
    "if name == \"Batman\" or 'Black Widow':\n",
    "    print(f'Hello {name.upper()}!')\n",
    "\n",
    "else:\n",
    "    print(f'Hello {name.lower()}!')\n",
    "    \n",
    "# f comes first before the quotation marks for the string you want as the output\n",
    "\n"
   ]
  },
  {
   "cell_type": "code",
   "execution_count": 39,
   "id": "1b311cca",
   "metadata": {},
   "outputs": [
    {
     "name": "stdout",
     "output_type": "stream",
     "text": [
      "name:Batman\n",
      "Hello BATMAN!\n"
     ]
    }
   ],
   "source": [
    "name = input('name:')\n",
    "\n",
    "if name == \"Batman\" or 'Black Widow':\n",
    "    print(f'Hello {name.upper()}!')\n",
    "\n",
    "# f comes first before the quotation marks for the string you want as the output\n",
    "\n"
   ]
  },
  {
   "cell_type": "markdown",
   "id": "f35d7c72",
   "metadata": {},
   "source": [
    "## Exercise 2 :  Bias for some heroes, continues"
   ]
  },
  {
   "cell_type": "code",
   "execution_count": 33,
   "id": "22f9481b",
   "metadata": {},
   "outputs": [
    {
     "name": "stdout",
     "output_type": "stream",
     "text": [
      "name:batman\n",
      "Hello BATMAN!\n"
     ]
    }
   ],
   "source": [
    "# with the name = input('name:)\n",
    "\n",
    "# HOW TO MODIFY FUNCTION HELLO\n",
    "\n",
    "name = input('name:')\n",
    "\n",
    "name = name.upper() #think what you would do on paper\n",
    "\n",
    "if name == 'BATMAN':\n",
    "    print(f'Hello {name.upper()}!')\n",
    "elif name == 'BlACK WIDOW':\n",
    "    print(f'Hello {name.upper()}!')\n",
    "else:\n",
    "    print(f'Hello {name}!')\n"
   ]
  },
  {
   "cell_type": "code",
   "execution_count": 35,
   "id": "591e6eea",
   "metadata": {},
   "outputs": [
    {
     "name": "stdout",
     "output_type": "stream",
     "text": [
      "name:Black widow\n",
      "Hello BLACK WIDOW!\n"
     ]
    }
   ],
   "source": [
    "# with the name = input('name:')\n",
    "\n",
    "# HOW TO MODIFY FUNCTION HELLO\n",
    "\n",
    "name = input('name:')\n",
    "\n",
    "name = name.upper() #think what you would do on paper\n",
    "\n",
    "if name == 'BATMAN':\n",
    "    print(f'Hello {name.upper()}!')\n",
    "elif name == 'BlACK WIDOW':\n",
    "    print(f'Hello {name.upper()}!')\n",
    "else:\n",
    "    print(f'Hello {name}!')\n"
   ]
  },
  {
   "cell_type": "code",
   "execution_count": 37,
   "id": "3f03181a",
   "metadata": {},
   "outputs": [
    {
     "name": "stdout",
     "output_type": "stream",
     "text": [
      "name:Aqua Man\n",
      "Hello Aqua Man!\n"
     ]
    }
   ],
   "source": [
    "# with the name = input('name:')\n",
    "\n",
    "# HOW TO MODIFY FUNCTION HELLO\n",
    "\n",
    "name = input('name:')\n",
    "\n",
    "x = name # For any other name that is not Batman or Black Widow\n",
    "name = name.upper() #think what you would do on paper\n",
    "\n",
    "if name == 'BATMAN':\n",
    "    print(f'Hello {name.upper()}!')\n",
    "elif name == 'BlACK WIDOW':\n",
    "    print(f'Hello {name.upper()}!')\n",
    "else:\n",
    "    print(f'Hello {x}!')\n"
   ]
  },
  {
   "cell_type": "code",
   "execution_count": 32,
   "id": "8265b974",
   "metadata": {},
   "outputs": [
    {
     "name": "stdout",
     "output_type": "stream",
     "text": [
      "Hello BATMAN!\n"
     ]
    }
   ],
   "source": [
    "# Exactly what Exercise 2 wants\n",
    "\n",
    "# HOW TO MODIFY FUNCTION HELLO\n",
    "\n",
    "# name = input('name:')\n",
    "\n",
    "# name = name.upper() #think what you would do on paper\n",
    "\n",
    "def hello(name):\n",
    "    name = name.upper()\n",
    "    \n",
    "    if name == 'BATMAN':\n",
    "        print(f'Hello {name.upper()}!')\n",
    "    elif name == 'BlACK WIDOW':\n",
    "        print(f'Hello {name.upper()}!')\n",
    "    else:\n",
    "        print(f'Hello {name}!')\n",
    "\n",
    "hello('bAtmAn')"
   ]
  },
  {
   "cell_type": "code",
   "execution_count": 40,
   "id": "5dc0db43",
   "metadata": {},
   "outputs": [
    {
     "name": "stdout",
     "output_type": "stream",
     "text": [
      "Hello BLACK WIDOW!\n"
     ]
    }
   ],
   "source": [
    "# Exactly what Exercise 2 wants\n",
    "\n",
    "# HOW TO MODIFY FUNCTION HELLO\n",
    "\n",
    "# name = input('name:')\n",
    "\n",
    "# name = name.upper() #think what you would do on paper\n",
    "\n",
    "def hello(name):\n",
    "    name = name.upper()\n",
    "    \n",
    "    if name == 'BATMAN':\n",
    "        print(f'Hello {name.upper()}!')\n",
    "    elif name == 'BlACK WIDOW':\n",
    "        print(f'Hello {name.upper()}!')\n",
    "    else:\n",
    "        print(f'Hello {name}!')\n",
    "\n",
    "hello('black WIDOW')"
   ]
  },
  {
   "cell_type": "code",
   "execution_count": 39,
   "id": "bfbfa0a6",
   "metadata": {},
   "outputs": [
    {
     "name": "stdout",
     "output_type": "stream",
     "text": [
      "Hello Aqua Man!\n"
     ]
    }
   ],
   "source": [
    "# Exactly what Exercise 2 wants\n",
    "\n",
    "# HOW TO MODIFY FUNCTION HELLO\n",
    "\n",
    "# name = input('name:')\n",
    "\n",
    "# name = name.upper() #think what you would do on paper\n",
    "\n",
    "def hello(name):\n",
    "    \n",
    "    x = name\n",
    "    name = name.upper()\n",
    "    \n",
    "    if name == 'BATMAN':\n",
    "        print(f'Hello {name.upper()}!')\n",
    "    elif name == 'BlACK WIDOW':\n",
    "        print(f'Hello {name.upper()}!')\n",
    "    else:\n",
    "        print(f'Hello {x}!')\n",
    "\n",
    "hello('Aqua Man')"
   ]
  },
  {
   "cell_type": "markdown",
   "id": "296b4916",
   "metadata": {},
   "source": [
    "## Exercise 3 :  Look for help to replace"
   ]
  },
  {
   "cell_type": "code",
   "execution_count": 21,
   "id": "4aae017b",
   "metadata": {},
   "outputs": [
    {
     "name": "stdout",
     "output_type": "stream",
     "text": [
      "The Batman lives in Gotham City.\n"
     ]
    }
   ],
   "source": [
    "sentence_to_be_modified = 'The Joker lives in Gotham City.'\n",
    "\n",
    "modified_sentence = sentence_to_be_modified.replace('Joker','Batman')\n",
    "\n",
    "print(modified_sentence)\n",
    "\n",
    "\n"
   ]
  },
  {
   "cell_type": "code",
   "execution_count": null,
   "id": "a3e09451",
   "metadata": {},
   "outputs": [],
   "source": []
  }
 ],
 "metadata": {
  "kernelspec": {
   "display_name": "Python 3 (ipykernel)",
   "language": "python",
   "name": "python3"
  },
  "language_info": {
   "codemirror_mode": {
    "name": "ipython",
    "version": 3
   },
   "file_extension": ".py",
   "mimetype": "text/x-python",
   "name": "python",
   "nbconvert_exporter": "python",
   "pygments_lexer": "ipython3",
   "version": "3.9.12"
  },
  "toc": {
   "base_numbering": 1,
   "nav_menu": {},
   "number_sections": true,
   "sideBar": true,
   "skip_h1_title": false,
   "title_cell": "Table of Contents",
   "title_sidebar": "Contents",
   "toc_cell": false,
   "toc_position": {},
   "toc_section_display": true,
   "toc_window_display": false
  },
  "vscode": {
   "interpreter": {
    "hash": "31f2aee4e71d21fbe5cf8b01ff0e069b9275f58929596ceb00d14d90e3e16cd6"
   }
  }
 },
 "nbformat": 4,
 "nbformat_minor": 5
}
