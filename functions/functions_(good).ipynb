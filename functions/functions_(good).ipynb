{
 "cells": [
  {
   "cell_type": "markdown",
   "id": "123456",
   "metadata": {},
   "source": [
    "<div style=\"text-align:left;font-size:2em\"><span style=\"font-weight:bolder;font-size:1.25em\">SP2273 | Learning Portfolio</span><br><br><span style=\"font-weight:bold;color:darkred\">Functions (Good)</span></div>"
   ]
  },
  {
   "cell_type": "markdown",
   "id": "53dd4cab",
   "metadata": {},
   "source": [
    "## 1 Check, balances and contingencies"
   ]
  },
  {
   "cell_type": "markdown",
   "id": "bcd416cc",
   "metadata": {},
   "source": [
    "### 1.1 assert"
   ]
  },
  {
   "cell_type": "code",
   "execution_count": null,
   "id": "831fbc6d",
   "metadata": {},
   "outputs": [],
   "source": [
    "x = 0\n",
    "x -= 1\n",
    "assert x >= 0, 'x is becoming negative!'\n",
    "print(x)"
   ]
  },
  {
   "cell_type": "code",
   "execution_count": null,
   "id": "8d5d973b",
   "metadata": {},
   "outputs": [],
   "source": [
    "x = 0\n",
    "x += 1\n",
    "assert x >= 0, 'x is becoming negative!'\n",
    "print(x)"
   ]
  },
  {
   "cell_type": "markdown",
   "id": "858d3cc8",
   "metadata": {},
   "source": [
    "### 1.2 try-except"
   ]
  },
  {
   "cell_type": "code",
   "execution_count": null,
   "id": "f3bd57ff",
   "metadata": {},
   "outputs": [],
   "source": [
    "# To handle exceptions (things that go wrong)\n",
    "\n",
    "try: # to enclose part of the code that may get into trouble\n",
    "    \n",
    "    number = input()\n",
    "\n",
    "    square = int(number)**2\n",
    "\n",
    "    print(f'The square of {number} is {square}!')\n",
    "    \n",
    "except: # if something goes wrong, code under try will be ignored, and this will be run instead \n",
    "    print(f'{number} is not a number')"
   ]
  },
  {
   "cell_type": "markdown",
   "id": "e4bffde7",
   "metadata": {},
   "source": [
    "## 2 Some loose ends"
   ]
  },
  {
   "cell_type": "markdown",
   "id": "483a3a02",
   "metadata": {},
   "source": [
    "### 2.1 Positional, keyword and default arguments"
   ]
  },
  {
   "cell_type": "code",
   "execution_count": null,
   "id": "fa6ed9ef",
   "metadata": {},
   "outputs": [],
   "source": [
    "def funny_ADD(A, B, C=1): \n",
    "    return A + B*10 + 100*C \n",
    "\n",
    "funny_ADD(1,2) # two positional, 1 default\n",
    "# 1 + 2(10) + 1(100)"
   ]
  },
  {
   "cell_type": "code",
   "execution_count": null,
   "id": "7727cc2e",
   "metadata": {},
   "outputs": [],
   "source": [
    "def funny_ADD(A, B, C=1): \n",
    "    return A + B*10 + 100*C \n",
    "\n",
    "funny_ADD(1,2, 3) # three positional, default is overridden\n",
    "# 1 + 2(10) + 3(100)"
   ]
  },
  {
   "cell_type": "code",
   "execution_count": null,
   "id": "b695a9b3",
   "metadata": {},
   "outputs": [],
   "source": [
    "def funny_ADD(A, B, C=1): \n",
    "    return A + B*10 + 100*C \n",
    "\n",
    "funny_ADD(A=1, B=3) # two keyword, 1 default\n",
    "# not positional, as the variables have been defined\n",
    "# 1 + 3(10) + 1(100)"
   ]
  },
  {
   "cell_type": "code",
   "execution_count": null,
   "id": "7b7183d8",
   "metadata": {},
   "outputs": [],
   "source": [
    "def funny_ADD(A, B, C=1): \n",
    "    return A + B*10 + 100*C \n",
    "\n",
    "funny_ADD(A=1, B=3, C=5) # three keyword (arrangement does not matter)\n",
    "# 1 + 3(10) + 5(100)"
   ]
  },
  {
   "cell_type": "code",
   "execution_count": null,
   "id": "b00f5fc0",
   "metadata": {},
   "outputs": [],
   "source": [
    "def funny_ADD(A, B, C=1): \n",
    "    return A + B*10 + 100*C \n",
    "\n",
    "funny_ADD(1, B=3, C=5) # one positional, 2 keywords\n",
    "# 1 + 3(10) + 5(100)"
   ]
  },
  {
   "cell_type": "code",
   "execution_count": null,
   "id": "553b87bb",
   "metadata": {},
   "outputs": [],
   "source": [
    "def funny_ADD(A, B, C=1): \n",
    "    return A + B*10 + 100*C \n",
    "\n",
    "funny_ADD(1, B=3, C=5) # one positional, 2 keywords\n",
    "# 1 + 3(10) + 5(100)"
   ]
  },
  {
   "cell_type": "code",
   "execution_count": null,
   "id": "5e5f0089",
   "metadata": {},
   "outputs": [],
   "source": [
    "def funny_ADD(A, B, C=1): \n",
    "    return A + B*10 + 100*C \n",
    "\n",
    "funny_ADD(1, B=3) # one positional, 1 keyword, 1 default\n",
    "# 1 + 3(10) + 1(100)"
   ]
  },
  {
   "cell_type": "code",
   "execution_count": null,
   "id": "702fd399",
   "metadata": {},
   "outputs": [],
   "source": [
    "def funny_ADD(A, B, C=1): \n",
    "    return A + B*10 + 100*C \n",
    "\n",
    "funny_ADD(1, B=3, 5) # 1 positional, 1 keyword, 1 positional\n",
    "# 1 + 3(10) + 5(100)\n",
    "\n",
    "# !positional argument cannot follow keyword argument\n",
    "\n",
    "# Python cannot figure out the position of the final data"
   ]
  },
  {
   "cell_type": "markdown",
   "id": "4bd4c3ad",
   "metadata": {},
   "source": [
    "### 2.2 Docstrings"
   ]
  },
  {
   "cell_type": "code",
   "execution_count": null,
   "id": "503d99b0",
   "metadata": {},
   "outputs": [],
   "source": [
    "# to document what a fucntion does inide a function\n",
    "# before specifiying output when defining function\n",
    "# stays in between 2 pairs of ''' or \"\"\"\n",
    "\n",
    "def funny_ADD(A, B, C=1):\n",
    "    '''\n",
    "    A test function to demo how positional, keyword\n",
    "    abd default arguments work\n",
    "    '''\n",
    "    \n",
    "    return A + B*10 + 100*C \n",
    "\n",
    "help(funny_ADD) # notice fucntion name is within the \n",
    "                # help() fucntion's brackets"
   ]
  },
  {
   "cell_type": "markdown",
   "id": "099f0eae",
   "metadata": {},
   "source": [
    "### 2.3 Function are first class citizens"
   ]
  },
  {
   "cell_type": "code",
   "execution_count": null,
   "id": "60874229",
   "metadata": {},
   "outputs": [],
   "source": [
    "import numpy as np"
   ]
  },
  {
   "cell_type": "code",
   "execution_count": null,
   "id": "f98dfddf",
   "metadata": {},
   "outputs": [],
   "source": [
    "# pass a fucntion as an argument to another function\n",
    "\n",
    "def my_func(angle, trig_function):\n",
    "    return trig_function(angle)\n",
    "\n",
    "# Let's use the function\n",
    "print(my_func(np.pi/2, np.sin))\n",
    "\n",
    "print(my_func(np.pi/2, np.cos))\n",
    "\n",
    "print(my_func(np.pi/2,np.tan))\n",
    "\n",
    "my_func(np.pi/2, lambda x: np.cos(2*x)) # WTF is happening here"
   ]
  },
  {
   "cell_type": "markdown",
   "id": "a7bcb01b",
   "metadata": {},
   "source": [
    "### 2.4 More unpacking -> can extract info from lists"
   ]
  },
  {
   "cell_type": "code",
   "execution_count": null,
   "id": "7b16f1a0",
   "metadata": {},
   "outputs": [],
   "source": [
    "x, y, z = [1, 2, 3]\n",
    "print(x, y, z)\n"
   ]
  },
  {
   "cell_type": "code",
   "execution_count": null,
   "id": "425bfbbc",
   "metadata": {},
   "outputs": [],
   "source": [
    "x, y, z = np.array([1, 2, 3])\n",
    "print(x, y, z)"
   ]
  },
  {
   "cell_type": "code",
   "execution_count": null,
   "id": "efa01563",
   "metadata": {},
   "outputs": [],
   "source": [
    "x, *y, z = np.array([1, 2, 3, 4, 5])\n",
    "print(x, y, z)\n",
    "\n",
    "# I'm guessing y takes everything in-between?"
   ]
  },
  {
   "cell_type": "code",
   "execution_count": null,
   "id": "d8665e5b",
   "metadata": {},
   "outputs": [],
   "source": [
    "x, *_, z = np.array([1, 2, 3, 4, 5])\n",
    "print(x, z)\n",
    "\n",
    "# I'm guessing everything in-between the first element\n",
    "# [index 0] and the last element [index -1] is voided?"
   ]
  },
  {
   "cell_type": "markdown",
   "id": "4b207c27",
   "metadata": {},
   "source": [
    "## Exercise 1 :  A better calculator I"
   ]
  },
  {
   "cell_type": "code",
   "execution_count": null,
   "id": "15ef23d9",
   "metadata": {},
   "outputs": [],
   "source": [
    "# Exactly what Exercise 1 wants (part 1)\n",
    "\n",
    "def add(x,y):\n",
    "    return x + y\n",
    "\n",
    "def subtract (x,y):\n",
    "    return x - y\n",
    "\n",
    "def multiply(x,y):\n",
    "    return x*y\n",
    "\n",
    "def divide(x,y):\n",
    "    assert y != 0, 'oh no!'\n",
    "    return int(x/y)\n",
    "\n",
    "print(add(5,4))\n",
    "print(subtract(9,3))\n",
    "print(multiply(7,4))\n",
    "print(divide(8,1))\n",
    "\n",
    "print(divide(9,0))\n",
    "print(divide(0,9))\n",
    "\n",
    "\n"
   ]
  },
  {
   "cell_type": "code",
   "execution_count": null,
   "id": "89c443b7",
   "metadata": {},
   "outputs": [],
   "source": [
    "import numpy as np"
   ]
  },
  {
   "cell_type": "code",
   "execution_count": null,
   "id": "eea68458",
   "metadata": {},
   "outputs": [],
   "source": [
    "# Exactly what Exercise 1 wants (part 2)\n",
    "\n",
    "def add(x,y):\n",
    "    return x + y\n",
    "\n",
    "def subtract (x,y):\n",
    "    return x - y\n",
    "\n",
    "def multiply(x,y):\n",
    "    return x*y\n",
    "\n",
    "def divide(x,y):\n",
    "    assert y.any() != 0, 'oh no!'\n",
    "    return (x/y)\n",
    "\n",
    "x = np.array([36, 34, 44, 76, 77])\n",
    "y = np.array([64, 66, 56, 24, 73])\n",
    "\n",
    "print(add(x,y))\n",
    "print(subtract(x,y))\n",
    "print(multiply(x,y))\n",
    "print(divide(x,y))"
   ]
  },
  {
   "cell_type": "markdown",
   "id": "435ec535",
   "metadata": {},
   "source": [
    "## Exercise 2 :  A better calculator II"
   ]
  },
  {
   "cell_type": "code",
   "execution_count": 1,
   "id": "0367fe6d",
   "metadata": {},
   "outputs": [
    {
     "name": "stdout",
     "output_type": "stream",
     "text": [
      "9\n",
      "6\n",
      "28\n",
      "8.0\n"
     ]
    },
    {
     "ename": "AssertionError",
     "evalue": "oh no!",
     "output_type": "error",
     "traceback": [
      "\u001b[1;31m---------------------------------------------------------------------------\u001b[0m",
      "\u001b[1;31mAssertionError\u001b[0m                            Traceback (most recent call last)",
      "Cell \u001b[1;32mIn [1], line 21\u001b[0m\n\u001b[0;32m     18\u001b[0m \u001b[38;5;28mprint\u001b[39m(multiply(\u001b[38;5;241m7\u001b[39m,\u001b[38;5;241m4\u001b[39m))\n\u001b[0;32m     19\u001b[0m \u001b[38;5;28mprint\u001b[39m(divide(\u001b[38;5;241m8\u001b[39m,\u001b[38;5;241m1\u001b[39m))\n\u001b[1;32m---> 21\u001b[0m \u001b[38;5;28mprint\u001b[39m(\u001b[43mdivide\u001b[49m\u001b[43m(\u001b[49m\u001b[38;5;241;43m9\u001b[39;49m\u001b[43m,\u001b[49m\u001b[38;5;241;43m0\u001b[39;49m\u001b[43m)\u001b[49m)\n",
      "Cell \u001b[1;32mIn [1], line 13\u001b[0m, in \u001b[0;36mdivide\u001b[1;34m(x, y)\u001b[0m\n\u001b[0;32m     12\u001b[0m \u001b[38;5;28;01mdef\u001b[39;00m \u001b[38;5;21mdivide\u001b[39m(x,y):\n\u001b[1;32m---> 13\u001b[0m     \u001b[38;5;28;01massert\u001b[39;00m y \u001b[38;5;241m!=\u001b[39m \u001b[38;5;241m0\u001b[39m, \u001b[38;5;124m'\u001b[39m\u001b[38;5;124moh no!\u001b[39m\u001b[38;5;124m'\u001b[39m\n\u001b[0;32m     14\u001b[0m     \u001b[38;5;28;01mreturn\u001b[39;00m (x\u001b[38;5;241m/\u001b[39my)\n",
      "\u001b[1;31mAssertionError\u001b[0m: oh no!"
     ]
    }
   ],
   "source": [
    "# Exactly what Exercise 2 wants (part 1)\n",
    "\n",
    "def add(x,y):\n",
    "    return x + y\n",
    "\n",
    "def subtract (x,y):\n",
    "    return x - y\n",
    "\n",
    "def multiply(x,y):\n",
    "    return x*y\n",
    "\n",
    "def divide(x,y):\n",
    "    assert y != 0, 'oh no!'\n",
    "    return (x/y)\n",
    "\n",
    "print(add(5,4))\n",
    "print(subtract(9,3))\n",
    "print(multiply(7,4))\n",
    "print(divide(8,1))\n",
    "\n",
    "print(divide(9,0))"
   ]
  },
  {
   "cell_type": "code",
   "execution_count": 4,
   "id": "3211cca2",
   "metadata": {},
   "outputs": [],
   "source": [
    "import numpy as np"
   ]
  },
  {
   "cell_type": "code",
   "execution_count": 6,
   "id": "44ffea41",
   "metadata": {},
   "outputs": [
    {
     "name": "stdout",
     "output_type": "stream",
     "text": [
      "[100 100 100 100 150]\n",
      "[-28 -32 -12  52   4]\n",
      "[2304 2244 2464 1824 5621]\n",
      "[0.5625     0.51515152 0.78571429 3.16666667 1.05479452]\n"
     ]
    }
   ],
   "source": [
    "# Exactly what Exercise 2 wants (part 2)\n",
    "\n",
    "x = np.array([36, 34, 44, 76, 77])\n",
    "y = np.array([64, 66, 56, 24, 73])\n",
    "\n",
    "def add(x,y):\n",
    "    return x + y\n",
    "\n",
    "def subtract (x,y):\n",
    "    return x - y\n",
    "\n",
    "def multiply(x,y):\n",
    "    return x*y\n",
    "\n",
    "def divide(x,y):\n",
    "    try:\n",
    "        return (x/y)\n",
    "    except: # No need to put what criteria has to \n",
    "            # be met for code to not work\n",
    "            # Just if ANYTHING GOES WRONG, end up here\n",
    "        return 'oh no!'\n",
    "\n",
    "\n",
    "print(add(x,y))\n",
    "print(subtract(x,y))\n",
    "print(multiply(x,y))\n",
    "print(divide(x,y))\n",
    "\n",
    "\n"
   ]
  },
  {
   "cell_type": "code",
   "execution_count": 12,
   "id": "c1919bfa",
   "metadata": {},
   "outputs": [
    {
     "name": "stdout",
     "output_type": "stream",
     "text": [
      "[100 100 100 100 150]\n",
      "[-28 -32 -12  52   4]\n",
      "[2304 2244 2464 1824 5621]\n",
      "[0.5625     0.51515152 0.78571429 3.16666667 1.05479452]\n"
     ]
    }
   ],
   "source": [
    "# Exactly what Exercise 2 wants (part 3)\n",
    "\n",
    "x = np.array([36, 34, 44, 76, 77])\n",
    "y = np.array([64, 66, 56, , 73])\n",
    "\n",
    "def add(x,y):\n",
    "    return x + y\n",
    "\n",
    "def subtract (x,y):\n",
    "    return x - y\n",
    "\n",
    "def multiply(x,y):\n",
    "    return x*y\n",
    "\n",
    "def divide(x,y):\n",
    "    try:\n",
    "        return (x/y)\n",
    "    except ZeroDivisionError:\n",
    "        return 'oh no!'\n",
    "\n",
    "\n",
    "print(add(x,y))\n",
    "\n",
    "print(subtract(x,y))\n",
    "\n",
    "print(multiply(x,y))\n",
    "\n",
    "print(divide(x,y))\n",
    "\n",
    "\n"
   ]
  },
  {
   "cell_type": "code",
   "execution_count": 3,
   "id": "a74fa992",
   "metadata": {},
   "outputs": [],
   "source": [
    "import numpy as np"
   ]
  },
  {
   "cell_type": "code",
   "execution_count": 9,
   "id": "fd8bd22a",
   "metadata": {},
   "outputs": [
    {
     "data": {
      "text/plain": [
       "False"
      ]
     },
     "execution_count": 9,
     "metadata": {},
     "output_type": "execute_result"
    }
   ],
   "source": [
    "y = np.array([10, 66, 56, 24, 73])\n",
    "(y > 20).all() # asking if all of the elements within are more than 20\n"
   ]
  },
  {
   "cell_type": "code",
   "execution_count": 10,
   "id": "088d1c92",
   "metadata": {},
   "outputs": [
    {
     "data": {
      "text/plain": [
       "True"
      ]
     },
     "execution_count": 10,
     "metadata": {},
     "output_type": "execute_result"
    }
   ],
   "source": [
    "y = np.array([10, 66, 56, 24, 73])\n",
    "(y > 20).any() # asking if any of the elements within are more than 20\n"
   ]
  },
  {
   "cell_type": "code",
   "execution_count": 16,
   "id": "513b93bf",
   "metadata": {},
   "outputs": [
    {
     "data": {
      "text/plain": [
       "True"
      ]
     },
     "execution_count": 16,
     "metadata": {},
     "output_type": "execute_result"
    }
   ],
   "source": [
    "y = np.array([0, 66, 56, 24, 73])\n",
    "(y == 0).any() # asking if any of the elements within are more than 20\n"
   ]
  },
  {
   "cell_type": "code",
   "execution_count": 23,
   "id": "69979aae",
   "metadata": {},
   "outputs": [
    {
     "name": "stdout",
     "output_type": "stream",
     "text": [
      "[ 36 100 100 100 150]\n",
      "[ 36 -32 -12  52   4]\n",
      "[   0 2244 2464 1824 5621]\n",
      "[       inf 0.51515152 0.78571429 3.16666667 1.05479452]\n"
     ]
    },
    {
     "name": "stderr",
     "output_type": "stream",
     "text": [
      "C:\\Users\\ASUS\\AppData\\Local\\Temp\\ipykernel_20460\\401799458.py:16: RuntimeWarning: divide by zero encountered in divide\n",
      "  return (x/y)\n"
     ]
    }
   ],
   "source": [
    "a = np.array([36, 34, 44, 76, 77])\n",
    "b = np.array([0, 66, 56, 24, 73]) # array that has an element with\n",
    "                                # value of 0\n",
    "\n",
    "def add(x,y):\n",
    "    return x + y\n",
    "\n",
    "def subtract (x,y):\n",
    "    return x - y\n",
    "\n",
    "def multiply(x,y):\n",
    "    return x*y\n",
    "\n",
    "def divide(x,y):\n",
    "    try:\n",
    "        return (x/y)\n",
    "        assert (y == 0).any()\n",
    "    except:\n",
    "        return 'oh no!'\n",
    "\n",
    "\n",
    "print(add(a,b))\n",
    "print(subtract(a,b))\n",
    "print(multiply(a,b))\n",
    "print(divide(a,b))\n",
    "\n",
    "\n"
   ]
  },
  {
   "cell_type": "code",
   "execution_count": 2,
   "id": "7c70dfc2",
   "metadata": {},
   "outputs": [],
   "source": [
    "import numpy as np"
   ]
  },
  {
   "cell_type": "code",
   "execution_count": 4,
   "id": "b63bace6",
   "metadata": {},
   "outputs": [
    {
     "name": "stdout",
     "output_type": "stream",
     "text": [
      "[ 36 100 100  86 150]\n",
      "[ 36 -32 -12  66   4]\n",
      "[   0 2244 2464  760 5621]\n",
      "oh no!, >= 1 element in y is 0\n"
     ]
    }
   ],
   "source": [
    "a = np.array([36, 34, 44, 76, 77])\n",
    "b = np.array([0, 66, 56, 10, 73]) # array that has an element with\n",
    "                                # value of 0\n",
    "#import warnings\n",
    "#warnings.filterwarnings('error')\n",
    "\n",
    "def add(x,y):\n",
    "    return x + y\n",
    "\n",
    "def subtract (x,y):\n",
    "    return x - y\n",
    "\n",
    "def multiply(x,y):\n",
    "    return x*y\n",
    "\n",
    "def divide(x,y):\n",
    "    try:\n",
    "        assert y.any() == 0 \n",
    "        return (x/y)\n",
    "    except:\n",
    "        return 'oh no!, >= 1 element in y is 0'\n",
    "\n",
    "\n",
    "print(add(a,b))\n",
    "\n",
    "print(subtract(a,b))\n",
    "\n",
    "print(multiply(a,b))\n",
    "\n",
    "print(divide(a,b))\n",
    "\n",
    "\n"
   ]
  },
  {
   "cell_type": "code",
   "execution_count": 14,
   "id": "1ab4dc67",
   "metadata": {},
   "outputs": [
    {
     "data": {
      "text/plain": [
       "False"
      ]
     },
     "execution_count": 14,
     "metadata": {},
     "output_type": "execute_result"
    }
   ],
   "source": [
    "my_list = [0,1,2]\n",
    "my_array = np.array(my_list)\n",
    "my_array.all(0)"
   ]
  },
  {
   "cell_type": "code",
   "execution_count": 17,
   "id": "afe4ed37",
   "metadata": {},
   "outputs": [
    {
     "data": {
      "text/plain": [
       "False"
      ]
     },
     "execution_count": 17,
     "metadata": {},
     "output_type": "execute_result"
    }
   ],
   "source": [
    "my_list = [0]\n",
    "my_array = np.array(my_list)\n",
    "my_array.all(0)"
   ]
  },
  {
   "cell_type": "code",
   "execution_count": 18,
   "id": "ed5319a0",
   "metadata": {},
   "outputs": [
    {
     "data": {
      "text/plain": [
       "True"
      ]
     },
     "execution_count": 18,
     "metadata": {},
     "output_type": "execute_result"
    }
   ],
   "source": [
    "my_list = [0,1,2]\n",
    "my_array = np.array(my_list)\n",
    "my_array.any()"
   ]
  },
  {
   "cell_type": "code",
   "execution_count": null,
   "id": "7cd89ba6",
   "metadata": {},
   "outputs": [],
   "source": []
  }
 ],
 "metadata": {
  "kernelspec": {
   "display_name": "Python 3 (ipykernel)",
   "language": "python",
   "name": "python3"
  },
  "language_info": {
   "codemirror_mode": {
    "name": "ipython",
    "version": 3
   },
   "file_extension": ".py",
   "mimetype": "text/x-python",
   "name": "python",
   "nbconvert_exporter": "python",
   "pygments_lexer": "ipython3",
   "version": "3.9.12"
  },
  "toc": {
   "base_numbering": 1,
   "nav_menu": {},
   "number_sections": true,
   "sideBar": true,
   "skip_h1_title": false,
   "title_cell": "Table of Contents",
   "title_sidebar": "Contents",
   "toc_cell": false,
   "toc_position": {},
   "toc_section_display": true,
   "toc_window_display": false
  },
  "vscode": {
   "interpreter": {
    "hash": "31f2aee4e71d21fbe5cf8b01ff0e069b9275f58929596ceb00d14d90e3e16cd6"
   }
  }
 },
 "nbformat": 4,
 "nbformat_minor": 5
}
