{
 "cells": [
  {
   "cell_type": "markdown",
   "id": "123456",
   "metadata": {},
   "source": [
    "<div style=\"text-align:left;font-size:2em\"><span style=\"font-weight:bolder;font-size:1.25em\">SP2273 | Learning Portfolio</span><br><br><span style=\"font-weight:bold;color:darkred\">Functions (Need)</span></div>"
   ]
  },
  {
   "cell_type": "markdown",
   "id": "f44512d4",
   "metadata": {},
   "source": [
    "## 1 User defined functions"
   ]
  },
  {
   "cell_type": "markdown",
   "id": "96293ae0",
   "metadata": {},
   "source": [
    "### 1.1 Named functions that return"
   ]
  },
  {
   "cell_type": "code",
   "execution_count": 3,
   "id": "3b813f18",
   "metadata": {},
   "outputs": [
    {
     "data": {
      "text/plain": [
       "'Ok I pull up'"
      ]
     },
     "execution_count": 3,
     "metadata": {},
     "output_type": "execute_result"
    }
   ],
   "source": [
    "def hello(name):\n",
    "    if name == 'Capy':\n",
    "        return 'Ok I pull up'\n",
    "    else:\n",
    "        return 'no pull up :('\n",
    "\n",
    "hello('Capy')"
   ]
  },
  {
   "cell_type": "code",
   "execution_count": 4,
   "id": "43cf4f56",
   "metadata": {},
   "outputs": [
    {
     "data": {
      "text/plain": [
       "'no pull up :('"
      ]
     },
     "execution_count": 4,
     "metadata": {},
     "output_type": "execute_result"
    }
   ],
   "source": [
    "def hello(name):\n",
    "    if name == 'Capy':\n",
    "        return 'Ok I pull up'\n",
    "    else:\n",
    "        return 'no pull up :('\n",
    "\n",
    "hello('Cap')"
   ]
  },
  {
   "cell_type": "code",
   "execution_count": 8,
   "id": "ccc076eb",
   "metadata": {},
   "outputs": [
    {
     "name": "stdout",
     "output_type": "stream",
     "text": [
      "name:Capy\n"
     ]
    },
    {
     "data": {
      "text/plain": [
       "'Ok I pull up'"
      ]
     },
     "execution_count": 8,
     "metadata": {},
     "output_type": "execute_result"
    }
   ],
   "source": [
    "name = input('name:')\n",
    "\n",
    "def hello(name):\n",
    "    if name == 'Capy':\n",
    "        return 'Ok I pull up'\n",
    "    else:\n",
    "        return 'no pull up :('\n",
    "\n",
    "hello(name) # use variable name inside the brackets instead"
   ]
  },
  {
   "cell_type": "code",
   "execution_count": 10,
   "id": "b64abaa1",
   "metadata": {},
   "outputs": [
    {
     "name": "stdout",
     "output_type": "stream",
     "text": [
      "name:go\n"
     ]
    },
    {
     "data": {
      "text/plain": [
       "'Ok I pull up'"
      ]
     },
     "execution_count": 10,
     "metadata": {},
     "output_type": "execute_result"
    }
   ],
   "source": [
    "name = input('name:')\n",
    "\n",
    "def hello(name):\n",
    "    if name == 'Capy':\n",
    "        return 'Ok I pull up'\n",
    "    else:\n",
    "        return 'no pull up :('\n",
    "\n",
    "hello('Capy')\n",
    "\n",
    "# does not care about user input"
   ]
  },
  {
   "cell_type": "code",
   "execution_count": 11,
   "id": "486233ca",
   "metadata": {},
   "outputs": [
    {
     "name": "stdout",
     "output_type": "stream",
     "text": [
      "name:bubbles\n"
     ]
    },
    {
     "data": {
      "text/plain": [
       "'dammit bubbles'"
      ]
     },
     "execution_count": 11,
     "metadata": {},
     "output_type": "execute_result"
    }
   ],
   "source": [
    "name = input('name:')\n",
    "\n",
    "def hello(name):\n",
    "    if name == 'Capy':\n",
    "        return 'Ok I pull up'\n",
    "    else:\n",
    "        return f'dammit {name}'\n",
    "\n",
    "hello(name)\n",
    "\n",
    "# does not care about user input\n",
    "\n",
    "# return just tells function to give me this - whatever\n",
    "# is after return"
   ]
  },
  {
   "cell_type": "markdown",
   "id": "bc1f31e0",
   "metadata": {},
   "source": [
    "When Python sees a `return` keyword its jumps out of the function with the return value"
   ]
  },
  {
   "cell_type": "code",
   "execution_count": 4,
   "id": "4f263fe8",
   "metadata": {},
   "outputs": [
    {
     "data": {
      "text/plain": [
       "'no pull up :('"
      ]
     },
     "execution_count": 4,
     "metadata": {},
     "output_type": "execute_result"
    }
   ],
   "source": [
    "def hello(name):\n",
    "    if name == 'Capy':\n",
    "        return 'Ok I pull up'\n",
    "    else:\n",
    "        return 'no pull up :('\n",
    "\n",
    "hello('Cap')"
   ]
  },
  {
   "cell_type": "code",
   "execution_count": 13,
   "id": "99eee71f",
   "metadata": {},
   "outputs": [
    {
     "name": "stdout",
     "output_type": "stream",
     "text": [
      "dammit Superman\n"
     ]
    }
   ],
   "source": [
    "# Pick up returned value by assigning it to a variable\n",
    "\n",
    "greet = hello(name = 'Superman')\n",
    "print(greet)\n",
    "\n"
   ]
  },
  {
   "cell_type": "code",
   "execution_count": 16,
   "id": "49f7f119",
   "metadata": {},
   "outputs": [
    {
     "name": "stdout",
     "output_type": "stream",
     "text": [
      "Ok I pull up\n"
     ]
    }
   ],
   "source": [
    "# Use returned value directly\n",
    "\n",
    "print(hello(name = 'Capy'))"
   ]
  },
  {
   "cell_type": "code",
   "execution_count": 17,
   "id": "60a65470",
   "metadata": {},
   "outputs": [],
   "source": [
    "import numpy as np"
   ]
  },
  {
   "cell_type": "code",
   "execution_count": 27,
   "id": "a2d9ec62",
   "metadata": {},
   "outputs": [],
   "source": [
    "def basic_stats(numbers):\n",
    "    np_numbers = np.array(numbers)\n",
    "    return np.array([np_numbers.min(), np_numbers.max(), np_numbers.mean()])\n",
    "\n",
    "array_min, array_max, array_mean = basic_stats([1, 2, 3, 4, 5])\n"
   ]
  },
  {
   "cell_type": "code",
   "execution_count": 28,
   "id": "6f1c8c3e",
   "metadata": {},
   "outputs": [
    {
     "data": {
      "text/plain": [
       "array([1., 5., 3.])"
      ]
     },
     "execution_count": 28,
     "metadata": {},
     "output_type": "execute_result"
    }
   ],
   "source": [
    "basic_stats([1, 2, 3, 4, 5])\n",
    "\n",
    "# Unpacking "
   ]
  },
  {
   "cell_type": "code",
   "execution_count": 27,
   "id": "ae6bb5b0",
   "metadata": {},
   "outputs": [],
   "source": [
    "def basic_stats(numbers):\n",
    "    np_numbers = np.array(numbers)\n",
    "    return np_numbers.min(), np_numbers.max(), np_numbers.mean()\n",
    "\n",
    "list_min, list_max, list_mean = basic_stats([1, 2, 3, 4, 5])\n"
   ]
  },
  {
   "cell_type": "code",
   "execution_count": 34,
   "id": "40606e63",
   "metadata": {},
   "outputs": [
    {
     "data": {
      "text/plain": [
       "[1, 5, 3.0]"
      ]
     },
     "execution_count": 34,
     "metadata": {},
     "output_type": "execute_result"
    }
   ],
   "source": [
    "[list_min, list_max, list_mean] # square brackest around \n",
    "# makes a list"
   ]
  },
  {
   "cell_type": "code",
   "execution_count": 30,
   "id": "10f84942",
   "metadata": {},
   "outputs": [
    {
     "data": {
      "text/plain": [
       "array([1., 5., 3.])"
      ]
     },
     "execution_count": 30,
     "metadata": {},
     "output_type": "execute_result"
    }
   ],
   "source": [
    "basic_stats([1, 2, 3, 4, 5]) # gives an array"
   ]
  },
  {
   "cell_type": "code",
   "execution_count": 33,
   "id": "518806dc",
   "metadata": {},
   "outputs": [
    {
     "data": {
      "text/plain": [
       "(1, 5, 3.0)"
      ]
     },
     "execution_count": 33,
     "metadata": {},
     "output_type": "execute_result"
    }
   ],
   "source": [
    "def basic_stats(ank):\n",
    "    np_ank = np.array(ank)\n",
    "    return np_ank.min(), np_ank.max(), np_ank.mean()\n",
    "\n",
    "list_min, list_max, list_mean = basic_stats([1, 2, 3, 4, 5])\n",
    "\n",
    "list_min, list_max, list_mean # 3 variables "
   ]
  },
  {
   "cell_type": "markdown",
   "id": "9faa4427",
   "metadata": {},
   "source": [
    "### 1.2 Named functions that don’t return"
   ]
  },
  {
   "cell_type": "code",
   "execution_count": null,
   "id": "c185a1d5",
   "metadata": {},
   "outputs": [],
   "source": [
    "# some functions do not return a value\n",
    "# no value returned\n",
    "\n"
   ]
  },
  {
   "cell_type": "markdown",
   "id": "366989ec",
   "metadata": {},
   "source": [
    "**REQUIRED FOR WHEN SAVING A FILE**"
   ]
  },
  {
   "cell_type": "markdown",
   "id": "4aca8140",
   "metadata": {},
   "source": [
    "### 1.3 Anonymous functions"
   ]
  },
  {
   "cell_type": "code",
   "execution_count": 37,
   "id": "91b06645",
   "metadata": {},
   "outputs": [
    {
     "data": {
      "text/plain": [
       "'Hello capy'"
      ]
     },
     "execution_count": 37,
     "metadata": {},
     "output_type": "execute_result"
    }
   ],
   "source": [
    "my_short_function = lambda name: f'Hello {name}'\n",
    "my_short_function(name = 'capy')\n",
    "\n",
    "# lambda fucntion returns value of last statement"
   ]
  },
  {
   "cell_type": "code",
   "execution_count": 38,
   "id": "692ee6a7",
   "metadata": {},
   "outputs": [
    {
     "data": {
      "text/plain": [
       "[[0, 9, 19],\n",
       " [1, 8, 18],\n",
       " [2, 7, 17],\n",
       " [3, 6, 16],\n",
       " [4, 5, 15],\n",
       " [5, 4, 14],\n",
       " [6, 3, 13],\n",
       " [7, 2, 12],\n",
       " [8, 1, 11],\n",
       " [9, 0, 10]]"
      ]
     },
     "execution_count": 38,
     "metadata": {},
     "output_type": "execute_result"
    }
   ],
   "source": [
    "numbers=[[9, 0, 10],\n",
    "         [8, 1, 11],\n",
    "         [7, 2, 12],\n",
    "         [6, 3, 13],\n",
    "         [5, 4, 14],\n",
    "         [4, 5, 15],\n",
    "         [3, 6, 16],\n",
    "         [2, 7, 17],\n",
    "         [1, 8, 18],\n",
    "         [0, 9, 19]]\n",
    "\n",
    "sorted(numbers)      \n",
    "\n",
    "# first element of the sub-list is what the sorting is based on\n",
    "\n",
    "# The default key is compared \n",
    "# Just happened to have this order\n",
    "# Sorting the 3 elements \n",
    "\n",
    "# Done in ascending order"
   ]
  },
  {
   "cell_type": "code",
   "execution_count": 39,
   "id": "f2198a9a",
   "metadata": {},
   "outputs": [
    {
     "data": {
      "text/plain": [
       "[[9, 0, 10],\n",
       " [9, 1, 11],\n",
       " [9, 2, 12],\n",
       " [9, 3, 13],\n",
       " [9, 4, 14],\n",
       " [9, 5, 15],\n",
       " [9, 6, 16],\n",
       " [9, 7, 17],\n",
       " [9, 8, 18],\n",
       " [9, 9, 19]]"
      ]
     },
     "execution_count": 39,
     "metadata": {},
     "output_type": "execute_result"
    }
   ],
   "source": [
    "numbers=[[9, 0, 10],\n",
    "         [9, 1, 11],\n",
    "         [9, 2, 12],\n",
    "         [9, 3, 13],\n",
    "         [9, 4, 14],\n",
    "         [9, 5, 15],\n",
    "         [9, 6, 16],\n",
    "         [9, 7, 17],\n",
    "         [9, 8, 18],\n",
    "         [9, 9, 19]]\n",
    "\n",
    "sorted(numbers)      \n",
    "\n",
    "# The default key is compared \n"
   ]
  },
  {
   "cell_type": "code",
   "execution_count": 2,
   "id": "3b43414b",
   "metadata": {},
   "outputs": [
    {
     "data": {
      "text/plain": [
       "[[9, 0, 10],\n",
       " [8, 1, 11],\n",
       " [7, 2, 12],\n",
       " [6, 3, 13],\n",
       " [5, 4, 14],\n",
       " [4, 5, 15],\n",
       " [3, 6, 16],\n",
       " [2, 7, 17],\n",
       " [1, 8, 18],\n",
       " [0, 9, 19]]"
      ]
     },
     "execution_count": 2,
     "metadata": {},
     "output_type": "execute_result"
    }
   ],
   "source": [
    "# specify a key for use of comparison\n",
    "\n",
    "numbers=[[9, 0, 10],\n",
    "         [8, 1, 11],\n",
    "         [7, 2, 12],\n",
    "         [6, 3, 13],\n",
    "         [5, 4, 14],\n",
    "         [4, 5, 15],\n",
    "         [3, 6, 16],\n",
    "         [2, 7, 17],\n",
    "         [1, 8, 18],\n",
    "         [0, 9, 19]]\n",
    "\n",
    "\n",
    "sorted(numbers, key = lambda x: x[1])\n",
    "\n",
    "# sort by comparing a custom key\n",
    "# that uses the 2nd element"
   ]
  },
  {
   "cell_type": "code",
   "execution_count": 3,
   "id": "0e1c92f8",
   "metadata": {},
   "outputs": [
    {
     "data": {
      "text/plain": [
       "[[9, 0, 10],\n",
       " [8, 1, 11],\n",
       " [7, 2, 12],\n",
       " [6, 3, 13],\n",
       " [5, 4, 14],\n",
       " [4, 5, 15],\n",
       " [3, 6, 16],\n",
       " [2, 7, 17],\n",
       " [1, 8, 18],\n",
       " [0, 9, 19]]"
      ]
     },
     "execution_count": 3,
     "metadata": {},
     "output_type": "execute_result"
    }
   ],
   "source": [
    "# specify a key for use of comparison\n",
    "\n",
    "numbers=[[9, 0, 10],\n",
    "         [8, 1, 11],\n",
    "         [7, 2, 12],\n",
    "         [6, 3, 13],\n",
    "         [5, 4, 14],\n",
    "         [4, 5, 15],\n",
    "         [3, 6, 16],\n",
    "         [2, 7, 17],\n",
    "         [1, 8, 18],\n",
    "         [0, 9, 19]]\n",
    "\n",
    "\n",
    "sorted(numbers, key = lambda x: x[2])\n",
    "\n",
    "# sort by comparing a custom key\n",
    "# that uses the 3rd element"
   ]
  },
  {
   "cell_type": "code",
   "execution_count": 4,
   "id": "41cb9487",
   "metadata": {},
   "outputs": [
    {
     "data": {
      "text/plain": [
       "[[9, 0, 10],\n",
       " [8, 1, 11],\n",
       " [7, 2, 12],\n",
       " [6, 3, 13],\n",
       " [5, 4, 14],\n",
       " [4, 5, 15],\n",
       " [3, 6, 16],\n",
       " [2, 7, 17],\n",
       " [1, 8, 18],\n",
       " [0, 9, 19]]"
      ]
     },
     "execution_count": 4,
     "metadata": {},
     "output_type": "execute_result"
    }
   ],
   "source": [
    "# specify a key for use of comparison\n",
    "\n",
    "numbers=[[9, 0, 10],\n",
    "         [8, 1, 11],\n",
    "         [7, 2, 12],\n",
    "         [6, 3, 13],\n",
    "         [5, 4, 14],\n",
    "         [4, 5, 15],\n",
    "         [3, 6, 16],\n",
    "         [2, 7, 17],\n",
    "         [1, 8, 18],\n",
    "         [0, 9, 19]]\n",
    "\n",
    "\n",
    "sorted(numbers, key = lambda x: sum(x))\n",
    "\n",
    "# sort by comparing a custom key\n",
    "# that uses the sum of the elements in each sublist\n",
    "# all done in ascending order"
   ]
  },
  {
   "cell_type": "code",
   "execution_count": 7,
   "id": "9dc52365",
   "metadata": {},
   "outputs": [
    {
     "data": {
      "text/plain": [
       "[[9, 0, 10],\n",
       " [8, 1, 11],\n",
       " [7, 2, 12],\n",
       " [6, 3, 13],\n",
       " [5, 4, 14],\n",
       " [4, 5, 15],\n",
       " [3, 6, 16],\n",
       " [2, 7, 17],\n",
       " [1, 8, 18],\n",
       " [0, 9, 19]]"
      ]
     },
     "execution_count": 7,
     "metadata": {},
     "output_type": "execute_result"
    }
   ],
   "source": [
    "# specify a key for use of comparison\n",
    "# HELP\n",
    "\n",
    "numbers=[[9, 0, 10],\n",
    "         [8, 1, 11],\n",
    "         [7, 2, 12],\n",
    "         [6, 3, 13],\n",
    "         [5, 4, 14],\n",
    "         [4, 5, 15],\n",
    "         [3, 6, 16],\n",
    "         [2, 7, 17],\n",
    "         [1, 8, 18],\n",
    "         [0, 9, 19]]\n",
    "\n",
    "\n",
    "sorted(numbers, key = lambda x: max(x))\n",
    "\n",
    "# sort by comparing a custom key\n",
    "# that uses the sum of the elements in each sublist\n",
    "# all done in ascending order"
   ]
  },
  {
   "cell_type": "code",
   "execution_count": 6,
   "id": "67c7f3fb",
   "metadata": {},
   "outputs": [
    {
     "data": {
      "text/plain": [
       "[[9, 0, 10],\n",
       " [0, 9, 19],\n",
       " [8, 1, 11],\n",
       " [1, 8, 18],\n",
       " [7, 2, 12],\n",
       " [2, 7, 17],\n",
       " [6, 3, 13],\n",
       " [3, 6, 16],\n",
       " [5, 4, 14],\n",
       " [4, 5, 15]]"
      ]
     },
     "execution_count": 6,
     "metadata": {},
     "output_type": "execute_result"
    }
   ],
   "source": [
    "# specify a key for use of comparison\n",
    "\n",
    "numbers=[[9, 0, 10],\n",
    "         [8, 1, 11],\n",
    "         [7, 2, 12],\n",
    "         [6, 3, 13],\n",
    "         [5, 4, 14],\n",
    "         [4, 5, 15],\n",
    "         [3, 6, 16],\n",
    "         [2, 7, 17],\n",
    "         [1, 8, 18],\n",
    "         [0, 9, 19]]\n",
    "\n",
    "\n",
    "sorted(numbers, key = lambda x: min(x))\n",
    "\n",
    "# sort by comparing a custom key\n",
    "# that uses the sum of the elements in each sublist\n",
    "# all done in ascending order"
   ]
  },
  {
   "cell_type": "markdown",
   "id": "2d51774b",
   "metadata": {},
   "source": [
    "### 1.4 Optional arguments"
   ]
  },
  {
   "cell_type": "markdown",
   "id": "3e8d004e",
   "metadata": {},
   "source": [
    "make arguments to our function optional!!\n"
   ]
  },
  {
   "cell_type": "code",
   "execution_count": 16,
   "id": "c07202de",
   "metadata": {},
   "outputs": [
    {
     "data": {
      "text/plain": [
       "'Hello no one !'"
      ]
     },
     "execution_count": 16,
     "metadata": {},
     "output_type": "execute_result"
    }
   ],
   "source": [
    "def hello(name='no one'): # argument with default value\n",
    "                            # it always has something to work with\n",
    "    if name == 'Batman':\n",
    "        return 'Hello Batman! So nice to meet you!'\n",
    "    else:\n",
    "        return f'Hello {name} !'\n",
    "    \n",
    "hello()"
   ]
  },
  {
   "cell_type": "code",
   "execution_count": 20,
   "id": "62182f5b",
   "metadata": {},
   "outputs": [
    {
     "data": {
      "text/plain": [
       "'Hello no one !'"
      ]
     },
     "execution_count": 20,
     "metadata": {},
     "output_type": "execute_result"
    }
   ],
   "source": [
    "def hello(name = 'no one'): # argument with default value\n",
    "                            # it always has something to work with\n",
    "    if name == 'Batman':\n",
    "        return 'Hello Batman! So nice to meet you!'\n",
    "    else:\n",
    "        return f'Hello {name} !'\n",
    "    \n",
    "hello() # returning what was originally placed in\n",
    "# fucntion working without an argument"
   ]
  },
  {
   "cell_type": "code",
   "execution_count": 22,
   "id": "2be6d66b",
   "metadata": {},
   "outputs": [
    {
     "data": {
      "text/plain": [
       "'Hello name !'"
      ]
     },
     "execution_count": 22,
     "metadata": {},
     "output_type": "execute_result"
    }
   ],
   "source": [
    "def hello(name): \n",
    "    \n",
    "    if name == 'Batman':\n",
    "        return 'Hello Batman! So nice to meet you!'\n",
    "    else:\n",
    "        return f'Hello {name} !'\n",
    "    \n",
    "hello('name') # returning what is now placed in"
   ]
  },
  {
   "cell_type": "code",
   "execution_count": 25,
   "id": "4692dd63",
   "metadata": {},
   "outputs": [
    {
     "name": "stdout",
     "output_type": "stream",
     "text": [
      "i am batman!\n",
      "i---am---batman\n"
     ]
    }
   ],
   "source": [
    "print('i','am','batman!') # spearated by space\n",
    "\n",
    "print('i','am','batman',sep = '---') # separated by 3 lines"
   ]
  },
  {
   "cell_type": "code",
   "execution_count": 24,
   "id": "4d4b9181",
   "metadata": {},
   "outputs": [
    {
     "name": "stdout",
     "output_type": "stream",
     "text": [
      "iambatman!\n"
     ]
    }
   ],
   "source": [
    "print('i''am''batman!')"
   ]
  },
  {
   "cell_type": "markdown",
   "id": "2f2d09a9",
   "metadata": {},
   "source": [
    "## 2 The importance of functions?"
   ]
  },
  {
   "cell_type": "markdown",
   "id": "978676f9",
   "metadata": {},
   "source": [
    "### 2.1 An argument for functions"
   ]
  },
  {
   "cell_type": "code",
   "execution_count": null,
   "id": "0dc6105e",
   "metadata": {},
   "outputs": [],
   "source": [
    "\n",
    "# Your code here\n"
   ]
  },
  {
   "cell_type": "markdown",
   "id": "9cc287f9",
   "metadata": {},
   "source": [
    "### 2.2 A word of caution"
   ]
  },
  {
   "cell_type": "code",
   "execution_count": null,
   "id": "dfd6ceb4",
   "metadata": {},
   "outputs": [],
   "source": [
    "\n",
    "# Your code here\n"
   ]
  },
  {
   "cell_type": "markdown",
   "id": "3452c9c6",
   "metadata": {},
   "source": [
    "## Exercise 1 :  Do you know why?"
   ]
  },
  {
   "cell_type": "markdown",
   "id": "ff92a2b5",
   "metadata": {},
   "source": [
    "An else statement is not required here as the second *return* key is indented at the same indent as the *if* statment (that specifies its own condtion).\n",
    "The value following the second *return* key will provide its return value if the condition specified by the *if* statement is not met"
   ]
  },
  {
   "cell_type": "code",
   "execution_count": 29,
   "id": "e3e7e7e8",
   "metadata": {},
   "outputs": [
    {
     "data": {
      "text/plain": [
       "'Hello Batman! So, nice to meet you!'"
      ]
     },
     "execution_count": 29,
     "metadata": {},
     "output_type": "execute_result"
    }
   ],
   "source": [
    "def greeting(name):\n",
    "    if name == 'Batman':\n",
    "        return 'Hello Batman! So, nice to meet you!'\n",
    "    return f'Hello {name}!'\n",
    "\n",
    "greeting('Batman')\n",
    "\n",
    "\n"
   ]
  },
  {
   "cell_type": "code",
   "execution_count": 30,
   "id": "f757b34a",
   "metadata": {},
   "outputs": [
    {
     "data": {
      "text/plain": [
       "'Hello Spiderman!'"
      ]
     },
     "execution_count": 30,
     "metadata": {},
     "output_type": "execute_result"
    }
   ],
   "source": [
    "def greeting(name):\n",
    "    if name == 'Batman':\n",
    "        return 'Hello Batman! So, nice to meet you!'\n",
    "    return f'Hello {name}!'\n",
    "\n",
    "greeting('Spiderman')\n",
    "\n",
    "\n"
   ]
  },
  {
   "cell_type": "code",
   "execution_count": 31,
   "id": "3e3a2e8f",
   "metadata": {},
   "outputs": [
    {
     "data": {
      "text/plain": [
       "'Look its Superman!'"
      ]
     },
     "execution_count": 31,
     "metadata": {},
     "output_type": "execute_result"
    }
   ],
   "source": [
    "def greeting(name):\n",
    "    if name == 'Batman':\n",
    "        return 'Hello Batman! So, nice to meet you!'\n",
    "    elif name == 'Superman':\n",
    "        return 'Look its Superman!'\n",
    "    return f'Hello {name}!'\n",
    "\n",
    "greeting('Superman')\n",
    "\n",
    "\n"
   ]
  },
  {
   "cell_type": "code",
   "execution_count": 32,
   "id": "9d43f40c",
   "metadata": {},
   "outputs": [
    {
     "data": {
      "text/plain": [
       "'Hello Spiderman!'"
      ]
     },
     "execution_count": 32,
     "metadata": {},
     "output_type": "execute_result"
    }
   ],
   "source": [
    "def greeting(name):\n",
    "    if name == 'Batman':\n",
    "        return 'Hello Batman! So, nice to meet you!'\n",
    "    elif name == 'Superman':\n",
    "        return 'Look its Superman!'\n",
    "    return f'Hello {name}!'\n",
    "\n",
    "greeting('Spiderman')\n",
    "\n",
    "\n"
   ]
  },
  {
   "cell_type": "markdown",
   "id": "cd308287",
   "metadata": {},
   "source": [
    "## Exercise 2 :  Calculator functions"
   ]
  },
  {
   "cell_type": "code",
   "execution_count": 3,
   "id": "287df809",
   "metadata": {},
   "outputs": [
    {
     "name": "stdout",
     "output_type": "stream",
     "text": [
      "9\n",
      "6\n",
      "28\n",
      "8\n",
      "None\n",
      "0\n"
     ]
    }
   ],
   "source": [
    "# Exactly what Exercise 2 wants (part 1)\n",
    "\n",
    "def add(x,y):\n",
    "    return x + y\n",
    "\n",
    "def subtract (x,y):\n",
    "    return x - y\n",
    "\n",
    "def multiply(x,y):\n",
    "    return x*y\n",
    "\n",
    "def divide(x,y):\n",
    "    if (y == 0):\n",
    "        exit() # Python stops\n",
    "    else:\n",
    "        return int(x/y)\n",
    "\n",
    "print(add(5,4))\n",
    "print(subtract(9,3))\n",
    "print(multiply(7,4))\n",
    "print(divide(8,1))\n",
    "\n",
    "print(divide(9,0))\n",
    "print(divide(0,9))\n",
    "\n",
    "# return means 'give me back this value'\n",
    "# so use that instead of print()"
   ]
  },
  {
   "cell_type": "code",
   "execution_count": 12,
   "id": "39325eb4",
   "metadata": {},
   "outputs": [
    {
     "name": "stdout",
     "output_type": "stream",
     "text": [
      "[100 100 100 100 150]\n",
      "[-28 -32 -12  52   4]\n",
      "[2304 2244 2464 1824 5621]\n",
      "[0.5625     0.51515152 0.78571429 3.16666667 1.05479452]\n"
     ]
    }
   ],
   "source": [
    "# Exactly what Exercise 2 wants (part 2)\n",
    "\n",
    "def add(x,y):\n",
    "    return x + y\n",
    "\n",
    "def subtract (x,y):\n",
    "    return x - y\n",
    "\n",
    "def multiply(x,y):\n",
    "    return x*y\n",
    "\n",
    "def divide(x,y):\n",
    "    if y.any() == 0:\n",
    "        exit()\n",
    "    else:\n",
    "        return x/y\n",
    "\n",
    "x = np.array([36, 34, 44, 76, 77])\n",
    "y = np.array([64, 66, 56, 24, 73])\n",
    "\n",
    "print(add(x,y))\n",
    "print(subtract(x,y))\n",
    "print(multiply(x,y))\n",
    "print(divide(x,y))\n"
   ]
  },
  {
   "cell_type": "code",
   "execution_count": 2,
   "id": "19768e36",
   "metadata": {},
   "outputs": [
    {
     "name": "stdout",
     "output_type": "stream",
     "text": [
      "9\n",
      "6\n",
      "28\n",
      "8\n",
      "oh no!\n",
      "0\n"
     ]
    }
   ],
   "source": [
    "def add(x,y):\n",
    "    return x + y\n",
    "\n",
    "def subtract (x,y):\n",
    "    return x - y\n",
    "\n",
    "def multiply(x,y):\n",
    "    return x*y\n",
    "\n",
    "def divide(x,y):\n",
    "    if (y == 0) :\n",
    "        return 'oh no!'\n",
    "    else:\n",
    "        return int(x/y)\n",
    "\n",
    "print(add(5,4))\n",
    "print(subtract(9,3))\n",
    "print(multiply(7,4))\n",
    "print(divide(8,1))\n",
    "\n",
    "print(divide(9,0))\n",
    "print(divide(0,9))\n",
    "\n",
    "# return means 'give me back this value'\n",
    "# so use that instead of print()\n",
    "# no Nonetype data appears because I used return"
   ]
  },
  {
   "cell_type": "code",
   "execution_count": 1,
   "id": "ce2af0b0",
   "metadata": {},
   "outputs": [
    {
     "name": "stdout",
     "output_type": "stream",
     "text": [
      "9\n",
      "6\n",
      "28\n",
      "8\n",
      "oh no!\n",
      "None\n",
      "0\n"
     ]
    }
   ],
   "source": [
    "def add(x,y):\n",
    "    return x + y\n",
    "\n",
    "def subtract (x,y):\n",
    "    return x - y\n",
    "\n",
    "def multiply(x,y):\n",
    "    return x*y\n",
    "\n",
    "def divide(x,y):\n",
    "    if (y == 0) :\n",
    "        print('oh no!')\n",
    "    else:\n",
    "        return int(x/y)\n",
    "\n",
    "print(add(5,4))\n",
    "print(subtract(9,3))\n",
    "print(multiply(7,4))\n",
    "print(divide(8,1))\n",
    "\n",
    "print(divide(9,0))\n",
    "print(divide(0,9))\n",
    "\n",
    "# return means 'give me back this value'\n",
    "# so use that instead of print()\n",
    "# because print() is used here, the line after is Nonetype data"
   ]
  },
  {
   "cell_type": "code",
   "execution_count": 7,
   "id": "ca475a14",
   "metadata": {},
   "outputs": [
    {
     "name": "stdout",
     "output_type": "stream",
     "text": [
      "9\n",
      "6\n",
      "28\n",
      "8\n"
     ]
    },
    {
     "ename": "ZeroDivisionError",
     "evalue": "division by zero",
     "output_type": "error",
     "traceback": [
      "\u001b[1;31m---------------------------------------------------------------------------\u001b[0m",
      "\u001b[1;31mZeroDivisionError\u001b[0m                         Traceback (most recent call last)",
      "Cell \u001b[1;32mIn [7], line 19\u001b[0m\n\u001b[0;32m     16\u001b[0m \u001b[38;5;28mprint\u001b[39m(multiply(\u001b[38;5;241m7\u001b[39m,\u001b[38;5;241m4\u001b[39m))\n\u001b[0;32m     17\u001b[0m \u001b[38;5;28mprint\u001b[39m(divide(\u001b[38;5;241m8\u001b[39m,\u001b[38;5;241m1\u001b[39m))\n\u001b[1;32m---> 19\u001b[0m \u001b[38;5;28mprint\u001b[39m(\u001b[43mdivide\u001b[49m\u001b[43m(\u001b[49m\u001b[38;5;241;43m9\u001b[39;49m\u001b[43m,\u001b[49m\u001b[38;5;241;43m0\u001b[39;49m\u001b[43m)\u001b[49m)\n\u001b[0;32m     20\u001b[0m \u001b[38;5;28mprint\u001b[39m(divide(\u001b[38;5;241m0\u001b[39m,\u001b[38;5;241m9\u001b[39m))\n",
      "Cell \u001b[1;32mIn [7], line 12\u001b[0m, in \u001b[0;36mdivide\u001b[1;34m(x, y)\u001b[0m\n\u001b[0;32m     10\u001b[0m \u001b[38;5;28;01mdef\u001b[39;00m \u001b[38;5;21mdivide\u001b[39m(x,y):\n\u001b[0;32m     11\u001b[0m     \u001b[38;5;28;01massert\u001b[39;00m (x \u001b[38;5;241m>\u001b[39m \u001b[38;5;241m0\u001b[39m \u001b[38;5;129;01mor\u001b[39;00m y \u001b[38;5;241m>\u001b[39m \u001b[38;5;241m0\u001b[39m), \u001b[38;5;124m'\u001b[39m\u001b[38;5;124mindivisible by 0!\u001b[39m\u001b[38;5;124m'\u001b[39m\n\u001b[1;32m---> 12\u001b[0m     \u001b[38;5;28;01mreturn\u001b[39;00m \u001b[38;5;28mint\u001b[39m(\u001b[43mx\u001b[49m\u001b[38;5;241;43m/\u001b[39;49m\u001b[43my\u001b[49m)\n",
      "\u001b[1;31mZeroDivisionError\u001b[0m: division by zero"
     ]
    }
   ],
   "source": [
    "def add(x,y):\n",
    "    return x + y\n",
    "\n",
    "def subtract (x,y):\n",
    "    return x - y\n",
    "\n",
    "def multiply(x,y):\n",
    "    return x*y\n",
    "\n",
    "def divide(x,y):\n",
    "    assert (x > 0 or y > 0), 'indivisible by 0!'\n",
    "    return int(x/y)\n",
    "\n",
    "print(add(5,4))\n",
    "print(subtract(9,3))\n",
    "print(multiply(7,4))\n",
    "print(divide(8,1))\n",
    "\n",
    "print(divide(9,0))\n",
    "print(divide(0,9))"
   ]
  },
  {
   "cell_type": "code",
   "execution_count": 2,
   "id": "ab2cca01",
   "metadata": {},
   "outputs": [],
   "source": [
    "import numpy as np"
   ]
  },
  {
   "cell_type": "markdown",
   "id": "f85cc94d",
   "metadata": {},
   "source": [
    "## Exercise 3 :  max_info() with NumPy"
   ]
  },
  {
   "cell_type": "code",
   "execution_count": 9,
   "id": "8208daa7",
   "metadata": {},
   "outputs": [
    {
     "name": "stdout",
     "output_type": "stream",
     "text": [
      "83\n",
      "2\n"
     ]
    }
   ],
   "source": [
    "# Exactly what Exercise 3 wants\n",
    "\n",
    "def max_info(numbers):\n",
    "    return np.max(numbers), np.argmax(numbers)\n",
    "# element with the maximum value within the list and \n",
    "# index of that element to show up as output\n",
    "\n",
    "numbers = [40, 27, 83, 44, 74, 51, 76, 77, 10, 49]\n",
    "# numbers = np.array(numbers)\n",
    "\n",
    "\n",
    "x, y = max_info(numbers)\n",
    "print(x)\n",
    "print(y)"
   ]
  },
  {
   "cell_type": "code",
   "execution_count": 21,
   "id": "941adbf7",
   "metadata": {},
   "outputs": [
    {
     "data": {
      "text/plain": [
       "[83, 2]"
      ]
     },
     "execution_count": 21,
     "metadata": {},
     "output_type": "execute_result"
    }
   ],
   "source": [
    "def max_info(numbers):\n",
    "    return [numbers.max(), numbers.argmax()] # array\n",
    "# element with the maximum value within the list and \n",
    "# index of that element to show up as output\n",
    "\n",
    "numbers = [40, 27, 83, 44, 74, 51, 76, 77, 10, 49]\n",
    "numbers = np.array(numbers)\n",
    "max_info(numbers)\n",
    "\n"
   ]
  },
  {
   "cell_type": "code",
   "execution_count": 2,
   "id": "703080db",
   "metadata": {},
   "outputs": [],
   "source": [
    "import numpy as np"
   ]
  },
  {
   "cell_type": "code",
   "execution_count": 7,
   "id": "bebed7c8",
   "metadata": {},
   "outputs": [
    {
     "data": {
      "text/plain": [
       "83"
      ]
     },
     "execution_count": 7,
     "metadata": {},
     "output_type": "execute_result"
    }
   ],
   "source": [
    "def max_info(numbers):\n",
    "    return numbers.max(), numbers.argmax() # tuple\n",
    "# element with the maximum value within the list and \n",
    "# index of that element to show up as output\n",
    "\n",
    "numbers = [40, 27, 83, 44, 74, 51, 76, 77, 10, 49]\n",
    "numbers = np.array(numbers)\n",
    "\n",
    "\n",
    "x,_ = max_info(numbers) # if you don't care about naming\\\n",
    "\n",
    "x"
   ]
  },
  {
   "cell_type": "code",
   "execution_count": 18,
   "id": "a8938d66",
   "metadata": {},
   "outputs": [
    {
     "data": {
      "text/plain": [
       "83"
      ]
     },
     "execution_count": 18,
     "metadata": {},
     "output_type": "execute_result"
    }
   ],
   "source": [
    "def max_info(numbers):\n",
    "    return numbers.max() \n",
    "    return numbers.argmax()\n",
    "\n",
    "numbers = [40, 27, 83, 44, 74, 51, 76, 77, 10, 49]\n",
    "numbers = np.array(numbers)\n",
    "\n",
    "max_info(numbers)\n"
   ]
  }
 ],
 "metadata": {
  "kernelspec": {
   "display_name": "Python 3 (ipykernel)",
   "language": "python",
   "name": "python3"
  },
  "language_info": {
   "codemirror_mode": {
    "name": "ipython",
    "version": 3
   },
   "file_extension": ".py",
   "mimetype": "text/x-python",
   "name": "python",
   "nbconvert_exporter": "python",
   "pygments_lexer": "ipython3",
   "version": "3.9.12"
  },
  "toc": {
   "base_numbering": 1,
   "nav_menu": {},
   "number_sections": true,
   "sideBar": true,
   "skip_h1_title": false,
   "title_cell": "Table of Contents",
   "title_sidebar": "Contents",
   "toc_cell": false,
   "toc_position": {},
   "toc_section_display": true,
   "toc_window_display": false
  },
  "vscode": {
   "interpreter": {
    "hash": "31f2aee4e71d21fbe5cf8b01ff0e069b9275f58929596ceb00d14d90e3e16cd6"
   }
  }
 },
 "nbformat": 4,
 "nbformat_minor": 5
}
