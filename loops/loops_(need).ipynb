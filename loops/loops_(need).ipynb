{
 "cells": [
  {
   "cell_type": "markdown",
   "id": "123456",
   "metadata": {},
   "source": [
    "<div style=\"text-align:left;font-size:2em\"><span style=\"font-weight:bolder;font-size:1.25em\">SP2273 | Learning Portfolio</span><br><br><span style=\"font-weight:bold;color:darkred\">Loops (Need)</span></div>"
   ]
  },
  {
   "cell_type": "markdown",
   "id": "c79618ab",
   "metadata": {},
   "source": [
    "## 1 for"
   ]
  },
  {
   "cell_type": "markdown",
   "id": "a0115d38",
   "metadata": {},
   "source": [
    "### 1.1 for with a list"
   ]
  },
  {
   "cell_type": "code",
   "execution_count": 42,
   "id": "68e0482a",
   "metadata": {},
   "outputs": [
    {
     "name": "stdout",
     "output_type": "stream",
     "text": [
      "Bruce Wayne is DC superhero\n",
      "Diana Prince is DC superhero\n"
     ]
    }
   ],
   "source": [
    "real_names = ['Bruce Wayne', 'Clark Kent', 'Diana Prince']\n",
    "\n",
    "name = real_names[0]\n",
    "print(f'{name} is DC superhero')\n",
    "\n",
    "name = real_names[-1]\n",
    "print(f'{name} is DC superhero')"
   ]
  },
  {
   "cell_type": "markdown",
   "id": "8a92d4f8",
   "metadata": {},
   "source": [
    "### 1.2 for with enumerate"
   ]
  },
  {
   "cell_type": "code",
   "execution_count": 52,
   "id": "7264cc12",
   "metadata": {},
   "outputs": [
    {
     "name": "stdout",
     "output_type": "stream",
     "text": [
      "1:Bruce Wayne is DC superhero!\n",
      "2:Clark Kent is DC superhero!\n",
      "3:Diana Prince is DC superhero!\n"
     ]
    }
   ],
   "source": [
    "real_names = ['Bruce Wayne', 'Clark Kent', 'Diana Prince']\n",
    "# for name in real_names:\n",
    "    # print(f'{name} is a DC superhero!')\n",
    "\n",
    "# Goes through structure of *for* loop\n",
    "# assigns {name} the value of each element of the list\n",
    "# it then runs the code-block with that value *for* {name}\n",
    "\n",
    "superhero_names = ['Batman', 'Superman', 'Wonder Woman']\n",
    "\n",
    "\n",
    "\n",
    "for i, name in enumerate(real_names, 1):\n",
    "    print(f'{i}:{name} is DC superhero!')"
   ]
  },
  {
   "cell_type": "code",
   "execution_count": 55,
   "id": "ee9e33e0",
   "metadata": {},
   "outputs": [
    {
     "name": "stdout",
     "output_type": "stream",
     "text": [
      "-2:Bruce Wayne is Superman!\n",
      "-1:Clark Kent is Wonder Woman!\n",
      "0:Diana Prince is Batman!\n"
     ]
    }
   ],
   "source": [
    "real_names = ['Bruce Wayne', 'Clark Kent', 'Diana Prince']\n",
    "# for name in real_names:\n",
    "    # print(f'{name} is a DC superhero!')\n",
    "\n",
    "# Goes through structure of *for* loop\n",
    "# assigns {name} the value of each element of the list\n",
    "# it then runs the code-block with that value *for* {name}\n",
    "\n",
    "superhero_names = ['Batman', 'Superman', 'Wonder Woman']\n",
    "\n",
    "\n",
    "\n",
    "for i, name in enumerate(real_names, -2):\n",
    "    superhero_name = superhero_names[i]\n",
    "    print(f'{i}:{name} is {superhero_name}!')\n",
    "\n",
    "# NO GOING BACKWARDS\n",
    "# READ LEFT TO RIGHT\n"
   ]
  },
  {
   "cell_type": "code",
   "execution_count": 50,
   "id": "0c96981c",
   "metadata": {},
   "outputs": [
    {
     "name": "stdout",
     "output_type": "stream",
     "text": [
      "-1:Bruce Wayne is Wonder Woman!\n",
      "0:Clark Kent is Batman!\n",
      "1:Diana Prince is Superman!\n"
     ]
    }
   ],
   "source": [
    "real_names = ['Bruce Wayne', 'Clark Kent', 'Diana Prince']\n",
    "# for name in real_names:\n",
    "    # print(f'{name} is a DC superhero!')\n",
    "\n",
    "# Goes through structure of *for* loop\n",
    "# assigns {name} the value of each element of the list\n",
    "# it then runs the code-block with that value *for* {name}\n",
    "\n",
    "superhero_names = ['Batman', 'Superman', 'Wonder Woman']\n",
    "\n",
    "\n",
    "    \n",
    "for i, name in enumerate(real_names, -1):\n",
    "    superhero_name = superhero_names[i]\n",
    "    print(f'{i}:{name} is {superhero_name}!')\n",
    "#GOING BACKWARDS WOULD NOT MAKE SENSE\n",
    "\n",
    "# NO GOING BACKWARDS\n",
    "# READ LEFT TO RIGHT"
   ]
  },
  {
   "cell_type": "code",
   "execution_count": 49,
   "id": "597dbd05",
   "metadata": {},
   "outputs": [
    {
     "name": "stdout",
     "output_type": "stream",
     "text": [
      "0:Bruce Wayne is Batman!\n",
      "1:Clark Kent is Superman!\n",
      "2:Diana Prince is Wonder Woman!\n"
     ]
    }
   ],
   "source": [
    "real_names = ['Bruce Wayne', 'Clark Kent', 'Diana Prince']\n",
    "# for name in real_names:\n",
    "    # print(f'{name} is a DC superhero!')\n",
    "\n",
    "# Goes through structure of *for* loop\n",
    "# assigns {name} the value of each element of the list\n",
    "# it then runs the code-block with that value *for* {name}\n",
    "\n",
    "superhero_names = ['Batman', 'Superman', 'Wonder Woman']\n",
    "\n",
    "for i, name in enumerate(real_names):\n",
    "    superhero_name = superhero_names[i]\n",
    "    print(f'{i}:{name} is {superhero_name}!')\n",
    "    \n",
    "# NO GOING BACKWARDS\n",
    "# READ LEFT TO RIGHT"
   ]
  },
  {
   "cell_type": "code",
   "execution_count": 56,
   "id": "4f595fb5",
   "metadata": {},
   "outputs": [
    {
     "name": "stdout",
     "output_type": "stream",
     "text": [
      "1:Bruce Wayne is Superman!\n",
      "2:Clark Kent is Wonder Woman!\n"
     ]
    },
    {
     "ename": "IndexError",
     "evalue": "list index out of range",
     "output_type": "error",
     "traceback": [
      "\u001b[1;31m---------------------------------------------------------------------------\u001b[0m",
      "\u001b[1;31mIndexError\u001b[0m                                Traceback (most recent call last)",
      "Cell \u001b[1;32mIn [56], line 12\u001b[0m\n\u001b[0;32m      9\u001b[0m superhero_names \u001b[38;5;241m=\u001b[39m [\u001b[38;5;124m'\u001b[39m\u001b[38;5;124mBatman\u001b[39m\u001b[38;5;124m'\u001b[39m, \u001b[38;5;124m'\u001b[39m\u001b[38;5;124mSuperman\u001b[39m\u001b[38;5;124m'\u001b[39m, \u001b[38;5;124m'\u001b[39m\u001b[38;5;124mWonder Woman\u001b[39m\u001b[38;5;124m'\u001b[39m]\n\u001b[0;32m     11\u001b[0m \u001b[38;5;28;01mfor\u001b[39;00m i, name \u001b[38;5;129;01min\u001b[39;00m \u001b[38;5;28menumerate\u001b[39m(real_names, \u001b[38;5;241m1\u001b[39m):\n\u001b[1;32m---> 12\u001b[0m     superhero_name \u001b[38;5;241m=\u001b[39m \u001b[43msuperhero_names\u001b[49m\u001b[43m[\u001b[49m\u001b[43mi\u001b[49m\u001b[43m]\u001b[49m\n\u001b[0;32m     13\u001b[0m     \u001b[38;5;28mprint\u001b[39m(\u001b[38;5;124mf\u001b[39m\u001b[38;5;124m'\u001b[39m\u001b[38;5;132;01m{\u001b[39;00mi\u001b[38;5;132;01m}\u001b[39;00m\u001b[38;5;124m:\u001b[39m\u001b[38;5;132;01m{\u001b[39;00mname\u001b[38;5;132;01m}\u001b[39;00m\u001b[38;5;124m is \u001b[39m\u001b[38;5;132;01m{\u001b[39;00msuperhero_name\u001b[38;5;132;01m}\u001b[39;00m\u001b[38;5;124m!\u001b[39m\u001b[38;5;124m'\u001b[39m)\n\u001b[0;32m     16\u001b[0m \u001b[38;5;28;01mfor\u001b[39;00m i, name \u001b[38;5;129;01min\u001b[39;00m \u001b[38;5;28menumerate\u001b[39m(real_names, \u001b[38;5;241m1\u001b[39m):\n",
      "\u001b[1;31mIndexError\u001b[0m: list index out of range"
     ]
    }
   ],
   "source": [
    "real_names = ['Bruce Wayne', 'Clark Kent', 'Diana Prince']\n",
    "# for name in real_names:\n",
    "    # print(f'{name} is a DC superhero!')\n",
    "\n",
    "# Goes through structure of *for* loop\n",
    "# assigns {name} the value of each element of the list\n",
    "# it then runs the code-block with that value *for* {name}\n",
    "\n",
    "superhero_names = ['Batman', 'Superman', 'Wonder Woman']\n",
    "\n",
    "for i, name in enumerate(real_names, 1):\n",
    "    superhero_name = superhero_names[i]\n",
    "    print(f'{i}:{name} is {superhero_name}!')\n",
    "\n",
    "\n",
    "for i, name in enumerate(real_names, 1):\n",
    "    print(f'{i}:{name} is DC superhero!')\n",
    "    \n",
    "# NO GOING BACKWARDS\n",
    "# READ LEFT TO RIGHT"
   ]
  },
  {
   "cell_type": "markdown",
   "id": "bd9346a1",
   "metadata": {},
   "source": [
    "### 1.3 for with range"
   ]
  },
  {
   "cell_type": "code",
   "execution_count": 39,
   "id": "4c988803",
   "metadata": {},
   "outputs": [
    {
     "name": "stdout",
     "output_type": "stream",
     "text": [
      "0\n",
      "1\n",
      "2\n",
      "3\n",
      "4\n",
      "I can count to 4\n"
     ]
    }
   ],
   "source": [
    "# get the for loop to run a given number of loops\n",
    "\n",
    "for i in range(5):\n",
    "    print(i)\n",
    "print('I can count to 4')\n"
   ]
  },
  {
   "cell_type": "code",
   "execution_count": 38,
   "id": "9799e2a6",
   "metadata": {},
   "outputs": [
    {
     "name": "stdout",
     "output_type": "stream",
     "text": [
      "5\n",
      "6\n",
      "7\n",
      "8\n",
      "9\n",
      "I can count from 5 to 9\n"
     ]
    }
   ],
   "source": [
    "# tailor the starting and ending values\n",
    "\n",
    "for i in range(5,10):\n",
    "    print(i)\n",
    "print('I can count from 5 to 9')\n"
   ]
  },
  {
   "cell_type": "code",
   "execution_count": 37,
   "id": "7521b822",
   "metadata": {},
   "outputs": [
    {
     "name": "stdout",
     "output_type": "stream",
     "text": [
      "5\n",
      "7\n",
      "9\n",
      "I can count from 5 to 9 in increments of 2\n"
     ]
    }
   ],
   "source": [
    "# Doing the above with adjusted step-size\n",
    "\n",
    "for i in range(5,10,2):\n",
    "    print(i)\n",
    "print('I can count from 5 to 9 in increments of 2')\n"
   ]
  },
  {
   "cell_type": "code",
   "execution_count": 36,
   "id": "3eee9941",
   "metadata": {},
   "outputs": [
    {
     "name": "stdout",
     "output_type": "stream",
     "text": [
      "Bruce Wayne is a DC's Batman!\n",
      "Clark Kent is a DC's Superman!\n",
      "Diana Prince is a DC's Wonder Woman!\n"
     ]
    }
   ],
   "source": [
    "real_names = ['Bruce Wayne', 'Clark Kent', 'Diana Prince']\n",
    "superhero_names = ['Batman', 'Superman', 'Wonder Woman']\n",
    "\n",
    "for i in range(len(real_names)): # Use len(real_names) to get how many times the loop should run\n",
    "    real_name = real_names[i]\n",
    "    superhero_name = superhero_names[i]\n",
    "    print(f'{real_name} is a DC\\'s {superhero_name}!')\n"
   ]
  },
  {
   "cell_type": "code",
   "execution_count": 35,
   "id": "7d351989",
   "metadata": {},
   "outputs": [
    {
     "ename": "TypeError",
     "evalue": "'float' object cannot be interpreted as an integer",
     "output_type": "error",
     "traceback": [
      "\u001b[1;31m---------------------------------------------------------------------------\u001b[0m",
      "\u001b[1;31mTypeError\u001b[0m                                 Traceback (most recent call last)",
      "Cell \u001b[1;32mIn [35], line 4\u001b[0m\n\u001b[0;32m      1\u001b[0m real_names \u001b[38;5;241m=\u001b[39m [\u001b[38;5;124m'\u001b[39m\u001b[38;5;124mBruce Wayne\u001b[39m\u001b[38;5;124m'\u001b[39m, \u001b[38;5;124m'\u001b[39m\u001b[38;5;124mClark Kent\u001b[39m\u001b[38;5;124m'\u001b[39m, \u001b[38;5;124m'\u001b[39m\u001b[38;5;124mDiana Prince\u001b[39m\u001b[38;5;124m'\u001b[39m]\n\u001b[0;32m      2\u001b[0m superhero_names \u001b[38;5;241m=\u001b[39m [\u001b[38;5;124m'\u001b[39m\u001b[38;5;124mBatman\u001b[39m\u001b[38;5;124m'\u001b[39m, \u001b[38;5;124m'\u001b[39m\u001b[38;5;124mSuperman\u001b[39m\u001b[38;5;124m'\u001b[39m, \u001b[38;5;124m'\u001b[39m\u001b[38;5;124mWonder Woman\u001b[39m\u001b[38;5;124m'\u001b[39m]\n\u001b[1;32m----> 4\u001b[0m \u001b[38;5;28;01mfor\u001b[39;00m i \u001b[38;5;129;01min\u001b[39;00m \u001b[38;5;28;43mrange\u001b[39;49m\u001b[43m(\u001b[49m\u001b[38;5;28;43mlen\u001b[39;49m\u001b[43m(\u001b[49m\u001b[43mreal_names\u001b[49m\u001b[43m)\u001b[49m\u001b[38;5;241;43m/\u001b[39;49m\u001b[38;5;241;43m2\u001b[39;49m\u001b[43m)\u001b[49m: \u001b[38;5;66;03m# Use len(real_names) to get how many times the loop should run\u001b[39;00m\n\u001b[0;32m      5\u001b[0m     real_name \u001b[38;5;241m=\u001b[39m real_names[i]\n\u001b[0;32m      6\u001b[0m     superhero_name \u001b[38;5;241m=\u001b[39m superhero_names[i]\n",
      "\u001b[1;31mTypeError\u001b[0m: 'float' object cannot be interpreted as an integer"
     ]
    }
   ],
   "source": [
    "real_names = ['Bruce Wayne', 'Clark Kent', 'Diana Prince']\n",
    "superhero_names = ['Batman', 'Superman', 'Wonder Woman']\n",
    "\n",
    "for i in range(len(real_names)/2): # Use len(real_names) to get how many times the loop should run\n",
    "    real_name = real_names[i]\n",
    "    superhero_name = superhero_names[i]\n",
    "    print(f'{real_name} is a DC\\'s {superhero_name}!')\n",
    "\n",
    "    \n",
    "    # CANT HALF A LIST WITH NUMBERS"
   ]
  },
  {
   "cell_type": "code",
   "execution_count": 34,
   "id": "f7deb7ea",
   "metadata": {},
   "outputs": [
    {
     "name": "stdout",
     "output_type": "stream",
     "text": [
      "Bruce Wayne is a DC's Batman!\n",
      "Clark Kent is a DC's Superman!\n",
      "Diana Prince is a DC's Wonder Woman!\n"
     ]
    }
   ],
   "source": [
    "# for loop can be run a given number of times using range()\n",
    "\n",
    "real_names = ['Bruce Wayne', 'Clark Kent', 'Diana Prince']\n",
    "superhero_names = ['Batman', 'Superman', 'Wonder Woman']\n",
    "\n",
    "for i in range(3): \n",
    "    real_name = real_names[i]\n",
    "    superhero_name = superhero_names[i]\n",
    "    print(f'{real_name} is a DC\\'s {superhero_name}!')\n"
   ]
  },
  {
   "cell_type": "code",
   "execution_count": 33,
   "id": "90f7be28",
   "metadata": {},
   "outputs": [
    {
     "name": "stdout",
     "output_type": "stream",
     "text": [
      "Bruce Wayne is a DC's Batman!\n",
      "Clark Kent is a DC's Superman!\n"
     ]
    }
   ],
   "source": [
    "# loop can be run a given number of times using range()\n",
    "\n",
    "real_names = ['Bruce Wayne', 'Clark Kent', 'Diana Prince']\n",
    "superhero_names = ['Batman', 'Superman', 'Wonder Woman']\n",
    "\n",
    "for i in range(2): \n",
    "    real_name = real_names[i]\n",
    "    superhero_name = superhero_names[i]\n",
    "    print(f'{real_name} is a DC\\'s {superhero_name}!')\n"
   ]
  },
  {
   "cell_type": "markdown",
   "id": "ce672d29",
   "metadata": {},
   "source": [
    "## 2 while"
   ]
  },
  {
   "cell_type": "code",
   "execution_count": 32,
   "id": "fbd0be12",
   "metadata": {},
   "outputs": [
    {
     "name": "stdout",
     "output_type": "stream",
     "text": [
      "0\n",
      "1\n",
      "2\n",
      "3\n",
      "4\n",
      "5\n"
     ]
    }
   ],
   "source": [
    "number = 0\n",
    "\n",
    "while number < 6: # while loop checks condition at the start -> begin another loop if the condition is true\n",
    "    print(number)\n",
    "    number += 1"
   ]
  },
  {
   "cell_type": "code",
   "execution_count": 31,
   "id": "15524f7c",
   "metadata": {},
   "outputs": [
    {
     "name": "stdout",
     "output_type": "stream",
     "text": [
      "0\n",
      "1\n",
      "2\n",
      "3\n",
      "4\n",
      "5\n",
      "6\n"
     ]
    }
   ],
   "source": [
    "number = 0\n",
    "\n",
    "while number <= 6: # while loop checks condition at the start -> begin another loop if the condition is true\n",
    "    print(number)\n",
    "    number += 1"
   ]
  },
  {
   "cell_type": "code",
   "execution_count": 30,
   "id": "67a64d94",
   "metadata": {},
   "outputs": [
    {
     "name": "stdout",
     "output_type": "stream",
     "text": [
      "0\n"
     ]
    }
   ],
   "source": [
    "number = 0\n",
    "\n",
    "while True: # while loop checks condition at the start -> begin another loop if the condition is true\n",
    "    print(number)\n",
    "    number += 1\n",
    "    break\n",
    "\n",
    "\n"
   ]
  },
  {
   "cell_type": "markdown",
   "id": "3643a627",
   "metadata": {},
   "source": [
    "## Exercise 1 :  Make me a list"
   ]
  },
  {
   "cell_type": "code",
   "execution_count": 28,
   "id": "f16e63b3",
   "metadata": {},
   "outputs": [
    {
     "data": {
      "text/plain": [
       "[0, 1, 4, 9, 16, 25, 36, 49, 64, 81]"
      ]
     },
     "execution_count": 28,
     "metadata": {},
     "output_type": "execute_result"
    }
   ],
   "source": [
    "# Exactly what Exercise 1 wants\n",
    "\n",
    "number_list = []\n",
    "\n",
    "for i in range(10):\n",
    "    i = i**2\n",
    "    number_list.append(i)\n",
    "\n",
    "number_list"
   ]
  },
  {
   "cell_type": "code",
   "execution_count": 27,
   "id": "9cf56898",
   "metadata": {},
   "outputs": [
    {
     "name": "stdout",
     "output_type": "stream",
     "text": [
      "0\n",
      "1\n",
      "4\n",
      "9\n",
      "16\n",
      "25\n",
      "36\n",
      "49\n",
      "64\n",
      "81\n"
     ]
    },
    {
     "data": {
      "text/plain": [
       "[0, 1, 4, 9, 16, 25, 36, 49, 64, 81]"
      ]
     },
     "execution_count": 27,
     "metadata": {},
     "output_type": "execute_result"
    }
   ],
   "source": [
    "number_list = []\n",
    "\n",
    "for i in range(10):\n",
    "    i = i**2\n",
    "    number_list.append(i)\n",
    "    print(i)\n",
    "\n",
    "number_list"
   ]
  },
  {
   "cell_type": "code",
   "execution_count": 24,
   "id": "9f7a42a9",
   "metadata": {},
   "outputs": [
    {
     "name": "stdout",
     "output_type": "stream",
     "text": [
      "0\n",
      "1\n",
      "4\n",
      "9\n",
      "16\n",
      "25\n",
      "36\n",
      "49\n",
      "64\n",
      "81\n",
      "81\n"
     ]
    }
   ],
   "source": [
    "for i in range(10):\n",
    "    i = i**2\n",
    "    print(i)\n",
    "\n",
    "new_list = i\n",
    "print(new_list)\n",
    "\n",
    "# Have I made the output of this a list of its own? Nope! See above"
   ]
  },
  {
   "cell_type": "markdown",
   "id": "17704e7d",
   "metadata": {},
   "source": [
    "## Exercise 2 :  Make me an odd list"
   ]
  },
  {
   "cell_type": "code",
   "execution_count": 29,
   "id": "70e76e18",
   "metadata": {},
   "outputs": [
    {
     "data": {
      "text/plain": [
       "[1, 9, 25, 49, 81]"
      ]
     },
     "execution_count": 29,
     "metadata": {},
     "output_type": "execute_result"
    }
   ],
   "source": [
    "# Exactly what Exercise 2 wants\n",
    "\n",
    "number_list = []\n",
    "\n",
    "for i in range(1,10,2):\n",
    "    i = i**2\n",
    "    number_list.append(i)\n",
    "\n",
    "number_list"
   ]
  },
  {
   "cell_type": "code",
   "execution_count": 23,
   "id": "f86939f6",
   "metadata": {},
   "outputs": [
    {
     "name": "stdout",
     "output_type": "stream",
     "text": [
      "1\n",
      "9\n",
      "25\n",
      "49\n",
      "81\n"
     ]
    },
    {
     "data": {
      "text/plain": [
       "[1, 9, 25, 49, 81]"
      ]
     },
     "execution_count": 23,
     "metadata": {},
     "output_type": "execute_result"
    }
   ],
   "source": [
    "number_list = []\n",
    "\n",
    "for i in range(1,10,2):\n",
    "    i = i**2\n",
    "    number_list.append(i)\n",
    "    print(i)\n",
    "\n",
    "number_list"
   ]
  },
  {
   "cell_type": "code",
   "execution_count": 20,
   "id": "8327b848",
   "metadata": {},
   "outputs": [
    {
     "name": "stdout",
     "output_type": "stream",
     "text": [
      "1\n",
      "9\n",
      "25\n",
      "49\n",
      "81\n"
     ]
    }
   ],
   "source": [
    "for i in range(1,10,2):\n",
    "    i = i**2\n",
    "    print(i)\n"
   ]
  },
  {
   "cell_type": "markdown",
   "id": "d78ddace",
   "metadata": {},
   "source": [
    "## Exercise 3 :  Make me another odd list"
   ]
  },
  {
   "cell_type": "code",
   "execution_count": 12,
   "id": "72e31de1",
   "metadata": {},
   "outputs": [
    {
     "data": {
      "text/plain": [
       "[1, 9, 25, 49, 81]"
      ]
     },
     "execution_count": 12,
     "metadata": {},
     "output_type": "execute_result"
    }
   ],
   "source": [
    "# Exactly what Exercise 4 wants\n",
    "\n",
    "number = 1\n",
    "number_list = [1]\n",
    "squared_number = number**2\n",
    "\n",
    "while squared_number < 81: # Look through loop, see what output will be - e.g. 64<81 -> still fulfils requirement\n",
    "    number += 2\n",
    "    squared_number = number**2 # To the power of instead -> load value faster\n",
    "    number_list.append(squared_number)\n",
    "    \n",
    "number_list"
   ]
  },
  {
   "cell_type": "code",
   "execution_count": 16,
   "id": "e544ee6c",
   "metadata": {},
   "outputs": [
    {
     "data": {
      "text/plain": [
       "[1, 9, 25, 49, 81]"
      ]
     },
     "execution_count": 16,
     "metadata": {},
     "output_type": "execute_result"
    }
   ],
   "source": [
    "# Exactly what Exercise 4 wants\n",
    "\n",
    "number = 1\n",
    "number_list = [1]\n",
    "squared_number = number**2\n",
    "\n",
    "while range(number,10,2) and number < 9: # Look through loop, see what output will be - e.g. 64<81 -> still fulfils requirement\n",
    "    number += 2\n",
    "    squared_number = number**2 # To the power of instead -> load value faster\n",
    "    number_list.append(squared_number)\n",
    "    \n",
    "number_list"
   ]
  },
  {
   "cell_type": "code",
   "execution_count": 17,
   "id": "6b6bede5",
   "metadata": {},
   "outputs": [
    {
     "data": {
      "text/plain": [
       "[1, 9, 25, 49, 81]"
      ]
     },
     "execution_count": 17,
     "metadata": {},
     "output_type": "execute_result"
    }
   ],
   "source": [
    "# Exactly what Exercise 4 wants\n",
    "\n",
    "number = 1\n",
    "number_list = [1]\n",
    "squared_number = number**2\n",
    "\n",
    "while range(number,9,2): # Look through loop, see what output will be - e.g. 64<81 -> still fulfils requirement\n",
    "    number += 2\n",
    "    squared_number = number**2 # To the power of instead -> load value faster\n",
    "    number_list.append(squared_number)\n",
    "    \n",
    "number_list"
   ]
  },
  {
   "cell_type": "code",
   "execution_count": 3,
   "id": "5915b535",
   "metadata": {},
   "outputs": [
    {
     "data": {
      "text/plain": [
       "[1, 4, 9, 16, 25, 36, 49, 64, 81]"
      ]
     },
     "execution_count": 3,
     "metadata": {},
     "output_type": "execute_result"
    }
   ],
   "source": [
    "i = [0,1,4,9,16,25,36,49,64,81]\n",
    "\n",
    "i[1:10]\n",
    "\n",
    "    \n",
    "\n",
    "# idk :()"
   ]
  },
  {
   "cell_type": "code",
   "execution_count": 4,
   "id": "e1619bf6",
   "metadata": {},
   "outputs": [
    {
     "data": {
      "text/plain": [
       "[1, 9, 25, 49, 81]"
      ]
     },
     "execution_count": 4,
     "metadata": {},
     "output_type": "execute_result"
    }
   ],
   "source": [
    "import numpy as np\n",
    "\n",
    "i = [0,1,4,9,16,25,36,49,64,81]\n",
    "\n",
    "array_i = np.array(i)\n",
    "\n",
    "i[1:10:2]\n",
    "\n",
    "# Array is faster \n",
    "    \n",
    "\n"
   ]
  },
  {
   "cell_type": "code",
   "execution_count": 10,
   "id": "bfd35b0c",
   "metadata": {},
   "outputs": [
    {
     "ename": "SyntaxError",
     "evalue": "'function call' is an illegal expression for augmented assignment (3116677921.py, line 4)",
     "output_type": "error",
     "traceback": [
      "\u001b[1;36m  Cell \u001b[1;32mIn [10], line 4\u001b[1;36m\u001b[0m\n\u001b[1;33m    list(number_list) += [squared_number]\u001b[0m\n\u001b[1;37m    ^\u001b[0m\n\u001b[1;31mSyntaxError\u001b[0m\u001b[1;31m:\u001b[0m 'function call' is an illegal expression for augmented assignment\n"
     ]
    }
   ],
   "source": [
    "number = 1\n",
    "\n",
    "squared_number = number**2\n",
    "list(number_list) += [squared_number]\n",
    "\n",
    "while squared_number < 81: # Look through loop, see what output will be - e.g. 64<81 -> still fulfils requirement\n",
    "    number += 2\n",
    "    squared_number = number**2 # To the power of instead -> load value faster\n",
    "    number_list.append(squared_number)\n",
    "    \n",
    "number_list"
   ]
  },
  {
   "cell_type": "code",
   "execution_count": 2,
   "id": "7af2d18b",
   "metadata": {},
   "outputs": [
    {
     "data": {
      "text/plain": [
       "[1, 9, 25, 49, 81]"
      ]
     },
     "execution_count": 2,
     "metadata": {},
     "output_type": "execute_result"
    }
   ],
   "source": [
    "number = 1\n",
    "number_list = [1]\n",
    "squared_number = number**2\n",
    "\n",
    "while squared_number < 81: # Look through loop, see what output will be - e.g. 64<81 -> still fulfils requirement\n",
    "    number += 2\n",
    "    squared_number = number**2 # Need to define squared_number again, update its defintion\n",
    "    number_list.append(squared_number)\n",
    "    \n",
    "number_list"
   ]
  },
  {
   "cell_type": "code",
   "execution_count": null,
   "id": "a03a022d",
   "metadata": {},
   "outputs": [],
   "source": []
  }
 ],
 "metadata": {
  "kernelspec": {
   "display_name": "Python 3 (ipykernel)",
   "language": "python",
   "name": "python3"
  },
  "language_info": {
   "codemirror_mode": {
    "name": "ipython",
    "version": 3
   },
   "file_extension": ".py",
   "mimetype": "text/x-python",
   "name": "python",
   "nbconvert_exporter": "python",
   "pygments_lexer": "ipython3",
   "version": "3.9.12"
  },
  "toc": {
   "base_numbering": 1,
   "nav_menu": {},
   "number_sections": true,
   "sideBar": true,
   "skip_h1_title": false,
   "title_cell": "Table of Contents",
   "title_sidebar": "Contents",
   "toc_cell": false,
   "toc_position": {},
   "toc_section_display": true,
   "toc_window_display": false
  },
  "vscode": {
   "interpreter": {
    "hash": "31f2aee4e71d21fbe5cf8b01ff0e069b9275f58929596ceb00d14d90e3e16cd6"
   }
  }
 },
 "nbformat": 4,
 "nbformat_minor": 5
}
