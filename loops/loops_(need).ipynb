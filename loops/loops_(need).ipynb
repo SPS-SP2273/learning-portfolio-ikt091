{
 "cells": [
  {
   "cell_type": "markdown",
   "id": "123456",
   "metadata": {},
   "source": [
    "<div style=\"text-align:left;font-size:2em\"><span style=\"font-weight:bolder;font-size:1.25em\">SP2273 | Learning Portfolio</span><br><br><span style=\"font-weight:bold;color:darkred\">Loops (Need)</span></div>"
   ]
  },
  {
   "cell_type": "markdown",
   "id": "c79618ab",
   "metadata": {},
   "source": [
    "## 1 for"
   ]
  },
  {
   "cell_type": "markdown",
   "id": "a0115d38",
   "metadata": {},
   "source": [
    "### 1.1 for with a list"
   ]
  },
  {
   "cell_type": "code",
   "execution_count": 1,
   "id": "68e0482a",
   "metadata": {},
   "outputs": [
    {
     "name": "stdout",
     "output_type": "stream",
     "text": [
      "Bruce Wayne is DC superhero\n",
      "Diana Prince is DC superhero\n"
     ]
    }
   ],
   "source": [
    "real_names = ['Bruce Wayne', 'Clark Kent', 'Diana Prince']\n",
    "\n",
    "name = real_names[0]\n",
    "print(f'{name} is DC superhero')\n",
    "\n",
    "name = real_names[-1]\n",
    "print(f'{name} is DC superhero')"
   ]
  },
  {
   "cell_type": "markdown",
   "id": "8a92d4f8",
   "metadata": {},
   "source": [
    "### 1.2 for with enumerate"
   ]
  },
  {
   "cell_type": "code",
   "execution_count": 2,
   "id": "7264cc12",
   "metadata": {},
   "outputs": [
    {
     "name": "stdout",
     "output_type": "stream",
     "text": [
      "1:Bruce Wayne is DC superhero!\n",
      "2:Clark Kent is DC superhero!\n",
      "3:Diana Prince is DC superhero!\n"
     ]
    }
   ],
   "source": [
    "real_names = ['Bruce Wayne', 'Clark Kent', 'Diana Prince']\n",
    "# for name in real_names:\n",
    "    # print(f'{name} is a DC superhero!')\n",
    "\n",
    "# Goes through structure of *for* loop\n",
    "# assigns {name} the value of each element of the list\n",
    "# it then runs the code-block with that value *for* {name}\n",
    "\n",
    "superhero_names = ['Batman', 'Superman', 'Wonder Woman']\n",
    "\n",
    "\n",
    "\n",
    "for i, name in enumerate(real_names, 1):\n",
    "    print(f'{i}:{name} is DC superhero!')"
   ]
  },
  {
   "cell_type": "code",
   "execution_count": 3,
   "id": "ee9e33e0",
   "metadata": {},
   "outputs": [
    {
     "name": "stdout",
     "output_type": "stream",
     "text": [
      "-2:Bruce Wayne is Superman!\n",
      "-1:Clark Kent is Wonder Woman!\n",
      "0:Diana Prince is Batman!\n"
     ]
    }
   ],
   "source": [
    "real_names = ['Bruce Wayne', 'Clark Kent', 'Diana Prince']\n",
    "# for name in real_names:\n",
    "    # print(f'{name} is a DC superhero!')\n",
    "\n",
    "# Goes through structure of *for* loop\n",
    "# assigns {name} the value of each element of the list\n",
    "# it then runs the code-block with that value *for* {name}\n",
    "\n",
    "superhero_names = ['Batman', 'Superman', 'Wonder Woman']\n",
    "\n",
    "\n",
    "\n",
    "for i, name in enumerate(real_names, -2):\n",
    "    superhero_name = superhero_names[i]\n",
    "    print(f'{i}:{name} is {superhero_name}!')\n",
    "\n",
    "# NO GOING BACKWARDS\n",
    "# READ LEFT TO RIGHT\n"
   ]
  },
  {
   "cell_type": "code",
   "execution_count": 4,
   "id": "0c96981c",
   "metadata": {},
   "outputs": [
    {
     "name": "stdout",
     "output_type": "stream",
     "text": [
      "-1:Bruce Wayne is Wonder Woman!\n",
      "0:Clark Kent is Batman!\n",
      "1:Diana Prince is Superman!\n"
     ]
    }
   ],
   "source": [
    "real_names = ['Bruce Wayne', 'Clark Kent', 'Diana Prince']\n",
    "# for name in real_names:\n",
    "    # print(f'{name} is a DC superhero!')\n",
    "\n",
    "# Goes through structure of *for* loop\n",
    "# assigns {name} the value of each element of the list\n",
    "# it then runs the code-block with that value *for* {name}\n",
    "\n",
    "superhero_names = ['Batman', 'Superman', 'Wonder Woman']\n",
    "\n",
    "\n",
    "    \n",
    "for i, name in enumerate(real_names, -1):\n",
    "    superhero_name = superhero_names[i]\n",
    "    print(f'{i}:{name} is {superhero_name}!')\n",
    "#GOING BACKWARDS WOULD NOT MAKE SENSE\n",
    "\n",
    "# NO GOING BACKWARDS\n",
    "# READ LEFT TO RIGHT"
   ]
  },
  {
   "cell_type": "code",
   "execution_count": 5,
   "id": "597dbd05",
   "metadata": {},
   "outputs": [
    {
     "name": "stdout",
     "output_type": "stream",
     "text": [
      "0:Bruce Wayne is Batman!\n",
      "1:Clark Kent is Superman!\n",
      "2:Diana Prince is Wonder Woman!\n"
     ]
    }
   ],
   "source": [
    "real_names = ['Bruce Wayne', 'Clark Kent', 'Diana Prince']\n",
    "# for name in real_names:\n",
    "    # print(f'{name} is a DC superhero!')\n",
    "\n",
    "# Goes through structure of *for* loop\n",
    "# assigns {name} the value of each element of the list\n",
    "# it then runs the code-block with that value *for* {name}\n",
    "\n",
    "superhero_names = ['Batman', 'Superman', 'Wonder Woman']\n",
    "\n",
    "for i, name in enumerate(real_names):\n",
    "    superhero_name = superhero_names[i]\n",
    "    print(f'{i}:{name} is {superhero_name}!')\n",
    "    \n",
    "# NO GOING BACKWARDS\n",
    "# READ LEFT TO RIGHT"
   ]
  },
  {
   "cell_type": "code",
   "execution_count": 6,
   "id": "4f595fb5",
   "metadata": {},
   "outputs": [
    {
     "name": "stdout",
     "output_type": "stream",
     "text": [
      "1:Bruce Wayne is Superman!\n",
      "2:Clark Kent is Wonder Woman!\n"
     ]
    },
    {
     "ename": "IndexError",
     "evalue": "list index out of range",
     "output_type": "error",
     "traceback": [
      "\u001b[1;31m---------------------------------------------------------------------------\u001b[0m",
      "\u001b[1;31mIndexError\u001b[0m                                Traceback (most recent call last)",
      "Cell \u001b[1;32mIn [6], line 12\u001b[0m\n\u001b[0;32m      9\u001b[0m superhero_names \u001b[38;5;241m=\u001b[39m [\u001b[38;5;124m'\u001b[39m\u001b[38;5;124mBatman\u001b[39m\u001b[38;5;124m'\u001b[39m, \u001b[38;5;124m'\u001b[39m\u001b[38;5;124mSuperman\u001b[39m\u001b[38;5;124m'\u001b[39m, \u001b[38;5;124m'\u001b[39m\u001b[38;5;124mWonder Woman\u001b[39m\u001b[38;5;124m'\u001b[39m]\n\u001b[0;32m     11\u001b[0m \u001b[38;5;28;01mfor\u001b[39;00m i, name \u001b[38;5;129;01min\u001b[39;00m \u001b[38;5;28menumerate\u001b[39m(real_names, \u001b[38;5;241m1\u001b[39m):\n\u001b[1;32m---> 12\u001b[0m     superhero_name \u001b[38;5;241m=\u001b[39m \u001b[43msuperhero_names\u001b[49m\u001b[43m[\u001b[49m\u001b[43mi\u001b[49m\u001b[43m]\u001b[49m\n\u001b[0;32m     13\u001b[0m     \u001b[38;5;28mprint\u001b[39m(\u001b[38;5;124mf\u001b[39m\u001b[38;5;124m'\u001b[39m\u001b[38;5;132;01m{\u001b[39;00mi\u001b[38;5;132;01m}\u001b[39;00m\u001b[38;5;124m:\u001b[39m\u001b[38;5;132;01m{\u001b[39;00mname\u001b[38;5;132;01m}\u001b[39;00m\u001b[38;5;124m is \u001b[39m\u001b[38;5;132;01m{\u001b[39;00msuperhero_name\u001b[38;5;132;01m}\u001b[39;00m\u001b[38;5;124m!\u001b[39m\u001b[38;5;124m'\u001b[39m)\n\u001b[0;32m     16\u001b[0m \u001b[38;5;28;01mfor\u001b[39;00m i, name \u001b[38;5;129;01min\u001b[39;00m \u001b[38;5;28menumerate\u001b[39m(real_names, \u001b[38;5;241m1\u001b[39m):\n",
      "\u001b[1;31mIndexError\u001b[0m: list index out of range"
     ]
    }
   ],
   "source": [
    "real_names = ['Bruce Wayne', 'Clark Kent', 'Diana Prince']\n",
    "# for name in real_names:\n",
    "    # print(f'{name} is a DC superhero!')\n",
    "\n",
    "# Goes through structure of *for* loop\n",
    "# assigns {name} the value of each element of the list\n",
    "# it then runs the code-block with that value *for* {name}\n",
    "\n",
    "superhero_names = ['Batman', 'Superman', 'Wonder Woman']\n",
    "\n",
    "for i, name in enumerate(real_names, 1):\n",
    "    superhero_name = superhero_names[i]\n",
    "    print(f'{i}:{name} is {superhero_name}!')\n",
    "\n",
    "\n",
    "for i, name in enumerate(real_names, 1):\n",
    "    print(f'{i}:{name} is DC superhero!')\n",
    "    \n",
    "# NO GOING BACKWARDS\n",
    "# READ LEFT TO RIGHT\n",
    "#real_names list has to be changed for this to work"
   ]
  },
  {
   "cell_type": "markdown",
   "id": "bd9346a1",
   "metadata": {},
   "source": [
    "### 1.3 for with range"
   ]
  },
  {
   "cell_type": "code",
   "execution_count": null,
   "id": "4c988803",
   "metadata": {},
   "outputs": [],
   "source": [
    "# get the for loop to run a given number of loops\n",
    "\n",
    "for i in range(5):\n",
    "    print(i)\n",
    "print('I can count to 4')\n"
   ]
  },
  {
   "cell_type": "code",
   "execution_count": null,
   "id": "9799e2a6",
   "metadata": {},
   "outputs": [],
   "source": [
    "# tailor the starting and ending values\n",
    "\n",
    "for i in range(5,10):\n",
    "    print(i)\n",
    "print('I can count from 5 to 9')\n"
   ]
  },
  {
   "cell_type": "code",
   "execution_count": null,
   "id": "7521b822",
   "metadata": {},
   "outputs": [],
   "source": [
    "# Doing the above with adjusted step-size\n",
    "\n",
    "for i in range(5,10,2):\n",
    "    print(i)\n",
    "print('I can count from 5 to 9 in increments of 2')\n"
   ]
  },
  {
   "cell_type": "code",
   "execution_count": null,
   "id": "3eee9941",
   "metadata": {},
   "outputs": [],
   "source": [
    "real_names = ['Bruce Wayne', 'Clark Kent', 'Diana Prince']\n",
    "superhero_names = ['Batman', 'Superman', 'Wonder Woman']\n",
    "\n",
    "for i in range(len(real_names)): # Use len(real_names) to get how many times the loop should run\n",
    "    real_name = real_names[i]\n",
    "    superhero_name = superhero_names[i]\n",
    "    print(f'{real_name} is a DC\\'s {superhero_name}!')\n"
   ]
  },
  {
   "cell_type": "code",
   "execution_count": null,
   "id": "7d351989",
   "metadata": {},
   "outputs": [],
   "source": [
    "real_names = ['Bruce Wayne', 'Clark Kent', 'Diana Prince']\n",
    "superhero_names = ['Batman', 'Superman', 'Wonder Woman']\n",
    "\n",
    "for i in range(len(real_names)/2): # Use len(real_names) to get how many times the loop should run\n",
    "    real_name = real_names[i]\n",
    "    superhero_name = superhero_names[i]\n",
    "    print(f'{real_name} is a DC\\'s {superhero_name}!')\n",
    "\n",
    "    \n",
    "    # CANT HALF A LIST WITH NUMBERS"
   ]
  },
  {
   "cell_type": "code",
   "execution_count": null,
   "id": "f7deb7ea",
   "metadata": {},
   "outputs": [],
   "source": [
    "# for loop can be run a given number of times using range()\n",
    "\n",
    "\n",
    "\n",
    "real_names = ['Bruce Wayne', 'Clark Kent', 'Diana Prince']\n",
    "superhero_names = ['Batman', 'Superman', 'Wonder Woman']\n",
    "\n",
    "for i in range(3): \n",
    "    real_name = real_names[i]\n",
    "    superhero_name = superhero_names[i]\n",
    "    print(f'{real_name} is a DC\\'s {superhero_name}!')\n"
   ]
  },
  {
   "cell_type": "code",
   "execution_count": null,
   "id": "90f7be28",
   "metadata": {},
   "outputs": [],
   "source": [
    "# loop can be run a given number of times using range()\n",
    "\n",
    "real_names = ['Bruce Wayne', 'Clark Kent', 'Diana Prince']\n",
    "superhero_names = ['Batman', 'Superman', 'Wonder Woman']\n",
    "\n",
    "for i in range(2): \n",
    "    real_name = real_names[i]\n",
    "    superhero_name = superhero_names[i]\n",
    "    print(f'{real_name} is a DC\\'s {superhero_name}!')\n"
   ]
  },
  {
   "cell_type": "markdown",
   "id": "ce672d29",
   "metadata": {},
   "source": [
    "## 2 while"
   ]
  },
  {
   "cell_type": "code",
   "execution_count": null,
   "id": "fbd0be12",
   "metadata": {},
   "outputs": [],
   "source": [
    "number = 0\n",
    "\n",
    "while number < 6: # while loop checks condition at the start -> begin another loop if the condition is true\n",
    "    print(number)\n",
    "    number += 1"
   ]
  },
  {
   "cell_type": "code",
   "execution_count": null,
   "id": "15524f7c",
   "metadata": {},
   "outputs": [],
   "source": [
    "number = 0\n",
    "\n",
    "while number <= 6: # while loop checks condition at the start -> begin another loop if the condition is true\n",
    "    print(number)\n",
    "    number += 1"
   ]
  },
  {
   "cell_type": "code",
   "execution_count": null,
   "id": "67a64d94",
   "metadata": {},
   "outputs": [],
   "source": [
    "number = 0\n",
    "\n",
    "while True: # while loop checks condition at the start -> begin another loop if the condition is true\n",
    "    print(number)\n",
    "    number += 1\n",
    "    break\n",
    "\n",
    "\n"
   ]
  },
  {
   "cell_type": "markdown",
   "id": "3643a627",
   "metadata": {},
   "source": [
    "## Exercise 1 :  Make me a list"
   ]
  },
  {
   "cell_type": "code",
   "execution_count": null,
   "id": "f16e63b3",
   "metadata": {},
   "outputs": [],
   "source": [
    "# Exactly what Exercise 1 wants\n",
    "\n",
    "number_list = []\n",
    "\n",
    "for i in range(10):\n",
    "    i = i**2\n",
    "    number_list.append(i)\n",
    "\n",
    "number_list"
   ]
  },
  {
   "cell_type": "code",
   "execution_count": null,
   "id": "9cf56898",
   "metadata": {},
   "outputs": [],
   "source": [
    "number_list = []\n",
    "\n",
    "for i in range(10):\n",
    "    i = i**2\n",
    "    number_list.append(i)\n",
    "    print(i)\n",
    "\n",
    "number_list"
   ]
  },
  {
   "cell_type": "code",
   "execution_count": null,
   "id": "9f7a42a9",
   "metadata": {},
   "outputs": [],
   "source": [
    "for i in range(10):\n",
    "    i = i**2\n",
    "    print(i)\n",
    "\n",
    "new_list = i\n",
    "print(new_list)\n",
    "\n",
    "# Have I made the output of this a list of its own? Nope! See above"
   ]
  },
  {
   "cell_type": "markdown",
   "id": "17704e7d",
   "metadata": {},
   "source": [
    "## Exercise 2 :  Make me an odd list"
   ]
  },
  {
   "cell_type": "code",
   "execution_count": null,
   "id": "70e76e18",
   "metadata": {},
   "outputs": [],
   "source": [
    "# Exactly what Exercise 2 wants\n",
    "\n",
    "number_list = []\n",
    "\n",
    "for i in range(1,10,2):\n",
    "    i = i**2\n",
    "    number_list.append(i)\n",
    "\n",
    "number_list"
   ]
  },
  {
   "cell_type": "code",
   "execution_count": null,
   "id": "f86939f6",
   "metadata": {},
   "outputs": [],
   "source": [
    "number_list = []\n",
    "\n",
    "for i in range(1,10,2):\n",
    "    i = i**2\n",
    "    number_list.append(i)\n",
    "    print(i)\n",
    "\n",
    "number_list"
   ]
  },
  {
   "cell_type": "code",
   "execution_count": null,
   "id": "8327b848",
   "metadata": {},
   "outputs": [],
   "source": [
    "for i in range(1,10,2):\n",
    "    i = i**2\n",
    "    print(i)\n"
   ]
  },
  {
   "cell_type": "markdown",
   "id": "d78ddace",
   "metadata": {},
   "source": [
    "## Exercise 3 :  Make me another odd list"
   ]
  },
  {
   "cell_type": "code",
   "execution_count": null,
   "id": "72e31de1",
   "metadata": {},
   "outputs": [],
   "source": [
    "# Exactly what Exercise 4 wants\n",
    "\n",
    "number = 1\n",
    "number_list = [1]\n",
    "squared_number = number**2\n",
    "\n",
    "while squared_number < 81: # Look through loop, see what output will be - e.g. 64<81 -> still fulfils requirement\n",
    "    number += 2\n",
    "    squared_number = number**2 # To the power of instead -> load value faster\n",
    "    number_list.append(squared_number)\n",
    "    \n",
    "number_list"
   ]
  },
  {
   "cell_type": "code",
   "execution_count": null,
   "id": "e544ee6c",
   "metadata": {},
   "outputs": [],
   "source": [
    "# Exactly what Exercise 4 wants\n",
    "\n",
    "number = 1\n",
    "number_list = [1]\n",
    "squared_number = number**2\n",
    "\n",
    "while range(number,10,2) and number < 9: # Look through loop, see what output will be - e.g. 64<81 -> still fulfils requirement\n",
    "    number += 2\n",
    "    squared_number = number**2 # To the power of instead -> load value faster\n",
    "    number_list.append(squared_number)\n",
    "    \n",
    "number_list"
   ]
  },
  {
   "cell_type": "code",
   "execution_count": null,
   "id": "6b6bede5",
   "metadata": {},
   "outputs": [],
   "source": [
    "# Exactly what Exercise 4 wants\n",
    "\n",
    "number = 1\n",
    "number_list = [1]\n",
    "squared_number = number**2\n",
    "\n",
    "while range(number,9,2): # Look through loop, see what output will be - e.g. 64<81 -> still fulfils requirement\n",
    "    number += 2\n",
    "    squared_number = number**2 # To the power of instead -> load value faster\n",
    "    number_list.append(squared_number)\n",
    "    \n",
    "number_list"
   ]
  },
  {
   "cell_type": "code",
   "execution_count": null,
   "id": "5915b535",
   "metadata": {},
   "outputs": [],
   "source": [
    "i = [0,1,4,9,16,25,36,49,64,81]\n",
    "\n",
    "i[1:10]\n",
    "\n",
    "    \n",
    "\n",
    "# idk :()"
   ]
  },
  {
   "cell_type": "code",
   "execution_count": null,
   "id": "e1619bf6",
   "metadata": {},
   "outputs": [],
   "source": [
    "import numpy as np\n",
    "\n",
    "i = [0,1,4,9,16,25,36,49,64,81]\n",
    "\n",
    "array_i = np.array(i)\n",
    "\n",
    "i[1:10:2]\n",
    "\n",
    "# Array is faster \n",
    "    \n",
    "\n"
   ]
  },
  {
   "cell_type": "code",
   "execution_count": null,
   "id": "bfd35b0c",
   "metadata": {},
   "outputs": [],
   "source": [
    "number = 1\n",
    "\n",
    "squared_number = number**2\n",
    "list(number_list) += [squared_number]\n",
    "\n",
    "while squared_number < 81: # Look through loop, see what output will be - e.g. 64<81 -> still fulfils requirement\n",
    "    number += 2\n",
    "    squared_number = number**2 # To the power of instead -> load value faster\n",
    "    number_list.append(squared_number)\n",
    "    \n",
    "number_list"
   ]
  },
  {
   "cell_type": "code",
   "execution_count": null,
   "id": "7af2d18b",
   "metadata": {},
   "outputs": [],
   "source": [
    "number = 1\n",
    "number_list = [1]\n",
    "squared_number = number**2\n",
    "\n",
    "while squared_number < 81: # Look through loop, see what output will be - e.g. 64<81 -> still fulfils requirement\n",
    "    number += 2\n",
    "    squared_number = number**2 # Need to define squared_number again, update its defintion\n",
    "    number_list.append(squared_number)\n",
    "    \n",
    "number_list"
   ]
  },
  {
   "cell_type": "code",
   "execution_count": null,
   "id": "8a77f0e3",
   "metadata": {},
   "outputs": [],
   "source": [
    "number = 1\n",
    "number_list = [1]\n",
    "\n",
    "while number < 9: # Look through loop, see what output will be - e.g. 64<81 -> still fulfils requirement\n",
    "    number += 2\n",
    "    number_list.append(number**2)\n",
    "   \n",
    "    \n",
    "number_list"
   ]
  },
  {
   "cell_type": "code",
   "execution_count": null,
   "id": "f02cef03",
   "metadata": {},
   "outputs": [],
   "source": [
    "import numpy as np\n"
   ]
  },
  {
   "cell_type": "code",
   "execution_count": null,
   "id": "990c05fe",
   "metadata": {},
   "outputs": [],
   "source": [
    "# Try this exercise with only one list, num_list = [1]\n",
    "# just the list\n",
    "\n",
    "num_list = [1]\n",
    "\n",
    "while num_list < 9:\n",
    "    num_list.insert([1,3])\n",
    "    \n",
    "num_list"
   ]
  },
  {
   "cell_type": "code",
   "execution_count": null,
   "id": "8fffbae1",
   "metadata": {},
   "outputs": [],
   "source": [
    "test_array = np.array([1, 2, 3])\n",
    "\n",
    "(test_array<2).all()"
   ]
  },
  {
   "cell_type": "code",
   "execution_count": 10,
   "id": "e52258e0",
   "metadata": {},
   "outputs": [],
   "source": [
    "import numpy as np"
   ]
  },
  {
   "cell_type": "code",
   "execution_count": 11,
   "id": "550ed8f4",
   "metadata": {},
   "outputs": [
    {
     "name": "stdout",
     "output_type": "stream",
     "text": [
      "[ 1  9 25 49 81]\n"
     ]
    }
   ],
   "source": [
    "# Try this exercise with only one list, num_list = [1]\n",
    "# convert list into array\n",
    "\n",
    "num_list = [1]\n",
    "num_array = np.array(num_list)\n",
    "\n",
    "while (num_array<9).all():\n",
    "    num_array = np.append(num_array, [3,5,7,9])\n",
    "    \n",
    "print(num_array**2)"
   ]
  },
  {
   "cell_type": "code",
   "execution_count": 6,
   "id": "11f588e8",
   "metadata": {},
   "outputs": [],
   "source": [
    "import math"
   ]
  },
  {
   "cell_type": "code",
   "execution_count": 10,
   "id": "5456d4e2",
   "metadata": {},
   "outputs": [],
   "source": [
    "import numpy as np"
   ]
  },
  {
   "cell_type": "code",
   "execution_count": 13,
   "id": "8c904d17",
   "metadata": {},
   "outputs": [
    {
     "name": "stdout",
     "output_type": "stream",
     "text": [
      "[1, 9.0, 25.0, 49.0, 81.0]\n"
     ]
    }
   ],
   "source": [
    "# Try this exercise with only one list, num_list = [1]\n",
    "# just work with list\n",
    "\n",
    "num_list = [1]\n",
    "x = num_list[-1]\n",
    "\n",
    "while x < 9:\n",
    "    x = math.sqrt(num_list[-1]) + 2\n",
    "    num_list += [x**2] # iterate through list\n",
    "                        # must put [] to add to a list\n",
    "    \n",
    "print(num_list)"
   ]
  },
  {
   "cell_type": "code",
   "execution_count": 16,
   "id": "474131b9",
   "metadata": {},
   "outputs": [
    {
     "name": "stdout",
     "output_type": "stream",
     "text": [
      "[1, 9.0, 25.0, 49.0, 81.0]\n"
     ]
    }
   ],
   "source": [
    "# Try this exercise with only one list, num_list = [1]\n",
    "# just work with list\n",
    "\n",
    "num_list = [1]\n",
    "\n",
    "while num_list[-1] < 81:\n",
    "    num_list += [(math.sqrt(num_list[-1]) + 2)**2]\n",
    "    # num_list[-1] = math.sqrt(num_list[-1]) + 2\n",
    "    # num_list += [num_list[-1]**2] # iterate through list\n",
    "                        # must put [] to add to a list\n",
    "    \n",
    "print(num_list)"
   ]
  },
  {
   "cell_type": "code",
   "execution_count": 8,
   "id": "126b8738",
   "metadata": {},
   "outputs": [
    {
     "ename": "KeyboardInterrupt",
     "evalue": "",
     "output_type": "error",
     "traceback": [
      "\u001b[1;31m---------------------------------------------------------------------------\u001b[0m",
      "\u001b[1;31mKeyboardInterrupt\u001b[0m                         Traceback (most recent call last)",
      "Cell \u001b[1;32mIn [8], line 6\u001b[0m\n\u001b[0;32m      1\u001b[0m \u001b[38;5;66;03m# Try this exercise with only one list, num_list = [1]\u001b[39;00m\n\u001b[0;32m      2\u001b[0m \u001b[38;5;66;03m# just work with list\u001b[39;00m\n\u001b[0;32m      4\u001b[0m num_list \u001b[38;5;241m=\u001b[39m [\u001b[38;5;241m1\u001b[39m]\n\u001b[1;32m----> 6\u001b[0m \u001b[38;5;28;01mwhile\u001b[39;00m (\u001b[38;5;28;43mall\u001b[39;49m\u001b[43m(\u001b[49m\u001b[43mi\u001b[49m\u001b[43m \u001b[49m\u001b[38;5;241;43m<\u001b[39;49m\u001b[43m \u001b[49m\u001b[38;5;241;43m9\u001b[39;49m\u001b[43m \u001b[49m\u001b[38;5;28;43;01mfor\u001b[39;49;00m\u001b[43m \u001b[49m\u001b[43mi\u001b[49m\u001b[43m \u001b[49m\u001b[38;5;129;43;01min\u001b[39;49;00m\u001b[43m \u001b[49m\u001b[43mnum_list\u001b[49m\u001b[43m)\u001b[49m \u001b[38;5;241m<\u001b[39m \u001b[38;5;241m9\u001b[39m):\n\u001b[0;32m      7\u001b[0m     num_list \u001b[38;5;241m+\u001b[39m\u001b[38;5;241m=\u001b[39m [\u001b[38;5;241m3\u001b[39m,\u001b[38;5;241m5\u001b[39m,\u001b[38;5;241m7\u001b[39m,\u001b[38;5;241m9\u001b[39m]\n\u001b[0;32m      9\u001b[0m \u001b[38;5;28mprint\u001b[39m(num_list\u001b[38;5;241m*\u001b[39m\u001b[38;5;241m*\u001b[39m\u001b[38;5;241m2\u001b[39m)\n",
      "Cell \u001b[1;32mIn [8], line 6\u001b[0m, in \u001b[0;36m<genexpr>\u001b[1;34m(.0)\u001b[0m\n\u001b[0;32m      1\u001b[0m \u001b[38;5;66;03m# Try this exercise with only one list, num_list = [1]\u001b[39;00m\n\u001b[0;32m      2\u001b[0m \u001b[38;5;66;03m# just work with list\u001b[39;00m\n\u001b[0;32m      4\u001b[0m num_list \u001b[38;5;241m=\u001b[39m [\u001b[38;5;241m1\u001b[39m]\n\u001b[1;32m----> 6\u001b[0m \u001b[38;5;28;01mwhile\u001b[39;00m (\u001b[38;5;28mall\u001b[39m(i \u001b[38;5;241m<\u001b[39m \u001b[38;5;241m9\u001b[39m \u001b[38;5;28;01mfor\u001b[39;00m i \u001b[38;5;129;01min\u001b[39;00m num_list) \u001b[38;5;241m<\u001b[39m \u001b[38;5;241m9\u001b[39m):\n\u001b[0;32m      7\u001b[0m     num_list \u001b[38;5;241m+\u001b[39m\u001b[38;5;241m=\u001b[39m [\u001b[38;5;241m3\u001b[39m,\u001b[38;5;241m5\u001b[39m,\u001b[38;5;241m7\u001b[39m,\u001b[38;5;241m9\u001b[39m]\n\u001b[0;32m      9\u001b[0m \u001b[38;5;28mprint\u001b[39m(num_list\u001b[38;5;241m*\u001b[39m\u001b[38;5;241m*\u001b[39m\u001b[38;5;241m2\u001b[39m)\n",
      "\u001b[1;31mKeyboardInterrupt\u001b[0m: "
     ]
    }
   ],
   "source": [
    "# Try this exercise with only one list, num_list = [1]\n",
    "# just work with list\n",
    "\n",
    "num_list = [1]\n",
    "\n",
    "while (all(i < 9 for i in num_list) < 9):\n",
    "    num_list += [2,3,4,5,6,7,8,9]\n",
    "    \n",
    "print(num_list**2)"
   ]
  },
  {
   "cell_type": "code",
   "execution_count": null,
   "id": "f6f58782",
   "metadata": {},
   "outputs": [],
   "source": [
    "\n",
    "\n",
    "num_list = [1, 2, 3, 4]\n",
    "\n",
    "([*filter(lambda i: i >= 2, num_list)]) \n"
   ]
  },
  {
   "cell_type": "code",
   "execution_count": null,
   "id": "8226e51b",
   "metadata": {},
   "outputs": [],
   "source": [
    "\n",
    "\n",
    "num_list = [1, 2, 3, 4]\n",
    "\n",
    "bool(lambda num_list: num_list < 0)\n"
   ]
  },
  {
   "cell_type": "code",
   "execution_count": null,
   "id": "92e388ae",
   "metadata": {},
   "outputs": [],
   "source": [
    "\n",
    "\n",
    "num_list = [1, 2, 3, 4]\n",
    "\n",
    "all(num_list[0] < 9)\n"
   ]
  },
  {
   "cell_type": "code",
   "execution_count": null,
   "id": "a03a022d",
   "metadata": {},
   "outputs": [],
   "source": [
    "test_array = np.array([1])\n",
    "array2 = np.append(test_array, [3,5,7,9])\n",
    "array2**2"
   ]
  },
  {
   "cell_type": "code",
   "execution_count": null,
   "id": "00d54b68",
   "metadata": {},
   "outputs": [],
   "source": [
    "bool(test_array < 9)"
   ]
  },
  {
   "cell_type": "code",
   "execution_count": null,
   "id": "b76cbf44",
   "metadata": {},
   "outputs": [],
   "source": []
  }
 ],
 "metadata": {
  "kernelspec": {
   "display_name": "Python 3 (ipykernel)",
   "language": "python",
   "name": "python3"
  },
  "language_info": {
   "codemirror_mode": {
    "name": "ipython",
    "version": 3
   },
   "file_extension": ".py",
   "mimetype": "text/x-python",
   "name": "python",
   "nbconvert_exporter": "python",
   "pygments_lexer": "ipython3",
   "version": "3.9.12"
  },
  "toc": {
   "base_numbering": 1,
   "nav_menu": {},
   "number_sections": true,
   "sideBar": true,
   "skip_h1_title": false,
   "title_cell": "Table of Contents",
   "title_sidebar": "Contents",
   "toc_cell": false,
   "toc_position": {},
   "toc_section_display": true,
   "toc_window_display": false
  },
  "vscode": {
   "interpreter": {
    "hash": "31f2aee4e71d21fbe5cf8b01ff0e069b9275f58929596ceb00d14d90e3e16cd6"
   }
  }
 },
 "nbformat": 4,
 "nbformat_minor": 5
}
