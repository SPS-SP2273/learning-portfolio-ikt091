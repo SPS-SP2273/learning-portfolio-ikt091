{
 "cells": [
  {
   "cell_type": "markdown",
   "id": "123456",
   "metadata": {},
   "source": [
    "<div style=\"text-align:left;font-size:2em\"><span style=\"font-weight:bolder;font-size:1.25em\">SP2273 | Learning Portfolio</span><br><br><span style=\"font-weight:bold;color:darkred\">Loops (Good)</span></div>"
   ]
  },
  {
   "cell_type": "markdown",
   "id": "2214a944",
   "metadata": {},
   "source": [
    "## 1 Interrupting the flow"
   ]
  },
  {
   "cell_type": "code",
   "execution_count": 2,
   "id": "c2b1c7c0",
   "metadata": {},
   "outputs": [
    {
     "name": "stdout",
     "output_type": "stream",
     "text": [
      "0\n",
      "1\n",
      "2\n",
      "3\n",
      "4\n",
      "5\n",
      "6\n"
     ]
    }
   ],
   "source": [
    "for i in range(10):\n",
    "    if i > 6: break\n",
    "    print(i)\n",
    "\n",
    "# : follows if\n",
    "# use cursor and follow the lines"
   ]
  },
  {
   "cell_type": "code",
   "execution_count": 3,
   "id": "662f436d",
   "metadata": {},
   "outputs": [
    {
     "name": "stdout",
     "output_type": "stream",
     "text": [
      "0\n",
      "1\n",
      "2\n",
      "3\n",
      "4\n",
      "5\n",
      "6\n"
     ]
    }
   ],
   "source": [
    "for i in range(7):\n",
    "    print(i)\n",
    "\n",
    "# the faster way to get the previous ouput"
   ]
  },
  {
   "cell_type": "code",
   "execution_count": 4,
   "id": "c827bd00",
   "metadata": {},
   "outputs": [
    {
     "name": "stdout",
     "output_type": "stream",
     "text": [
      "0\n",
      "1\n",
      "2\n",
      "3\n",
      "4\n",
      "5\n",
      "7\n",
      "8\n",
      "9\n"
     ]
    }
   ],
   "source": [
    "for i in range(10):\n",
    "    if i == 6: continue\n",
    "    print(i)\n",
    "\n",
    "    \n",
    "# Don't proceed further IN THE CURRENT LOOP is i == 6"
   ]
  },
  {
   "cell_type": "code",
   "execution_count": 5,
   "id": "66cf923c",
   "metadata": {},
   "outputs": [
    {
     "name": "stdout",
     "output_type": "stream",
     "text": [
      "0\n",
      "2\n",
      "4\n",
      "6\n",
      "8\n"
     ]
    }
   ],
   "source": [
    "for i in range(10):\n",
    "    if i%2 == 1: continue\n",
    "    print(i)\n",
    "\n",
    "    \n",
    "# Don't proceed further IF REMAINDER IS 1"
   ]
  },
  {
   "cell_type": "code",
   "execution_count": 6,
   "id": "9b4ab06c",
   "metadata": {},
   "outputs": [
    {
     "name": "stdout",
     "output_type": "stream",
     "text": [
      "1\n",
      "3\n",
      "5\n",
      "7\n",
      "9\n"
     ]
    }
   ],
   "source": [
    "for i in range(10):\n",
    "    if i%2 == 0: continue\n",
    "    print(i)\n",
    "\n",
    "    \n",
    "# Don't proceed further IF REMAINDER IS 0"
   ]
  },
  {
   "cell_type": "code",
   "execution_count": 7,
   "id": "be04ebd2",
   "metadata": {},
   "outputs": [
    {
     "name": "stdout",
     "output_type": "stream",
     "text": [
      "0\n",
      "1\n",
      "2\n",
      "3\n"
     ]
    }
   ],
   "source": [
    "number = 0\n",
    "\n",
    "while True:\n",
    "    print(number)\n",
    "    number += 1\n",
    "    if number >= 4: break"
   ]
  },
  {
   "cell_type": "code",
   "execution_count": 12,
   "id": "6faeafa0",
   "metadata": {},
   "outputs": [
    {
     "name": "stdout",
     "output_type": "stream",
     "text": [
      "0\n",
      "1\n",
      "2\n",
      "3\n",
      "4\n",
      "5\n"
     ]
    }
   ],
   "source": [
    "number = 0\n",
    "\n",
    "while True:\n",
    "    print(number)\n",
    "    number += 1\n",
    "    if number == 3: continue\n",
    "    if number == 6: break"
   ]
  },
  {
   "cell_type": "code",
   "execution_count": 17,
   "id": "1d9723d9",
   "metadata": {},
   "outputs": [
    {
     "name": "stdout",
     "output_type": "stream",
     "text": [
      "1\n",
      "2\n",
      "4\n",
      "5\n"
     ]
    }
   ],
   "source": [
    "number = 0\n",
    "\n",
    "while True:\n",
    "    \n",
    "    number += 1\n",
    "    if number == 3: continue\n",
    "    if number == 6: break\n",
    "    print(number)"
   ]
  },
  {
   "cell_type": "code",
   "execution_count": 16,
   "id": "b19d1051",
   "metadata": {},
   "outputs": [
    {
     "name": "stdout",
     "output_type": "stream",
     "text": [
      "0\n",
      "1\n",
      "2\n",
      "4\n",
      "5\n"
     ]
    }
   ],
   "source": [
    "number = 0\n",
    "\n",
    "for i in range(6):\n",
    "    if i == 3: continue\n",
    "    print(i)\n",
    "    \n",
    " "
   ]
  },
  {
   "cell_type": "code",
   "execution_count": 13,
   "id": "58d1f4ff",
   "metadata": {},
   "outputs": [
    {
     "name": "stdout",
     "output_type": "stream",
     "text": [
      "0\n",
      "1\n",
      "2\n",
      "3\n",
      "4\n",
      "5\n",
      "7\n",
      "8\n",
      "9\n"
     ]
    }
   ],
   "source": [
    "for i in range(10):\n",
    "    if i == 6: continue        # Don't proceed further\n",
    "                               # IN THE CURRENT LOOP\n",
    "                               # if i == 6\n",
    "    print(i) # Careful where to put print() line!!!"
   ]
  },
  {
   "cell_type": "markdown",
   "id": "6c3ee8ee",
   "metadata": {},
   "source": [
    "## 2 List comprehension!"
   ]
  },
  {
   "cell_type": "markdown",
   "id": "99666691",
   "metadata": {},
   "source": [
    "### 2.1 Basic syntax"
   ]
  },
  {
   "cell_type": "code",
   "execution_count": 9,
   "id": "d3450921",
   "metadata": {},
   "outputs": [
    {
     "data": {
      "text/plain": [
       "[0, 1, 2, 3, 4, 5, 6, 7, 8, 9]"
      ]
     },
     "execution_count": 9,
     "metadata": {},
     "output_type": "execute_result"
    }
   ],
   "source": [
    "[number for number in range(10)]\n"
   ]
  },
  {
   "cell_type": "code",
   "execution_count": 10,
   "id": "e511964a",
   "metadata": {},
   "outputs": [
    {
     "data": {
      "text/plain": [
       "[0, 1, 4, 9, 16, 25, 36, 49, 64, 81]"
      ]
     },
     "execution_count": 10,
     "metadata": {},
     "output_type": "execute_result"
    }
   ],
   "source": [
    "[number**2 for number in range(10)]\n"
   ]
  },
  {
   "cell_type": "code",
   "execution_count": 21,
   "id": "d892b53e",
   "metadata": {},
   "outputs": [
    {
     "data": {
      "text/plain": [
       "[1, 9, 25, 49, 81]"
      ]
     },
     "execution_count": 21,
     "metadata": {},
     "output_type": "execute_result"
    }
   ],
   "source": [
    "[number**2 for number in range(1,10,2)]\n"
   ]
  },
  {
   "cell_type": "code",
   "execution_count": 12,
   "id": "b11f4d8d",
   "metadata": {},
   "outputs": [
    {
     "data": {
      "text/plain": [
       "[1, 9, 25, 49, 81]"
      ]
     },
     "execution_count": 12,
     "metadata": {},
     "output_type": "execute_result"
    }
   ],
   "source": [
    "import numpy as np\n",
    "\n",
    "list_ = [number**2 for number in range(10)]\n",
    "num_array = np.array(list_)\n",
    "num_array.astype(int) # Convert integer into integer\n",
    "# Array stores one type of data only\n",
    "# Before this, the exercise had strings and numbers \n",
    "# so both were stored as strings -> that's why conversion\n",
    "# to integers was required\n",
    "num_array\n",
    "newer_array = num_array % 2 \n",
    "newest_array = newer_array == 1\n",
    "newest_array\n",
    "newesetest_array = num_array[newest_array]\n",
    "list(newesetest_array)\n"
   ]
  },
  {
   "cell_type": "code",
   "execution_count": 7,
   "id": "3ac6fc19",
   "metadata": {},
   "outputs": [
    {
     "data": {
      "text/plain": [
       "array([<generator object <genexpr> at 0x00000219B96D2F20>], dtype=object)"
      ]
     },
     "execution_count": 7,
     "metadata": {},
     "output_type": "execute_result"
    }
   ],
   "source": [
    "num_array"
   ]
  },
  {
   "cell_type": "markdown",
   "id": "04e30592",
   "metadata": {},
   "source": [
    "### 2.2 List comprehension with conditions"
   ]
  },
  {
   "cell_type": "code",
   "execution_count": 17,
   "id": "cb520129",
   "metadata": {},
   "outputs": [
    {
     "data": {
      "text/plain": [
       "[0, 2, 4, 6, 8]"
      ]
     },
     "execution_count": 17,
     "metadata": {},
     "output_type": "execute_result"
    }
   ],
   "source": [
    "[number for number in range(10) if number % 2 == 0]\n",
    "# finding even numbers from 0-9"
   ]
  },
  {
   "cell_type": "code",
   "execution_count": 18,
   "id": "c578d55b",
   "metadata": {},
   "outputs": [
    {
     "data": {
      "text/plain": [
       "[1, 3, 5, 7, 9]"
      ]
     },
     "execution_count": 18,
     "metadata": {},
     "output_type": "execute_result"
    }
   ],
   "source": [
    "[number for number in range(10) if number % 2 == 1]\n",
    "# finding odd numbers from 0-9 "
   ]
  },
  {
   "cell_type": "code",
   "execution_count": 19,
   "id": "1a348814",
   "metadata": {},
   "outputs": [
    {
     "data": {
      "text/plain": [
       "[1, 3, 5, 7, 9]"
      ]
     },
     "execution_count": 19,
     "metadata": {},
     "output_type": "execute_result"
    }
   ],
   "source": [
    "[number for number in range(10) if number**2 % 2 == 1]\n",
    "# finding even numbers from 0-9 whose sqaure is odd"
   ]
  },
  {
   "cell_type": "code",
   "execution_count": 20,
   "id": "b3b9a5e0",
   "metadata": {},
   "outputs": [
    {
     "data": {
      "text/plain": [
       "[0, 2, 4, 6, 8]"
      ]
     },
     "execution_count": 20,
     "metadata": {},
     "output_type": "execute_result"
    }
   ],
   "source": [
    "[number for number in range(10) if number**2 % 2 == 0] # list generated as result\n",
    "# finding even numbers from 0-9 whose sqaure is odd"
   ]
  },
  {
   "cell_type": "code",
   "execution_count": 24,
   "id": "27aeb3df",
   "metadata": {},
   "outputs": [
    {
     "data": {
      "text/plain": [
       "array([0, 2, 4, 6, 8])"
      ]
     },
     "execution_count": 24,
     "metadata": {},
     "output_type": "execute_result"
    }
   ],
   "source": [
    "num_list = [number for number in range(10) if number**2 % 2 == 0] # list generated as result\n",
    "# finding even numbers from 0-9 whose sqaure is odd\n",
    "new_array = np.array(num_list)\n",
    "new_array # Notice the array output!"
   ]
  },
  {
   "cell_type": "code",
   "execution_count": 25,
   "id": "7c387965",
   "metadata": {},
   "outputs": [
    {
     "data": {
      "text/plain": [
       "5"
      ]
     },
     "execution_count": 25,
     "metadata": {},
     "output_type": "execute_result"
    }
   ],
   "source": [
    "num_list = [number for number in range(10) if number**2 % 2 == 0] # list generated as result\n",
    "# finding even numbers from 0-9 whose sqaure is odd\n",
    "new_array = np.array(num_list)\n",
    "len(new_array)"
   ]
  },
  {
   "cell_type": "markdown",
   "id": "bdcf85b7",
   "metadata": {},
   "source": [
    "## 3 Other useful stuff"
   ]
  },
  {
   "cell_type": "markdown",
   "id": "4233728c",
   "metadata": {},
   "source": [
    "### 3.1 for with unpacking"
   ]
  },
  {
   "cell_type": "code",
   "execution_count": 26,
   "id": "9f7d66ef",
   "metadata": {},
   "outputs": [
    {
     "name": "stdout",
     "output_type": "stream",
     "text": [
      "x = 1, y = 2, z = 3\n"
     ]
    }
   ],
   "source": [
    "x, y, z = [1,2,3]\n",
    "print(f'x = {x}, y = {y}, z = {z}')\n",
    "# unpacking \n",
    "# mostly used for 2D list \n"
   ]
  },
  {
   "cell_type": "code",
   "execution_count": 38,
   "id": "7c4154a9",
   "metadata": {},
   "outputs": [
    {
     "ename": "SyntaxError",
     "evalue": "f-string: invalid syntax (3926358697.py, line 9)",
     "output_type": "error",
     "traceback": [
      "\u001b[1;36m  Cell \u001b[1;32mIn [38], line 9\u001b[1;36m\u001b[0m\n\u001b[1;33m    print(f'{real name} is DC's {super_name}!')\u001b[0m\n\u001b[1;37m      ^\u001b[0m\n\u001b[1;31mSyntaxError\u001b[0m\u001b[1;31m:\u001b[0m f-string: invalid syntax\n"
     ]
    }
   ],
   "source": [
    "real_name = ['Bruce Wayne', 'Clark Kent', 'Diana Prince']\n",
    "super_name = ['Batman', 'Superman', 'Wonder Woman']\n",
    "\n",
    "py_superhero_info = [['Bruce Wayne','Batman'], \n",
    "                     ['Clark Kent', 'Superman'], \n",
    "                     ['Diana Prince', 'Wonder Woman']]\n",
    "\n",
    "for real_name, super_name in py_superhero_info:\n",
    "    print(f'{real name} is DC's {super_name}!')\n",
    "          \n",
    "# HELP"
   ]
  },
  {
   "cell_type": "code",
   "execution_count": 20,
   "id": "cd5a0c15",
   "metadata": {},
   "outputs": [
    {
     "name": "stdout",
     "output_type": "stream",
     "text": [
      "Bruce Wayne\n",
      "Batman\n",
      "Bruce Wayne is DC's Batman!\n",
      "Clark Kent\n",
      "Superman\n",
      "Clark Kent is DC's Superman!\n",
      "Diana Prince\n",
      "Wonder Woman\n",
      "Diana Prince is DC's Wonder Woman!\n"
     ]
    }
   ],
   "source": [
    "py_superhero_info = [['Bruce Wayne','Batman'], \n",
    "                     ['Clark Kent', 'Superman'], \n",
    "                     ['Diana Prince', 'Wonder Woman']]\n",
    "\n",
    "for real_name, super_name in py_superhero_info:\n",
    "    # print(real_name is DC's super_name!)\n",
    "    print(real_name)\n",
    "    print(super_name)\n",
    "    print(f'{real_name} is DC\\'s {super_name}!')\n",
    "# real_name is taken as the first\n",
    "# super_name is taken as the second"
   ]
  },
  {
   "cell_type": "code",
   "execution_count": 21,
   "id": "d265415f",
   "metadata": {},
   "outputs": [
    {
     "name": "stdout",
     "output_type": "stream",
     "text": [
      "Bruce Wayne is DC's Batman!\n",
      "Clark Kent is DC's Superman!\n",
      "Diana Prince is DC's Wonder Woman!\n"
     ]
    }
   ],
   "source": [
    "py_superhero_info = [['Bruce Wayne','Batman'], \n",
    "                     ['Clark Kent', 'Superman'], \n",
    "                     ['Diana Prince', 'Wonder Woman']]\n",
    "\n",
    "for real_name, super_name in py_superhero_info:\n",
    "    # print(real_name is DC's super_name!)\n",
    "    print(f'{real_name} is DC\\'s {super_name}!')\n",
    "# real_name is taken as the first\n",
    "# super_name is taken as the second"
   ]
  },
  {
   "cell_type": "code",
   "execution_count": 29,
   "id": "aae31bf7",
   "metadata": {},
   "outputs": [
    {
     "name": "stdout",
     "output_type": "stream",
     "text": [
      "Bruce Wayne is DC's Batman!\n",
      "Diana Prince is DC's Wonder Woman!\n"
     ]
    }
   ],
   "source": [
    "py_superhero_info = [['Bruce Wayne','Batman'], \n",
    "                     ['Clark Kent', 'Superman'], \n",
    "                     ['Diana Prince', 'Wonder Woman']]\n",
    "\n",
    "for real_name, super_name in py_superhero_info:\n",
    "    if real_name == 'Bruce Wayne' or real_name == 'Diana Prince':\n",
    "        print(f'{real_name} is DC\\'s {super_name}!')\n",
    "# real_name is taken as the first\n",
    "# super_name is taken as the second"
   ]
  },
  {
   "cell_type": "code",
   "execution_count": 38,
   "id": "2cea7443",
   "metadata": {},
   "outputs": [
    {
     "name": "stdout",
     "output_type": "stream",
     "text": [
      "Bruce Wayne is DC's Batman!\n",
      "Diana Prince is DC's Wonder Woman!\n"
     ]
    }
   ],
   "source": [
    "py_superhero_info = [['Bruce Wayne','Batman'], \n",
    "                     ['Clark Kent', 'Superman'], \n",
    "                     ['Diana Prince', 'Wonder Woman']]\n",
    "\n",
    "for real_name, super_name in py_superhero_info:\n",
    "    if real_name in ('Bruce Wayne' , 'Diana Prince'): # See as tuple, both together, no or so they are both read \n",
    "        print(f'{real_name} is DC\\'s {super_name}!')\n",
    "# real_name is taken as the first\n",
    "# super_name is taken as the second"
   ]
  },
  {
   "cell_type": "code",
   "execution_count": 37,
   "id": "ef88aec7",
   "metadata": {},
   "outputs": [
    {
     "name": "stdout",
     "output_type": "stream",
     "text": [
      "Diana Prince is DC's Wonder Woman!\n"
     ]
    }
   ],
   "source": [
    "py_superhero_info = [['Bruce Wayne','Batman'], \n",
    "                     ['Clark Kent', 'Superman'], \n",
    "                     ['Diana Prince', 'Wonder Woman']]\n",
    "\n",
    "for real_name, super_name in py_superhero_info:\n",
    "    if real_name == ('Diana Prince' or 'Bruce Wayne'):\n",
    "        print(f'{real_name} is DC\\'s {super_name}!')\n",
    "# real_name is taken as the first\n",
    "# super_name is taken as the second"
   ]
  },
  {
   "cell_type": "code",
   "execution_count": 36,
   "id": "ecf2bea4",
   "metadata": {},
   "outputs": [
    {
     "data": {
      "text/plain": [
       "'Bruce Wayne'"
      ]
     },
     "execution_count": 36,
     "metadata": {},
     "output_type": "execute_result"
    }
   ],
   "source": [
    "('Bruce Wayne' or 'Diana Prince')\n",
    "# only first one read"
   ]
  },
  {
   "cell_type": "code",
   "execution_count": 25,
   "id": "b2d0e692",
   "metadata": {},
   "outputs": [
    {
     "name": "stdout",
     "output_type": "stream",
     "text": [
      "Diana Prince is DC's Wonder Woman!\n"
     ]
    }
   ],
   "source": [
    "py_superhero_info = [['Bruce Wayne','Batman'], \n",
    "                     ['Clark Kent', 'Superman'], \n",
    "                     ['Diana Prince', 'Wonder Woman']]\n",
    "\n",
    "for real_name, super_name in py_superhero_info:\n",
    "    if real_name == ('Bruce Wayne' and 'Diana Prince'):\n",
    "        print(f'{real_name} is DC\\'s {super_name}!')\n",
    "# real_name is taken as the first\n",
    "# super_name is taken as the second"
   ]
  },
  {
   "cell_type": "markdown",
   "id": "ad0d0ad5",
   "metadata": {},
   "source": [
    "### 3.2 for with a zip()"
   ]
  },
  {
   "cell_type": "code",
   "execution_count": 41,
   "id": "1f12b128",
   "metadata": {},
   "outputs": [
    {
     "name": "stdout",
     "output_type": "stream",
     "text": [
      "Bruce Wayne is DC's Batman\n",
      "Clark Kent is DC's Superman\n",
      "Diana Prince is DC's Wonder Woman\n"
     ]
    }
   ],
   "source": [
    "# using zip() to combine 2 lists\n",
    "\n",
    "real_name = ['Bruce Wayne', 'Clark Kent', 'Diana Prince']\n",
    "super_name = ['Batman', 'Superman', 'Wonder Woman']\n",
    "\n",
    "for real_name, super_name in zip(real_name, super_name):\n",
    "    print(f'{real_name} is DC\\'s {super_name}')"
   ]
  },
  {
   "cell_type": "markdown",
   "id": "83ff5cc7",
   "metadata": {},
   "source": [
    "### 3.3 for with dictionaries"
   ]
  },
  {
   "cell_type": "markdown",
   "id": "45edcb41",
   "metadata": {},
   "source": [
    "**WHATS GOING ON :(**"
   ]
  },
  {
   "cell_type": "code",
   "execution_count": 49,
   "id": "6e086929",
   "metadata": {},
   "outputs": [
    {
     "name": "stdout",
     "output_type": "stream",
     "text": [
      "Batman is actually no joke BRUCE WAYNE!\n",
      "Superman is actually no joke CLARK KENT!\n",
      "Wonder Woman is actually no joke DIANA PRINCE!\n"
     ]
    }
   ],
   "source": [
    "superhero_info = {'Batman':'Bruce Wayne', 'Superman':'Clark Kent',\n",
    "                 'Wonder Woman':'Diana Prince'}\n",
    "\n",
    "# items() gives both key and corresponding value\n",
    "\n",
    "for key, value in superhero_info.items():\n",
    "    print(f'{key} is actually no joke {value.upper()}!')"
   ]
  },
  {
   "cell_type": "code",
   "execution_count": 48,
   "id": "d36cb3b2",
   "metadata": {},
   "outputs": [
    {
     "name": "stdout",
     "output_type": "stream",
     "text": [
      "Batman is DC's BRUCE WAYNE!\n",
      "Superman is DC's CLARK KENT!\n",
      "Wonder Woman is DC's DIANA PRINCE!\n"
     ]
    }
   ],
   "source": [
    "# directly access the keys!\n",
    "\n",
    "for key in superhero_info.keys():\n",
    "    value = superhero_info[key]\n",
    "    print(f'{key} is DC\\'s {value.upper()}!')\n",
    "    \n",
    "# The same as the top\n",
    "# but here need to access values first "
   ]
  },
  {
   "cell_type": "markdown",
   "id": "dc2afac9",
   "metadata": {},
   "source": [
    "## Exercise 1 :  Make me an odd list"
   ]
  },
  {
   "cell_type": "code",
   "execution_count": 53,
   "id": "f9cdc1ad",
   "metadata": {},
   "outputs": [
    {
     "data": {
      "text/plain": [
       "[1, 9, 25, 49, 81]"
      ]
     },
     "execution_count": 53,
     "metadata": {},
     "output_type": "execute_result"
    }
   ],
   "source": [
    "list_of_numbers = []\n",
    "\n",
    "for i in range(1,10):\n",
    "    i = i**2\n",
    "    if i % 2 == 0: continue\n",
    "    list_of_numbers.append(i)\n",
    "\n",
    "list_of_numbers\n",
    "\n",
    "\n"
   ]
  },
  {
   "cell_type": "code",
   "execution_count": 50,
   "id": "db85c0bb",
   "metadata": {},
   "outputs": [
    {
     "data": {
      "text/plain": [
       "[1, 9, 25, 49, 81]"
      ]
     },
     "execution_count": 50,
     "metadata": {},
     "output_type": "execute_result"
    }
   ],
   "source": [
    "list_of_numbers = []\n",
    "\n",
    "for i in range(1,10,2):\n",
    "    i = i**2\n",
    "    list_of_numbers.append(i)\n",
    "\n",
    "list_of_numbers\n",
    "\n",
    "\n"
   ]
  },
  {
   "cell_type": "markdown",
   "id": "c9533d90",
   "metadata": {},
   "source": [
    "## Exercise 2 :  Make me another odd list"
   ]
  },
  {
   "cell_type": "code",
   "execution_count": 54,
   "id": "5f9b9319",
   "metadata": {},
   "outputs": [
    {
     "data": {
      "text/plain": [
       "[1, 9, 25, 49, 81]"
      ]
     },
     "execution_count": 54,
     "metadata": {},
     "output_type": "execute_result"
    }
   ],
   "source": [
    "[number**2 for number in range(1,10,2)]"
   ]
  },
  {
   "cell_type": "markdown",
   "id": "611ecc27",
   "metadata": {},
   "source": [
    "## Exercise 3 :  Time me!"
   ]
  },
  {
   "cell_type": "code",
   "execution_count": 43,
   "id": "3c514af7",
   "metadata": {},
   "outputs": [
    {
     "name": "stdout",
     "output_type": "stream",
     "text": [
      "2.23 µs ± 20.8 ns per loop (mean ± std. dev. of 7 runs, 100,000 loops each)\n"
     ]
    }
   ],
   "source": [
    "%%timeit \n",
    "\n",
    "list_of_numbers = []\n",
    "\n",
    "for i in range(1,10):\n",
    "    i = i**2\n",
    "    if i % 2 == 0: continue\n",
    "    list_of_numbers.append(i)\n",
    "    \n",
    "list_of_numbers"
   ]
  },
  {
   "cell_type": "code",
   "execution_count": 40,
   "id": "d847545e",
   "metadata": {},
   "outputs": [
    {
     "name": "stdout",
     "output_type": "stream",
     "text": [
      "1.17 µs ± 4.26 ns per loop (mean ± std. dev. of 7 runs, 1,000,000 loops each)\n"
     ]
    }
   ],
   "source": [
    "\n",
    "%%timeit\n",
    "[number**2 for number in range(1,10,2)]\n",
    "\n"
   ]
  },
  {
   "cell_type": "markdown",
   "id": "1bae753d",
   "metadata": {},
   "source": [
    "*the line comprehension is faster as there is less lines of code for the computer to process?*\n",
    "\n",
    "##### because of individual operations itself, for loops are just slower \n",
    "##### designed for simplicity, not for speed"
   ]
  },
  {
   "cell_type": "code",
   "execution_count": 39,
   "id": "df3376d2",
   "metadata": {},
   "outputs": [
    {
     "name": "stdout",
     "output_type": "stream",
     "text": [
      "1.17 µs ± 7.8 ns per loop (mean ± std. dev. of 7 runs, 1,000,000 loops each)\n"
     ]
    }
   ],
   "source": [
    "\n",
    "%timeit [number**2 for number in range(1,10,2)]\n",
    "\n",
    "# WHY NO WORK\n",
    "# %%t is for entire code cell\n",
    "# %t is for just the line"
   ]
  },
  {
   "cell_type": "markdown",
   "id": "70033701",
   "metadata": {},
   "source": [
    "`\n",
    "second time, code runs faster !!!\n",
    "`\n",
    "###### made as code block for no reason"
   ]
  },
  {
   "cell_type": "code",
   "execution_count": null,
   "id": "9387ca65",
   "metadata": {},
   "outputs": [],
   "source": []
  }
 ],
 "metadata": {
  "kernelspec": {
   "display_name": "Python 3 (ipykernel)",
   "language": "python",
   "name": "python3"
  },
  "language_info": {
   "codemirror_mode": {
    "name": "ipython",
    "version": 3
   },
   "file_extension": ".py",
   "mimetype": "text/x-python",
   "name": "python",
   "nbconvert_exporter": "python",
   "pygments_lexer": "ipython3",
   "version": "3.9.12"
  },
  "toc": {
   "base_numbering": 1,
   "nav_menu": {},
   "number_sections": true,
   "sideBar": true,
   "skip_h1_title": false,
   "title_cell": "Table of Contents",
   "title_sidebar": "Contents",
   "toc_cell": false,
   "toc_position": {},
   "toc_section_display": true,
   "toc_window_display": false
  },
  "vscode": {
   "interpreter": {
    "hash": "31f2aee4e71d21fbe5cf8b01ff0e069b9275f58929596ceb00d14d90e3e16cd6"
   }
  }
 },
 "nbformat": 4,
 "nbformat_minor": 5
}
